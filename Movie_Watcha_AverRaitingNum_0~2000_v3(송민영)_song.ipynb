{
 "cells": [
  {
   "cell_type": "code",
   "execution_count": 1,
   "id": "90023f10-c7df-426d-a205-7a26b00d8439",
   "metadata": {},
   "outputs": [
    {
     "name": "stdout",
     "output_type": "stream",
     "text": [
      "Requirement already satisfied: selenium in c:\\users\\user\\appdata\\roaming\\python\\python311\\site-packages (4.20.0)\n",
      "Requirement already satisfied: urllib3<3,>=1.26 in c:\\users\\user\\.conda\\envs\\song\\lib\\site-packages (from urllib3[socks]<3,>=1.26->selenium) (2.2.1)\n",
      "Requirement already satisfied: trio~=0.17 in c:\\users\\user\\appdata\\roaming\\python\\python311\\site-packages (from selenium) (0.25.0)\n",
      "Requirement already satisfied: trio-websocket~=0.9 in c:\\users\\user\\appdata\\roaming\\python\\python311\\site-packages (from selenium) (0.11.1)\n",
      "Requirement already satisfied: certifi>=2021.10.8 in c:\\users\\user\\.conda\\envs\\song\\lib\\site-packages (from selenium) (2024.2.2)\n",
      "Requirement already satisfied: typing_extensions>=4.9.0 in c:\\users\\user\\.conda\\envs\\song\\lib\\site-packages (from selenium) (4.11.0)\n",
      "Requirement already satisfied: attrs>=23.2.0 in c:\\users\\user\\appdata\\roaming\\python\\python311\\site-packages (from trio~=0.17->selenium) (23.2.0)\n",
      "Requirement already satisfied: sortedcontainers in c:\\users\\user\\.conda\\envs\\song\\lib\\site-packages (from trio~=0.17->selenium) (2.4.0)\n",
      "Requirement already satisfied: idna in c:\\users\\user\\.conda\\envs\\song\\lib\\site-packages (from trio~=0.17->selenium) (3.7)\n",
      "Requirement already satisfied: outcome in c:\\users\\user\\appdata\\roaming\\python\\python311\\site-packages (from trio~=0.17->selenium) (1.3.0.post0)\n",
      "Requirement already satisfied: sniffio>=1.3.0 in c:\\users\\user\\.conda\\envs\\song\\lib\\site-packages (from trio~=0.17->selenium) (1.3.0)\n",
      "Requirement already satisfied: cffi>=1.14 in c:\\users\\user\\.conda\\envs\\song\\lib\\site-packages (from trio~=0.17->selenium) (1.16.0)\n",
      "Requirement already satisfied: wsproto>=0.14 in c:\\users\\user\\appdata\\roaming\\python\\python311\\site-packages (from trio-websocket~=0.9->selenium) (1.2.0)\n",
      "Requirement already satisfied: pysocks!=1.5.7,<2.0,>=1.5.6 in c:\\users\\user\\.conda\\envs\\song\\lib\\site-packages (from urllib3[socks]<3,>=1.26->selenium) (1.7.1)\n",
      "Requirement already satisfied: pycparser in c:\\users\\user\\.conda\\envs\\song\\lib\\site-packages (from cffi>=1.14->trio~=0.17->selenium) (2.21)\n",
      "Requirement already satisfied: h11<1,>=0.9.0 in c:\\users\\user\\appdata\\roaming\\python\\python311\\site-packages (from wsproto>=0.14->trio-websocket~=0.9->selenium) (0.14.0)\n",
      "Requirement already satisfied: webdriver-manager in c:\\users\\user\\.conda\\envs\\song\\lib\\site-packages (4.0.1)\n",
      "Requirement already satisfied: requests in c:\\users\\user\\.conda\\envs\\song\\lib\\site-packages (from webdriver-manager) (2.31.0)\n",
      "Requirement already satisfied: python-dotenv in c:\\users\\user\\.conda\\envs\\song\\lib\\site-packages (from webdriver-manager) (1.0.1)\n",
      "Requirement already satisfied: packaging in c:\\users\\user\\.conda\\envs\\song\\lib\\site-packages (from webdriver-manager) (23.2)\n",
      "Requirement already satisfied: charset-normalizer<4,>=2 in c:\\users\\user\\.conda\\envs\\song\\lib\\site-packages (from requests->webdriver-manager) (2.0.4)\n",
      "Requirement already satisfied: idna<4,>=2.5 in c:\\users\\user\\.conda\\envs\\song\\lib\\site-packages (from requests->webdriver-manager) (3.7)\n",
      "Requirement already satisfied: urllib3<3,>=1.21.1 in c:\\users\\user\\.conda\\envs\\song\\lib\\site-packages (from requests->webdriver-manager) (2.2.1)\n",
      "Requirement already satisfied: certifi>=2017.4.17 in c:\\users\\user\\.conda\\envs\\song\\lib\\site-packages (from requests->webdriver-manager) (2024.2.2)\n"
     ]
    }
   ],
   "source": [
    "# 필요하시면 인스톨\n",
    "!pip install selenium\n",
    "!pip install webdriver-manager"
   ]
  },
  {
   "cell_type": "code",
   "execution_count": 8,
   "id": "1bc0191b",
   "metadata": {},
   "outputs": [],
   "source": [
    "# 라이브러리 \n",
    "from selenium import webdriver\n",
    "from selenium.webdriver.common.by import By\n",
    "from selenium.webdriver.common.keys import Keys\n",
    "from selenium.webdriver.support.ui import WebDriverWait\n",
    "from selenium.webdriver.support import expected_conditions as EC\n",
    "\n",
    "\n",
    "from selenium.webdriver.chrome.service import Service as ChromeService\n",
    "from webdriver_manager.chrome import ChromeDriverManager\n",
    "\n",
    "\n",
    "from tqdm.notebook import tqdm\n",
    "from tqdm import tqdm\n",
    "import time\n",
    "import pandas as pd "
   ]
  },
  {
   "cell_type": "code",
   "execution_count": 9,
   "id": "bf21f9f1-837e-463a-ab1a-4146df287dd8",
   "metadata": {},
   "outputs": [
    {
     "name": "stderr",
     "output_type": "stream",
     "text": [
      "Processing Movies:   0%|                                                                      | 0/1086 [00:00<?, ?it/s]"
     ]
    },
    {
     "name": "stdout",
     "output_type": "stream",
     "text": [
      "검색할 영화 이름: 방자전\n",
      "검색 결과 1번째 항목 확인\n"
     ]
    },
    {
     "name": "stderr",
     "output_type": "stream",
     "text": [
      "Processing Movies:   0%|                                                            | 1/1086 [00:03<1:01:54,  3.42s/it]"
     ]
    },
    {
     "name": "stdout",
     "output_type": "stream",
     "text": [
      "영화 '방자전'의 평점: 평균 별점\n",
      "(42.7만명)\n",
      "검색할 영화 이름: 구르믈 버서난 달처럼\n",
      "검색 결과 1번째 항목 확인\n"
     ]
    },
    {
     "name": "stderr",
     "output_type": "stream",
     "text": [
      "Processing Movies:   0%|                                                            | 2/1086 [00:06<1:00:55,  3.37s/it]"
     ]
    },
    {
     "name": "stdout",
     "output_type": "stream",
     "text": [
      "영화 '구르믈 버서난 달처럼'의 평점: 평균 별점\n",
      "(10.6만명)\n",
      "검색할 영화 이름: 천일의 스캔들\n",
      "검색 결과 1번째 항목 확인\n"
     ]
    },
    {
     "name": "stderr",
     "output_type": "stream",
     "text": [
      "Processing Movies:   0%|▏                                                           | 3/1086 [00:10<1:00:06,  3.33s/it]"
     ]
    },
    {
     "name": "stdout",
     "output_type": "stream",
     "text": [
      "영화 '천일의 스캔들'의 평점: 평균 별점\n",
      "(4.7만명)\n",
      "검색할 영화 이름: 1724 기방난동사건\n",
      "검색 결과 1번째 항목 확인\n"
     ]
    },
    {
     "name": "stderr",
     "output_type": "stream",
     "text": [
      "Processing Movies:   0%|▏                                                             | 4/1086 [00:13<59:42,  3.31s/it]"
     ]
    },
    {
     "name": "stdout",
     "output_type": "stream",
     "text": [
      "영화 '1724 기방난동사건'의 평점: 평균 별점\n",
      "(5,017명)\n",
      "검색할 영화 이름: 미인도\n",
      "검색 결과 1번째 항목 확인\n"
     ]
    },
    {
     "name": "stderr",
     "output_type": "stream",
     "text": [
      "Processing Movies:   0%|▎                                                             | 5/1086 [00:16<59:22,  3.30s/it]"
     ]
    },
    {
     "name": "stdout",
     "output_type": "stream",
     "text": [
      "영화 '미인도'의 평점: 평균 별점\n",
      "(16.4만명)\n",
      "검색할 영화 이름: 오스트레일리아\n",
      "검색 결과 1번째 항목 확인\n"
     ]
    },
    {
     "name": "stderr",
     "output_type": "stream",
     "text": [
      "Processing Movies:   1%|▎                                                             | 6/1086 [00:19<59:24,  3.30s/it]"
     ]
    },
    {
     "name": "stdout",
     "output_type": "stream",
     "text": [
      "영화 '오스트레일리아'의 평점: 평균 별점\n",
      "(1.6만명)\n",
      "검색할 영화 이름: 신기전\n",
      "검색 결과 1번째 항목 확인\n"
     ]
    },
    {
     "name": "stderr",
     "output_type": "stream",
     "text": [
      "Processing Movies:   1%|▍                                                             | 7/1086 [00:23<59:23,  3.30s/it]"
     ]
    },
    {
     "name": "stdout",
     "output_type": "stream",
     "text": [
      "영화 '신기전'의 평점: 평균 별점\n",
      "(28.0만명)\n",
      "검색할 영화 이름: 공작부인:세기의 스캔들\n",
      "검색 결과 1번째 항목 확인\n"
     ]
    },
    {
     "name": "stderr",
     "output_type": "stream",
     "text": [
      "Processing Movies:   1%|▍                                                             | 8/1086 [00:26<59:18,  3.30s/it]"
     ]
    },
    {
     "name": "stdout",
     "output_type": "stream",
     "text": [
      "영화 '공작부인:세기의 스캔들'의 평점: 평균 별점\n",
      "(1.8만명)\n",
      "검색할 영화 이름: 카운테스\n",
      "검색 결과 1번째 항목 확인\n"
     ]
    },
    {
     "name": "stderr",
     "output_type": "stream",
     "text": [
      "Processing Movies:   1%|▌                                                             | 9/1086 [00:29<59:00,  3.29s/it]"
     ]
    },
    {
     "name": "stdout",
     "output_type": "stream",
     "text": [
      "영화 '카운테스'의 평점: 평균 별점\n",
      "(1,706명)\n",
      "검색할 영화 이름: 연의 황후\n",
      "검색 결과 1번째 항목 확인\n"
     ]
    },
    {
     "name": "stderr",
     "output_type": "stream",
     "text": [
      "Processing Movies:   1%|▌                                                            | 10/1086 [00:33<58:52,  3.28s/it]"
     ]
    },
    {
     "name": "stdout",
     "output_type": "stream",
     "text": [
      "영화 '연의 황후'의 평점: 평균 별점\n",
      "(4,275명)\n",
      "검색할 영화 이름: 삼국지:용의 부활\n",
      "검색 결과 1번째 항목 확인\n"
     ]
    },
    {
     "name": "stderr",
     "output_type": "stream",
     "text": [
      "Processing Movies:   1%|▌                                                          | 11/1086 [00:44<1:43:55,  5.80s/it]"
     ]
    },
    {
     "name": "stdout",
     "output_type": "stream",
     "text": [
      "검색할 영화 이름: 야연\n",
      "검색 결과 1번째 항목 확인\n"
     ]
    },
    {
     "name": "stderr",
     "output_type": "stream",
     "text": [
      "Processing Movies:   1%|▋                                                          | 12/1086 [00:47<1:29:53,  5.02s/it]"
     ]
    },
    {
     "name": "stdout",
     "output_type": "stream",
     "text": [
      "영화 '야연'의 평점: 평균 별점\n",
      "(1.7만명)\n",
      "검색할 영화 이름: 음란서생\n",
      "검색 결과 1번째 항목 확인\n"
     ]
    },
    {
     "name": "stderr",
     "output_type": "stream",
     "text": [
      "Processing Movies:   1%|▋                                                          | 13/1086 [00:51<1:20:27,  4.50s/it]"
     ]
    },
    {
     "name": "stdout",
     "output_type": "stream",
     "text": [
      "영화 '음란서생'의 평점: 평균 별점\n",
      "(16.5만명)\n",
      "검색할 영화 이름: 어메이징 그레이스\n",
      "검색 결과 1번째 항목 확인\n"
     ]
    },
    {
     "name": "stderr",
     "output_type": "stream",
     "text": [
      "Processing Movies:   1%|▊                                                          | 14/1086 [00:54<1:13:41,  4.12s/it]"
     ]
    },
    {
     "name": "stdout",
     "output_type": "stream",
     "text": [
      "영화 '어메이징 그레이스'의 평점: 평균 별점\n",
      "(263명)\n",
      "검색할 영화 이름: 킹 아더\n",
      "검색 결과 1번째 항목 확인\n",
      "검색 결과 2번째 항목 확인\n"
     ]
    },
    {
     "name": "stderr",
     "output_type": "stream",
     "text": [
      "Processing Movies:   1%|▊                                                          | 15/1086 [01:00<1:25:46,  4.81s/it]"
     ]
    },
    {
     "name": "stdout",
     "output_type": "stream",
     "text": [
      "영화 '킹 아더'의 평점: 평균 별점\n",
      "(6명)\n",
      "검색할 영화 이름: 트로이\n",
      "검색 결과 1번째 항목 확인\n"
     ]
    },
    {
     "name": "stderr",
     "output_type": "stream",
     "text": [
      "Processing Movies:   1%|▊                                                          | 16/1086 [01:03<1:17:17,  4.33s/it]"
     ]
    },
    {
     "name": "stdout",
     "output_type": "stream",
     "text": [
      "영화 '트로이'의 평점: 평균 별점\n",
      "(35.1만명)\n",
      "검색할 영화 이름: 음양사2\n",
      "검색 결과 1번째 항목 확인\n"
     ]
    },
    {
     "name": "stderr",
     "output_type": "stream",
     "text": [
      "Processing Movies:   2%|▉                                                          | 17/1086 [01:07<1:11:29,  4.01s/it]"
     ]
    },
    {
     "name": "stdout",
     "output_type": "stream",
     "text": [
      "영화 '음양사2'의 평점: 평균 별점\n",
      "(3,984명)\n",
      "검색할 영화 이름: 스캔들-조선남녀상열지사\n",
      "검색 결과 1번째 항목 확인\n"
     ]
    },
    {
     "name": "stderr",
     "output_type": "stream",
     "text": [
      "Processing Movies:   2%|▉                                                          | 18/1086 [01:10<1:07:30,  3.79s/it]"
     ]
    },
    {
     "name": "stdout",
     "output_type": "stream",
     "text": [
      "영화 '스캔들-조선남녀상열지사'의 평점: 평균 별점\n",
      "(13.4만명)\n",
      "검색할 영화 이름: 바람의 검 신선조\n",
      "검색 결과 1번째 항목 확인\n"
     ]
    },
    {
     "name": "stderr",
     "output_type": "stream",
     "text": [
      "Processing Movies:   2%|█                                                          | 19/1086 [01:18<1:27:19,  4.91s/it]"
     ]
    },
    {
     "name": "stdout",
     "output_type": "stream",
     "text": [
      "검색할 영화 이름: 엘시드 - 전설의 영웅\n"
     ]
    },
    {
     "name": "stderr",
     "output_type": "stream",
     "text": [
      "Processing Movies:   2%|█                                                          | 20/1086 [01:22<1:24:00,  4.73s/it]"
     ]
    },
    {
     "name": "stdout",
     "output_type": "stream",
     "text": [
      "검색할 영화 이름: 영웅\n",
      "검색 결과 1번째 항목 확인\n"
     ]
    },
    {
     "name": "stderr",
     "output_type": "stream",
     "text": [
      "Processing Movies:   2%|█▏                                                         | 21/1086 [01:25<1:16:08,  4.29s/it]"
     ]
    },
    {
     "name": "stdout",
     "output_type": "stream",
     "text": [
      "영화 '영웅'의 평점: 평균 별점\n",
      "(7.0만명)\n",
      "검색할 영화 이름: 아나키스트\n",
      "검색 결과 1번째 항목 확인\n"
     ]
    },
    {
     "name": "stderr",
     "output_type": "stream",
     "text": [
      "Processing Movies:   2%|█▏                                                         | 22/1086 [01:28<1:10:36,  3.98s/it]"
     ]
    },
    {
     "name": "stdout",
     "output_type": "stream",
     "text": [
      "영화 '아나키스트'의 평점: 평균 별점\n",
      "(8,166명)\n",
      "검색할 영화 이름: 비천무\n",
      "검색 결과 1번째 항목 확인\n"
     ]
    },
    {
     "name": "stderr",
     "output_type": "stream",
     "text": [
      "Processing Movies:   2%|█▏                                                         | 23/1086 [01:32<1:06:30,  3.75s/it]"
     ]
    },
    {
     "name": "stdout",
     "output_type": "stream",
     "text": [
      "영화 '비천무'의 평점: 평균 별점\n",
      "(1.4만명)\n",
      "검색할 영화 이름: 패트리어트-늪속의 여우\n",
      "검색 결과 1번째 항목 확인\n"
     ]
    },
    {
     "name": "stderr",
     "output_type": "stream",
     "text": [
      "Processing Movies:   2%|█▎                                                         | 24/1086 [01:35<1:03:51,  3.61s/it]"
     ]
    },
    {
     "name": "stdout",
     "output_type": "stream",
     "text": [
      "영화 '패트리어트-늪속의 여우'의 평점: 평균 별점\n",
      "(4.7만명)\n",
      "검색할 영화 이름: 와호장룡\n",
      "검색 결과 1번째 항목 확인\n"
     ]
    },
    {
     "name": "stderr",
     "output_type": "stream",
     "text": [
      "Processing Movies:   2%|█▎                                                         | 25/1086 [01:38<1:01:55,  3.50s/it]"
     ]
    },
    {
     "name": "stdout",
     "output_type": "stream",
     "text": [
      "영화 '와호장룡'의 평점: 평균 별점\n",
      "(11.3만명)\n",
      "검색할 영화 이름: 쟌다르크\n"
     ]
    },
    {
     "name": "stderr",
     "output_type": "stream",
     "text": [
      "Processing Movies:   2%|█▍                                                         | 26/1086 [01:42<1:06:06,  3.74s/it]"
     ]
    },
    {
     "name": "stdout",
     "output_type": "stream",
     "text": [
      "검색할 영화 이름: 13번째 전사\n",
      "검색 결과 1번째 항목 확인\n"
     ]
    },
    {
     "name": "stderr",
     "output_type": "stream",
     "text": [
      "Processing Movies:   2%|█▍                                                         | 27/1086 [01:46<1:03:21,  3.59s/it]"
     ]
    },
    {
     "name": "stdout",
     "output_type": "stream",
     "text": [
      "영화 '13번째 전사'의 평점: 평균 별점\n",
      "(7,372명)\n",
      "검색할 영화 이름: 징기스칸\n",
      "검색 결과 1번째 항목 확인\n"
     ]
    },
    {
     "name": "stderr",
     "output_type": "stream",
     "text": [
      "Processing Movies:   3%|█▌                                                         | 28/1086 [01:49<1:01:32,  3.49s/it]"
     ]
    },
    {
     "name": "stdout",
     "output_type": "stream",
     "text": [
      "영화 '징기스칸'의 평점: 평균 별점\n",
      "(38명)\n",
      "검색할 영화 이름: 이재수의 난\n",
      "검색 결과 1번째 항목 확인\n"
     ]
    },
    {
     "name": "stderr",
     "output_type": "stream",
     "text": [
      "Processing Movies:   3%|█▌                                                         | 29/1086 [01:52<1:00:06,  3.41s/it]"
     ]
    },
    {
     "name": "stdout",
     "output_type": "stream",
     "text": [
      "영화 '이재수의 난'의 평점: 평균 별점\n",
      "(1,145명)\n",
      "검색할 영화 이름: 의적 임꺽정\n",
      "검색 결과 1번째 항목 확인\n"
     ]
    },
    {
     "name": "stderr",
     "output_type": "stream",
     "text": [
      "Processing Movies:   3%|█▋                                                           | 30/1086 [01:55<59:21,  3.37s/it]"
     ]
    },
    {
     "name": "stdout",
     "output_type": "stream",
     "text": [
      "영화 '의적 임꺽정'의 평점: 평균 별점\n",
      "(28명)\n",
      "검색할 영화 이름: 예수\n",
      "검색 결과 1번째 항목 확인\n",
      "검색 결과 2번째 항목 확인\n",
      "검색 결과 3번째 항목 확인\n",
      "검색 결과 4번째 항목 확인\n",
      "검색 결과 5번째 항목 확인\n",
      "검색 결과 6번째 항목 확인\n",
      "내부 에러 발생: Message: \n",
      "\n",
      "검색 결과 7번째 항목 확인\n",
      "내부 에러 발생: Message: \n",
      "\n",
      "검색 결과 8번째 항목 확인\n",
      "내부 에러 발생: Message: \n",
      "\n"
     ]
    },
    {
     "name": "stderr",
     "output_type": "stream",
     "text": [
      "Processing Movies:   3%|█▋                                                         | 31/1086 [03:17<7:49:26, 26.70s/it]"
     ]
    },
    {
     "name": "stdout",
     "output_type": "stream",
     "text": [
      "검색할 영화 이름: 프린스 벨리언트\n"
     ]
    },
    {
     "name": "stderr",
     "output_type": "stream",
     "text": [
      "Processing Movies:   3%|█▋                                                         | 32/1086 [03:21<5:50:52, 19.97s/it]"
     ]
    },
    {
     "name": "stdout",
     "output_type": "stream",
     "text": [
      "검색할 영화 이름: 난중일기\n",
      "검색 결과 1번째 항목 확인\n"
     ]
    },
    {
     "name": "stderr",
     "output_type": "stream",
     "text": [
      "Processing Movies:   3%|█▊                                                         | 33/1086 [03:24<4:22:40, 14.97s/it]"
     ]
    },
    {
     "name": "stdout",
     "output_type": "stream",
     "text": [
      "영화 '난중일기'의 평점: 평균 별점\n",
      "(53명)\n",
      "검색할 영화 이름: 고수\n",
      "검색 결과 1번째 항목 확인\n",
      "검색 결과 2번째 항목 확인\n"
     ]
    },
    {
     "name": "stderr",
     "output_type": "stream",
     "text": [
      "Processing Movies:   3%|█▊                                                         | 34/1086 [03:30<3:37:13, 12.39s/it]"
     ]
    },
    {
     "name": "stdout",
     "output_type": "stream",
     "text": [
      "영화 '고수'의 평점: 평균 별점\n",
      "(1,341명)\n",
      "검색할 영화 이름: 십이야\n",
      "검색 결과 1번째 항목 확인\n",
      "검색 결과 2번째 항목 확인\n"
     ]
    },
    {
     "name": "stderr",
     "output_type": "stream",
     "text": [
      "Processing Movies:   3%|█▉                                                         | 35/1086 [03:37<3:05:27, 10.59s/it]"
     ]
    },
    {
     "name": "stdout",
     "output_type": "stream",
     "text": [
      "영화 '십이야'의 평점: 평균 별점\n",
      "(91명)\n",
      "검색할 영화 이름: 옥유단\n",
      "검색 결과 1번째 항목 확인\n"
     ]
    },
    {
     "name": "stderr",
     "output_type": "stream",
     "text": [
      "Processing Movies:   3%|█▉                                                         | 36/1086 [03:44<2:48:26,  9.63s/it]"
     ]
    },
    {
     "name": "stdout",
     "output_type": "stream",
     "text": [
      "검색할 영화 이름: 귀천도\n",
      "검색 결과 1번째 항목 확인\n"
     ]
    },
    {
     "name": "stderr",
     "output_type": "stream",
     "text": [
      "Processing Movies:   3%|██                                                         | 37/1086 [03:47<2:14:46,  7.71s/it]"
     ]
    },
    {
     "name": "stdout",
     "output_type": "stream",
     "text": [
      "영화 '귀천도'의 평점: 평균 별점\n",
      "(2,832명)\n",
      "검색할 영화 이름: 제국\n",
      "검색 결과 1번째 항목 확인\n",
      "검색 결과 2번째 항목 확인\n",
      "검색 결과 3번째 항목 확인\n",
      "검색 결과 4번째 항목 확인\n",
      "검색 결과 5번째 항목 확인\n",
      "검색 결과 6번째 항목 확인\n",
      "내부 에러 발생: Message: \n",
      "\n",
      "검색 결과 7번째 항목 확인\n",
      "내부 에러 발생: Message: \n",
      "\n",
      "검색 결과 8번째 항목 확인\n",
      "내부 에러 발생: Message: \n",
      "\n",
      "검색 결과 9번째 항목 확인\n",
      "내부 에러 발생: Message: \n",
      "\n"
     ]
    },
    {
     "name": "stderr",
     "output_type": "stream",
     "text": [
      "Processing Movies:   3%|██                                                        | 38/1086 [05:28<10:22:08, 35.62s/it]"
     ]
    },
    {
     "name": "stdout",
     "output_type": "stream",
     "text": [
      "검색할 영화 이름: 지붕 위의 기병\n",
      "검색 결과 1번째 항목 확인\n"
     ]
    },
    {
     "name": "stderr",
     "output_type": "stream",
     "text": [
      "Processing Movies:   4%|██                                                         | 39/1086 [05:31<7:32:16, 25.92s/it]"
     ]
    },
    {
     "name": "stdout",
     "output_type": "stream",
     "text": [
      "영화 '지붕 위의 기병'의 평점: 평균 별점\n",
      "(1,027명)\n",
      "검색할 영화 이름: 포청천 칠협오의\n",
      "검색 결과 1번째 항목 확인\n"
     ]
    },
    {
     "name": "stderr",
     "output_type": "stream",
     "text": [
      "Processing Movies:   4%|██▏                                                        | 40/1086 [05:35<5:33:15, 19.12s/it]"
     ]
    },
    {
     "name": "stdout",
     "output_type": "stream",
     "text": [
      "영화 '포청천 칠협오의'의 평점: 평균 별점\n",
      "(729명)\n",
      "검색할 영화 이름: 여란대혹형\n"
     ]
    },
    {
     "name": "stderr",
     "output_type": "stream",
     "text": [
      "Processing Movies:   4%|██▏                                                        | 41/1086 [05:39<4:15:27, 14.67s/it]"
     ]
    },
    {
     "name": "stdout",
     "output_type": "stream",
     "text": [
      "검색할 영화 이름: 자객\n",
      "검색 결과 1번째 항목 확인\n",
      "검색 결과 2번째 항목 확인\n",
      "검색 결과 3번째 항목 확인\n",
      "검색 결과 4번째 항목 확인\n",
      "검색 결과 5번째 항목 확인\n",
      "검색 결과 6번째 항목 확인\n",
      "내부 에러 발생: Message: \n",
      "\n",
      "검색 결과 7번째 항목 확인\n",
      "내부 에러 발생: Message: \n",
      "\n",
      "검색 결과 8번째 항목 확인\n",
      "내부 에러 발생: Message: \n",
      "\n",
      "검색 결과 9번째 항목 확인\n",
      "내부 에러 발생: Message: \n",
      "\n"
     ]
    },
    {
     "name": "stderr",
     "output_type": "stream",
     "text": [
      "Processing Movies:   4%|██▏                                                       | 42/1086 [07:19<11:41:19, 40.31s/it]"
     ]
    },
    {
     "name": "stdout",
     "output_type": "stream",
     "text": [
      "검색할 영화 이름: 금홍아 금홍아\n",
      "검색 결과 1번째 항목 확인\n"
     ]
    },
    {
     "name": "stderr",
     "output_type": "stream",
     "text": [
      "Processing Movies:   4%|██▎                                                        | 43/1086 [07:22<8:27:32, 29.20s/it]"
     ]
    },
    {
     "name": "stdout",
     "output_type": "stream",
     "text": [
      "영화 '금홍아 금홍아'의 평점: 평균 별점\n",
      "(534명)\n",
      "검색할 영화 이름: 바이킹의 전설\n",
      "검색 결과 1번째 항목 확인\n",
      "내부 에러 발생: Message: \n",
      "Stacktrace:\n",
      "\tGetHandleVerifier [0x005CB8E3+45827]\n",
      "\t(No symbol) [0x0055DCC4]\n",
      "\t(No symbol) [0x0045150F]\n",
      "\t(No symbol) [0x004920BC]\n",
      "\t(No symbol) [0x0049216B]\n",
      "\t(No symbol) [0x004CE0F2]\n",
      "\t(No symbol) [0x004B2E44]\n",
      "\t(No symbol) [0x004CC034]\n",
      "\t(No symbol) [0x004B2B96]\n",
      "\t(No symbol) [0x00486998]\n",
      "\t(No symbol) [0x0048751D]\n",
      "\tGetHandleVerifier [0x00884513+2899763]\n",
      "\tGetHandleVerifier [0x008D793D+3240797]\n",
      "\tGetHandleVerifier [0x006513B4+593364]\n",
      "\tGetHandleVerifier [0x006582DC+621820]\n",
      "\t(No symbol) [0x005670A4]\n",
      "\t(No symbol) [0x005637A8]\n",
      "\t(No symbol) [0x00563947]\n",
      "\t(No symbol) [0x005559FE]\n",
      "\tBaseThreadInitThunk [0x753D7BA9+25]\n",
      "\tRtlInitializeExceptionChain [0x7775BE3B+107]\n",
      "\tRtlClearBits [0x7775BDBF+191]\n",
      "\n"
     ]
    },
    {
     "name": "stderr",
     "output_type": "stream",
     "text": [
      "Processing Movies:   4%|██▍                                                        | 44/1086 [07:38<7:16:03, 25.11s/it]"
     ]
    },
    {
     "name": "stdout",
     "output_type": "stream",
     "text": [
      "검색할 영화 이름: 소낙비\n",
      "검색 결과 1번째 항목 확인\n"
     ]
    },
    {
     "name": "stderr",
     "output_type": "stream",
     "text": [
      "Processing Movies:   4%|██▍                                                        | 45/1086 [07:41<5:21:47, 18.55s/it]"
     ]
    },
    {
     "name": "stdout",
     "output_type": "stream",
     "text": [
      "영화 '소낙비'의 평점: 평균 별점\n",
      "(2명)\n",
      "검색할 영화 이름: 검협전\n",
      "검색 결과 1번째 항목 확인\n"
     ]
    },
    {
     "name": "stderr",
     "output_type": "stream",
     "text": [
      "Processing Movies:   4%|██▍                                                        | 46/1086 [07:49<4:23:29, 15.20s/it]"
     ]
    },
    {
     "name": "stdout",
     "output_type": "stream",
     "text": [
      "검색할 영화 이름: 태극권 2\n",
      "검색 결과 1번째 항목 확인\n"
     ]
    },
    {
     "name": "stderr",
     "output_type": "stream",
     "text": [
      "Processing Movies:   4%|██▌                                                        | 47/1086 [07:52<3:21:14, 11.62s/it]"
     ]
    },
    {
     "name": "stdout",
     "output_type": "stream",
     "text": [
      "영화 '태극권 2'의 평점: 평균 별점\n",
      "(37명)\n",
      "검색할 영화 이름: 동사서독\n",
      "검색 결과 1번째 항목 확인\n",
      "검색 결과 2번째 항목 확인\n"
     ]
    },
    {
     "name": "stderr",
     "output_type": "stream",
     "text": [
      "Processing Movies:   4%|██▌                                                        | 48/1086 [07:58<2:53:40, 10.04s/it]"
     ]
    },
    {
     "name": "stdout",
     "output_type": "stream",
     "text": [
      "영화 '동사서독'의 평점: 평균 별점\n",
      "(2.2만명)\n",
      "검색할 영화 이름: 소림오조\n",
      "검색 결과 1번째 항목 확인\n"
     ]
    },
    {
     "name": "stderr",
     "output_type": "stream",
     "text": [
      "Processing Movies:   5%|██▋                                                        | 49/1086 [08:01<2:18:17,  8.00s/it]"
     ]
    },
    {
     "name": "stdout",
     "output_type": "stream",
     "text": [
      "영화 '소림오조'의 평점: 평균 별점\n",
      "(9,584명)\n",
      "검색할 영화 이름: 서초패왕\n",
      "검색 결과 1번째 항목 확인\n"
     ]
    },
    {
     "name": "stderr",
     "output_type": "stream",
     "text": [
      "Processing Movies:   5%|██▋                                                        | 50/1086 [08:05<1:53:29,  6.57s/it]"
     ]
    },
    {
     "name": "stdout",
     "output_type": "stream",
     "text": [
      "영화 '서초패왕'의 평점: 평균 별점\n",
      "(192명)\n",
      "검색할 영화 이름: 천하대장군\n",
      "검색 결과 1번째 항목 확인\n"
     ]
    },
    {
     "name": "stderr",
     "output_type": "stream",
     "text": [
      "Processing Movies:   5%|██▊                                                        | 51/1086 [08:08<1:36:20,  5.58s/it]"
     ]
    },
    {
     "name": "stdout",
     "output_type": "stream",
     "text": [
      "영화 '천하대장군'의 평점: 평균 별점\n",
      "(9명)\n",
      "검색할 영화 이름: 롭 로이\n",
      "검색 결과 1번째 항목 확인\n"
     ]
    },
    {
     "name": "stderr",
     "output_type": "stream",
     "text": [
      "Processing Movies:   5%|██▊                                                        | 52/1086 [08:11<1:23:57,  4.87s/it]"
     ]
    },
    {
     "name": "stdout",
     "output_type": "stream",
     "text": [
      "영화 '롭 로이'의 평점: 평균 별점\n",
      "(188명)\n",
      "검색할 영화 이름: 양축\n",
      "검색 결과 1번째 항목 확인\n"
     ]
    },
    {
     "name": "stderr",
     "output_type": "stream",
     "text": [
      "Processing Movies:   5%|██▉                                                        | 53/1086 [08:14<1:15:20,  4.38s/it]"
     ]
    },
    {
     "name": "stdout",
     "output_type": "stream",
     "text": [
      "영화 '양축'의 평점: 평균 별점\n",
      "(1,659명)\n",
      "검색할 영화 이름: 카멜롯의 전설\n",
      "검색 결과 1번째 항목 확인\n"
     ]
    },
    {
     "name": "stderr",
     "output_type": "stream",
     "text": [
      "Processing Movies:   5%|██▉                                                        | 54/1086 [08:18<1:09:25,  4.04s/it]"
     ]
    },
    {
     "name": "stdout",
     "output_type": "stream",
     "text": [
      "영화 '카멜롯의 전설'의 평점: 평균 별점\n",
      "(1.3만명)\n",
      "검색할 영화 이름: 화룡풍운\n",
      "검색 결과 1번째 항목 확인\n"
     ]
    },
    {
     "name": "stderr",
     "output_type": "stream",
     "text": [
      "Processing Movies:   5%|██▉                                                        | 55/1086 [08:21<1:05:13,  3.80s/it]"
     ]
    },
    {
     "name": "stdout",
     "output_type": "stream",
     "text": [
      "영화 '화룡풍운'의 평점: 평균 별점\n",
      "(97명)\n",
      "검색할 영화 이름: 황비홍 5\n",
      "검색 결과 1번째 항목 확인\n"
     ]
    },
    {
     "name": "stderr",
     "output_type": "stream",
     "text": [
      "Processing Movies:   5%|███                                                        | 56/1086 [08:28<1:23:49,  4.88s/it]"
     ]
    },
    {
     "name": "stdout",
     "output_type": "stream",
     "text": [
      "검색할 영화 이름: 도검소\n",
      "검색 결과 1번째 항목 확인\n"
     ]
    },
    {
     "name": "stderr",
     "output_type": "stream",
     "text": [
      "Processing Movies:   5%|███                                                        | 57/1086 [08:32<1:15:26,  4.40s/it]"
     ]
    },
    {
     "name": "stdout",
     "output_type": "stream",
     "text": [
      "영화 '도검소'의 평점: 평균 별점\n",
      "(247명)\n",
      "검색할 영화 이름: 화소홍련사\n",
      "검색 결과 1번째 항목 확인\n"
     ]
    },
    {
     "name": "stderr",
     "output_type": "stream",
     "text": [
      "Processing Movies:   5%|███▏                                                       | 58/1086 [08:35<1:09:22,  4.05s/it]"
     ]
    },
    {
     "name": "stdout",
     "output_type": "stream",
     "text": [
      "영화 '화소홍련사'의 평점: 평균 별점\n",
      "(145명)\n",
      "검색할 영화 이름: 전신\n",
      "검색 결과 1번째 항목 확인\n",
      "검색 결과 2번째 항목 확인\n",
      "검색 결과 3번째 항목 확인\n",
      "검색 결과 4번째 항목 확인\n"
     ]
    },
    {
     "name": "stderr",
     "output_type": "stream",
     "text": [
      "Processing Movies:   5%|███▏                                                       | 59/1086 [08:48<1:53:47,  6.65s/it]"
     ]
    },
    {
     "name": "stdout",
     "output_type": "stream",
     "text": [
      "영화 '전신'의 평점: 평균 별점\n",
      "(343명)\n",
      "검색할 영화 이름: 살어리랏다\n",
      "검색 결과 1번째 항목 확인\n",
      "검색 결과 2번째 항목 확인\n",
      "검색 결과 3번째 항목 확인\n",
      "검색 결과 4번째 항목 확인\n",
      "검색 결과 5번째 항목 확인\n",
      "검색 결과 6번째 항목 확인\n",
      "내부 에러 발생: Message: \n",
      "\n",
      "검색 결과 7번째 항목 확인\n",
      "내부 에러 발생: Message: \n",
      "\n",
      "검색 결과 8번째 항목 확인\n",
      "내부 에러 발생: Message: \n",
      "\n",
      "검색 결과 9번째 항목 확인\n",
      "내부 에러 발생: Message: \n",
      "\n"
     ]
    },
    {
     "name": "stderr",
     "output_type": "stream",
     "text": [
      "Processing Movies:   6%|███▎                                                       | 60/1086 [10:28<9:53:21, 34.70s/it]"
     ]
    },
    {
     "name": "stdout",
     "output_type": "stream",
     "text": [
      "검색할 영화 이름: 장사신검\n",
      "검색 결과 1번째 항목 확인\n"
     ]
    },
    {
     "name": "stderr",
     "output_type": "stream",
     "text": [
      "Processing Movies:   6%|███▎                                                       | 61/1086 [10:31<7:11:38, 25.27s/it]"
     ]
    },
    {
     "name": "stdout",
     "output_type": "stream",
     "text": [
      "영화 '장사신검'의 평점: 평균 별점\n",
      "(2명)\n",
      "검색할 영화 이름: 동방불패 2\n",
      "검색 결과 1번째 항목 확인\n"
     ]
    },
    {
     "name": "stderr",
     "output_type": "stream",
     "text": [
      "Processing Movies:   6%|███▎                                                       | 62/1086 [10:38<5:39:44, 19.91s/it]"
     ]
    },
    {
     "name": "stdout",
     "output_type": "stream",
     "text": [
      "검색할 영화 이름: 신협객행\n",
      "검색 결과 1번째 항목 확인\n",
      "검색 결과 2번째 항목 확인\n"
     ]
    },
    {
     "name": "stderr",
     "output_type": "stream",
     "text": [
      "Processing Movies:   6%|███▍                                                       | 63/1086 [10:45<4:30:26, 15.86s/it]"
     ]
    },
    {
     "name": "stdout",
     "output_type": "stream",
     "text": [
      "영화 '신협객행'의 평점: 평균 별점\n",
      "(4명)\n",
      "검색할 영화 이름: 라스트 템테이션\n",
      "검색 결과 1번째 항목 확인\n"
     ]
    },
    {
     "name": "stderr",
     "output_type": "stream",
     "text": [
      "Processing Movies:   6%|███▍                                                       | 64/1086 [10:48<3:25:36, 12.07s/it]"
     ]
    },
    {
     "name": "stdout",
     "output_type": "stream",
     "text": [
      "영화 '라스트 템테이션'의 평점: 평균 별점\n",
      "(12명)\n",
      "검색할 영화 이름: 변성낭자\n",
      "검색 결과 1번째 항목 확인\n"
     ]
    },
    {
     "name": "stderr",
     "output_type": "stream",
     "text": [
      "Processing Movies:   6%|███▌                                                       | 65/1086 [10:51<2:40:10,  9.41s/it]"
     ]
    },
    {
     "name": "stdout",
     "output_type": "stream",
     "text": [
      "영화 '변성낭자'의 평점: 평균 별점\n",
      "(86명)\n",
      "검색할 영화 이름: 독고구검\n",
      "검색 결과 1번째 항목 확인\n"
     ]
    },
    {
     "name": "stderr",
     "output_type": "stream",
     "text": [
      "Processing Movies:   6%|███▌                                                       | 66/1086 [10:54<2:08:30,  7.56s/it]"
     ]
    },
    {
     "name": "stdout",
     "output_type": "stream",
     "text": [
      "영화 '독고구검'의 평점: 평균 별점\n",
      "(540명)\n",
      "검색할 영화 이름: 천녀여요\n"
     ]
    },
    {
     "name": "stderr",
     "output_type": "stream",
     "text": [
      "Processing Movies:   6%|███▋                                                       | 67/1086 [10:59<1:51:35,  6.57s/it]"
     ]
    },
    {
     "name": "stdout",
     "output_type": "stream",
     "text": [
      "검색할 영화 이름: 중원대결투\n",
      "검색 결과 1번째 항목 확인\n"
     ]
    },
    {
     "name": "stderr",
     "output_type": "stream",
     "text": [
      "Processing Movies:   6%|███▋                                                       | 68/1086 [11:02<1:34:28,  5.57s/it]"
     ]
    },
    {
     "name": "stdout",
     "output_type": "stream",
     "text": [
      "영화 '중원대결투'의 평점: 평균 별점\n",
      "(7명)\n",
      "검색할 영화 이름: 신 냉혈 13매\n"
     ]
    },
    {
     "name": "stderr",
     "output_type": "stream",
     "text": [
      "Processing Movies:   6%|███▋                                                       | 69/1086 [11:06<1:27:49,  5.18s/it]"
     ]
    },
    {
     "name": "stdout",
     "output_type": "stream",
     "text": [
      "검색할 영화 이름: 자객신전\n",
      "검색 결과 1번째 항목 확인\n"
     ]
    },
    {
     "name": "stderr",
     "output_type": "stream",
     "text": [
      "Processing Movies:   6%|███▊                                                       | 70/1086 [11:09<1:17:58,  4.60s/it]"
     ]
    },
    {
     "name": "stdout",
     "output_type": "stream",
     "text": [
      "영화 '자객신전'의 평점: 평균 별점\n",
      "(18명)\n",
      "검색할 영화 이름: 의천도룡기\n",
      "검색 결과 1번째 항목 확인\n"
     ]
    },
    {
     "name": "stderr",
     "output_type": "stream",
     "text": [
      "Processing Movies:   7%|███▊                                                       | 71/1086 [11:13<1:10:52,  4.19s/it]"
     ]
    },
    {
     "name": "stdout",
     "output_type": "stream",
     "text": [
      "영화 '의천도룡기'의 평점: 평균 별점\n",
      "(4.4만명)\n",
      "검색할 영화 이름: 육지금마\n",
      "검색 결과 1번째 항목 확인\n"
     ]
    },
    {
     "name": "stderr",
     "output_type": "stream",
     "text": [
      "Processing Movies:   7%|███▉                                                       | 72/1086 [11:16<1:05:56,  3.90s/it]"
     ]
    },
    {
     "name": "stdout",
     "output_type": "stream",
     "text": [
      "영화 '육지금마'의 평점: 평균 별점\n",
      "(2,211명)\n",
      "검색할 영화 이름: 벽혈신검\n",
      "검색 결과 1번째 항목 확인\n"
     ]
    },
    {
     "name": "stderr",
     "output_type": "stream",
     "text": [
      "Processing Movies:   7%|███▉                                                       | 73/1086 [11:19<1:02:24,  3.70s/it]"
     ]
    },
    {
     "name": "stdout",
     "output_type": "stream",
     "text": [
      "영화 '벽혈신검'의 평점: 평균 별점\n",
      "(1명)\n",
      "검색할 영화 이름: 징기스칸\n",
      "검색 결과 1번째 항목 확인\n"
     ]
    },
    {
     "name": "stderr",
     "output_type": "stream",
     "text": [
      "Processing Movies:   7%|████                                                       | 74/1086 [11:22<1:00:16,  3.57s/it]"
     ]
    },
    {
     "name": "stdout",
     "output_type": "stream",
     "text": [
      "영화 '징기스칸'의 평점: 평균 별점\n",
      "(38명)\n",
      "검색할 영화 이름: 백련사신\n",
      "검색 결과 1번째 항목 확인\n"
     ]
    },
    {
     "name": "stderr",
     "output_type": "stream",
     "text": [
      "Processing Movies:   7%|████▏                                                        | 75/1086 [11:26<58:21,  3.46s/it]"
     ]
    },
    {
     "name": "stdout",
     "output_type": "stream",
     "text": [
      "영화 '백련사신'의 평점: 평균 별점\n",
      "(5명)\n",
      "검색할 영화 이름: 못말리는 로빈훗\n",
      "검색 결과 1번째 항목 확인\n"
     ]
    },
    {
     "name": "stderr",
     "output_type": "stream",
     "text": [
      "Processing Movies:   7%|████▎                                                        | 76/1086 [11:29<57:03,  3.39s/it]"
     ]
    },
    {
     "name": "stdout",
     "output_type": "stream",
     "text": [
      "영화 '못말리는 로빈훗'의 평점: 평균 별점\n",
      "(1,699명)\n",
      "검색할 영화 이름: 속 서태후\n"
     ]
    },
    {
     "name": "stderr",
     "output_type": "stream",
     "text": [
      "Processing Movies:   7%|████▏                                                      | 77/1086 [11:33<1:01:35,  3.66s/it]"
     ]
    },
    {
     "name": "stdout",
     "output_type": "stream",
     "text": [
      "검색할 영화 이름: 완벽한 정부\n",
      "검색 결과 1번째 항목 확인\n",
      "내부 에러 발생: Message: \n",
      "Stacktrace:\n",
      "\tGetHandleVerifier [0x005CB8E3+45827]\n",
      "\t(No symbol) [0x0055DCC4]\n",
      "\t(No symbol) [0x0045150F]\n",
      "\t(No symbol) [0x004920BC]\n",
      "\t(No symbol) [0x0049216B]\n",
      "\t(No symbol) [0x004CE0F2]\n",
      "\t(No symbol) [0x004B2E44]\n",
      "\t(No symbol) [0x004CC034]\n",
      "\t(No symbol) [0x004B2B96]\n",
      "\t(No symbol) [0x00486998]\n",
      "\t(No symbol) [0x0048751D]\n",
      "\tGetHandleVerifier [0x00884513+2899763]\n",
      "\tGetHandleVerifier [0x008D793D+3240797]\n",
      "\tGetHandleVerifier [0x006513B4+593364]\n",
      "\tGetHandleVerifier [0x006582DC+621820]\n",
      "\t(No symbol) [0x005670A4]\n",
      "\t(No symbol) [0x005637A8]\n",
      "\t(No symbol) [0x00563947]\n",
      "\t(No symbol) [0x005559FE]\n",
      "\tBaseThreadInitThunk [0x753D7BA9+25]\n",
      "\tRtlInitializeExceptionChain [0x7775BE3B+107]\n",
      "\tRtlClearBits [0x7775BDBF+191]\n",
      "\n"
     ]
    },
    {
     "name": "stderr",
     "output_type": "stream",
     "text": [
      "Processing Movies:   7%|████▏                                                      | 78/1086 [11:49<2:01:32,  7.24s/it]"
     ]
    },
    {
     "name": "stdout",
     "output_type": "stream",
     "text": [
      "검색할 영화 이름: 선학신침\n",
      "검색 결과 1번째 항목 확인\n"
     ]
    },
    {
     "name": "stderr",
     "output_type": "stream",
     "text": [
      "Processing Movies:   7%|████▎                                                      | 79/1086 [11:52<1:41:29,  6.05s/it]"
     ]
    },
    {
     "name": "stdout",
     "output_type": "stream",
     "text": [
      "영화 '선학신침'의 평점: 평균 별점\n",
      "(735명)\n",
      "검색할 영화 이름: 신 팔도사나이\n",
      "검색 결과 1번째 항목 확인\n",
      "검색 결과 2번째 항목 확인\n",
      "검색 결과 3번째 항목 확인\n",
      "검색 결과 4번째 항목 확인\n",
      "검색 결과 5번째 항목 확인\n",
      "검색 결과 6번째 항목 확인\n",
      "내부 에러 발생: Message: \n",
      "\n",
      "검색 결과 7번째 항목 확인\n",
      "내부 에러 발생: Message: \n",
      "\n",
      "검색 결과 8번째 항목 확인\n",
      "내부 에러 발생: Message: \n",
      "\n"
     ]
    },
    {
     "name": "stderr",
     "output_type": "stream",
     "text": [
      "Processing Movies:   7%|████▎                                                      | 80/1086 [13:13<7:56:08, 28.40s/it]"
     ]
    },
    {
     "name": "stdout",
     "output_type": "stream",
     "text": [
      "검색할 영화 이름: 황비홍3-사왕쟁패\n",
      "검색 결과 1번째 항목 확인\n"
     ]
    },
    {
     "name": "stderr",
     "output_type": "stream",
     "text": [
      "Processing Movies:   7%|████▍                                                      | 81/1086 [13:20<6:10:16, 22.11s/it]"
     ]
    },
    {
     "name": "stdout",
     "output_type": "stream",
     "text": [
      "검색할 영화 이름: 껄덕쇠\n"
     ]
    },
    {
     "name": "stderr",
     "output_type": "stream",
     "text": [
      "Processing Movies:   8%|████▍                                                      | 82/1086 [13:24<4:40:12, 16.75s/it]"
     ]
    },
    {
     "name": "stdout",
     "output_type": "stream",
     "text": [
      "검색할 영화 이름: 삼국지\n",
      "검색 결과 1번째 항목 확인\n"
     ]
    },
    {
     "name": "stderr",
     "output_type": "stream",
     "text": [
      "Processing Movies:   8%|████▌                                                      | 83/1086 [13:27<3:32:12, 12.69s/it]"
     ]
    },
    {
     "name": "stdout",
     "output_type": "stream",
     "text": [
      "영화 '삼국지'의 평점: 평균 별점\n",
      "(392명)\n",
      "검색할 영화 이름: 요화궁\n",
      "검색 결과 1번째 항목 확인\n"
     ]
    },
    {
     "name": "stderr",
     "output_type": "stream",
     "text": [
      "Processing Movies:   8%|████▌                                                      | 84/1086 [13:31<2:44:33,  9.85s/it]"
     ]
    },
    {
     "name": "stdout",
     "output_type": "stream",
     "text": [
      "영화 '요화궁'의 평점: 평균 별점\n",
      "(2명)\n",
      "검색할 영화 이름: 구천동 화방\n",
      "검색 결과 1번째 항목 확인\n"
     ]
    },
    {
     "name": "stderr",
     "output_type": "stream",
     "text": [
      "Processing Movies:   8%|████▌                                                      | 85/1086 [13:34<2:11:09,  7.86s/it]"
     ]
    },
    {
     "name": "stdout",
     "output_type": "stream",
     "text": [
      "영화 '구천동 화방'의 평점: 평균 별점\n",
      "(1명)\n",
      "검색할 영화 이름: 진용\n",
      "검색 결과 1번째 항목 확인\n"
     ]
    },
    {
     "name": "stderr",
     "output_type": "stream",
     "text": [
      "Processing Movies:   8%|████▋                                                      | 86/1086 [13:37<1:47:52,  6.47s/it]"
     ]
    },
    {
     "name": "stdout",
     "output_type": "stream",
     "text": [
      "영화 '진용'의 평점: 평균 별점\n",
      "(4,583명)\n",
      "검색할 영화 이름: 종자골\n",
      "검색 결과 1번째 항목 확인\n"
     ]
    },
    {
     "name": "stderr",
     "output_type": "stream",
     "text": [
      "Processing Movies:   8%|████▋                                                      | 87/1086 [13:40<1:31:47,  5.51s/it]"
     ]
    },
    {
     "name": "stdout",
     "output_type": "stream",
     "text": [
      "영화 '종자골'의 평점: 평균 별점\n",
      "(2명)\n",
      "검색할 영화 이름: 슈퍼 홍길동 3\n",
      "검색 결과 1번째 항목 확인\n"
     ]
    },
    {
     "name": "stderr",
     "output_type": "stream",
     "text": [
      "Processing Movies:   8%|████▊                                                      | 88/1086 [13:44<1:20:11,  4.82s/it]"
     ]
    },
    {
     "name": "stdout",
     "output_type": "stream",
     "text": [
      "영화 '슈퍼 홍길동 3'의 평점: 평균 별점\n",
      "(388명)\n",
      "검색할 영화 이름: 가루지기\n",
      "검색 결과 1번째 항목 확인\n"
     ]
    },
    {
     "name": "stderr",
     "output_type": "stream",
     "text": [
      "Processing Movies:   8%|████▊                                                      | 89/1086 [13:47<1:12:09,  4.34s/it]"
     ]
    },
    {
     "name": "stdout",
     "output_type": "stream",
     "text": [
      "영화 '가루지기'의 평점: 평균 별점\n",
      "(3.2만명)\n",
      "검색할 영화 이름: 합궁\n",
      "검색 결과 1번째 항목 확인\n"
     ]
    },
    {
     "name": "stderr",
     "output_type": "stream",
     "text": [
      "Processing Movies:   8%|████▉                                                      | 90/1086 [13:50<1:06:36,  4.01s/it]"
     ]
    },
    {
     "name": "stdout",
     "output_type": "stream",
     "text": [
      "영화 '합궁'의 평점: 평균 별점\n",
      "(41명)\n",
      "검색할 영화 이름: 고금소총\n",
      "검색 결과 1번째 항목 확인\n",
      "검색 결과 2번째 항목 확인\n"
     ]
    },
    {
     "name": "stderr",
     "output_type": "stream",
     "text": [
      "Processing Movies:   8%|████▉                                                      | 91/1086 [13:56<1:18:10,  4.71s/it]"
     ]
    },
    {
     "name": "stdout",
     "output_type": "stream",
     "text": [
      "영화 '고금소총'의 평점: 평균 별점\n",
      "(37명)\n",
      "검색할 영화 이름: 강시훈련원\n",
      "검색 결과 1번째 항목 확인\n"
     ]
    },
    {
     "name": "stderr",
     "output_type": "stream",
     "text": [
      "Processing Movies:   8%|████▉                                                      | 92/1086 [14:00<1:10:39,  4.27s/it]"
     ]
    },
    {
     "name": "stdout",
     "output_type": "stream",
     "text": [
      "영화 '강시훈련원'의 평점: 평균 별점\n",
      "(4명)\n",
      "검색할 영화 이름: 깜동\n",
      "검색 결과 1번째 항목 확인\n"
     ]
    },
    {
     "name": "stderr",
     "output_type": "stream",
     "text": [
      "Processing Movies:   9%|█████                                                      | 93/1086 [14:03<1:05:19,  3.95s/it]"
     ]
    },
    {
     "name": "stdout",
     "output_type": "stream",
     "text": [
      "영화 '깜동'의 평점: 평균 별점\n",
      "(34명)\n",
      "검색할 영화 이름: 업\n",
      "검색 결과 1번째 항목 확인\n",
      "검색 결과 2번째 항목 확인\n",
      "검색 결과 3번째 항목 확인\n",
      "검색 결과 4번째 항목 확인\n",
      "검색 결과 5번째 항목 확인\n",
      "검색 결과 6번째 항목 확인\n",
      "내부 에러 발생: Message: \n",
      "\n",
      "검색 결과 7번째 항목 확인\n",
      "내부 에러 발생: Message: \n",
      "\n",
      "검색 결과 8번째 항목 확인\n",
      "내부 에러 발생: Message: \n",
      "\n",
      "검색 결과 9번째 항목 확인\n",
      "내부 에러 발생: Message: \n",
      "\n"
     ]
    },
    {
     "name": "stderr",
     "output_type": "stream",
     "text": [
      "Processing Movies:   9%|█████                                                      | 94/1086 [15:45<9:10:51, 33.32s/it]"
     ]
    },
    {
     "name": "stdout",
     "output_type": "stream",
     "text": [
      "검색할 영화 이름: 맷돌\n",
      "검색 결과 1번째 항목 확인\n"
     ]
    },
    {
     "name": "stderr",
     "output_type": "stream",
     "text": [
      "Processing Movies:   9%|█████▏                                                     | 95/1086 [15:48<6:41:16, 24.30s/it]"
     ]
    },
    {
     "name": "stdout",
     "output_type": "stream",
     "text": [
      "영화 '맷돌'의 평점: 평균 별점\n",
      "(12명)\n",
      "검색할 영화 이름: 떡\n",
      "검색 결과 1번째 항목 확인\n",
      "검색 결과 2번째 항목 확인\n",
      "검색 결과 3번째 항목 확인\n",
      "검색 결과 4번째 항목 확인\n",
      "검색 결과 5번째 항목 확인\n"
     ]
    },
    {
     "name": "stderr",
     "output_type": "stream",
     "text": [
      "Processing Movies:   9%|█████▏                                                     | 96/1086 [16:04<5:58:51, 21.75s/it]"
     ]
    },
    {
     "name": "stdout",
     "output_type": "stream",
     "text": [
      "영화 '떡'의 평점: 평균 별점\n",
      "(83명)\n",
      "검색할 영화 이름: 똘똘이 소강시\n",
      "검색 결과 1번째 항목 확인\n"
     ]
    },
    {
     "name": "stderr",
     "output_type": "stream",
     "text": [
      "Processing Movies:   9%|█████▎                                                     | 97/1086 [16:07<4:26:55, 16.19s/it]"
     ]
    },
    {
     "name": "stdout",
     "output_type": "stream",
     "text": [
      "영화 '똘똘이 소강시'의 평점: 평균 별점\n",
      "(99명)\n",
      "검색할 영화 이름: 목밀녀\n",
      "검색 결과 1번째 항목 확인\n"
     ]
    },
    {
     "name": "stderr",
     "output_type": "stream",
     "text": [
      "Processing Movies:   9%|█████▎                                                     | 98/1086 [16:10<3:22:29, 12.30s/it]"
     ]
    },
    {
     "name": "stdout",
     "output_type": "stream",
     "text": [
      "영화 '목밀녀'의 평점: 평균 별점\n",
      "(2명)\n",
      "검색할 영화 이름: 슈퍼홍길동2-공초 도사와 슈퍼 홍길동\n",
      "검색 결과 1번째 항목 확인\n"
     ]
    },
    {
     "name": "stderr",
     "output_type": "stream",
     "text": [
      "Processing Movies:   9%|█████▍                                                     | 99/1086 [16:14<2:37:56,  9.60s/it]"
     ]
    },
    {
     "name": "stdout",
     "output_type": "stream",
     "text": [
      "영화 '슈퍼홍길동2-공초 도사와 슈퍼 홍길동'의 평점: 평균 별점\n",
      "(470명)\n",
      "검색할 영화 이름: 요화경\n",
      "검색 결과 1번째 항목 확인\n"
     ]
    },
    {
     "name": "stderr",
     "output_type": "stream",
     "text": [
      "Processing Movies:   9%|█████▎                                                    | 100/1086 [16:17<2:06:22,  7.69s/it]"
     ]
    },
    {
     "name": "stdout",
     "output_type": "stream",
     "text": [
      "영화 '요화경'의 평점: 평균 별점\n",
      "(21명)\n",
      "검색할 영화 이름: 후궁별곡\n",
      "검색 결과 1번째 항목 확인\n"
     ]
    },
    {
     "name": "stderr",
     "output_type": "stream",
     "text": [
      "Processing Movies:   9%|█████▍                                                    | 101/1086 [16:20<1:44:07,  6.34s/it]"
     ]
    },
    {
     "name": "stdout",
     "output_type": "stream",
     "text": [
      "영화 '후궁별곡'의 평점: 평균 별점\n",
      "(1명)\n",
      "검색할 영화 이름: 호호전\n",
      "검색 결과 1번째 항목 확인\n"
     ]
    },
    {
     "name": "stderr",
     "output_type": "stream",
     "text": [
      "Processing Movies:   9%|█████▍                                                    | 102/1086 [16:23<1:28:35,  5.40s/it]"
     ]
    },
    {
     "name": "stdout",
     "output_type": "stream",
     "text": [
      "영화 '호호전'의 평점: 평균 별점\n",
      "(13명)\n",
      "검색할 영화 이름: 사방지\n",
      "검색 결과 1번째 항목 확인\n"
     ]
    },
    {
     "name": "stderr",
     "output_type": "stream",
     "text": [
      "Processing Movies:   9%|█████▌                                                    | 103/1086 [16:26<1:17:53,  4.75s/it]"
     ]
    },
    {
     "name": "stdout",
     "output_type": "stream",
     "text": [
      "영화 '사방지'의 평점: 평균 별점\n",
      "(166명)\n",
      "검색할 영화 이름: 연산군\n",
      "검색 결과 1번째 항목 확인\n"
     ]
    },
    {
     "name": "stderr",
     "output_type": "stream",
     "text": [
      "Processing Movies:  10%|█████▌                                                    | 104/1086 [16:30<1:10:35,  4.31s/it]"
     ]
    },
    {
     "name": "stdout",
     "output_type": "stream",
     "text": [
      "영화 '연산군'의 평점: 평균 별점\n",
      "(108명)\n",
      "검색할 영화 이름: 공방살 화녀\n",
      "검색 결과 1번째 항목 확인\n"
     ]
    },
    {
     "name": "stderr",
     "output_type": "stream",
     "text": [
      "Processing Movies:  10%|█████▌                                                    | 105/1086 [16:33<1:05:08,  3.98s/it]"
     ]
    },
    {
     "name": "stdout",
     "output_type": "stream",
     "text": [
      "영화 '공방살 화녀'의 평점: 평균 별점\n",
      "(11명)\n",
      "검색할 영화 이름: 팔도쌍나팔\n",
      "검색 결과 1번째 항목 확인\n"
     ]
    },
    {
     "name": "stderr",
     "output_type": "stream",
     "text": [
      "Processing Movies:  10%|█████▋                                                    | 106/1086 [16:36<1:01:14,  3.75s/it]"
     ]
    },
    {
     "name": "stdout",
     "output_type": "stream",
     "text": [
      "영화 '팔도쌍나팔'의 평점: 평균 별점\n",
      "(9명)\n",
      "검색할 영화 이름: 박철수의 헬로 임꺽정\n",
      "검색 결과 1번째 항목 확인\n"
     ]
    },
    {
     "name": "stderr",
     "output_type": "stream",
     "text": [
      "Processing Movies:  10%|█████▉                                                      | 107/1086 [16:39<58:36,  3.59s/it]"
     ]
    },
    {
     "name": "stdout",
     "output_type": "stream",
     "text": [
      "영화 '박철수의 헬로 임꺽정'의 평점: 평균 별점\n",
      "(8명)\n",
      "검색할 영화 이름: 난운\n",
      "검색 결과 1번째 항목 확인\n"
     ]
    },
    {
     "name": "stderr",
     "output_type": "stream",
     "text": [
      "Processing Movies:  10%|█████▉                                                      | 108/1086 [16:43<56:42,  3.48s/it]"
     ]
    },
    {
     "name": "stdout",
     "output_type": "stream",
     "text": [
      "영화 '난운'의 평점: 평균 별점\n",
      "(4명)\n",
      "검색할 영화 이름: 호걸춘풍\n",
      "검색 결과 1번째 항목 확인\n"
     ]
    },
    {
     "name": "stderr",
     "output_type": "stream",
     "text": [
      "Processing Movies:  10%|██████                                                      | 109/1086 [16:46<55:24,  3.40s/it]"
     ]
    },
    {
     "name": "stdout",
     "output_type": "stream",
     "text": [
      "영화 '호걸춘풍'의 평점: 평균 별점\n",
      "(10명)\n",
      "검색할 영화 이름: 감자\n",
      "검색 결과 1번째 항목 확인\n"
     ]
    },
    {
     "name": "stderr",
     "output_type": "stream",
     "text": [
      "Processing Movies:  10%|██████                                                      | 110/1086 [16:49<54:25,  3.35s/it]"
     ]
    },
    {
     "name": "stdout",
     "output_type": "stream",
     "text": [
      "영화 '감자'의 평점: 평균 별점\n",
      "(691명)\n",
      "검색할 영화 이름: 소금장수\n",
      "검색 결과 1번째 항목 확인\n"
     ]
    },
    {
     "name": "stderr",
     "output_type": "stream",
     "text": [
      "Processing Movies:  10%|██████▏                                                     | 111/1086 [16:52<53:58,  3.32s/it]"
     ]
    },
    {
     "name": "stdout",
     "output_type": "stream",
     "text": [
      "영화 '소금장수'의 평점: 평균 별점\n",
      "(3명)\n",
      "검색할 영화 이름: 아다다\n",
      "검색 결과 1번째 항목 확인\n"
     ]
    },
    {
     "name": "stderr",
     "output_type": "stream",
     "text": [
      "Processing Movies:  10%|██████▏                                                     | 112/1086 [16:55<53:22,  3.29s/it]"
     ]
    },
    {
     "name": "stdout",
     "output_type": "stream",
     "text": [
      "영화 '아다다'의 평점: 평균 별점\n",
      "(614명)\n",
      "검색할 영화 이름: 연산일기\n",
      "검색 결과 1번째 항목 확인\n"
     ]
    },
    {
     "name": "stderr",
     "output_type": "stream",
     "text": [
      "Processing Movies:  10%|██████▏                                                     | 113/1086 [16:59<53:05,  3.27s/it]"
     ]
    },
    {
     "name": "stdout",
     "output_type": "stream",
     "text": [
      "영화 '연산일기'의 평점: 평균 별점\n",
      "(576명)\n",
      "검색할 영화 이름: 황진이\n",
      "검색 결과 1번째 항목 확인\n"
     ]
    },
    {
     "name": "stderr",
     "output_type": "stream",
     "text": [
      "Processing Movies:  10%|██████▎                                                     | 114/1086 [17:02<52:49,  3.26s/it]"
     ]
    },
    {
     "name": "stdout",
     "output_type": "stream",
     "text": [
      "영화 '황진이'의 평점: 평균 별점\n",
      "(4.9만명)\n",
      "검색할 영화 이름: 오델로\n",
      "검색 결과 1번째 항목 확인\n"
     ]
    },
    {
     "name": "stderr",
     "output_type": "stream",
     "text": [
      "Processing Movies:  11%|██████▎                                                     | 115/1086 [17:05<52:41,  3.26s/it]"
     ]
    },
    {
     "name": "stdout",
     "output_type": "stream",
     "text": [
      "영화 '오델로'의 평점: 평균 별점\n",
      "(706명)\n",
      "검색할 영화 이름: 내시\n",
      "검색 결과 1번째 항목 확인\n",
      "검색 결과 2번째 항목 확인\n",
      "검색 결과 3번째 항목 확인\n",
      "검색 결과 4번째 항목 확인\n",
      "검색 결과 5번째 항목 확인\n"
     ]
    },
    {
     "name": "stderr",
     "output_type": "stream",
     "text": [
      "Processing Movies:  11%|██████▏                                                   | 116/1086 [17:21<1:53:31,  7.02s/it]"
     ]
    },
    {
     "name": "stdout",
     "output_type": "stream",
     "text": [
      "영화 '내시'의 평점: 평균 별점\n",
      "(232명)\n",
      "검색할 영화 이름: 흑룡 통첩장\n",
      "검색 결과 1번째 항목 확인\n"
     ]
    },
    {
     "name": "stderr",
     "output_type": "stream",
     "text": [
      "Processing Movies:  11%|██████▏                                                   | 117/1086 [17:24<1:35:01,  5.88s/it]"
     ]
    },
    {
     "name": "stdout",
     "output_type": "stream",
     "text": [
      "영화 '흑룡 통첩장'의 평점: 평균 별점\n",
      "(10명)\n",
      "검색할 영화 이름: 화랭이\n",
      "검색 결과 1번째 항목 확인\n"
     ]
    },
    {
     "name": "stderr",
     "output_type": "stream",
     "text": [
      "Processing Movies:  11%|██████▎                                                   | 118/1086 [17:27<1:22:00,  5.08s/it]"
     ]
    },
    {
     "name": "stdout",
     "output_type": "stream",
     "text": [
      "영화 '화랭이'의 평점: 평균 별점\n",
      "(12명)\n",
      "검색할 영화 이름: 빨간앵두 3\n",
      "검색 결과 1번째 항목 확인\n"
     ]
    },
    {
     "name": "stderr",
     "output_type": "stream",
     "text": [
      "Processing Movies:  11%|██████▎                                                   | 119/1086 [17:31<1:12:55,  4.53s/it]"
     ]
    },
    {
     "name": "stdout",
     "output_type": "stream",
     "text": [
      "영화 '빨간앵두 3'의 평점: 평균 별점\n",
      "(12명)\n",
      "검색할 영화 이름: 아라한\n",
      "검색 결과 1번째 항목 확인\n",
      "검색 결과 2번째 항목 확인\n"
     ]
    },
    {
     "name": "stderr",
     "output_type": "stream",
     "text": [
      "Processing Movies:  11%|██████▍                                                   | 120/1086 [17:37<1:21:39,  5.07s/it]"
     ]
    },
    {
     "name": "stdout",
     "output_type": "stream",
     "text": [
      "영화 '아라한'의 평점: 평균 별점\n",
      "(10명)\n",
      "검색할 영화 이름: 마지막 황후\n",
      "검색 결과 1번째 항목 확인\n"
     ]
    },
    {
     "name": "stderr",
     "output_type": "stream",
     "text": [
      "Processing Movies:  11%|██████▍                                                   | 121/1086 [17:44<1:32:46,  5.77s/it]"
     ]
    },
    {
     "name": "stdout",
     "output_type": "stream",
     "text": [
      "검색할 영화 이름: 금달래\n",
      "검색 결과 1번째 항목 확인\n"
     ]
    },
    {
     "name": "stderr",
     "output_type": "stream",
     "text": [
      "Processing Movies:  11%|██████▌                                                   | 122/1086 [17:48<1:20:26,  5.01s/it]"
     ]
    },
    {
     "name": "stdout",
     "output_type": "stream",
     "text": [
      "영화 '금달래'의 평점: 평균 별점\n",
      "(5명)\n",
      "검색할 영화 이름: 마검야도\n",
      "검색 결과 1번째 항목 확인\n",
      "검색 결과 2번째 항목 확인\n"
     ]
    },
    {
     "name": "stderr",
     "output_type": "stream",
     "text": [
      "Processing Movies:  11%|██████▌                                                   | 123/1086 [17:54<1:26:46,  5.41s/it]"
     ]
    },
    {
     "name": "stdout",
     "output_type": "stream",
     "text": [
      "영화 '마검야도'의 평점: 평균 별점\n",
      "(1명)\n",
      "검색할 영화 이름: 양귀비\n",
      "검색 결과 1번째 항목 확인\n",
      "검색 결과 2번째 항목 확인\n",
      "검색 결과 3번째 항목 확인\n",
      "내부 에러 발생: Message: \n",
      "Stacktrace:\n",
      "\tGetHandleVerifier [0x005CB8E3+45827]\n",
      "\t(No symbol) [0x0055DCC4]\n",
      "\t(No symbol) [0x0045150F]\n",
      "\t(No symbol) [0x004920BC]\n",
      "\t(No symbol) [0x0049216B]\n",
      "\t(No symbol) [0x004CE0F2]\n",
      "\t(No symbol) [0x004B2E44]\n",
      "\t(No symbol) [0x004CC034]\n",
      "\t(No symbol) [0x004B2B96]\n",
      "\t(No symbol) [0x00486998]\n",
      "\t(No symbol) [0x0048751D]\n",
      "\tGetHandleVerifier [0x00884513+2899763]\n",
      "\tGetHandleVerifier [0x008D793D+3240797]\n",
      "\tGetHandleVerifier [0x006513B4+593364]\n",
      "\tGetHandleVerifier [0x006582DC+621820]\n",
      "\t(No symbol) [0x005670A4]\n",
      "\t(No symbol) [0x005637A8]\n",
      "\t(No symbol) [0x00563947]\n",
      "\t(No symbol) [0x005559FE]\n",
      "\tBaseThreadInitThunk [0x753D7BA9+25]\n",
      "\tRtlInitializeExceptionChain [0x7775BE3B+107]\n",
      "\tRtlClearBits [0x7775BDBF+191]\n",
      "\n",
      "검색 결과 4번째 항목 확인\n",
      "내부 에러 발생: Message: \n",
      "Stacktrace:\n",
      "\tGetHandleVerifier [0x005CB8E3+45827]\n",
      "\t(No symbol) [0x0055DCC4]\n",
      "\t(No symbol) [0x0045150F]\n",
      "\t(No symbol) [0x004920BC]\n",
      "\t(No symbol) [0x0049216B]\n",
      "\t(No symbol) [0x004CE0F2]\n",
      "\t(No symbol) [0x004B2E44]\n",
      "\t(No symbol) [0x004CC034]\n",
      "\t(No symbol) [0x004B2B96]\n",
      "\t(No symbol) [0x00486998]\n",
      "\t(No symbol) [0x0048751D]\n",
      "\tGetHandleVerifier [0x00884513+2899763]\n",
      "\tGetHandleVerifier [0x008D793D+3240797]\n",
      "\tGetHandleVerifier [0x006513B4+593364]\n",
      "\tGetHandleVerifier [0x006582DC+621820]\n",
      "\t(No symbol) [0x005670A4]\n",
      "\t(No symbol) [0x005637A8]\n",
      "\t(No symbol) [0x00563947]\n",
      "\t(No symbol) [0x005559FE]\n",
      "\tBaseThreadInitThunk [0x753D7BA9+25]\n",
      "\tRtlInitializeExceptionChain [0x7775BE3B+107]\n",
      "\tRtlClearBits [0x7775BDBF+191]\n",
      "\n",
      "검색 결과 5번째 항목 확인\n",
      "내부 에러 발생: Message: \n",
      "Stacktrace:\n",
      "\tGetHandleVerifier [0x005CB8E3+45827]\n",
      "\t(No symbol) [0x0055DCC4]\n",
      "\t(No symbol) [0x0045150F]\n",
      "\t(No symbol) [0x004920BC]\n",
      "\t(No symbol) [0x0049216B]\n",
      "\t(No symbol) [0x004CE0F2]\n",
      "\t(No symbol) [0x004B2E44]\n",
      "\t(No symbol) [0x004CC034]\n",
      "\t(No symbol) [0x004B2B96]\n",
      "\t(No symbol) [0x00486998]\n",
      "\t(No symbol) [0x0048751D]\n",
      "\tGetHandleVerifier [0x00884513+2899763]\n",
      "\tGetHandleVerifier [0x008D793D+3240797]\n",
      "\tGetHandleVerifier [0x006513B4+593364]\n",
      "\tGetHandleVerifier [0x006582DC+621820]\n",
      "\t(No symbol) [0x005670A4]\n",
      "\t(No symbol) [0x005637A8]\n",
      "\t(No symbol) [0x00563947]\n",
      "\t(No symbol) [0x005559FE]\n",
      "\tBaseThreadInitThunk [0x753D7BA9+25]\n",
      "\tRtlInitializeExceptionChain [0x7775BE3B+107]\n",
      "\tRtlClearBits [0x7775BDBF+191]\n",
      "\n",
      "검색 결과 6번째 항목 확인\n",
      "내부 에러 발생: Message: \n",
      "Stacktrace:\n",
      "\tGetHandleVerifier [0x005CB8E3+45827]\n",
      "\t(No symbol) [0x0055DCC4]\n",
      "\t(No symbol) [0x0045150F]\n",
      "\t(No symbol) [0x004920BC]\n",
      "\t(No symbol) [0x0049216B]\n",
      "\t(No symbol) [0x004CE0F2]\n",
      "\t(No symbol) [0x004B2E44]\n",
      "\t(No symbol) [0x004CC034]\n",
      "\t(No symbol) [0x004B2B96]\n",
      "\t(No symbol) [0x00486998]\n",
      "\t(No symbol) [0x0048751D]\n",
      "\tGetHandleVerifier [0x00884513+2899763]\n",
      "\tGetHandleVerifier [0x008D793D+3240797]\n",
      "\tGetHandleVerifier [0x006513B4+593364]\n",
      "\tGetHandleVerifier [0x006582DC+621820]\n",
      "\t(No symbol) [0x005670A4]\n",
      "\t(No symbol) [0x005637A8]\n",
      "\t(No symbol) [0x00563947]\n",
      "\t(No symbol) [0x005559FE]\n",
      "\tBaseThreadInitThunk [0x753D7BA9+25]\n",
      "\tRtlInitializeExceptionChain [0x7775BE3B+107]\n",
      "\tRtlClearBits [0x7775BDBF+191]\n",
      "\n",
      "검색 결과 7번째 항목 확인\n",
      "내부 에러 발생: Message: \n",
      "Stacktrace:\n",
      "\tGetHandleVerifier [0x005CB8E3+45827]\n",
      "\t(No symbol) [0x0055DCC4]\n",
      "\t(No symbol) [0x0045150F]\n",
      "\t(No symbol) [0x004920BC]\n",
      "\t(No symbol) [0x0049216B]\n",
      "\t(No symbol) [0x004CE0F2]\n",
      "\t(No symbol) [0x004B2E44]\n",
      "\t(No symbol) [0x004CC034]\n",
      "\t(No symbol) [0x004B2B96]\n",
      "\t(No symbol) [0x00486998]\n",
      "\t(No symbol) [0x0048751D]\n",
      "\tGetHandleVerifier [0x00884513+2899763]\n",
      "\tGetHandleVerifier [0x008D793D+3240797]\n",
      "\tGetHandleVerifier [0x006513B4+593364]\n",
      "\tGetHandleVerifier [0x006582DC+621820]\n",
      "\t(No symbol) [0x005670A4]\n",
      "\t(No symbol) [0x005637A8]\n",
      "\t(No symbol) [0x00563947]\n",
      "\t(No symbol) [0x005559FE]\n",
      "\tBaseThreadInitThunk [0x753D7BA9+25]\n",
      "\tRtlInitializeExceptionChain [0x7775BE3B+107]\n",
      "\tRtlClearBits [0x7775BDBF+191]\n",
      "\n",
      "검색 결과 8번째 항목 확인\n",
      "내부 에러 발생: Message: \n",
      "Stacktrace:\n",
      "\tGetHandleVerifier [0x005CB8E3+45827]\n",
      "\t(No symbol) [0x0055DCC4]\n",
      "\t(No symbol) [0x0045150F]\n",
      "\t(No symbol) [0x004920BC]\n",
      "\t(No symbol) [0x0049216B]\n",
      "\t(No symbol) [0x004CE0F2]\n",
      "\t(No symbol) [0x004B2E44]\n",
      "\t(No symbol) [0x004CC034]\n",
      "\t(No symbol) [0x004B2B96]\n",
      "\t(No symbol) [0x00486998]\n",
      "\t(No symbol) [0x0048751D]\n",
      "\tGetHandleVerifier [0x00884513+2899763]\n",
      "\tGetHandleVerifier [0x008D793D+3240797]\n",
      "\tGetHandleVerifier [0x006513B4+593364]\n",
      "\tGetHandleVerifier [0x006582DC+621820]\n",
      "\t(No symbol) [0x005670A4]\n",
      "\t(No symbol) [0x005637A8]\n",
      "\t(No symbol) [0x00563947]\n",
      "\t(No symbol) [0x005559FE]\n",
      "\tBaseThreadInitThunk [0x753D7BA9+25]\n",
      "\tRtlInitializeExceptionChain [0x7775BE3B+107]\n",
      "\tRtlClearBits [0x7775BDBF+191]\n",
      "\n",
      "검색 결과 9번째 항목 확인\n",
      "내부 에러 발생: Message: \n",
      "Stacktrace:\n",
      "\tGetHandleVerifier [0x005CB8E3+45827]\n",
      "\t(No symbol) [0x0055DCC4]\n",
      "\t(No symbol) [0x0045150F]\n",
      "\t(No symbol) [0x004920BC]\n",
      "\t(No symbol) [0x0049216B]\n",
      "\t(No symbol) [0x004CE0F2]\n",
      "\t(No symbol) [0x004B2E44]\n",
      "\t(No symbol) [0x004CC034]\n",
      "\t(No symbol) [0x004B2B96]\n",
      "\t(No symbol) [0x00486998]\n",
      "\t(No symbol) [0x0048751D]\n",
      "\tGetHandleVerifier [0x00884513+2899763]\n",
      "\tGetHandleVerifier [0x008D793D+3240797]\n",
      "\tGetHandleVerifier [0x006513B4+593364]\n",
      "\tGetHandleVerifier [0x006582DC+621820]\n",
      "\t(No symbol) [0x005670A4]\n",
      "\t(No symbol) [0x005637A8]\n",
      "\t(No symbol) [0x00563947]\n",
      "\t(No symbol) [0x005559FE]\n",
      "\tBaseThreadInitThunk [0x753D7BA9+25]\n",
      "\tRtlInitializeExceptionChain [0x7775BE3B+107]\n",
      "\tRtlClearBits [0x7775BDBF+191]\n",
      "\n"
     ]
    },
    {
     "name": "stderr",
     "output_type": "stream",
     "text": [
      "Processing Movies:  11%|██████▌                                                  | 124/1086 [20:18<12:32:18, 46.92s/it]"
     ]
    },
    {
     "name": "stdout",
     "output_type": "stream",
     "text": [
      "검색할 영화 이름: 목면가사\n",
      "검색 결과 1번째 항목 확인\n"
     ]
    },
    {
     "name": "stderr",
     "output_type": "stream",
     "text": [
      "Processing Movies:  12%|██████▋                                                   | 125/1086 [20:21<9:01:34, 33.81s/it]"
     ]
    },
    {
     "name": "stdout",
     "output_type": "stream",
     "text": [
      "영화 '목면가사'의 평점: 평균 별점\n",
      "(5명)\n",
      "검색할 영화 이름: 물목\n",
      "검색 결과 1번째 항목 확인\n"
     ]
    },
    {
     "name": "stderr",
     "output_type": "stream",
     "text": [
      "Processing Movies:  12%|██████▋                                                   | 126/1086 [20:24<6:34:04, 24.63s/it]"
     ]
    },
    {
     "name": "stdout",
     "output_type": "stream",
     "text": [
      "영화 '물목'의 평점: 평균 별점\n",
      "(2명)\n",
      "검색할 영화 이름: 무인\n",
      "검색 결과 1번째 항목 확인\n",
      "검색 결과 2번째 항목 확인\n",
      "검색 결과 3번째 항목 확인\n",
      "검색 결과 4번째 항목 확인\n",
      "검색 결과 5번째 항목 확인\n",
      "검색 결과 6번째 항목 확인\n",
      "내부 에러 발생: Message: \n",
      "\n",
      "검색 결과 7번째 항목 확인\n",
      "내부 에러 발생: Message: \n",
      "\n",
      "검색 결과 8번째 항목 확인\n",
      "내부 에러 발생: Message: \n",
      "\n",
      "검색 결과 9번째 항목 확인\n",
      "내부 에러 발생: Message: \n",
      "\n"
     ]
    },
    {
     "name": "stderr",
     "output_type": "stream",
     "text": [
      "Processing Movies:  12%|██████▋                                                  | 127/1086 [22:05<12:40:00, 47.55s/it]"
     ]
    },
    {
     "name": "stdout",
     "output_type": "stream",
     "text": [
      "검색할 영화 이름: 피리부는 11사나이/피리부는 열한사나이\n"
     ]
    },
    {
     "name": "stderr",
     "output_type": "stream",
     "text": [
      "Processing Movies:  12%|██████▊                                                   | 128/1086 [22:10<9:12:03, 34.58s/it]"
     ]
    },
    {
     "name": "stdout",
     "output_type": "stream",
     "text": [
      "검색할 영화 이름: 북소림 남태권\n",
      "검색 결과 1번째 항목 확인\n"
     ]
    },
    {
     "name": "stderr",
     "output_type": "stream",
     "text": [
      "Processing Movies:  12%|██████▉                                                   | 129/1086 [22:13<6:41:32, 25.17s/it]"
     ]
    },
    {
     "name": "stdout",
     "output_type": "stream",
     "text": [
      "영화 '북소림 남태권'의 평점: 평균 별점\n",
      "(4명)\n",
      "검색할 영화 이름: 4대 소림사/사대소림사\n"
     ]
    },
    {
     "name": "stderr",
     "output_type": "stream",
     "text": [
      "Processing Movies:  12%|██████▉                                                   | 130/1086 [22:17<5:01:09, 18.90s/it]"
     ]
    },
    {
     "name": "stdout",
     "output_type": "stream",
     "text": [
      "검색할 영화 이름: 흐르는 강물을 어찌 막으랴\n",
      "검색 결과 1번째 항목 확인\n"
     ]
    },
    {
     "name": "stderr",
     "output_type": "stream",
     "text": [
      "Processing Movies:  12%|██████▉                                                   | 131/1086 [22:20<3:46:03, 14.20s/it]"
     ]
    },
    {
     "name": "stdout",
     "output_type": "stream",
     "text": [
      "영화 '흐르는 강물을 어찌 막으랴'의 평점: 평균 별점\n",
      "(48명)\n",
      "검색할 영화 이름: 자녀목\n",
      "검색 결과 1번째 항목 확인\n"
     ]
    },
    {
     "name": "stderr",
     "output_type": "stream",
     "text": [
      "Processing Movies:  12%|███████                                                   | 132/1086 [22:23<2:53:24, 10.91s/it]"
     ]
    },
    {
     "name": "stdout",
     "output_type": "stream",
     "text": [
      "영화 '자녀목'의 평점: 평균 별점\n",
      "(429명)\n",
      "검색할 영화 이름: 소림대사\n",
      "검색 결과 1번째 항목 확인\n"
     ]
    },
    {
     "name": "stderr",
     "output_type": "stream",
     "text": [
      "Processing Movies:  12%|███████                                                   | 133/1086 [22:27<2:16:37,  8.60s/it]"
     ]
    },
    {
     "name": "stdout",
     "output_type": "stream",
     "text": [
      "영화 '소림대사'의 평점: 평균 별점\n",
      "(3명)\n",
      "검색할 영화 이름: 소화성 장의사\n",
      "검색 결과 1번째 항목 확인\n"
     ]
    },
    {
     "name": "stderr",
     "output_type": "stream",
     "text": [
      "Processing Movies:  12%|███████▏                                                  | 134/1086 [22:30<1:50:50,  6.99s/it]"
     ]
    },
    {
     "name": "stdout",
     "output_type": "stream",
     "text": [
      "영화 '소화성 장의사'의 평점: 평균 별점\n",
      "(5명)\n",
      "검색할 영화 이름: 여걸 청나비\n",
      "검색 결과 1번째 항목 확인\n"
     ]
    },
    {
     "name": "stderr",
     "output_type": "stream",
     "text": [
      "Processing Movies:  12%|███████▏                                                  | 135/1086 [22:33<1:33:05,  5.87s/it]"
     ]
    },
    {
     "name": "stdout",
     "output_type": "stream",
     "text": [
      "영화 '여걸 청나비'의 평점: 평균 별점\n",
      "(17명)\n",
      "검색할 영화 이름: 용호쌍권\n",
      "검색 결과 1번째 항목 확인\n"
     ]
    },
    {
     "name": "stderr",
     "output_type": "stream",
     "text": [
      "Processing Movies:  13%|███████▎                                                  | 136/1086 [22:36<1:20:21,  5.08s/it]"
     ]
    },
    {
     "name": "stdout",
     "output_type": "stream",
     "text": [
      "영화 '용호쌍권'의 평점: 평균 별점\n",
      "(2명)\n",
      "검색할 영화 이름: 흑장미\n",
      "검색 결과 1번째 항목 확인\n",
      "검색 결과 2번째 항목 확인\n"
     ]
    },
    {
     "name": "stderr",
     "output_type": "stream",
     "text": [
      "Processing Movies:  13%|███████▎                                                  | 137/1086 [22:43<1:26:17,  5.46s/it]"
     ]
    },
    {
     "name": "stdout",
     "output_type": "stream",
     "text": [
      "영화 '흑장미'의 평점: 평균 별점\n",
      "(11명)\n",
      "검색할 영화 이름: 귀문기담\n",
      "검색 결과 1번째 항목 확인\n"
     ]
    },
    {
     "name": "stderr",
     "output_type": "stream",
     "text": [
      "Processing Movies:  13%|███████▎                                                  | 138/1086 [22:46<1:15:36,  4.79s/it]"
     ]
    },
    {
     "name": "stdout",
     "output_type": "stream",
     "text": [
      "영화 '귀문기담'의 평점: 평균 별점\n",
      "(1명)\n",
      "검색할 영화 이름: 원한의 도전장\n",
      "검색 결과 1번째 항목 확인\n"
     ]
    },
    {
     "name": "stderr",
     "output_type": "stream",
     "text": [
      "Processing Movies:  13%|███████▍                                                  | 139/1086 [22:49<1:08:02,  4.31s/it]"
     ]
    },
    {
     "name": "stdout",
     "output_type": "stream",
     "text": [
      "영화 '원한의 도전장'의 평점: 평균 별점\n",
      "(4명)\n",
      "검색할 영화 이름: 기문 사육방\n",
      "검색 결과 1번째 항목 확인\n"
     ]
    },
    {
     "name": "stderr",
     "output_type": "stream",
     "text": [
      "Processing Movies:  13%|███████▍                                                  | 140/1086 [22:57<1:22:29,  5.23s/it]"
     ]
    },
    {
     "name": "stdout",
     "output_type": "stream",
     "text": [
      "검색할 영화 이름: 광동 살무사\n",
      "검색 결과 1번째 항목 확인\n"
     ]
    },
    {
     "name": "stderr",
     "output_type": "stream",
     "text": [
      "Processing Movies:  13%|███████▌                                                  | 141/1086 [23:00<1:12:55,  4.63s/it]"
     ]
    },
    {
     "name": "stdout",
     "output_type": "stream",
     "text": [
      "영화 '광동 살무사'의 평점: 평균 별점\n",
      "(6명)\n",
      "검색할 영화 이름: 비호문\n",
      "검색 결과 1번째 항목 확인\n"
     ]
    },
    {
     "name": "stderr",
     "output_type": "stream",
     "text": [
      "Processing Movies:  13%|███████▌                                                  | 142/1086 [23:03<1:06:11,  4.21s/it]"
     ]
    },
    {
     "name": "stdout",
     "output_type": "stream",
     "text": [
      "영화 '비호문'의 평점: 평균 별점\n",
      "(1명)\n",
      "검색할 영화 이름: 여자 대장장이\n"
     ]
    },
    {
     "name": "stderr",
     "output_type": "stream",
     "text": [
      "Processing Movies:  13%|███████▋                                                  | 143/1086 [23:07<1:06:18,  4.22s/it]"
     ]
    },
    {
     "name": "stdout",
     "output_type": "stream",
     "text": [
      "검색할 영화 이름: 여인잔혹사 물레야 물레야\n",
      "검색 결과 1번째 항목 확인\n"
     ]
    },
    {
     "name": "stderr",
     "output_type": "stream",
     "text": [
      "Processing Movies:  13%|███████▋                                                  | 144/1086 [23:10<1:01:39,  3.93s/it]"
     ]
    },
    {
     "name": "stdout",
     "output_type": "stream",
     "text": [
      "영화 '여인잔혹사 물레야 물레야'의 평점: 평균 별점\n",
      "(268명)\n",
      "검색할 영화 이름: 뇌권\n",
      "검색 결과 1번째 항목 확인\n"
     ]
    },
    {
     "name": "stderr",
     "output_type": "stream",
     "text": [
      "Processing Movies:  13%|████████                                                    | 145/1086 [23:14<58:44,  3.75s/it]"
     ]
    },
    {
     "name": "stdout",
     "output_type": "stream",
     "text": [
      "영화 '뇌권'의 평점: 평균 별점\n",
      "(6명)\n",
      "검색할 영화 이름: 소림과 태극문\n",
      "검색 결과 1번째 항목 확인\n"
     ]
    },
    {
     "name": "stderr",
     "output_type": "stream",
     "text": [
      "Processing Movies:  13%|████████                                                    | 146/1086 [23:17<56:09,  3.58s/it]"
     ]
    },
    {
     "name": "stdout",
     "output_type": "stream",
     "text": [
      "영화 '소림과 태극문'의 평점: 평균 별점\n",
      "(1명)\n",
      "검색할 영화 이름: 산동물장수\n",
      "검색 결과 1번째 항목 확인\n"
     ]
    },
    {
     "name": "stderr",
     "output_type": "stream",
     "text": [
      "Processing Movies:  14%|████████                                                    | 147/1086 [23:20<54:22,  3.47s/it]"
     ]
    },
    {
     "name": "stdout",
     "output_type": "stream",
     "text": [
      "영화 '산동물장수'의 평점: 평균 별점\n",
      "(15명)\n",
      "검색할 영화 이름: 외팔이 여신용\n",
      "검색 결과 1번째 항목 확인\n"
     ]
    },
    {
     "name": "stderr",
     "output_type": "stream",
     "text": [
      "Processing Movies:  14%|████████▏                                                   | 148/1086 [23:23<53:10,  3.40s/it]"
     ]
    },
    {
     "name": "stdout",
     "output_type": "stream",
     "text": [
      "영화 '외팔이 여신용'의 평점: 평균 별점\n",
      "(3명)\n",
      "검색할 영화 이름: 용형마교(합작)\n"
     ]
    },
    {
     "name": "stderr",
     "output_type": "stream",
     "text": [
      "Processing Movies:  14%|████████▏                                                   | 149/1086 [23:28<57:12,  3.66s/it]"
     ]
    },
    {
     "name": "stdout",
     "output_type": "stream",
     "text": [
      "검색할 영화 이름: 소림십대여걸\n"
     ]
    },
    {
     "name": "stderr",
     "output_type": "stream",
     "text": [
      "Processing Movies:  14%|████████▎                                                   | 150/1086 [23:32<59:54,  3.84s/it]"
     ]
    },
    {
     "name": "stdout",
     "output_type": "stream",
     "text": [
      "검색할 영화 이름: 소림사 왕서방\n",
      "검색 결과 1번째 항목 확인\n"
     ]
    },
    {
     "name": "stderr",
     "output_type": "stream",
     "text": [
      "Processing Movies:  14%|████████▎                                                   | 151/1086 [23:35<56:57,  3.66s/it]"
     ]
    },
    {
     "name": "stdout",
     "output_type": "stream",
     "text": [
      "영화 '소림사 왕서방'의 평점: 평균 별점\n",
      "(1명)\n",
      "검색할 영화 이름: 생사결(합작)\n"
     ]
    },
    {
     "name": "stderr",
     "output_type": "stream",
     "text": [
      "Processing Movies:  14%|████████▍                                                   | 152/1086 [23:39<59:40,  3.83s/it]"
     ]
    },
    {
     "name": "stdout",
     "output_type": "stream",
     "text": [
      "검색할 영화 이름: 풍운아 팔불출\n",
      "검색 결과 1번째 항목 확인\n"
     ]
    },
    {
     "name": "stderr",
     "output_type": "stream",
     "text": [
      "Processing Movies:  14%|████████▍                                                   | 153/1086 [23:43<56:47,  3.65s/it]"
     ]
    },
    {
     "name": "stdout",
     "output_type": "stream",
     "text": [
      "영화 '풍운아 팔불출'의 평점: 평균 별점\n",
      "(10명)\n",
      "검색할 영화 이름: 천용란\n",
      "검색 결과 1번째 항목 확인\n"
     ]
    },
    {
     "name": "stderr",
     "output_type": "stream",
     "text": [
      "Processing Movies:  14%|████████▌                                                   | 154/1086 [23:46<54:36,  3.52s/it]"
     ]
    },
    {
     "name": "stdout",
     "output_type": "stream",
     "text": [
      "영화 '천용란'의 평점: 평균 별점\n",
      "(2명)\n",
      "검색할 영화 이름: 혈우천하\n",
      "검색 결과 1번째 항목 확인\n"
     ]
    },
    {
     "name": "stderr",
     "output_type": "stream",
     "text": [
      "Processing Movies:  14%|████████▌                                                   | 155/1086 [23:49<53:05,  3.42s/it]"
     ]
    },
    {
     "name": "stdout",
     "output_type": "stream",
     "text": [
      "영화 '혈우천하'의 평점: 평균 별점\n",
      "(2명)\n",
      "검색할 영화 이름: 금룡 삼십칠계\n",
      "검색 결과 1번째 항목 확인\n"
     ]
    },
    {
     "name": "stderr",
     "output_type": "stream",
     "text": [
      "Processing Movies:  14%|████████▌                                                   | 156/1086 [23:52<52:02,  3.36s/it]"
     ]
    },
    {
     "name": "stdout",
     "output_type": "stream",
     "text": [
      "영화 '금룡 삼십칠계'의 평점: 평균 별점\n",
      "(3명)\n",
      "검색할 영화 이름: 인자문살수\n",
      "검색 결과 1번째 항목 확인\n"
     ]
    },
    {
     "name": "stderr",
     "output_type": "stream",
     "text": [
      "Processing Movies:  14%|████████▋                                                   | 157/1086 [23:56<51:18,  3.31s/it]"
     ]
    },
    {
     "name": "stdout",
     "output_type": "stream",
     "text": [
      "영화 '인자문살수'의 평점: 평균 별점\n",
      "(5명)\n",
      "검색할 영화 이름: 괴적귀무\n"
     ]
    },
    {
     "name": "stderr",
     "output_type": "stream",
     "text": [
      "Processing Movies:  15%|████████▋                                                   | 158/1086 [24:00<55:36,  3.60s/it]"
     ]
    },
    {
     "name": "stdout",
     "output_type": "stream",
     "text": [
      "검색할 영화 이름: 칠지수\n",
      "검색 결과 1번째 항목 확인\n"
     ]
    },
    {
     "name": "stderr",
     "output_type": "stream",
     "text": [
      "Processing Movies:  15%|████████▊                                                   | 159/1086 [24:03<53:48,  3.48s/it]"
     ]
    },
    {
     "name": "stdout",
     "output_type": "stream",
     "text": [
      "영화 '칠지수'의 평점: 평균 별점\n",
      "(4명)\n",
      "검색할 영화 이름: 소림사 주방장\n",
      "검색 결과 1번째 항목 확인\n"
     ]
    },
    {
     "name": "stderr",
     "output_type": "stream",
     "text": [
      "Processing Movies:  15%|████████▊                                                   | 160/1086 [24:06<52:33,  3.41s/it]"
     ]
    },
    {
     "name": "stdout",
     "output_type": "stream",
     "text": [
      "영화 '소림사 주방장'의 평점: 평균 별점\n",
      "(2명)\n",
      "검색할 영화 이름: 취팔권 광팔권\n",
      "검색 결과 1번째 항목 확인\n"
     ]
    },
    {
     "name": "stderr",
     "output_type": "stream",
     "text": [
      "Processing Movies:  15%|████████▉                                                   | 161/1086 [24:09<51:37,  3.35s/it]"
     ]
    },
    {
     "name": "stdout",
     "output_type": "stream",
     "text": [
      "영화 '취팔권 광팔권'의 평점: 평균 별점\n",
      "(11명)\n",
      "검색할 영화 이름: 괴도출마\n",
      "검색 결과 1번째 항목 확인\n"
     ]
    },
    {
     "name": "stderr",
     "output_type": "stream",
     "text": [
      "Processing Movies:  15%|████████▉                                                   | 162/1086 [24:13<50:55,  3.31s/it]"
     ]
    },
    {
     "name": "stdout",
     "output_type": "stream",
     "text": [
      "영화 '괴도출마'의 평점: 평균 별점\n",
      "(3명)\n",
      "검색할 영화 이름: 서태후\n",
      "검색 결과 1번째 항목 확인\n"
     ]
    },
    {
     "name": "stderr",
     "output_type": "stream",
     "text": [
      "Processing Movies:  15%|█████████                                                   | 163/1086 [24:16<50:25,  3.28s/it]"
     ]
    },
    {
     "name": "stdout",
     "output_type": "stream",
     "text": [
      "영화 '서태후'의 평점: 평균 별점\n",
      "(38명)\n",
      "검색할 영화 이름: 대형출도\n",
      "검색 결과 1번째 항목 확인\n"
     ]
    },
    {
     "name": "stderr",
     "output_type": "stream",
     "text": [
      "Processing Movies:  15%|█████████                                                   | 164/1086 [24:19<50:04,  3.26s/it]"
     ]
    },
    {
     "name": "stdout",
     "output_type": "stream",
     "text": [
      "영화 '대형출도'의 평점: 평균 별점\n",
      "(4명)\n",
      "검색할 영화 이름: 돌아온 쌍용\n",
      "검색 결과 1번째 항목 확인\n"
     ]
    },
    {
     "name": "stderr",
     "output_type": "stream",
     "text": [
      "Processing Movies:  15%|█████████                                                   | 165/1086 [24:22<49:45,  3.24s/it]"
     ]
    },
    {
     "name": "stdout",
     "output_type": "stream",
     "text": [
      "영화 '돌아온 쌍용'의 평점: 평균 별점\n",
      "(3명)\n",
      "검색할 영화 이름: 소권\n",
      "검색 결과 1번째 항목 확인\n",
      "검색 결과 2번째 항목 확인\n",
      "검색 결과 3번째 항목 확인\n"
     ]
    },
    {
     "name": "stderr",
     "output_type": "stream",
     "text": [
      "Processing Movies:  15%|████████▊                                                 | 166/1086 [24:32<1:18:23,  5.11s/it]"
     ]
    },
    {
     "name": "stdout",
     "output_type": "stream",
     "text": [
      "영화 '소권'의 평점: 평균 별점\n",
      "(148명)\n",
      "검색할 영화 이름: 지옥 12관문\n",
      "검색 결과 1번째 항목 확인\n"
     ]
    },
    {
     "name": "stderr",
     "output_type": "stream",
     "text": [
      "Processing Movies:  15%|████████▉                                                 | 167/1086 [24:35<1:09:37,  4.55s/it]"
     ]
    },
    {
     "name": "stdout",
     "output_type": "stream",
     "text": [
      "영화 '지옥 12관문'의 평점: 평균 별점\n",
      "(3명)\n",
      "검색할 영화 이름: 무림 악인전\n",
      "검색 결과 1번째 항목 확인\n"
     ]
    },
    {
     "name": "stderr",
     "output_type": "stream",
     "text": [
      "Processing Movies:  15%|████████▉                                                 | 168/1086 [24:38<1:03:29,  4.15s/it]"
     ]
    },
    {
     "name": "stdout",
     "output_type": "stream",
     "text": [
      "영화 '무림 악인전'의 평점: 평균 별점\n",
      "(3명)\n",
      "검색할 영화 이름: 팔불출\n",
      "검색 결과 1번째 항목 확인\n"
     ]
    },
    {
     "name": "stderr",
     "output_type": "stream",
     "text": [
      "Processing Movies:  16%|█████████▎                                                  | 169/1086 [24:41<59:08,  3.87s/it]"
     ]
    },
    {
     "name": "stdout",
     "output_type": "stream",
     "text": [
      "영화 '팔불출'의 평점: 평균 별점\n",
      "(15명)\n",
      "검색할 영화 이름: 삼국지\n",
      "검색 결과 1번째 항목 확인\n"
     ]
    },
    {
     "name": "stderr",
     "output_type": "stream",
     "text": [
      "Processing Movies:  16%|█████████▍                                                  | 170/1086 [24:45<56:36,  3.71s/it]"
     ]
    },
    {
     "name": "stdout",
     "output_type": "stream",
     "text": [
      "영화 '삼국지'의 평점: 평균 별점\n",
      "(392명)\n",
      "검색할 영화 이름: 칠협팔의\n",
      "검색 결과 1번째 항목 확인\n"
     ]
    },
    {
     "name": "stderr",
     "output_type": "stream",
     "text": [
      "Processing Movies:  16%|█████████▍                                                  | 171/1086 [24:48<54:17,  3.56s/it]"
     ]
    },
    {
     "name": "stdout",
     "output_type": "stream",
     "text": [
      "영화 '칠협팔의'의 평점: 평균 별점\n",
      "(1명)\n",
      "검색할 영화 이름: 중원대협\n",
      "검색 결과 1번째 항목 확인\n"
     ]
    },
    {
     "name": "stderr",
     "output_type": "stream",
     "text": [
      "Processing Movies:  16%|█████████▌                                                  | 172/1086 [24:51<52:37,  3.45s/it]"
     ]
    },
    {
     "name": "stdout",
     "output_type": "stream",
     "text": [
      "영화 '중원대협'의 평점: 평균 별점\n",
      "(2명)\n",
      "검색할 영화 이름: 세종대왕\n",
      "검색 결과 1번째 항목 확인\n"
     ]
    },
    {
     "name": "stderr",
     "output_type": "stream",
     "text": [
      "Processing Movies:  16%|█████████▌                                                  | 173/1086 [24:54<51:26,  3.38s/it]"
     ]
    },
    {
     "name": "stdout",
     "output_type": "stream",
     "text": [
      "영화 '세종대왕'의 평점: 평균 별점\n",
      "(8명)\n",
      "검색할 영화 이름: 소림사 십대장문\n",
      "검색 결과 1번째 항목 확인\n"
     ]
    },
    {
     "name": "stderr",
     "output_type": "stream",
     "text": [
      "Processing Movies:  16%|█████████▌                                                  | 174/1086 [24:58<50:40,  3.33s/it]"
     ]
    },
    {
     "name": "stdout",
     "output_type": "stream",
     "text": [
      "영화 '소림사 십대장문'의 평점: 평균 별점\n",
      "(6명)\n",
      "검색할 영화 이름: 사대통의 문\n",
      "검색 결과 1번째 항목 확인\n"
     ]
    },
    {
     "name": "stderr",
     "output_type": "stream",
     "text": [
      "Processing Movies:  16%|█████████▋                                                  | 175/1086 [25:01<50:06,  3.30s/it]"
     ]
    },
    {
     "name": "stdout",
     "output_type": "stream",
     "text": [
      "영화 '사대통의 문'의 평점: 평균 별점\n",
      "(2명)\n",
      "검색할 영화 이름: 대사부\n",
      "검색 결과 1번째 항목 확인\n",
      "검색 결과 2번째 항목 확인\n",
      "검색 결과 3번째 항목 확인\n",
      "검색 결과 4번째 항목 확인\n",
      "검색 결과 5번째 항목 확인\n"
     ]
    },
    {
     "name": "stderr",
     "output_type": "stream",
     "text": [
      "Processing Movies:  16%|█████████▍                                                | 176/1086 [25:17<1:47:47,  7.11s/it]"
     ]
    },
    {
     "name": "stdout",
     "output_type": "stream",
     "text": [
      "영화 '대사부'의 평점: 평균 별점\n",
      "(3명)\n",
      "검색할 영화 이름: 소림백호문\n",
      "검색 결과 1번째 항목 확인\n"
     ]
    },
    {
     "name": "stderr",
     "output_type": "stream",
     "text": [
      "Processing Movies:  16%|█████████▍                                                | 177/1086 [25:20<1:29:55,  5.94s/it]"
     ]
    },
    {
     "name": "stdout",
     "output_type": "stream",
     "text": [
      "영화 '소림백호문'의 평점: 평균 별점\n",
      "(3명)\n",
      "검색할 영화 이름: 유성검\n",
      "검색 결과 1번째 항목 확인\n",
      "검색 결과 2번째 항목 확인\n"
     ]
    },
    {
     "name": "stderr",
     "output_type": "stream",
     "text": [
      "Processing Movies:  16%|█████████▌                                                | 178/1086 [25:26<1:31:39,  6.06s/it]"
     ]
    },
    {
     "name": "stdout",
     "output_type": "stream",
     "text": [
      "영화 '유성검'의 평점: 평균 별점\n",
      "(8명)\n",
      "검색할 영화 이름: 사랑의 원자탄\n",
      "검색 결과 1번째 항목 확인\n"
     ]
    },
    {
     "name": "stderr",
     "output_type": "stream",
     "text": [
      "Processing Movies:  16%|█████████▌                                                | 179/1086 [25:30<1:18:44,  5.21s/it]"
     ]
    },
    {
     "name": "stdout",
     "output_type": "stream",
     "text": [
      "영화 '사랑의 원자탄'의 평점: 평균 별점\n",
      "(10명)\n",
      "검색할 영화 이름: 금호문\n",
      "검색 결과 1번째 항목 확인\n"
     ]
    },
    {
     "name": "stderr",
     "output_type": "stream",
     "text": [
      "Processing Movies:  17%|█████████▌                                                | 180/1086 [25:33<1:09:50,  4.62s/it]"
     ]
    },
    {
     "name": "stdout",
     "output_type": "stream",
     "text": [
      "영화 '금호문'의 평점: 평균 별점\n",
      "(4명)\n",
      "검색할 영화 이름: 속 정무문\n",
      "검색 결과 1번째 항목 확인\n"
     ]
    },
    {
     "name": "stderr",
     "output_type": "stream",
     "text": [
      "Processing Movies:  17%|█████████▋                                                | 181/1086 [25:40<1:22:26,  5.47s/it]"
     ]
    },
    {
     "name": "stdout",
     "output_type": "stream",
     "text": [
      "검색할 영화 이름: 소림사 흑표\n",
      "검색 결과 1번째 항목 확인\n"
     ]
    },
    {
     "name": "stderr",
     "output_type": "stream",
     "text": [
      "Processing Movies:  17%|█████████▋                                                | 182/1086 [25:43<1:12:17,  4.80s/it]"
     ]
    },
    {
     "name": "stdout",
     "output_type": "stream",
     "text": [
      "영화 '소림사 흑표'의 평점: 평균 별점\n",
      "(4명)\n",
      "검색할 영화 이름: 불타는 정무문\n",
      "검색 결과 1번째 항목 확인\n"
     ]
    },
    {
     "name": "stderr",
     "output_type": "stream",
     "text": [
      "Processing Movies:  17%|█████████▊                                                | 183/1086 [25:47<1:05:04,  4.32s/it]"
     ]
    },
    {
     "name": "stdout",
     "output_type": "stream",
     "text": [
      "영화 '불타는 정무문'의 평점: 평균 별점\n",
      "(6명)\n",
      "검색할 영화 이름: 용왕삼태자\n",
      "검색 결과 1번째 항목 확인\n"
     ]
    },
    {
     "name": "stderr",
     "output_type": "stream",
     "text": [
      "Processing Movies:  17%|██████████▏                                                 | 184/1086 [25:50<59:56,  3.99s/it]"
     ]
    },
    {
     "name": "stdout",
     "output_type": "stream",
     "text": [
      "영화 '용왕삼태자'의 평점: 평균 별점\n",
      "(12명)\n",
      "검색할 영화 이름: 흑도\n",
      "검색 결과 1번째 항목 확인\n",
      "검색 결과 2번째 항목 확인\n"
     ]
    },
    {
     "name": "stderr",
     "output_type": "stream",
     "text": [
      "Processing Movies:  17%|█████████▉                                                | 185/1086 [25:56<1:10:30,  4.70s/it]"
     ]
    },
    {
     "name": "stdout",
     "output_type": "stream",
     "text": [
      "영화 '흑도'의 평점: 평균 별점\n",
      "(1명)\n",
      "검색할 영화 이름: 충열도\n",
      "검색 결과 1번째 항목 확인\n",
      "검색 결과 2번째 항목 확인\n"
     ]
    },
    {
     "name": "stderr",
     "output_type": "stream",
     "text": [
      "Processing Movies:  17%|█████████▉                                                | 186/1086 [26:03<1:17:48,  5.19s/it]"
     ]
    },
    {
     "name": "stdout",
     "output_type": "stream",
     "text": [
      "영화 '충열도'의 평점: 평균 별점\n",
      "(10명)\n",
      "검색할 영화 이름: 귀문의 왼발잡이\n"
     ]
    },
    {
     "name": "stderr",
     "output_type": "stream",
     "text": [
      "Processing Movies:  17%|█████████▉                                                | 187/1086 [26:07<1:13:36,  4.91s/it]"
     ]
    },
    {
     "name": "stdout",
     "output_type": "stream",
     "text": [
      "검색할 영화 이름: 4대철인\n"
     ]
    },
    {
     "name": "stderr",
     "output_type": "stream",
     "text": [
      "Processing Movies:  17%|██████████                                                | 188/1086 [26:11<1:10:31,  4.71s/it]"
     ]
    },
    {
     "name": "stdout",
     "output_type": "stream",
     "text": [
      "검색할 영화 이름: 중원호객\n",
      "검색 결과 1번째 항목 확인\n"
     ]
    },
    {
     "name": "stderr",
     "output_type": "stream",
     "text": [
      "Processing Movies:  17%|██████████                                                | 189/1086 [26:14<1:03:46,  4.27s/it]"
     ]
    },
    {
     "name": "stdout",
     "output_type": "stream",
     "text": [
      "영화 '중원호객'의 평점: 평균 별점\n",
      "(65명)\n",
      "검색할 영화 이름: 사대문파\n",
      "검색 결과 1번째 항목 확인\n"
     ]
    },
    {
     "name": "stderr",
     "output_type": "stream",
     "text": [
      "Processing Movies:  17%|██████████▍                                                 | 190/1086 [26:18<59:01,  3.95s/it]"
     ]
    },
    {
     "name": "stdout",
     "output_type": "stream",
     "text": [
      "영화 '사대문파'의 평점: 평균 별점\n",
      "(81명)\n",
      "검색할 영화 이름: 속 비밀객\n",
      "검색 결과 1번째 항목 확인\n"
     ]
    },
    {
     "name": "stderr",
     "output_type": "stream",
     "text": [
      "Processing Movies:  18%|██████████▏                                               | 191/1086 [26:25<1:14:17,  4.98s/it]"
     ]
    },
    {
     "name": "stdout",
     "output_type": "stream",
     "text": [
      "검색할 영화 이름: 여신탐\n",
      "검색 결과 1번째 항목 확인\n"
     ]
    },
    {
     "name": "stderr",
     "output_type": "stream",
     "text": [
      "Processing Movies:  18%|██████████▎                                               | 192/1086 [26:28<1:06:19,  4.45s/it]"
     ]
    },
    {
     "name": "stdout",
     "output_type": "stream",
     "text": [
      "영화 '여신탐'의 평점: 평균 별점\n",
      "(8명)\n",
      "검색할 영화 이름: 송화강의 비객\n",
      "검색 결과 1번째 항목 확인\n"
     ]
    },
    {
     "name": "stderr",
     "output_type": "stream",
     "text": [
      "Processing Movies:  18%|██████████▎                                               | 193/1086 [26:31<1:00:46,  4.08s/it]"
     ]
    },
    {
     "name": "stdout",
     "output_type": "stream",
     "text": [
      "영화 '송화강의 비객'의 평점: 평균 별점\n",
      "(1명)\n",
      "검색할 영화 이름: 뉴욕 44번지\n"
     ]
    },
    {
     "name": "stderr",
     "output_type": "stream",
     "text": [
      "Processing Movies:  18%|██████████▎                                               | 194/1086 [26:36<1:01:31,  4.14s/it]"
     ]
    },
    {
     "name": "stdout",
     "output_type": "stream",
     "text": [
      "검색할 영화 이름: 집념\n",
      "검색 결과 1번째 항목 확인\n"
     ]
    },
    {
     "name": "stderr",
     "output_type": "stream",
     "text": [
      "Processing Movies:  18%|██████████▊                                                 | 195/1086 [26:39<57:20,  3.86s/it]"
     ]
    },
    {
     "name": "stdout",
     "output_type": "stream",
     "text": [
      "영화 '집념'의 평점: 평균 별점\n",
      "(10명)\n",
      "검색할 영화 이름: 소림사 18동인\n",
      "검색 결과 1번째 항목 확인\n",
      "검색 결과 2번째 항목 확인\n"
     ]
    },
    {
     "name": "stderr",
     "output_type": "stream",
     "text": [
      "Processing Movies:  18%|██████████▍                                               | 196/1086 [26:45<1:08:45,  4.63s/it]"
     ]
    },
    {
     "name": "stdout",
     "output_type": "stream",
     "text": [
      "영화 '소림사 18동인'의 평점: 평균 별점\n",
      "(1,227명)\n",
      "검색할 영화 이름: 망나니\n",
      "검색 결과 1번째 항목 확인\n",
      "검색 결과 2번째 항목 확인\n",
      "검색 결과 3번째 항목 확인\n"
     ]
    },
    {
     "name": "stderr",
     "output_type": "stream",
     "text": [
      "Processing Movies:  18%|██████████▌                                               | 197/1086 [26:55<1:30:19,  6.10s/it]"
     ]
    },
    {
     "name": "stdout",
     "output_type": "stream",
     "text": [
      "영화 '망나니'의 평점: 평균 별점\n",
      "(6명)\n",
      "검색할 영화 이름: 이조 상노비사\n",
      "검색 결과 1번째 항목 확인\n"
     ]
    },
    {
     "name": "stderr",
     "output_type": "stream",
     "text": [
      "Processing Movies:  18%|██████████▌                                               | 198/1086 [26:58<1:17:27,  5.23s/it]"
     ]
    },
    {
     "name": "stdout",
     "output_type": "stream",
     "text": [
      "영화 '이조 상노비사'의 평점: 평균 별점\n",
      "(8명)\n",
      "검색할 영화 이름: 박수무당\n",
      "검색 결과 1번째 항목 확인\n"
     ]
    },
    {
     "name": "stderr",
     "output_type": "stream",
     "text": [
      "Processing Movies:  18%|██████████▋                                               | 199/1086 [27:01<1:08:26,  4.63s/it]"
     ]
    },
    {
     "name": "stdout",
     "output_type": "stream",
     "text": [
      "영화 '박수무당'의 평점: 평균 별점\n",
      "(5명)\n",
      "검색할 영화 이름: 남사당\n",
      "검색 결과 1번째 항목 확인\n"
     ]
    },
    {
     "name": "stderr",
     "output_type": "stream",
     "text": [
      "Processing Movies:  18%|██████████▋                                               | 200/1086 [27:04<1:02:02,  4.20s/it]"
     ]
    },
    {
     "name": "stdout",
     "output_type": "stream",
     "text": [
      "영화 '남사당'의 평점: 평균 별점\n",
      "(9명)\n",
      "검색할 영화 이름: 흑묘\n",
      "검색 결과 1번째 항목 확인\n",
      "검색 결과 2번째 항목 확인\n"
     ]
    },
    {
     "name": "stderr",
     "output_type": "stream",
     "text": [
      "Processing Movies:  19%|██████████▋                                               | 201/1086 [27:15<1:29:52,  6.09s/it]"
     ]
    },
    {
     "name": "stdout",
     "output_type": "stream",
     "text": [
      "검색할 영화 이름: 속 연화\n",
      "검색 결과 1번째 항목 확인\n"
     ]
    },
    {
     "name": "stderr",
     "output_type": "stream",
     "text": [
      "Processing Movies:  19%|██████████▊                                               | 202/1086 [27:22<1:35:24,  6.48s/it]"
     ]
    },
    {
     "name": "stdout",
     "output_type": "stream",
     "text": [
      "검색할 영화 이름: 연화\n",
      "검색 결과 1번째 항목 확인\n",
      "검색 결과 2번째 항목 확인\n",
      "검색 결과 3번째 항목 확인\n",
      "검색 결과 4번째 항목 확인\n",
      "검색 결과 5번째 항목 확인\n",
      "검색 결과 6번째 항목 확인\n",
      "내부 에러 발생: Message: \n",
      "\n",
      "검색 결과 7번째 항목 확인\n",
      "내부 에러 발생: Message: \n",
      "\n",
      "검색 결과 8번째 항목 확인\n",
      "내부 에러 발생: Message: \n",
      "\n"
     ]
    },
    {
     "name": "stderr",
     "output_type": "stream",
     "text": [
      "Processing Movies:  19%|██████████▊                                               | 203/1086 [28:43<7:02:52, 28.73s/it]"
     ]
    },
    {
     "name": "stdout",
     "output_type": "stream",
     "text": [
      "검색할 영화 이름: 홍의 장군\n",
      "검색 결과 1번째 항목 확인\n"
     ]
    },
    {
     "name": "stderr",
     "output_type": "stream",
     "text": [
      "Processing Movies:  19%|██████████▉                                               | 204/1086 [28:46<5:09:59, 21.09s/it]"
     ]
    },
    {
     "name": "stdout",
     "output_type": "stream",
     "text": [
      "영화 '홍의 장군'의 평점: 평균 별점\n",
      "(8명)\n",
      "검색할 영화 이름: 황사진\n",
      "검색 결과 1번째 항목 확인\n"
     ]
    },
    {
     "name": "stderr",
     "output_type": "stream",
     "text": [
      "Processing Movies:  19%|██████████▉                                               | 205/1086 [28:49<3:50:55, 15.73s/it]"
     ]
    },
    {
     "name": "stdout",
     "output_type": "stream",
     "text": [
      "영화 '황사진'의 평점: 평균 별점\n",
      "(3명)\n",
      "검색할 영화 이름: 쥬리아와 도꾸가와 이에야스\n",
      "검색 결과 1번째 항목 확인\n"
     ]
    },
    {
     "name": "stderr",
     "output_type": "stream",
     "text": [
      "Processing Movies:  19%|███████████                                               | 206/1086 [28:53<2:55:41, 11.98s/it]"
     ]
    },
    {
     "name": "stdout",
     "output_type": "stream",
     "text": [
      "영화 '쥬리아와 도꾸가와 이에야스'의 평점: 평균 별점\n",
      "(4명)\n",
      "검색할 영화 이름: 삼일천하\n",
      "검색 결과 1번째 항목 확인\n"
     ]
    },
    {
     "name": "stderr",
     "output_type": "stream",
     "text": [
      "Processing Movies:  19%|███████████                                               | 207/1086 [28:56<2:16:56,  9.35s/it]"
     ]
    },
    {
     "name": "stdout",
     "output_type": "stream",
     "text": [
      "영화 '삼일천하'의 평점: 평균 별점\n",
      "(19명)\n",
      "검색할 영화 이름: 삼총사\n",
      "검색 결과 1번째 항목 확인\n",
      "검색 결과 2번째 항목 확인\n",
      "검색 결과 3번째 항목 확인\n",
      "검색 결과 4번째 항목 확인\n",
      "검색 결과 5번째 항목 확인\n",
      "검색 결과 6번째 항목 확인\n",
      "내부 에러 발생: Message: \n",
      "\n",
      "검색 결과 7번째 항목 확인\n",
      "내부 에러 발생: Message: \n",
      "\n",
      "검색 결과 8번째 항목 확인\n",
      "내부 에러 발생: Message: \n",
      "\n",
      "검색 결과 9번째 항목 확인\n",
      "내부 에러 발생: Message: \n",
      "\n"
     ]
    },
    {
     "name": "stderr",
     "output_type": "stream",
     "text": [
      "Processing Movies:  19%|███████████                                               | 208/1086 [30:37<8:59:32, 36.87s/it]"
     ]
    },
    {
     "name": "stdout",
     "output_type": "stream",
     "text": [
      "검색할 영화 이름: 천풍\n",
      "검색 결과 1번째 항목 확인\n"
     ]
    },
    {
     "name": "stderr",
     "output_type": "stream",
     "text": [
      "Processing Movies:  19%|███████████▏                                              | 209/1086 [30:40<6:31:20, 26.77s/it]"
     ]
    },
    {
     "name": "stdout",
     "output_type": "stream",
     "text": [
      "영화 '천풍'의 평점: 평균 별점\n",
      "(2명)\n",
      "검색할 영화 이름: 악인의 계곡\n",
      "검색 결과 1번째 항목 확인\n"
     ]
    },
    {
     "name": "stderr",
     "output_type": "stream",
     "text": [
      "Processing Movies:  19%|███████████▏                                              | 210/1086 [30:43<4:47:45, 19.71s/it]"
     ]
    },
    {
     "name": "stdout",
     "output_type": "stream",
     "text": [
      "영화 '악인의 계곡'의 평점: 평균 별점\n",
      "(1명)\n",
      "검색할 영화 이름: 혈보산천\n",
      "검색 결과 1번째 항목 확인\n"
     ]
    },
    {
     "name": "stderr",
     "output_type": "stream",
     "text": [
      "Processing Movies:  19%|███████████▎                                              | 211/1086 [30:47<3:35:11, 14.76s/it]"
     ]
    },
    {
     "name": "stdout",
     "output_type": "stream",
     "text": [
      "영화 '혈보산천'의 평점: 평균 별점\n",
      "(1명)\n",
      "검색할 영화 이름: 신풍협객\n",
      "검색 결과 1번째 항목 확인\n"
     ]
    },
    {
     "name": "stderr",
     "output_type": "stream",
     "text": [
      "Processing Movies:  20%|███████████▎                                              | 212/1086 [30:50<2:44:27, 11.29s/it]"
     ]
    },
    {
     "name": "stdout",
     "output_type": "stream",
     "text": [
      "영화 '신풍협객'의 평점: 평균 별점\n",
      "(3명)\n",
      "검색할 영화 이름: 효녀 심청\n",
      "검색 결과 1번째 항목 확인\n"
     ]
    },
    {
     "name": "stderr",
     "output_type": "stream",
     "text": [
      "Processing Movies:  20%|███████████▍                                              | 213/1086 [30:53<2:08:59,  8.87s/it]"
     ]
    },
    {
     "name": "stdout",
     "output_type": "stream",
     "text": [
      "영화 '효녀 심청'의 평점: 평균 별점\n",
      "(26명)\n",
      "검색할 영화 이름: 논개\n",
      "검색 결과 1번째 항목 확인\n"
     ]
    },
    {
     "name": "stderr",
     "output_type": "stream",
     "text": [
      "Processing Movies:  20%|███████████▍                                              | 214/1086 [30:56<1:44:09,  7.17s/it]"
     ]
    },
    {
     "name": "stdout",
     "output_type": "stream",
     "text": [
      "영화 '논개'의 평점: 평균 별점\n",
      "(3명)\n",
      "검색할 영화 이름: 의사 안중근\n",
      "검색 결과 1번째 항목 확인\n",
      "검색 결과 2번째 항목 확인\n"
     ]
    },
    {
     "name": "stderr",
     "output_type": "stream",
     "text": [
      "Processing Movies:  20%|███████████▍                                              | 215/1086 [31:03<1:40:33,  6.93s/it]"
     ]
    },
    {
     "name": "stdout",
     "output_type": "stream",
     "text": [
      "영화 '의사 안중근'의 평점: 평균 별점\n",
      "(6명)\n",
      "검색할 영화 이름: 대지옥\n",
      "검색 결과 1번째 항목 확인\n",
      "검색 결과 2번째 항목 확인\n",
      "검색 결과 3번째 항목 확인\n",
      "검색 결과 4번째 항목 확인\n",
      "검색 결과 5번째 항목 확인\n",
      "검색 결과 6번째 항목 확인\n",
      "내부 에러 발생: Message: \n",
      "\n",
      "검색 결과 7번째 항목 확인\n",
      "내부 에러 발생: Message: \n",
      "\n",
      "검색 결과 8번째 항목 확인\n",
      "내부 에러 발생: Message: \n",
      "\n",
      "검색 결과 9번째 항목 확인\n",
      "내부 에러 발생: Message: \n",
      "\n"
     ]
    },
    {
     "name": "stderr",
     "output_type": "stream",
     "text": [
      "Processing Movies:  20%|███████████▌                                              | 216/1086 [32:44<8:32:28, 35.34s/it]"
     ]
    },
    {
     "name": "stdout",
     "output_type": "stream",
     "text": [
      "검색할 영화 이름: 삼국대협\n",
      "검색 결과 1번째 항목 확인\n"
     ]
    },
    {
     "name": "stderr",
     "output_type": "stream",
     "text": [
      "Processing Movies:  20%|███████████▌                                              | 217/1086 [32:48<6:12:36, 25.73s/it]"
     ]
    },
    {
     "name": "stdout",
     "output_type": "stream",
     "text": [
      "영화 '삼국대협'의 평점: 평균 별점\n",
      "(22명)\n",
      "검색할 영화 이름: 레드 선\n",
      "검색 결과 1번째 항목 확인\n",
      "검색 결과 2번째 항목 확인\n"
     ]
    },
    {
     "name": "stderr",
     "output_type": "stream",
     "text": [
      "Processing Movies:  20%|███████████▋                                              | 218/1086 [32:54<4:48:02, 19.91s/it]"
     ]
    },
    {
     "name": "stdout",
     "output_type": "stream",
     "text": [
      "영화 '레드 선'의 평점: 평균 별점\n",
      "(82명)\n",
      "검색할 영화 이름: 나를 버리시나이까\n",
      "검색 결과 1번째 항목 확인\n"
     ]
    },
    {
     "name": "stderr",
     "output_type": "stream",
     "text": [
      "Processing Movies:  20%|███████████▋                                              | 219/1086 [32:57<3:35:29, 14.91s/it]"
     ]
    },
    {
     "name": "stdout",
     "output_type": "stream",
     "text": [
      "영화 '나를 버리시나이까'의 평점: 평균 별점\n",
      "(2명)\n",
      "검색할 영화 이름: 춘향전\n",
      "검색 결과 1번째 항목 확인\n"
     ]
    },
    {
     "name": "stderr",
     "output_type": "stream",
     "text": [
      "Processing Movies:  20%|███████████▋                                              | 220/1086 [33:00<2:44:32, 11.40s/it]"
     ]
    },
    {
     "name": "stdout",
     "output_type": "stream",
     "text": [
      "영화 '춘향전'의 평점: 평균 별점\n",
      "(57명)\n",
      "검색할 영화 이름: 천마산의 결투\n",
      "검색 결과 1번째 항목 확인\n"
     ]
    },
    {
     "name": "stderr",
     "output_type": "stream",
     "text": [
      "Processing Movies:  20%|███████████▊                                              | 221/1086 [33:04<2:09:01,  8.95s/it]"
     ]
    },
    {
     "name": "stdout",
     "output_type": "stream",
     "text": [
      "영화 '천마산의 결투'의 평점: 평균 별점\n",
      "(2명)\n",
      "검색할 영화 이름: 과객\n",
      "검색 결과 1번째 항목 확인\n"
     ]
    },
    {
     "name": "stderr",
     "output_type": "stream",
     "text": [
      "Processing Movies:  20%|███████████▊                                              | 222/1086 [33:07<1:44:03,  7.23s/it]"
     ]
    },
    {
     "name": "stdout",
     "output_type": "stream",
     "text": [
      "영화 '과객'의 평점: 평균 별점\n",
      "(1명)\n",
      "검색할 영화 이름: 54번가의 마담\n",
      "검색 결과 1번째 항목 확인\n"
     ]
    },
    {
     "name": "stderr",
     "output_type": "stream",
     "text": [
      "Processing Movies:  21%|███████████▉                                              | 223/1086 [33:10<1:26:36,  6.02s/it]"
     ]
    },
    {
     "name": "stdout",
     "output_type": "stream",
     "text": [
      "영화 '54번가의 마담'의 평점: 평균 별점\n",
      "(5명)\n",
      "검색할 영화 이름: 다섯개의 단검\n"
     ]
    },
    {
     "name": "stderr",
     "output_type": "stream",
     "text": [
      "Processing Movies:  21%|███████████▉                                              | 224/1086 [33:14<1:18:56,  5.50s/it]"
     ]
    },
    {
     "name": "stdout",
     "output_type": "stream",
     "text": [
      "검색할 영화 이름: 요검\n",
      "검색 결과 1번째 항목 확인\n"
     ]
    },
    {
     "name": "stderr",
     "output_type": "stream",
     "text": [
      "Processing Movies:  21%|████████████                                              | 225/1086 [33:17<1:09:03,  4.81s/it]"
     ]
    },
    {
     "name": "stdout",
     "output_type": "stream",
     "text": [
      "영화 '요검'의 평점: 평균 별점\n",
      "(5명)\n",
      "검색할 영화 이름: 대감신랑\n",
      "검색 결과 1번째 항목 확인\n"
     ]
    },
    {
     "name": "stderr",
     "output_type": "stream",
     "text": [
      "Processing Movies:  21%|████████████                                              | 226/1086 [33:21<1:02:02,  4.33s/it]"
     ]
    },
    {
     "name": "stdout",
     "output_type": "stream",
     "text": [
      "영화 '대감신랑'의 평점: 평균 별점\n",
      "(2명)\n",
      "검색할 영화 이름: 성웅 이순신\n",
      "검색 결과 1번째 항목 확인\n"
     ]
    },
    {
     "name": "stderr",
     "output_type": "stream",
     "text": [
      "Processing Movies:  21%|████████████▌                                               | 227/1086 [33:24<57:09,  3.99s/it]"
     ]
    },
    {
     "name": "stdout",
     "output_type": "stream",
     "text": [
      "영화 '성웅 이순신'의 평점: 평균 별점\n",
      "(36명)\n",
      "검색할 영화 이름: 수호지\n",
      "검색 결과 1번째 항목 확인\n",
      "검색 결과 2번째 항목 확인\n"
     ]
    },
    {
     "name": "stderr",
     "output_type": "stream",
     "text": [
      "Processing Movies:  21%|████████████▏                                             | 228/1086 [33:30<1:07:15,  4.70s/it]"
     ]
    },
    {
     "name": "stdout",
     "output_type": "stream",
     "text": [
      "영화 '수호지'의 평점: 평균 별점\n",
      "(124명)\n",
      "검색할 영화 이름: 내장성의 대복수\n",
      "검색 결과 1번째 항목 확인\n"
     ]
    },
    {
     "name": "stderr",
     "output_type": "stream",
     "text": [
      "Processing Movies:  21%|████████████▏                                             | 229/1086 [33:34<1:00:55,  4.27s/it]"
     ]
    },
    {
     "name": "stdout",
     "output_type": "stream",
     "text": [
      "영화 '내장성의 대복수'의 평점: 평균 별점\n",
      "(1명)\n",
      "검색할 영화 이름: 십오야\n",
      "검색 결과 1번째 항목 확인\n"
     ]
    },
    {
     "name": "stderr",
     "output_type": "stream",
     "text": [
      "Processing Movies:  21%|████████████▋                                               | 230/1086 [33:37<56:18,  3.95s/it]"
     ]
    },
    {
     "name": "stdout",
     "output_type": "stream",
     "text": [
      "영화 '십오야'의 평점: 평균 별점\n",
      "(27명)\n",
      "검색할 영화 이름: 가로수의 합창\n",
      "검색 결과 1번째 항목 확인\n"
     ]
    },
    {
     "name": "stderr",
     "output_type": "stream",
     "text": [
      "Processing Movies:  21%|████████████▊                                               | 231/1086 [33:40<53:10,  3.73s/it]"
     ]
    },
    {
     "name": "stdout",
     "output_type": "stream",
     "text": [
      "영화 '가로수의 합창'의 평점: 평균 별점\n",
      "(17명)\n",
      "검색할 영화 이름: 남\n",
      "검색 결과 1번째 항목 확인\n",
      "검색 결과 2번째 항목 확인\n",
      "검색 결과 3번째 항목 확인\n",
      "검색 결과 4번째 항목 확인\n",
      "검색 결과 5번째 항목 확인\n",
      "검색 결과 6번째 항목 확인\n",
      "내부 에러 발생: Message: \n",
      "\n",
      "검색 결과 7번째 항목 확인\n",
      "내부 에러 발생: Message: \n",
      "\n",
      "검색 결과 8번째 항목 확인\n",
      "내부 에러 발생: Message: \n",
      "\n",
      "검색 결과 9번째 항목 확인\n",
      "내부 에러 발생: Message: \n",
      "\n"
     ]
    },
    {
     "name": "stderr",
     "output_type": "stream",
     "text": [
      "Processing Movies:  21%|████████████▍                                             | 232/1086 [35:21<7:49:12, 32.97s/it]"
     ]
    },
    {
     "name": "stdout",
     "output_type": "stream",
     "text": [
      "검색할 영화 이름: 살아야 한다\n",
      "검색 결과 1번째 항목 확인\n",
      "검색 결과 2번째 항목 확인\n",
      "검색 결과 3번째 항목 확인\n",
      "검색 결과 4번째 항목 확인\n",
      "검색 결과 5번째 항목 확인\n",
      "검색 결과 6번째 항목 확인\n",
      "내부 에러 발생: Message: \n",
      "\n",
      "검색 결과 7번째 항목 확인\n",
      "내부 에러 발생: Message: \n",
      "\n",
      "검색 결과 8번째 항목 확인\n",
      "내부 에러 발생: Message: \n",
      "\n",
      "검색 결과 9번째 항목 확인\n",
      "내부 에러 발생: Message: \n",
      "\n"
     ]
    },
    {
     "name": "stderr",
     "output_type": "stream",
     "text": [
      "Processing Movies:  21%|████████████▏                                            | 233/1086 [37:02<12:39:26, 53.42s/it]"
     ]
    },
    {
     "name": "stdout",
     "output_type": "stream",
     "text": [
      "검색할 영화 이름: 가시나이\n",
      "검색 결과 1번째 항목 확인\n"
     ]
    },
    {
     "name": "stderr",
     "output_type": "stream",
     "text": [
      "Processing Movies:  22%|████████████▍                                             | 234/1086 [37:05<9:04:42, 38.36s/it]"
     ]
    },
    {
     "name": "stdout",
     "output_type": "stream",
     "text": [
      "영화 '가시나이'의 평점: 평균 별점\n",
      "(2명)\n",
      "검색할 영화 이름: 단종애사\n",
      "검색 결과 1번째 항목 확인\n"
     ]
    },
    {
     "name": "stderr",
     "output_type": "stream",
     "text": [
      "Processing Movies:  22%|████████████▌                                             | 235/1086 [37:09<6:34:33, 27.82s/it]"
     ]
    },
    {
     "name": "stdout",
     "output_type": "stream",
     "text": [
      "영화 '단종애사'의 평점: 평균 별점\n",
      "(10명)\n",
      "검색할 영화 이름: 연산군\n",
      "검색 결과 1번째 항목 확인\n"
     ]
    },
    {
     "name": "stderr",
     "output_type": "stream",
     "text": [
      "Processing Movies:  22%|████████████▌                                             | 236/1086 [37:12<4:49:52, 20.46s/it]"
     ]
    },
    {
     "name": "stdout",
     "output_type": "stream",
     "text": [
      "영화 '연산군'의 평점: 평균 별점\n",
      "(108명)\n",
      "검색할 영화 이름: 탈선 춘향전\n",
      "검색 결과 1번째 항목 확인\n"
     ]
    },
    {
     "name": "stderr",
     "output_type": "stream",
     "text": [
      "Processing Movies:  22%|████████████▋                                             | 237/1086 [37:15<3:36:19, 15.29s/it]"
     ]
    },
    {
     "name": "stdout",
     "output_type": "stream",
     "text": [
      "영화 '탈선 춘향전'의 평점: 평균 별점\n",
      "(2명)\n",
      "검색할 영화 이름: 옥련공주와 활빈당\n",
      "검색 결과 1번째 항목 확인\n"
     ]
    },
    {
     "name": "stderr",
     "output_type": "stream",
     "text": [
      "Processing Movies:  22%|████████████▋                                             | 238/1086 [37:18<2:44:54, 11.67s/it]"
     ]
    },
    {
     "name": "stdout",
     "output_type": "stream",
     "text": [
      "영화 '옥련공주와 활빈당'의 평점: 평균 별점\n",
      "(2명)\n",
      "검색할 영화 이름: 백사부인\n",
      "검색 결과 1번째 항목 확인\n"
     ]
    },
    {
     "name": "stderr",
     "output_type": "stream",
     "text": [
      "Processing Movies:  22%|████████████▊                                             | 239/1086 [37:22<2:08:50,  9.13s/it]"
     ]
    },
    {
     "name": "stdout",
     "output_type": "stream",
     "text": [
      "영화 '백사부인'의 평점: 평균 별점\n",
      "(4명)\n",
      "검색할 영화 이름: 낙화암과 삼천궁녀\n",
      "검색 결과 1번째 항목 확인\n"
     ]
    },
    {
     "name": "stderr",
     "output_type": "stream",
     "text": [
      "Processing Movies:  22%|████████████▊                                             | 240/1086 [37:25<1:43:41,  7.35s/it]"
     ]
    },
    {
     "name": "stdout",
     "output_type": "stream",
     "text": [
      "영화 '낙화암과 삼천궁녀'의 평점: 평균 별점\n",
      "(4명)\n",
      "검색할 영화 이름: 반역자의 비애\n",
      "검색 결과 1번째 항목 확인\n"
     ]
    },
    {
     "name": "stderr",
     "output_type": "stream",
     "text": [
      "Processing Movies:  22%|████████████▊                                             | 241/1086 [37:28<1:26:05,  6.11s/it]"
     ]
    },
    {
     "name": "stdout",
     "output_type": "stream",
     "text": [
      "영화 '반역자의 비애'의 평점: 평균 별점\n",
      "(3명)\n",
      "검색할 영화 이름: 피는 살아있다\n",
      "검색 결과 1번째 항목 확인\n"
     ]
    },
    {
     "name": "stderr",
     "output_type": "stream",
     "text": [
      "Processing Movies:  22%|████████████▉                                             | 242/1086 [37:31<1:13:45,  5.24s/it]"
     ]
    },
    {
     "name": "stdout",
     "output_type": "stream",
     "text": [
      "영화 '피는 살아있다'의 평점: 평균 별점\n",
      "(1명)\n",
      "검색할 영화 이름: 인걸 홍길동\n",
      "검색 결과 1번째 항목 확인\n"
     ]
    },
    {
     "name": "stderr",
     "output_type": "stream",
     "text": [
      "Processing Movies:  22%|████████████▉                                             | 243/1086 [37:35<1:05:10,  4.64s/it]"
     ]
    },
    {
     "name": "stdout",
     "output_type": "stream",
     "text": [
      "영화 '인걸 홍길동'의 평점: 평균 별점\n",
      "(3명)\n",
      "검색할 영화 이름: 콩쥐팥쥐\n",
      "검색 결과 1번째 항목 확인\n"
     ]
    },
    {
     "name": "stderr",
     "output_type": "stream",
     "text": [
      "Processing Movies:  22%|█████████████▍                                              | 244/1086 [37:38<59:05,  4.21s/it]"
     ]
    },
    {
     "name": "stdout",
     "output_type": "stream",
     "text": [
      "영화 '콩쥐팥쥐'의 평점: 평균 별점\n",
      "(4명)\n",
      "검색할 영화 이름: 봐이킹\n"
     ]
    },
    {
     "name": "stderr",
     "output_type": "stream",
     "text": [
      "Processing Movies:  23%|█████████████▌                                              | 245/1086 [37:42<59:11,  4.22s/it]"
     ]
    },
    {
     "name": "stdout",
     "output_type": "stream",
     "text": [
      "검색할 영화 이름: 봉이 김선달\n",
      "검색 결과 1번째 항목 확인\n"
     ]
    },
    {
     "name": "stderr",
     "output_type": "stream",
     "text": [
      "Processing Movies:  23%|█████████████▌                                              | 246/1086 [37:45<54:56,  3.92s/it]"
     ]
    },
    {
     "name": "stdout",
     "output_type": "stream",
     "text": [
      "영화 '봉이 김선달'의 평점: 평균 별점\n",
      "(18.1만명)\n",
      "검색할 영화 이름: 선화공주\n",
      "검색 결과 1번째 항목 확인\n",
      "검색 결과 2번째 항목 확인\n"
     ]
    },
    {
     "name": "stderr",
     "output_type": "stream",
     "text": [
      "Processing Movies:  23%|█████████████▏                                            | 247/1086 [37:52<1:05:06,  4.66s/it]"
     ]
    },
    {
     "name": "stdout",
     "output_type": "stream",
     "text": [
      "영화 '선화공주'의 평점: 평균 별점\n",
      "(3명)\n",
      "검색할 영화 이름: 풍운의 궁전\n",
      "검색 결과 1번째 항목 확인\n"
     ]
    },
    {
     "name": "stderr",
     "output_type": "stream",
     "text": [
      "Processing Movies:  23%|█████████████▋                                              | 248/1086 [37:55<59:03,  4.23s/it]"
     ]
    },
    {
     "name": "stdout",
     "output_type": "stream",
     "text": [
      "영화 '풍운의 궁전'의 평점: 평균 별점\n",
      "(13명)\n",
      "검색할 영화 이름: 김삿갓\n",
      "검색 결과 1번째 항목 확인\n"
     ]
    },
    {
     "name": "stderr",
     "output_type": "stream",
     "text": [
      "Processing Movies:  23%|█████████████▊                                              | 249/1086 [37:58<54:43,  3.92s/it]"
     ]
    },
    {
     "name": "stdout",
     "output_type": "stream",
     "text": [
      "영화 '김삿갓'의 평점: 평균 별점\n",
      "(11명)\n",
      "검색할 영화 이름: 배뱅이굿\n",
      "검색 결과 1번째 항목 확인\n"
     ]
    },
    {
     "name": "stderr",
     "output_type": "stream",
     "text": [
      "Processing Movies:  23%|█████████████▊                                              | 250/1086 [38:01<51:37,  3.71s/it]"
     ]
    },
    {
     "name": "stdout",
     "output_type": "stream",
     "text": [
      "영화 '배뱅이굿'의 평점: 평균 별점\n",
      "(3명)\n",
      "검색할 영화 이름: 연련(戀鍊)\n"
     ]
    },
    {
     "name": "stderr",
     "output_type": "stream",
     "text": [
      "Processing Movies:  23%|█████████████▊                                              | 251/1086 [38:05<53:56,  3.88s/it]"
     ]
    },
    {
     "name": "stdout",
     "output_type": "stream",
     "text": [
      "검색할 영화 이름: 라이스보이 슬립스\n",
      "검색 결과 1번째 항목 확인\n"
     ]
    },
    {
     "name": "stderr",
     "output_type": "stream",
     "text": [
      "Processing Movies:  23%|█████████████▉                                              | 252/1086 [38:09<51:15,  3.69s/it]"
     ]
    },
    {
     "name": "stdout",
     "output_type": "stream",
     "text": [
      "영화 '라이스보이 슬립스'의 평점: 평균 별점\n",
      "(4,581명)\n",
      "검색할 영화 이름: 라일 라일 크로커다일\n",
      "검색 결과 1번째 항목 확인\n"
     ]
    },
    {
     "name": "stderr",
     "output_type": "stream",
     "text": [
      "Processing Movies:  23%|█████████████▉                                              | 253/1086 [38:12<49:22,  3.56s/it]"
     ]
    },
    {
     "name": "stdout",
     "output_type": "stream",
     "text": [
      "영화 '라일 라일 크로커다일'의 평점: 평균 별점\n",
      "(1,514명)\n",
      "검색할 영화 이름: 킹 리차드\n",
      "검색 결과 1번째 항목 확인\n"
     ]
    },
    {
     "name": "stderr",
     "output_type": "stream",
     "text": [
      "Processing Movies:  23%|██████████████                                              | 254/1086 [38:15<48:01,  3.46s/it]"
     ]
    },
    {
     "name": "stdout",
     "output_type": "stream",
     "text": [
      "영화 '킹 리차드'의 평점: 평균 별점\n",
      "(2,591명)\n",
      "검색할 영화 이름: 이공삼칠\n",
      "검색 결과 1번째 항목 확인\n"
     ]
    },
    {
     "name": "stderr",
     "output_type": "stream",
     "text": [
      "Processing Movies:  23%|██████████████                                              | 255/1086 [38:19<47:35,  3.44s/it]"
     ]
    },
    {
     "name": "stdout",
     "output_type": "stream",
     "text": [
      "영화 '이공삼칠'의 평점: 평균 별점\n",
      "(278명)\n",
      "검색할 영화 이름: 루팡의 딸 극장판\n",
      "검색 결과 1번째 항목 확인\n"
     ]
    },
    {
     "name": "stderr",
     "output_type": "stream",
     "text": [
      "Processing Movies:  24%|██████████████▏                                             | 256/1086 [38:22<46:41,  3.38s/it]"
     ]
    },
    {
     "name": "stdout",
     "output_type": "stream",
     "text": [
      "영화 '루팡의 딸 극장판'의 평점: 평균 별점\n",
      "(83명)\n",
      "검색할 영화 이름: 어부바\n",
      "검색 결과 1번째 항목 확인\n"
     ]
    },
    {
     "name": "stderr",
     "output_type": "stream",
     "text": [
      "Processing Movies:  24%|██████████████▏                                             | 257/1086 [38:25<46:02,  3.33s/it]"
     ]
    },
    {
     "name": "stdout",
     "output_type": "stream",
     "text": [
      "영화 '어부바'의 평점: 평균 별점\n",
      "(254명)\n",
      "검색할 영화 이름: 내 어깨 위 고양이, 밥 2\n",
      "검색 결과 1번째 항목 확인\n"
     ]
    },
    {
     "name": "stderr",
     "output_type": "stream",
     "text": [
      "Processing Movies:  24%|██████████████▎                                             | 258/1086 [38:28<45:41,  3.31s/it]"
     ]
    },
    {
     "name": "stdout",
     "output_type": "stream",
     "text": [
      "영화 '내 어깨 위 고양이, 밥 2'의 평점: 평균 별점\n",
      "(2,196명)\n",
      "검색할 영화 이름: 래시 컴 홈\n",
      "검색 결과 1번째 항목 확인\n"
     ]
    },
    {
     "name": "stderr",
     "output_type": "stream",
     "text": [
      "Processing Movies:  24%|██████████████▎                                             | 259/1086 [38:32<45:19,  3.29s/it]"
     ]
    },
    {
     "name": "stdout",
     "output_type": "stream",
     "text": [
      "영화 '래시 컴 홈'의 평점: 평균 별점\n",
      "(149명)\n",
      "검색할 영화 이름: 담쟁이\n",
      "검색 결과 1번째 항목 확인\n"
     ]
    },
    {
     "name": "stderr",
     "output_type": "stream",
     "text": [
      "Processing Movies:  24%|██████████████▎                                             | 260/1086 [38:35<45:02,  3.27s/it]"
     ]
    },
    {
     "name": "stdout",
     "output_type": "stream",
     "text": [
      "영화 '담쟁이'의 평점: 평균 별점\n",
      "(2,660명)\n",
      "검색할 영화 이름: 스톰 보이\n",
      "검색 결과 1번째 항목 확인\n"
     ]
    },
    {
     "name": "stderr",
     "output_type": "stream",
     "text": [
      "Processing Movies:  24%|██████████████▍                                             | 261/1086 [38:38<44:49,  3.26s/it]"
     ]
    },
    {
     "name": "stdout",
     "output_type": "stream",
     "text": [
      "영화 '스톰 보이'의 평점: 평균 별점\n",
      "(176명)\n",
      "검색할 영화 이름: 안녕 베일리\n",
      "검색 결과 1번째 항목 확인\n"
     ]
    },
    {
     "name": "stderr",
     "output_type": "stream",
     "text": [
      "Processing Movies:  24%|██████████████▍                                             | 262/1086 [38:41<44:39,  3.25s/it]"
     ]
    },
    {
     "name": "stdout",
     "output_type": "stream",
     "text": [
      "영화 '안녕 베일리'의 평점: 평균 별점\n",
      "(2.6만명)\n",
      "검색할 영화 이름: 조금씩, 천천히 안녕\n",
      "검색 결과 1번째 항목 확인\n"
     ]
    },
    {
     "name": "stderr",
     "output_type": "stream",
     "text": [
      "Processing Movies:  24%|██████████████▌                                             | 263/1086 [38:45<44:38,  3.25s/it]"
     ]
    },
    {
     "name": "stdout",
     "output_type": "stream",
     "text": [
      "영화 '조금씩, 천천히 안녕'의 평점: 평균 별점\n",
      "(1,748명)\n",
      "검색할 영화 이름: 페어웰\n",
      "검색 결과 1번째 항목 확인\n"
     ]
    },
    {
     "name": "stderr",
     "output_type": "stream",
     "text": [
      "Processing Movies:  24%|██████████████▌                                             | 264/1086 [38:48<44:30,  3.25s/it]"
     ]
    },
    {
     "name": "stdout",
     "output_type": "stream",
     "text": [
      "영화 '페어웰'의 평점: 평균 별점\n",
      "(6,573명)\n",
      "검색할 영화 이름: 구르는 수레바퀴\n",
      "검색 결과 1번째 항목 확인\n"
     ]
    },
    {
     "name": "stderr",
     "output_type": "stream",
     "text": [
      "Processing Movies:  24%|██████████████▋                                             | 265/1086 [38:51<44:27,  3.25s/it]"
     ]
    },
    {
     "name": "stdout",
     "output_type": "stream",
     "text": [
      "영화 '구르는 수레바퀴'의 평점: 평균 별점\n",
      "(516명)\n",
      "검색할 영화 이름: 축복의 집\n",
      "검색 결과 1번째 항목 확인\n"
     ]
    },
    {
     "name": "stderr",
     "output_type": "stream",
     "text": [
      "Processing Movies:  24%|██████████████▋                                             | 266/1086 [38:54<44:20,  3.24s/it]"
     ]
    },
    {
     "name": "stdout",
     "output_type": "stream",
     "text": [
      "영화 '축복의 집'의 평점: 평균 별점\n",
      "(241명)\n",
      "검색할 영화 이름: 작은 방안의 소녀\n",
      "검색 결과 1번째 항목 확인\n"
     ]
    },
    {
     "name": "stderr",
     "output_type": "stream",
     "text": [
      "Processing Movies:  25%|██████████████▊                                             | 267/1086 [38:57<44:18,  3.25s/it]"
     ]
    },
    {
     "name": "stdout",
     "output_type": "stream",
     "text": [
      "영화 '작은 방안의 소녀'의 평점: 평균 별점\n",
      "(120명)\n",
      "검색할 영화 이름: 베카신!\n",
      "검색 결과 1번째 항목 확인\n"
     ]
    },
    {
     "name": "stderr",
     "output_type": "stream",
     "text": [
      "Processing Movies:  25%|██████████████▊                                             | 268/1086 [39:01<44:08,  3.24s/it]"
     ]
    },
    {
     "name": "stdout",
     "output_type": "stream",
     "text": [
      "영화 '베카신!'의 평점: 평균 별점\n",
      "(460명)\n",
      "검색할 영화 이름: 번개맨의 비밀\n",
      "검색 결과 1번째 항목 확인\n"
     ]
    },
    {
     "name": "stderr",
     "output_type": "stream",
     "text": [
      "Processing Movies:  25%|██████████████▊                                             | 269/1086 [39:04<44:05,  3.24s/it]"
     ]
    },
    {
     "name": "stdout",
     "output_type": "stream",
     "text": [
      "영화 '번개맨의 비밀'의 평점: 평균 별점\n",
      "(161명)\n",
      "검색할 영화 이름: 홈\n",
      "검색 결과 1번째 항목 확인\n",
      "검색 결과 2번째 항목 확인\n",
      "검색 결과 3번째 항목 확인\n",
      "검색 결과 4번째 항목 확인\n",
      "검색 결과 5번째 항목 확인\n",
      "검색 결과 6번째 항목 확인\n",
      "내부 에러 발생: Message: \n",
      "\n",
      "검색 결과 7번째 항목 확인\n",
      "내부 에러 발생: Message: \n",
      "\n",
      "검색 결과 8번째 항목 확인\n",
      "내부 에러 발생: Message: \n",
      "\n",
      "검색 결과 9번째 항목 확인\n",
      "내부 에러 발생: Message: \n",
      "\n"
     ]
    },
    {
     "name": "stderr",
     "output_type": "stream",
     "text": [
      "Processing Movies:  25%|██████████████▍                                           | 270/1086 [40:44<7:19:45, 32.34s/it]"
     ]
    },
    {
     "name": "stdout",
     "output_type": "stream",
     "text": [
      "검색할 영화 이름: 아이아이 가사: 다시 만난 그날\n",
      "검색 결과 1번째 항목 확인\n"
     ]
    },
    {
     "name": "stderr",
     "output_type": "stream",
     "text": [
      "Processing Movies:  25%|██████████████▍                                           | 271/1086 [40:47<5:20:44, 23.61s/it]"
     ]
    },
    {
     "name": "stdout",
     "output_type": "stream",
     "text": [
      "영화 '아이아이 가사: 다시 만난 그날'의 평점: 평균 별점\n",
      "(512명)\n",
      "검색할 영화 이름: 덤보\n",
      "검색 결과 1번째 항목 확인\n"
     ]
    },
    {
     "name": "stderr",
     "output_type": "stream",
     "text": [
      "Processing Movies:  25%|██████████████▌                                           | 272/1086 [40:51<3:58:02, 17.55s/it]"
     ]
    },
    {
     "name": "stdout",
     "output_type": "stream",
     "text": [
      "영화 '덤보'의 평점: 평균 별점\n",
      "(7,452명)\n",
      "검색할 영화 이름: 해피 해피 레스토랑\n",
      "검색 결과 1번째 항목 확인\n"
     ]
    },
    {
     "name": "stderr",
     "output_type": "stream",
     "text": [
      "Processing Movies:  25%|██████████████▌                                           | 273/1086 [40:54<2:59:36, 13.26s/it]"
     ]
    },
    {
     "name": "stdout",
     "output_type": "stream",
     "text": [
      "영화 '해피 해피 레스토랑'의 평점: 평균 별점\n",
      "(371명)\n",
      "검색할 영화 이름: 나는보리\n",
      "검색 결과 1번째 항목 확인\n"
     ]
    },
    {
     "name": "stderr",
     "output_type": "stream",
     "text": [
      "Processing Movies:  25%|██████████████▋                                           | 274/1086 [40:57<2:18:40, 10.25s/it]"
     ]
    },
    {
     "name": "stdout",
     "output_type": "stream",
     "text": [
      "영화 '나는보리'의 평점: 평균 별점\n",
      "(2,023명)\n",
      "검색할 영화 이름: 바다로 가자\n",
      "검색 결과 1번째 항목 확인\n",
      "검색 결과 2번째 항목 확인\n"
     ]
    },
    {
     "name": "stderr",
     "output_type": "stream",
     "text": [
      "Processing Movies:  25%|██████████████▋                                           | 275/1086 [41:04<2:02:51,  9.09s/it]"
     ]
    },
    {
     "name": "stdout",
     "output_type": "stream",
     "text": [
      "영화 '바다로 가자'의 평점: 평균 별점\n",
      "(75명)\n",
      "검색할 영화 이름: 레미: 집 없는 아이\n",
      "검색 결과 1번째 항목 확인\n"
     ]
    },
    {
     "name": "stderr",
     "output_type": "stream",
     "text": [
      "Processing Movies:  25%|██████████████▋                                           | 276/1086 [41:07<1:39:03,  7.34s/it]"
     ]
    },
    {
     "name": "stdout",
     "output_type": "stream",
     "text": [
      "영화 '레미: 집 없는 아이'의 평점: 평균 별점\n",
      "(1,226명)\n",
      "검색할 영화 이름: 가족이 되기까지\n",
      "검색 결과 1번째 항목 확인\n"
     ]
    },
    {
     "name": "stderr",
     "output_type": "stream",
     "text": [
      "Processing Movies:  26%|██████████████▊                                           | 277/1086 [41:10<1:22:22,  6.11s/it]"
     ]
    },
    {
     "name": "stdout",
     "output_type": "stream",
     "text": [
      "영화 '가족이 되기까지'의 평점: 평균 별점\n",
      "(307명)\n",
      "검색할 영화 이름: 8년을 뛰어넘은 신부\n",
      "검색 결과 1번째 항목 확인\n"
     ]
    },
    {
     "name": "stderr",
     "output_type": "stream",
     "text": [
      "Processing Movies:  26%|██████████████▊                                           | 278/1086 [41:13<1:10:40,  5.25s/it]"
     ]
    },
    {
     "name": "stdout",
     "output_type": "stream",
     "text": [
      "영화 '8년을 뛰어넘은 신부'의 평점: 평균 별점\n",
      "(741명)\n",
      "검색할 영화 이름: 그들이 진심으로 엮을 때\n",
      "검색 결과 1번째 항목 확인\n"
     ]
    },
    {
     "name": "stderr",
     "output_type": "stream",
     "text": [
      "Processing Movies:  26%|██████████████▉                                           | 279/1086 [41:17<1:02:33,  4.65s/it]"
     ]
    },
    {
     "name": "stdout",
     "output_type": "stream",
     "text": [
      "영화 '그들이 진심으로 엮을 때'의 평점: 평균 별점\n",
      "(1.1만명)\n",
      "검색할 영화 이름: 아빠는 예쁘다\n",
      "검색 결과 1번째 항목 확인\n"
     ]
    },
    {
     "name": "stderr",
     "output_type": "stream",
     "text": [
      "Processing Movies:  26%|███████████████▍                                            | 280/1086 [41:20<56:47,  4.23s/it]"
     ]
    },
    {
     "name": "stdout",
     "output_type": "stream",
     "text": [
      "영화 '아빠는 예쁘다'의 평점: 평균 별점\n",
      "(242명)\n",
      "검색할 영화 이름: 번개맨과 신비의 섬\n",
      "검색 결과 1번째 항목 확인\n"
     ]
    },
    {
     "name": "stderr",
     "output_type": "stream",
     "text": [
      "Processing Movies:  26%|███████████████▌                                            | 281/1086 [41:23<52:40,  3.93s/it]"
     ]
    },
    {
     "name": "stdout",
     "output_type": "stream",
     "text": [
      "영화 '번개맨과 신비의 섬'의 평점: 평균 별점\n",
      "(193명)\n",
      "검색할 영화 이름: 썬키스 패밀리\n",
      "검색 결과 1번째 항목 확인\n"
     ]
    },
    {
     "name": "stderr",
     "output_type": "stream",
     "text": [
      "Processing Movies:  26%|███████████████▌                                            | 282/1086 [41:27<50:36,  3.78s/it]"
     ]
    },
    {
     "name": "stdout",
     "output_type": "stream",
     "text": [
      "영화 '썬키스 패밀리'의 평점: 평균 별점\n",
      "(1,249명)\n",
      "검색할 영화 이름: 히치하이크\n",
      "검색 결과 1번째 항목 확인\n"
     ]
    },
    {
     "name": "stderr",
     "output_type": "stream",
     "text": [
      "Processing Movies:  26%|███████████████▋                                            | 283/1086 [41:30<48:21,  3.61s/it]"
     ]
    },
    {
     "name": "stdout",
     "output_type": "stream",
     "text": [
      "영화 '히치하이크'의 평점: 평균 별점\n",
      "(519명)\n",
      "검색할 영화 이름: 계춘할망\n",
      "검색 결과 1번째 항목 확인\n"
     ]
    },
    {
     "name": "stderr",
     "output_type": "stream",
     "text": [
      "Processing Movies:  26%|███████████████▋                                            | 284/1086 [41:33<46:50,  3.50s/it]"
     ]
    },
    {
     "name": "stdout",
     "output_type": "stream",
     "text": [
      "영화 '계춘할망'의 평점: 평균 별점\n",
      "(4.1만명)\n",
      "검색할 영화 이름: 휴가\n",
      "검색 결과 1번째 항목 확인\n"
     ]
    },
    {
     "name": "stderr",
     "output_type": "stream",
     "text": [
      "Processing Movies:  26%|███████████████▋                                            | 285/1086 [41:36<46:12,  3.46s/it]"
     ]
    },
    {
     "name": "stdout",
     "output_type": "stream",
     "text": [
      "영화 '휴가'의 평점: 평균 별점\n",
      "(1,218명)\n",
      "검색할 영화 이름: 운동회\n",
      "검색 결과 1번째 항목 확인\n"
     ]
    },
    {
     "name": "stderr",
     "output_type": "stream",
     "text": [
      "Processing Movies:  26%|███████████████▊                                            | 286/1086 [41:40<45:14,  3.39s/it]"
     ]
    },
    {
     "name": "stdout",
     "output_type": "stream",
     "text": [
      "영화 '운동회'의 평점: 평균 별점\n",
      "(10명)\n",
      "검색할 영화 이름: 행복 목욕탕\n",
      "검색 결과 1번째 항목 확인\n"
     ]
    },
    {
     "name": "stderr",
     "output_type": "stream",
     "text": [
      "Processing Movies:  26%|███████████████▊                                            | 287/1086 [41:43<44:30,  3.34s/it]"
     ]
    },
    {
     "name": "stdout",
     "output_type": "stream",
     "text": [
      "영화 '행복 목욕탕'의 평점: 평균 별점\n",
      "(3.8만명)\n",
      "검색할 영화 이름: 아들에게 가는 길\n",
      "검색 결과 1번째 항목 확인\n"
     ]
    },
    {
     "name": "stderr",
     "output_type": "stream",
     "text": [
      "Processing Movies:  27%|███████████████▉                                            | 288/1086 [41:46<44:06,  3.32s/it]"
     ]
    },
    {
     "name": "stdout",
     "output_type": "stream",
     "text": [
      "영화 '아들에게 가는 길'의 평점: 평균 별점\n",
      "(18명)\n",
      "검색할 영화 이름: 아메리칸 패스토럴\n",
      "검색 결과 1번째 항목 확인\n"
     ]
    },
    {
     "name": "stderr",
     "output_type": "stream",
     "text": [
      "Processing Movies:  27%|███████████████▉                                            | 289/1086 [41:49<43:42,  3.29s/it]"
     ]
    },
    {
     "name": "stdout",
     "output_type": "stream",
     "text": [
      "영화 '아메리칸 패스토럴'의 평점: 평균 별점\n",
      "(1,356명)\n",
      "검색할 영화 이름: 하나와 미소시루\n",
      "검색 결과 1번째 항목 확인\n"
     ]
    },
    {
     "name": "stderr",
     "output_type": "stream",
     "text": [
      "Processing Movies:  27%|████████████████                                            | 290/1086 [41:53<43:33,  3.28s/it]"
     ]
    },
    {
     "name": "stdout",
     "output_type": "stream",
     "text": [
      "영화 '하나와 미소시루'의 평점: 평균 별점\n",
      "(3,998명)\n",
      "검색할 영화 이름: 아빠가 돌아왔다\n",
      "검색 결과 1번째 항목 확인\n"
     ]
    },
    {
     "name": "stderr",
     "output_type": "stream",
     "text": [
      "Processing Movies:  27%|████████████████                                            | 291/1086 [41:56<43:22,  3.27s/it]"
     ]
    },
    {
     "name": "stdout",
     "output_type": "stream",
     "text": [
      "영화 '아빠가 돌아왔다'의 평점: 평균 별점\n",
      "(64명)\n",
      "검색할 영화 이름: 세컨드 마더\n",
      "검색 결과 1번째 항목 확인\n"
     ]
    },
    {
     "name": "stderr",
     "output_type": "stream",
     "text": [
      "Processing Movies:  27%|████████████████▏                                           | 292/1086 [41:59<43:11,  3.26s/it]"
     ]
    },
    {
     "name": "stdout",
     "output_type": "stream",
     "text": [
      "영화 '세컨드 마더'의 평점: 평균 별점\n",
      "(1,132명)\n",
      "검색할 영화 이름: 다우더\n",
      "검색 결과 1번째 항목 확인\n"
     ]
    },
    {
     "name": "stderr",
     "output_type": "stream",
     "text": [
      "Processing Movies:  27%|████████████████▏                                           | 293/1086 [42:02<43:00,  3.25s/it]"
     ]
    },
    {
     "name": "stdout",
     "output_type": "stream",
     "text": [
      "영화 '다우더'의 평점: 평균 별점\n",
      "(4,931명)\n",
      "검색할 영화 이름: 우리친구 피들스틱스\n",
      "검색 결과 1번째 항목 확인\n"
     ]
    },
    {
     "name": "stderr",
     "output_type": "stream",
     "text": [
      "Processing Movies:  27%|████████████████▏                                           | 294/1086 [42:06<42:54,  3.25s/it]"
     ]
    },
    {
     "name": "stdout",
     "output_type": "stream",
     "text": [
      "영화 '우리친구 피들스틱스'의 평점: 평균 별점\n",
      "(576명)\n",
      "검색할 영화 이름: 해적왕의 황금나침반\n",
      "검색 결과 1번째 항목 확인\n"
     ]
    },
    {
     "name": "stderr",
     "output_type": "stream",
     "text": [
      "Processing Movies:  27%|████████████████▎                                           | 295/1086 [42:09<42:46,  3.25s/it]"
     ]
    },
    {
     "name": "stdout",
     "output_type": "stream",
     "text": [
      "영화 '해적왕의 황금나침반'의 평점: 평균 별점\n",
      "(86명)\n",
      "검색할 영화 이름: 현기증\n",
      "검색 결과 1번째 항목 확인\n"
     ]
    },
    {
     "name": "stderr",
     "output_type": "stream",
     "text": [
      "Processing Movies:  27%|████████████████▎                                           | 296/1086 [42:12<42:37,  3.24s/it]"
     ]
    },
    {
     "name": "stdout",
     "output_type": "stream",
     "text": [
      "영화 '현기증'의 평점: 평균 별점\n",
      "(3.5만명)\n",
      "검색할 영화 이름: 사랑이 이긴다\n",
      "검색 결과 1번째 항목 확인\n"
     ]
    },
    {
     "name": "stderr",
     "output_type": "stream",
     "text": [
      "Processing Movies:  27%|████████████████▍                                           | 297/1086 [42:15<42:38,  3.24s/it]"
     ]
    },
    {
     "name": "stdout",
     "output_type": "stream",
     "text": [
      "영화 '사랑이 이긴다'의 평점: 평균 별점\n",
      "(510명)\n",
      "검색할 영화 이름: 리바이어던\n",
      "검색 결과 1번째 항목 확인\n"
     ]
    },
    {
     "name": "stderr",
     "output_type": "stream",
     "text": [
      "Processing Movies:  27%|████████████████▍                                           | 298/1086 [42:19<42:32,  3.24s/it]"
     ]
    },
    {
     "name": "stdout",
     "output_type": "stream",
     "text": [
      "영화 '리바이어던'의 평점: 평균 별점\n",
      "(9,793명)\n",
      "검색할 영화 이름: 사일런트 하트\n",
      "검색 결과 1번째 항목 확인\n"
     ]
    },
    {
     "name": "stderr",
     "output_type": "stream",
     "text": [
      "Processing Movies:  28%|████████████████▌                                           | 299/1086 [42:22<42:36,  3.25s/it]"
     ]
    },
    {
     "name": "stdout",
     "output_type": "stream",
     "text": [
      "영화 '사일런트 하트'의 평점: 평균 별점\n",
      "(397명)\n",
      "검색할 영화 이름: 엄마의 유산\n",
      "검색 결과 1번째 항목 확인\n"
     ]
    },
    {
     "name": "stderr",
     "output_type": "stream",
     "text": [
      "Processing Movies:  28%|████████████████▌                                           | 300/1086 [42:25<42:35,  3.25s/it]"
     ]
    },
    {
     "name": "stdout",
     "output_type": "stream",
     "text": [
      "영화 '엄마의 유산'의 평점: 평균 별점\n",
      "(705명)\n",
      "검색할 영화 이름: 스탠딩 업\n",
      "검색 결과 1번째 항목 확인\n"
     ]
    },
    {
     "name": "stderr",
     "output_type": "stream",
     "text": [
      "Processing Movies:  28%|████████████████▋                                           | 301/1086 [42:28<42:29,  3.25s/it]"
     ]
    },
    {
     "name": "stdout",
     "output_type": "stream",
     "text": [
      "영화 '스탠딩 업'의 평점: 평균 별점\n",
      "(843명)\n",
      "검색할 영화 이름: 나이팅게일\n",
      "검색 결과 1번째 항목 확인\n"
     ]
    },
    {
     "name": "stderr",
     "output_type": "stream",
     "text": [
      "Processing Movies:  28%|████████████████▋                                           | 302/1086 [42:32<42:27,  3.25s/it]"
     ]
    },
    {
     "name": "stdout",
     "output_type": "stream",
     "text": [
      "영화 '나이팅게일'의 평점: 평균 별점\n",
      "(811명)\n",
      "검색할 영화 이름: 동경가족\n",
      "검색 결과 1번째 항목 확인\n"
     ]
    },
    {
     "name": "stderr",
     "output_type": "stream",
     "text": [
      "Processing Movies:  28%|████████████████▋                                           | 303/1086 [42:35<42:21,  3.25s/it]"
     ]
    },
    {
     "name": "stdout",
     "output_type": "stream",
     "text": [
      "영화 '동경가족'의 평점: 평균 별점\n",
      "(1.8만명)\n",
      "검색할 영화 이름: 히어로\n",
      "검색 결과 1번째 항목 확인\n"
     ]
    },
    {
     "name": "stderr",
     "output_type": "stream",
     "text": [
      "Processing Movies:  28%|████████████████▊                                           | 304/1086 [42:38<42:16,  3.24s/it]"
     ]
    },
    {
     "name": "stdout",
     "output_type": "stream",
     "text": [
      "영화 '히어로'의 평점: 평균 별점\n",
      "(1,606명)\n",
      "검색할 영화 이름: 기적의 피아노\n",
      "검색 결과 1번째 항목 확인\n"
     ]
    },
    {
     "name": "stderr",
     "output_type": "stream",
     "text": [
      "Processing Movies:  28%|████████████████▊                                           | 305/1086 [42:41<42:10,  3.24s/it]"
     ]
    },
    {
     "name": "stdout",
     "output_type": "stream",
     "text": [
      "영화 '기적의 피아노'의 평점: 평균 별점\n",
      "(720명)\n",
      "검색할 영화 이름: 마이 보이\n",
      "검색 결과 1번째 항목 확인\n"
     ]
    },
    {
     "name": "stderr",
     "output_type": "stream",
     "text": [
      "Processing Movies:  28%|████████████████▉                                           | 306/1086 [42:44<42:08,  3.24s/it]"
     ]
    },
    {
     "name": "stdout",
     "output_type": "stream",
     "text": [
      "영화 '마이 보이'의 평점: 평균 별점\n",
      "(3,571명)\n",
      "검색할 영화 이름: 이고르와 학의 여행\n",
      "검색 결과 1번째 항목 확인\n"
     ]
    },
    {
     "name": "stderr",
     "output_type": "stream",
     "text": [
      "Processing Movies:  28%|████████████████▉                                           | 307/1086 [42:48<42:02,  3.24s/it]"
     ]
    },
    {
     "name": "stdout",
     "output_type": "stream",
     "text": [
      "영화 '이고르와 학의 여행'의 평점: 평균 별점\n",
      "(27명)\n",
      "검색할 영화 이름: 만찬\n",
      "검색 결과 1번째 항목 확인\n",
      "검색 결과 2번째 항목 확인\n",
      "검색 결과 3번째 항목 확인\n",
      "검색 결과 4번째 항목 확인\n",
      "검색 결과 5번째 항목 확인\n",
      "검색 결과 6번째 항목 확인\n",
      "내부 에러 발생: Message: \n",
      "\n",
      "검색 결과 7번째 항목 확인\n",
      "내부 에러 발생: Message: \n",
      "\n",
      "검색 결과 8번째 항목 확인\n",
      "내부 에러 발생: Message: \n",
      "\n",
      "검색 결과 9번째 항목 확인\n",
      "내부 에러 발생: Message: \n",
      "\n"
     ]
    },
    {
     "name": "stderr",
     "output_type": "stream",
     "text": [
      "Processing Movies:  28%|████████████████▍                                         | 308/1086 [44:30<7:05:31, 32.82s/it]"
     ]
    },
    {
     "name": "stdout",
     "output_type": "stream",
     "text": [
      "검색할 영화 이름: 페이머스 파이브 : 키린섬의 비밀\n",
      "검색 결과 1번째 항목 확인\n"
     ]
    },
    {
     "name": "stderr",
     "output_type": "stream",
     "text": [
      "Processing Movies:  28%|████████████████▌                                         | 309/1086 [44:33<5:10:07, 23.95s/it]"
     ]
    },
    {
     "name": "stdout",
     "output_type": "stream",
     "text": [
      "영화 '페이머스 파이브 : 키린섬의 비밀'의 평점: 평균 별점\n",
      "(444명)\n",
      "검색할 영화 이름: 할머니는 일학년\n",
      "검색 결과 1번째 항목 확인\n"
     ]
    },
    {
     "name": "stderr",
     "output_type": "stream",
     "text": [
      "Processing Movies:  29%|████████████████▌                                         | 310/1086 [44:36<3:49:19, 17.73s/it]"
     ]
    },
    {
     "name": "stdout",
     "output_type": "stream",
     "text": [
      "영화 '할머니는 일학년'의 평점: 평균 별점\n",
      "(1,419명)\n",
      "검색할 영화 이름: 배꼽\n",
      "검색 결과 1번째 항목 확인\n",
      "검색 결과 2번째 항목 확인\n"
     ]
    },
    {
     "name": "stderr",
     "output_type": "stream",
     "text": [
      "Processing Movies:  29%|████████████████▌                                         | 311/1086 [44:42<3:05:00, 14.32s/it]"
     ]
    },
    {
     "name": "stdout",
     "output_type": "stream",
     "text": [
      "영화 '배꼽'의 평점: 평균 별점\n",
      "(2명)\n",
      "검색할 영화 이름: 세계일주\n",
      "검색 결과 1번째 항목 확인\n",
      "검색 결과 2번째 항목 확인\n",
      "검색 결과 3번째 항목 확인\n",
      "검색 결과 4번째 항목 확인\n",
      "검색 결과 5번째 항목 확인\n"
     ]
    },
    {
     "name": "stderr",
     "output_type": "stream",
     "text": [
      "Processing Movies:  29%|████████████████▋                                         | 312/1086 [44:58<3:10:29, 14.77s/it]"
     ]
    },
    {
     "name": "stdout",
     "output_type": "stream",
     "text": [
      "영화 '세계일주'의 평점: 평균 별점\n",
      "(1,284명)\n",
      "검색할 영화 이름: 콩가네\n",
      "검색 결과 1번째 항목 확인\n"
     ]
    },
    {
     "name": "stderr",
     "output_type": "stream",
     "text": [
      "Processing Movies:  29%|████████████████▋                                         | 313/1086 [45:02<2:26:54, 11.40s/it]"
     ]
    },
    {
     "name": "stdout",
     "output_type": "stream",
     "text": [
      "영화 '콩가네'의 평점: 평균 별점\n",
      "(1,408명)\n",
      "검색할 영화 이름: 휴고\n",
      "검색 결과 1번째 항목 확인\n"
     ]
    },
    {
     "name": "stderr",
     "output_type": "stream",
     "text": [
      "Processing Movies:  29%|████████████████▊                                         | 314/1086 [45:05<1:55:07,  8.95s/it]"
     ]
    },
    {
     "name": "stdout",
     "output_type": "stream",
     "text": [
      "영화 '휴고'의 평점: 평균 별점\n",
      "(5.8만명)\n",
      "검색할 영화 이름: 럭키\n",
      "검색 결과 1번째 항목 확인\n"
     ]
    },
    {
     "name": "stderr",
     "output_type": "stream",
     "text": [
      "Processing Movies:  29%|████████████████▊                                         | 315/1086 [45:08<1:32:56,  7.23s/it]"
     ]
    },
    {
     "name": "stdout",
     "output_type": "stream",
     "text": [
      "영화 '럭키'의 평점: 평균 별점\n",
      "(91.3만명)\n",
      "검색할 영화 이름: 하늘이 보내준 딸\n",
      "검색 결과 1번째 항목 확인\n"
     ]
    },
    {
     "name": "stderr",
     "output_type": "stream",
     "text": [
      "Processing Movies:  29%|████████████████▉                                         | 316/1086 [45:11<1:17:28,  6.04s/it]"
     ]
    },
    {
     "name": "stdout",
     "output_type": "stream",
     "text": [
      "영화 '하늘이 보내준 딸'의 평점: 평균 별점\n",
      "(2,499명)\n",
      "검색할 영화 이름: 우리는 동물원을 샀다\n",
      "검색 결과 1번째 항목 확인\n"
     ]
    },
    {
     "name": "stderr",
     "output_type": "stream",
     "text": [
      "Processing Movies:  29%|████████████████▉                                         | 317/1086 [45:15<1:06:40,  5.20s/it]"
     ]
    },
    {
     "name": "stdout",
     "output_type": "stream",
     "text": [
      "영화 '우리는 동물원을 샀다'의 평점: 평균 별점\n",
      "(18.3만명)\n",
      "검색할 영화 이름: 파파\n",
      "검색 결과 1번째 항목 확인\n"
     ]
    },
    {
     "name": "stderr",
     "output_type": "stream",
     "text": [
      "Processing Movies:  29%|█████████████████▌                                          | 318/1086 [45:18<59:06,  4.62s/it]"
     ]
    },
    {
     "name": "stdout",
     "output_type": "stream",
     "text": [
      "영화 '파파'의 평점: 평균 별점\n",
      "(3.1만명)\n",
      "검색할 영화 이름: 포스터\n",
      "검색 결과 1번째 항목 확인\n",
      "검색 결과 2번째 항목 확인\n",
      "검색 결과 3번째 항목 확인\n",
      "검색 결과 4번째 항목 확인\n",
      "내부 에러 발생: Message: \n",
      "Stacktrace:\n",
      "\tGetHandleVerifier [0x005CB8E3+45827]\n",
      "\t(No symbol) [0x0055DCC4]\n",
      "\t(No symbol) [0x0045150F]\n",
      "\t(No symbol) [0x004920BC]\n",
      "\t(No symbol) [0x0049216B]\n",
      "\t(No symbol) [0x004CE0F2]\n",
      "\t(No symbol) [0x004B2E44]\n",
      "\t(No symbol) [0x004CC034]\n",
      "\t(No symbol) [0x004B2B96]\n",
      "\t(No symbol) [0x00486998]\n",
      "\t(No symbol) [0x0048751D]\n",
      "\tGetHandleVerifier [0x00884513+2899763]\n",
      "\tGetHandleVerifier [0x008D793D+3240797]\n",
      "\tGetHandleVerifier [0x006513B4+593364]\n",
      "\tGetHandleVerifier [0x006582DC+621820]\n",
      "\t(No symbol) [0x005670A4]\n",
      "\t(No symbol) [0x005637A8]\n",
      "\t(No symbol) [0x00563947]\n",
      "\t(No symbol) [0x005559FE]\n",
      "\tBaseThreadInitThunk [0x753D7BA9+25]\n",
      "\tRtlInitializeExceptionChain [0x7775BE3B+107]\n",
      "\tRtlClearBits [0x7775BDBF+191]\n",
      "\n",
      "검색 결과 5번째 항목 확인\n",
      "내부 에러 발생: Message: \n",
      "Stacktrace:\n",
      "\tGetHandleVerifier [0x005CB8E3+45827]\n",
      "\t(No symbol) [0x0055DCC4]\n",
      "\t(No symbol) [0x0045150F]\n",
      "\t(No symbol) [0x004920BC]\n",
      "\t(No symbol) [0x0049216B]\n",
      "\t(No symbol) [0x004CE0F2]\n",
      "\t(No symbol) [0x004B2E44]\n",
      "\t(No symbol) [0x004CC034]\n",
      "\t(No symbol) [0x004B2B96]\n",
      "\t(No symbol) [0x00486998]\n",
      "\t(No symbol) [0x0048751D]\n",
      "\tGetHandleVerifier [0x00884513+2899763]\n",
      "\tGetHandleVerifier [0x008D793D+3240797]\n",
      "\tGetHandleVerifier [0x006513B4+593364]\n",
      "\tGetHandleVerifier [0x006582DC+621820]\n",
      "\t(No symbol) [0x005670A4]\n",
      "\t(No symbol) [0x005637A8]\n",
      "\t(No symbol) [0x00563947]\n",
      "\t(No symbol) [0x005559FE]\n",
      "\tBaseThreadInitThunk [0x753D7BA9+25]\n",
      "\tRtlInitializeExceptionChain [0x7775BE3B+107]\n",
      "\tRtlClearBits [0x7775BDBF+191]\n",
      "\n",
      "검색 결과 6번째 항목 확인\n",
      "내부 에러 발생: Message: \n",
      "Stacktrace:\n",
      "\tGetHandleVerifier [0x005CB8E3+45827]\n",
      "\t(No symbol) [0x0055DCC4]\n",
      "\t(No symbol) [0x0045150F]\n",
      "\t(No symbol) [0x004920BC]\n",
      "\t(No symbol) [0x0049216B]\n",
      "\t(No symbol) [0x004CE0F2]\n",
      "\t(No symbol) [0x004B2E44]\n",
      "\t(No symbol) [0x004CC034]\n",
      "\t(No symbol) [0x004B2B96]\n",
      "\t(No symbol) [0x00486998]\n",
      "\t(No symbol) [0x0048751D]\n",
      "\tGetHandleVerifier [0x00884513+2899763]\n",
      "\tGetHandleVerifier [0x008D793D+3240797]\n",
      "\tGetHandleVerifier [0x006513B4+593364]\n",
      "\tGetHandleVerifier [0x006582DC+621820]\n",
      "\t(No symbol) [0x005670A4]\n",
      "\t(No symbol) [0x005637A8]\n",
      "\t(No symbol) [0x00563947]\n",
      "\t(No symbol) [0x005559FE]\n",
      "\tBaseThreadInitThunk [0x753D7BA9+25]\n",
      "\tRtlInitializeExceptionChain [0x7775BE3B+107]\n",
      "\tRtlClearBits [0x7775BDBF+191]\n",
      "\n",
      "검색 결과 7번째 항목 확인\n",
      "내부 에러 발생: Message: \n",
      "Stacktrace:\n",
      "\tGetHandleVerifier [0x005CB8E3+45827]\n",
      "\t(No symbol) [0x0055DCC4]\n",
      "\t(No symbol) [0x0045150F]\n",
      "\t(No symbol) [0x004920BC]\n",
      "\t(No symbol) [0x0049216B]\n",
      "\t(No symbol) [0x004CE0F2]\n",
      "\t(No symbol) [0x004B2E44]\n",
      "\t(No symbol) [0x004CC034]\n",
      "\t(No symbol) [0x004B2B96]\n",
      "\t(No symbol) [0x00486998]\n",
      "\t(No symbol) [0x0048751D]\n",
      "\tGetHandleVerifier [0x00884513+2899763]\n",
      "\tGetHandleVerifier [0x008D793D+3240797]\n",
      "\tGetHandleVerifier [0x006513B4+593364]\n",
      "\tGetHandleVerifier [0x006582DC+621820]\n",
      "\t(No symbol) [0x005670A4]\n",
      "\t(No symbol) [0x005637A8]\n",
      "\t(No symbol) [0x00563947]\n",
      "\t(No symbol) [0x005559FE]\n",
      "\tBaseThreadInitThunk [0x753D7BA9+25]\n",
      "\tRtlInitializeExceptionChain [0x7775BE3B+107]\n",
      "\tRtlClearBits [0x7775BDBF+191]\n",
      "\n",
      "검색 결과 8번째 항목 확인\n",
      "내부 에러 발생: Message: \n",
      "Stacktrace:\n",
      "\tGetHandleVerifier [0x005CB8E3+45827]\n",
      "\t(No symbol) [0x0055DCC4]\n",
      "\t(No symbol) [0x0045150F]\n",
      "\t(No symbol) [0x004920BC]\n",
      "\t(No symbol) [0x0049216B]\n",
      "\t(No symbol) [0x004CE0F2]\n",
      "\t(No symbol) [0x004B2E44]\n",
      "\t(No symbol) [0x004CC034]\n",
      "\t(No symbol) [0x004B2B96]\n",
      "\t(No symbol) [0x00486998]\n",
      "\t(No symbol) [0x0048751D]\n",
      "\tGetHandleVerifier [0x00884513+2899763]\n",
      "\tGetHandleVerifier [0x008D793D+3240797]\n",
      "\tGetHandleVerifier [0x006513B4+593364]\n",
      "\tGetHandleVerifier [0x006582DC+621820]\n",
      "\t(No symbol) [0x005670A4]\n",
      "\t(No symbol) [0x005637A8]\n",
      "\t(No symbol) [0x00563947]\n",
      "\t(No symbol) [0x005559FE]\n",
      "\tBaseThreadInitThunk [0x753D7BA9+25]\n",
      "\tRtlInitializeExceptionChain [0x7775BE3B+107]\n",
      "\tRtlClearBits [0x7775BDBF+191]\n",
      "\n",
      "검색 결과 9번째 항목 확인\n",
      "내부 에러 발생: Message: \n",
      "Stacktrace:\n",
      "\tGetHandleVerifier [0x005CB8E3+45827]\n",
      "\t(No symbol) [0x0055DCC4]\n",
      "\t(No symbol) [0x0045150F]\n",
      "\t(No symbol) [0x004920BC]\n",
      "\t(No symbol) [0x0049216B]\n",
      "\t(No symbol) [0x004CE0F2]\n",
      "\t(No symbol) [0x004B2E44]\n",
      "\t(No symbol) [0x004CC034]\n",
      "\t(No symbol) [0x004B2B96]\n",
      "\t(No symbol) [0x00486998]\n",
      "\t(No symbol) [0x0048751D]\n",
      "\tGetHandleVerifier [0x00884513+2899763]\n",
      "\tGetHandleVerifier [0x008D793D+3240797]\n",
      "\tGetHandleVerifier [0x006513B4+593364]\n",
      "\tGetHandleVerifier [0x006582DC+621820]\n",
      "\t(No symbol) [0x005670A4]\n",
      "\t(No symbol) [0x005637A8]\n",
      "\t(No symbol) [0x00563947]\n",
      "\t(No symbol) [0x005559FE]\n",
      "\tBaseThreadInitThunk [0x753D7BA9+25]\n",
      "\tRtlInitializeExceptionChain [0x7775BE3B+107]\n",
      "\tRtlClearBits [0x7775BDBF+191]\n",
      "\n"
     ]
    },
    {
     "name": "stderr",
     "output_type": "stream",
     "text": [
      "Processing Movies:  29%|█████████████████                                         | 319/1086 [47:25<8:47:00, 41.23s/it]"
     ]
    },
    {
     "name": "stdout",
     "output_type": "stream",
     "text": [
      "검색할 영화 이름: 토이 스토리 3\n",
      "검색 결과 1번째 항목 확인\n"
     ]
    },
    {
     "name": "stderr",
     "output_type": "stream",
     "text": [
      "Processing Movies:  29%|█████████████████                                         | 320/1086 [47:28<6:20:50, 29.83s/it]"
     ]
    },
    {
     "name": "stdout",
     "output_type": "stream",
     "text": [
      "영화 '토이 스토리 3'의 평점: 평균 별점\n",
      "(66.9만명)\n",
      "검색할 영화 이름: 베스트 키드\n",
      "검색 결과 1번째 항목 확인\n"
     ]
    },
    {
     "name": "stderr",
     "output_type": "stream",
     "text": [
      "Processing Movies:  30%|█████████████████▏                                        | 321/1086 [47:31<4:38:34, 21.85s/it]"
     ]
    },
    {
     "name": "stdout",
     "output_type": "stream",
     "text": [
      "영화 '베스트 키드'의 평점: 평균 별점\n",
      "(9.7만명)\n",
      "검색할 영화 이름: 내니맥피 2: 유모와마법소동\n",
      "검색 결과 1번째 항목 확인\n"
     ]
    },
    {
     "name": "stderr",
     "output_type": "stream",
     "text": [
      "Processing Movies:  30%|█████████████████▏                                        | 322/1086 [47:38<3:43:04, 17.52s/it]"
     ]
    },
    {
     "name": "stdout",
     "output_type": "stream",
     "text": [
      "검색할 영화 이름: 레터스 투 갓\n",
      "검색 결과 1번째 항목 확인\n"
     ]
    },
    {
     "name": "stderr",
     "output_type": "stream",
     "text": [
      "Processing Movies:  30%|█████████████████▎                                        | 323/1086 [47:42<2:48:14, 13.23s/it]"
     ]
    },
    {
     "name": "stdout",
     "output_type": "stream",
     "text": [
      "영화 '레터스 투 갓'의 평점: 평균 별점\n",
      "(584명)\n",
      "검색할 영화 이름: 호두까기인형 3D\n",
      "검색 결과 1번째 항목 확인\n"
     ]
    },
    {
     "name": "stderr",
     "output_type": "stream",
     "text": [
      "Processing Movies:  30%|█████████████████▎                                        | 324/1086 [47:45<2:09:57, 10.23s/it]"
     ]
    },
    {
     "name": "stdout",
     "output_type": "stream",
     "text": [
      "영화 '호두까기인형 3D'의 평점: 평균 별점\n",
      "(6,376명)\n",
      "검색할 영화 이름: 캣츠 앤 독스 2\n",
      "검색 결과 1번째 항목 확인\n"
     ]
    },
    {
     "name": "stderr",
     "output_type": "stream",
     "text": [
      "Processing Movies:  30%|█████████████████▎                                        | 325/1086 [47:48<1:43:11,  8.14s/it]"
     ]
    },
    {
     "name": "stdout",
     "output_type": "stream",
     "text": [
      "영화 '캣츠 앤 독스 2'의 평점: 평균 별점\n",
      "(1.4만명)\n",
      "검색할 영화 이름: 리틀 비버\n",
      "검색 결과 1번째 항목 확인\n"
     ]
    },
    {
     "name": "stderr",
     "output_type": "stream",
     "text": [
      "Processing Movies:  30%|█████████████████▍                                        | 326/1086 [47:51<1:24:22,  6.66s/it]"
     ]
    },
    {
     "name": "stdout",
     "output_type": "stream",
     "text": [
      "영화 '리틀 비버'의 평점: 평균 별점\n",
      "(320명)\n",
      "검색할 영화 이름: 동자 대소동\n",
      "검색 결과 1번째 항목 확인\n"
     ]
    },
    {
     "name": "stderr",
     "output_type": "stream",
     "text": [
      "Processing Movies:  30%|█████████████████▍                                        | 327/1086 [47:55<1:11:11,  5.63s/it]"
     ]
    },
    {
     "name": "stdout",
     "output_type": "stream",
     "text": [
      "영화 '동자 대소동'의 평점: 평균 별점\n",
      "(35명)\n",
      "검색할 영화 이름: 엘라의 모험 2: 백설공주 길들이기\n",
      "검색 결과 1번째 항목 확인\n"
     ]
    },
    {
     "name": "stderr",
     "output_type": "stream",
     "text": [
      "Processing Movies:  30%|█████████████████▌                                        | 328/1086 [47:58<1:01:59,  4.91s/it]"
     ]
    },
    {
     "name": "stdout",
     "output_type": "stream",
     "text": [
      "영화 '엘라의 모험 2: 백설공주 길들이기'의 평점: 평균 별점\n",
      "(380명)\n",
      "검색할 영화 이름: 꼬마 니콜라\n",
      "검색 결과 1번째 항목 확인\n",
      "검색 결과 2번째 항목 확인\n"
     ]
    },
    {
     "name": "stderr",
     "output_type": "stream",
     "text": [
      "Processing Movies:  30%|█████████████████▌                                        | 329/1086 [48:04<1:07:22,  5.34s/it]"
     ]
    },
    {
     "name": "stdout",
     "output_type": "stream",
     "text": [
      "영화 '꼬마 니콜라'의 평점: 평균 별점\n",
      "(12.6만명)\n",
      "검색할 영화 이름: 앨빈과 슈퍼밴드2\n",
      "검색 결과 1번째 항목 확인\n"
     ]
    },
    {
     "name": "stderr",
     "output_type": "stream",
     "text": [
      "Processing Movies:  30%|██████████████████▏                                         | 330/1086 [48:07<59:21,  4.71s/it]"
     ]
    },
    {
     "name": "stdout",
     "output_type": "stream",
     "text": [
      "영화 '앨빈과 슈퍼밴드2'의 평점: 평균 별점\n",
      "(6.8만명)\n",
      "검색할 영화 이름: 파코와 마법 동화책\n",
      "검색 결과 1번째 항목 확인\n"
     ]
    },
    {
     "name": "stderr",
     "output_type": "stream",
     "text": [
      "Processing Movies:  30%|██████████████████▎                                         | 331/1086 [48:11<53:40,  4.27s/it]"
     ]
    },
    {
     "name": "stdout",
     "output_type": "stream",
     "text": [
      "영화 '파코와 마법 동화책'의 평점: 평균 별점\n",
      "(2,168명)\n",
      "검색할 영화 이름: 안녕? 허대짜수짜님!\n",
      "검색 결과 1번째 항목 확인\n"
     ]
    },
    {
     "name": "stderr",
     "output_type": "stream",
     "text": [
      "Processing Movies:  31%|██████████████████▎                                         | 332/1086 [48:14<49:42,  3.96s/it]"
     ]
    },
    {
     "name": "stdout",
     "output_type": "stream",
     "text": [
      "영화 '안녕? 허대짜수짜님!'의 평점: 평균 별점\n",
      "(14명)\n",
      "검색할 영화 이름: 문빔베어: 달을 사랑한 작은 곰\n",
      "검색 결과 1번째 항목 확인\n"
     ]
    },
    {
     "name": "stderr",
     "output_type": "stream",
     "text": [
      "Processing Movies:  31%|██████████████████▍                                         | 333/1086 [48:17<46:57,  3.74s/it]"
     ]
    },
    {
     "name": "stdout",
     "output_type": "stream",
     "text": [
      "영화 '문빔베어: 달을 사랑한 작은 곰'의 평점: 평균 별점\n",
      "(929명)\n",
      "검색할 영화 이름: G-포스: 기니피그 특공대\n",
      "검색 결과 1번째 항목 확인\n"
     ]
    },
    {
     "name": "stderr",
     "output_type": "stream",
     "text": [
      "Processing Movies:  31%|██████████████████▍                                         | 334/1086 [48:20<44:57,  3.59s/it]"
     ]
    },
    {
     "name": "stdout",
     "output_type": "stream",
     "text": [
      "영화 'G-포스: 기니피그 특공대'의 평점: 평균 별점\n",
      "(1.3만명)\n",
      "검색할 영화 이름: 흑심모녀\n",
      "검색 결과 1번째 항목 확인\n"
     ]
    },
    {
     "name": "stderr",
     "output_type": "stream",
     "text": [
      "Processing Movies:  31%|██████████████████▌                                         | 335/1086 [48:24<43:29,  3.48s/it]"
     ]
    },
    {
     "name": "stdout",
     "output_type": "stream",
     "text": [
      "영화 '흑심모녀'의 평점: 평균 별점\n",
      "(687명)\n",
      "검색할 영화 이름: 서울이 보이냐\n",
      "검색 결과 1번째 항목 확인\n"
     ]
    },
    {
     "name": "stderr",
     "output_type": "stream",
     "text": [
      "Processing Movies:  31%|██████████████████▌                                         | 336/1086 [48:31<58:10,  4.65s/it]"
     ]
    },
    {
     "name": "stdout",
     "output_type": "stream",
     "text": [
      "검색할 영화 이름: 크리스마스 별장\n",
      "검색 결과 1번째 항목 확인\n"
     ]
    },
    {
     "name": "stderr",
     "output_type": "stream",
     "text": [
      "Processing Movies:  31%|██████████████████▌                                         | 337/1086 [48:34<52:43,  4.22s/it]"
     ]
    },
    {
     "name": "stdout",
     "output_type": "stream",
     "text": [
      "영화 '크리스마스 별장'의 평점: 평균 별점\n",
      "(1,024명)\n",
      "검색할 영화 이름: 빨간 풍선\n",
      "검색 결과 1번째 항목 확인\n"
     ]
    },
    {
     "name": "stderr",
     "output_type": "stream",
     "text": [
      "Processing Movies:  31%|██████████████████▋                                         | 338/1086 [48:37<48:54,  3.92s/it]"
     ]
    },
    {
     "name": "stdout",
     "output_type": "stream",
     "text": [
      "영화 '빨간 풍선'의 평점: 평균 별점\n",
      "(2,709명)\n",
      "검색할 영화 이름: 마고리엄의 장난감 백화점\n",
      "검색 결과 1번째 항목 확인\n"
     ]
    },
    {
     "name": "stderr",
     "output_type": "stream",
     "text": [
      "Processing Movies:  31%|██████████████████▋                                         | 339/1086 [48:41<46:20,  3.72s/it]"
     ]
    },
    {
     "name": "stdout",
     "output_type": "stream",
     "text": [
      "영화 '마고리엄의 장난감 백화점'의 평점: 평균 별점\n",
      "(4.5만명)\n",
      "검색할 영화 이름: 방울토마토\n",
      "검색 결과 1번째 항목 확인\n"
     ]
    },
    {
     "name": "stderr",
     "output_type": "stream",
     "text": [
      "Processing Movies:  31%|██████████████████▊                                         | 340/1086 [48:44<44:25,  3.57s/it]"
     ]
    },
    {
     "name": "stdout",
     "output_type": "stream",
     "text": [
      "영화 '방울토마토'의 평점: 평균 별점\n",
      "(1,777명)\n",
      "검색할 영화 이름: 저 하늘에도 슬픔이\n",
      "검색 결과 1번째 항목 확인\n",
      "검색 결과 2번째 항목 확인\n"
     ]
    },
    {
     "name": "stderr",
     "output_type": "stream",
     "text": [
      "Processing Movies:  31%|██████████████████▊                                         | 341/1086 [48:51<55:59,  4.51s/it]"
     ]
    },
    {
     "name": "stdout",
     "output_type": "stream",
     "text": [
      "영화 '저 하늘에도 슬픔이'의 평점: 평균 별점\n",
      "(108명)\n",
      "검색할 영화 이름: 꿀벌대소동\n",
      "검색 결과 1번째 항목 확인\n"
     ]
    },
    {
     "name": "stderr",
     "output_type": "stream",
     "text": [
      "Processing Movies:  31%|██████████████████▉                                         | 342/1086 [48:54<51:13,  4.13s/it]"
     ]
    },
    {
     "name": "stdout",
     "output_type": "stream",
     "text": [
      "영화 '꿀벌대소동'의 평점: 평균 별점\n",
      "(14.2만명)\n",
      "검색할 영화 이름: 열세살 수아\n",
      "검색 결과 1번째 항목 확인\n"
     ]
    },
    {
     "name": "stderr",
     "output_type": "stream",
     "text": [
      "Processing Movies:  32%|██████████████████▎                                       | 343/1086 [49:01<1:03:16,  5.11s/it]"
     ]
    },
    {
     "name": "stdout",
     "output_type": "stream",
     "text": [
      "검색할 영화 이름: 어머니는 죽지 않는다\n",
      "검색 결과 1번째 항목 확인\n"
     ]
    },
    {
     "name": "stderr",
     "output_type": "stream",
     "text": [
      "Processing Movies:  32%|███████████████████                                         | 344/1086 [49:04<56:14,  4.55s/it]"
     ]
    },
    {
     "name": "stdout",
     "output_type": "stream",
     "text": [
      "영화 '어머니는 죽지 않는다'의 평점: 평균 별점\n",
      "(444명)\n",
      "검색할 영화 이름: 소년감독\n",
      "검색 결과 1번째 항목 확인\n"
     ]
    },
    {
     "name": "stderr",
     "output_type": "stream",
     "text": [
      "Processing Movies:  32%|███████████████████                                         | 345/1086 [49:08<51:13,  4.15s/it]"
     ]
    },
    {
     "name": "stdout",
     "output_type": "stream",
     "text": [
      "영화 '소년감독'의 평점: 평균 별점\n",
      "(50명)\n",
      "검색할 영화 이름: 검은 땅의 소녀와\n",
      "검색 결과 1번째 항목 확인\n"
     ]
    },
    {
     "name": "stderr",
     "output_type": "stream",
     "text": [
      "Processing Movies:  32%|███████████████████                                         | 346/1086 [49:11<47:43,  3.87s/it]"
     ]
    },
    {
     "name": "stdout",
     "output_type": "stream",
     "text": [
      "영화 '검은 땅의 소녀와'의 평점: 평균 별점\n",
      "(150명)\n",
      "검색할 영화 이름: 날아라 허동구\n",
      "검색 결과 1번째 항목 확인\n"
     ]
    },
    {
     "name": "stderr",
     "output_type": "stream",
     "text": [
      "Processing Movies:  32%|███████████████████▏                                        | 347/1086 [49:14<45:18,  3.68s/it]"
     ]
    },
    {
     "name": "stdout",
     "output_type": "stream",
     "text": [
      "영화 '날아라 허동구'의 평점: 평균 별점\n",
      "(8,547명)\n",
      "검색할 영화 이름: 아주르와 아스마르\n",
      "검색 결과 1번째 항목 확인\n"
     ]
    },
    {
     "name": "stderr",
     "output_type": "stream",
     "text": [
      "Processing Movies:  32%|███████████████████▏                                        | 348/1086 [49:17<43:36,  3.55s/it]"
     ]
    },
    {
     "name": "stdout",
     "output_type": "stream",
     "text": [
      "영화 '아주르와 아스마르'의 평점: 평균 별점\n",
      "(2.1만명)\n",
      "검색할 영화 이름: 나니아 연대기-사자,마녀 그리고 옷장\n",
      "검색 결과 1번째 항목 확인\n"
     ]
    },
    {
     "name": "stderr",
     "output_type": "stream",
     "text": [
      "Processing Movies:  32%|███████████████████▎                                        | 349/1086 [49:21<42:28,  3.46s/it]"
     ]
    },
    {
     "name": "stdout",
     "output_type": "stream",
     "text": [
      "영화 '나니아 연대기-사자,마녀 그리고 옷장'의 평점: 평균 별점\n",
      "(61.9만명)\n",
      "검색할 영화 이름: 터크 에버래스팅\n"
     ]
    },
    {
     "name": "stderr",
     "output_type": "stream",
     "text": [
      "Processing Movies:  32%|███████████████████▎                                        | 350/1086 [49:25<45:25,  3.70s/it]"
     ]
    },
    {
     "name": "stdout",
     "output_type": "stream",
     "text": [
      "검색할 영화 이름: 스튜어트 리틀 2\n",
      "검색 결과 1번째 항목 확인\n"
     ]
    },
    {
     "name": "stderr",
     "output_type": "stream",
     "text": [
      "Processing Movies:  32%|███████████████████▍                                        | 351/1086 [49:28<43:37,  3.56s/it]"
     ]
    },
    {
     "name": "stdout",
     "output_type": "stream",
     "text": [
      "영화 '스튜어트 리틀 2'의 평점: 평균 별점\n",
      "(8.5만명)\n",
      "검색할 영화 이름: 피노키오\n",
      "검색 결과 1번째 항목 확인\n"
     ]
    },
    {
     "name": "stderr",
     "output_type": "stream",
     "text": [
      "Processing Movies:  32%|███████████████████▍                                        | 352/1086 [49:31<42:21,  3.46s/it]"
     ]
    },
    {
     "name": "stdout",
     "output_type": "stream",
     "text": [
      "영화 '피노키오'의 평점: 평균 별점\n",
      "(19.9만명)\n",
      "검색할 영화 이름: 해리포터와 마법사의 돌\n",
      "검색 결과 1번째 항목 확인\n"
     ]
    },
    {
     "name": "stderr",
     "output_type": "stream",
     "text": [
      "Processing Movies:  33%|███████████████████▌                                        | 353/1086 [49:35<41:31,  3.40s/it]"
     ]
    },
    {
     "name": "stdout",
     "output_type": "stream",
     "text": [
      "영화 '해리포터와 마법사의 돌'의 평점: 평균 별점\n",
      "(107.3만명)\n",
      "검색할 영화 이름: 스파이 키드\n",
      "검색 결과 1번째 항목 확인\n",
      "검색 결과 2번째 항목 확인\n",
      "검색 결과 3번째 항목 확인\n",
      "검색 결과 4번째 항목 확인\n"
     ]
    },
    {
     "name": "stderr",
     "output_type": "stream",
     "text": [
      "Processing Movies:  33%|██████████████████▉                                       | 354/1086 [49:47<1:15:16,  6.17s/it]"
     ]
    },
    {
     "name": "stdout",
     "output_type": "stream",
     "text": [
      "영화 '스파이 키드'의 평점: 평균 별점\n",
      "(6.1만명)\n",
      "검색할 영화 이름: 아들의 방\n",
      "검색 결과 1번째 항목 확인\n"
     ]
    },
    {
     "name": "stderr",
     "output_type": "stream",
     "text": [
      "Processing Movies:  33%|██████████████████▉                                       | 355/1086 [49:51<1:04:28,  5.29s/it]"
     ]
    },
    {
     "name": "stdout",
     "output_type": "stream",
     "text": [
      "영화 '아들의 방'의 평점: 평균 별점\n",
      "(5,558명)\n",
      "검색할 영화 이름: 캣츠 앤 독스\n",
      "검색 결과 1번째 항목 확인\n",
      "검색 결과 2번째 항목 확인\n"
     ]
    },
    {
     "name": "stderr",
     "output_type": "stream",
     "text": [
      "Processing Movies:  33%|███████████████████                                       | 356/1086 [49:57<1:08:08,  5.60s/it]"
     ]
    },
    {
     "name": "stdout",
     "output_type": "stream",
     "text": [
      "영화 '캣츠 앤 독스'의 평점: 평균 별점\n",
      "(5.0만명)\n",
      "검색할 영화 이름: 프린세스 다이어리\n",
      "검색 결과 1번째 항목 확인\n",
      "검색 결과 2번째 항목 확인\n"
     ]
    },
    {
     "name": "stderr",
     "output_type": "stream",
     "text": [
      "Processing Movies:  33%|███████████████████                                       | 357/1086 [50:03<1:10:49,  5.83s/it]"
     ]
    },
    {
     "name": "stdout",
     "output_type": "stream",
     "text": [
      "영화 '프린세스 다이어리'의 평점: 평균 별점\n",
      "(40.1만명)\n",
      "검색할 영화 이름: 에브리바디 페이머스\n",
      "검색 결과 1번째 항목 확인\n"
     ]
    },
    {
     "name": "stderr",
     "output_type": "stream",
     "text": [
      "Processing Movies:  33%|███████████████████                                       | 358/1086 [50:06<1:01:20,  5.06s/it]"
     ]
    },
    {
     "name": "stdout",
     "output_type": "stream",
     "text": [
      "영화 '에브리바디 페이머스'의 평점: 평균 별점\n",
      "(68명)\n",
      "검색할 영화 이름: 빌리 엘리어트\n",
      "검색 결과 1번째 항목 확인\n"
     ]
    },
    {
     "name": "stderr",
     "output_type": "stream",
     "text": [
      "Processing Movies:  33%|███████████████████▊                                        | 359/1086 [50:10<54:32,  4.50s/it]"
     ]
    },
    {
     "name": "stdout",
     "output_type": "stream",
     "text": [
      "영화 '빌리 엘리어트'의 평점: 평균 별점\n",
      "(50.0만명)\n",
      "검색할 영화 이름: 리틀 뱀파이어\n",
      "검색 결과 1번째 항목 확인\n"
     ]
    },
    {
     "name": "stderr",
     "output_type": "stream",
     "text": [
      "Processing Movies:  33%|███████████████████▉                                        | 360/1086 [50:13<49:49,  4.12s/it]"
     ]
    },
    {
     "name": "stdout",
     "output_type": "stream",
     "text": [
      "영화 '리틀 뱀파이어'의 평점: 평균 별점\n",
      "(53명)\n",
      "검색할 영화 이름: 어머! 물고기가 됐어요\n",
      "검색 결과 1번째 항목 확인\n"
     ]
    },
    {
     "name": "stderr",
     "output_type": "stream",
     "text": [
      "Processing Movies:  33%|███████████████████▉                                        | 361/1086 [50:16<46:30,  3.85s/it]"
     ]
    },
    {
     "name": "stdout",
     "output_type": "stream",
     "text": [
      "영화 '어머! 물고기가 됐어요'의 평점: 평균 별점\n",
      "(1,476명)\n",
      "검색할 영화 이름: 공포특공대\n",
      "검색 결과 1번째 항목 확인\n"
     ]
    },
    {
     "name": "stderr",
     "output_type": "stream",
     "text": [
      "Processing Movies:  33%|████████████████████                                        | 362/1086 [50:19<44:11,  3.66s/it]"
     ]
    },
    {
     "name": "stdout",
     "output_type": "stream",
     "text": [
      "영화 '공포특공대'의 평점: 평균 별점\n",
      "(14명)\n",
      "검색할 영화 이름: 패밀리맨\n",
      "검색 결과 1번째 항목 확인\n"
     ]
    },
    {
     "name": "stderr",
     "output_type": "stream",
     "text": [
      "Processing Movies:  33%|████████████████████                                        | 363/1086 [50:23<42:34,  3.53s/it]"
     ]
    },
    {
     "name": "stdout",
     "output_type": "stream",
     "text": [
      "영화 '패밀리맨'의 평점: 평균 별점\n",
      "(6.7만명)\n",
      "검색할 영화 이름: 산책\n",
      "검색 결과 1번째 항목 확인\n",
      "검색 결과 2번째 항목 확인\n",
      "검색 결과 3번째 항목 확인\n",
      "검색 결과 4번째 항목 확인\n",
      "검색 결과 5번째 항목 확인\n",
      "검색 결과 6번째 항목 확인\n",
      "내부 에러 발생: Message: \n",
      "\n",
      "검색 결과 7번째 항목 확인\n",
      "내부 에러 발생: Message: \n",
      "\n",
      "검색 결과 8번째 항목 확인\n",
      "내부 에러 발생: Message: \n",
      "\n",
      "검색 결과 9번째 항목 확인\n",
      "내부 에러 발생: Message: \n",
      "\n"
     ]
    },
    {
     "name": "stderr",
     "output_type": "stream",
     "text": [
      "Processing Movies:  34%|███████████████████▍                                      | 364/1086 [52:04<6:34:53, 32.82s/it]"
     ]
    },
    {
     "name": "stdout",
     "output_type": "stream",
     "text": [
      "검색할 영화 이름: 102 달마시안\n",
      "검색 결과 1번째 항목 확인\n"
     ]
    },
    {
     "name": "stderr",
     "output_type": "stream",
     "text": [
      "Processing Movies:  34%|███████████████████▍                                      | 365/1086 [52:07<4:48:15, 23.99s/it]"
     ]
    },
    {
     "name": "stdout",
     "output_type": "stream",
     "text": [
      "영화 '102 달마시안'의 평점: 평균 별점\n",
      "(4.1만명)\n",
      "검색할 영화 이름: 던전 드래곤\n",
      "검색 결과 1번째 항목 확인\n"
     ]
    },
    {
     "name": "stderr",
     "output_type": "stream",
     "text": [
      "Processing Movies:  34%|███████████████████▌                                      | 366/1086 [52:10<3:33:06, 17.76s/it]"
     ]
    },
    {
     "name": "stdout",
     "output_type": "stream",
     "text": [
      "영화 '던전 드래곤'의 평점: 평균 별점\n",
      "(14명)\n",
      "검색할 영화 이름: 바벨\n",
      "검색 결과 1번째 항목 확인\n"
     ]
    },
    {
     "name": "stderr",
     "output_type": "stream",
     "text": [
      "Processing Movies:  34%|███████████████████▌                                      | 367/1086 [52:14<2:40:29, 13.39s/it]"
     ]
    },
    {
     "name": "stdout",
     "output_type": "stream",
     "text": [
      "영화 '바벨'의 평점: 평균 별점\n",
      "(2.6만명)\n",
      "검색할 영화 이름: 포켓몬스터 2 - 루기아의 탄생\n"
     ]
    },
    {
     "name": "stderr",
     "output_type": "stream",
     "text": [
      "Processing Movies:  34%|███████████████████▋                                      | 368/1086 [52:18<2:07:36, 10.66s/it]"
     ]
    },
    {
     "name": "stdout",
     "output_type": "stream",
     "text": [
      "검색할 영화 이름: 마요네즈\n",
      "검색 결과 1번째 항목 확인\n",
      "검색 결과 2번째 항목 확인\n"
     ]
    },
    {
     "name": "stderr",
     "output_type": "stream",
     "text": [
      "Processing Movies:  34%|███████████████████▋                                      | 369/1086 [52:24<1:52:00,  9.37s/it]"
     ]
    },
    {
     "name": "stdout",
     "output_type": "stream",
     "text": [
      "영화 '마요네즈'의 평점: 평균 별점\n",
      "(5,141명)\n",
      "검색할 영화 이름: 철도원\n",
      "검색 결과 1번째 항목 확인\n"
     ]
    },
    {
     "name": "stderr",
     "output_type": "stream",
     "text": [
      "Processing Movies:  34%|███████████████████▊                                      | 370/1086 [52:27<1:29:49,  7.53s/it]"
     ]
    },
    {
     "name": "stdout",
     "output_type": "stream",
     "text": [
      "영화 '철도원'의 평점: 평균 별점\n",
      "(3.7만명)\n",
      "검색할 영화 이름: 지금은 통화중\n",
      "검색 결과 1번째 항목 확인\n"
     ]
    },
    {
     "name": "stderr",
     "output_type": "stream",
     "text": [
      "Processing Movies:  34%|███████████████████▊                                      | 371/1086 [52:31<1:14:19,  6.24s/it]"
     ]
    },
    {
     "name": "stdout",
     "output_type": "stream",
     "text": [
      "영화 '지금은 통화중'의 평점: 평균 별점\n",
      "(733명)\n",
      "검색할 영화 이름: 꼬마돼지 베이브 2\n",
      "검색 결과 1번째 항목 확인\n"
     ]
    },
    {
     "name": "stderr",
     "output_type": "stream",
     "text": [
      "Processing Movies:  34%|███████████████████▊                                      | 372/1086 [52:34<1:03:29,  5.33s/it]"
     ]
    },
    {
     "name": "stdout",
     "output_type": "stream",
     "text": [
      "영화 '꼬마돼지 베이브 2'의 평점: 평균 별점\n",
      "(1.3만명)\n",
      "검색할 영화 이름: 폴리\n",
      "검색 결과 1번째 항목 확인\n",
      "검색 결과 2번째 항목 확인\n",
      "검색 결과 3번째 항목 확인\n",
      "검색 결과 4번째 항목 확인\n",
      "검색 결과 5번째 항목 확인\n",
      "검색 결과 6번째 항목 확인\n",
      "내부 에러 발생: Message: \n",
      "\n",
      "검색 결과 7번째 항목 확인\n",
      "내부 에러 발생: Message: \n",
      "\n",
      "검색 결과 8번째 항목 확인\n",
      "내부 에러 발생: Message: \n",
      "\n",
      "검색 결과 9번째 항목 확인\n",
      "내부 에러 발생: Message: \n",
      "\n"
     ]
    },
    {
     "name": "stderr",
     "output_type": "stream",
     "text": [
      "Processing Movies:  34%|███████████████████▉                                      | 373/1086 [54:15<6:45:06, 34.09s/it]"
     ]
    },
    {
     "name": "stdout",
     "output_type": "stream",
     "text": [
      "검색할 영화 이름: 애들이 똑같아요\n",
      "검색 결과 1번째 항목 확인\n"
     ]
    },
    {
     "name": "stderr",
     "output_type": "stream",
     "text": [
      "Processing Movies:  34%|███████████████████▉                                      | 374/1086 [54:18<4:55:03, 24.86s/it]"
     ]
    },
    {
     "name": "stdout",
     "output_type": "stream",
     "text": [
      "영화 '애들이 똑같아요'의 평점: 평균 별점\n",
      "(596명)\n",
      "검색할 영화 이름: 로스트 시티\n",
      "검색 결과 1번째 항목 확인\n"
     ]
    },
    {
     "name": "stderr",
     "output_type": "stream",
     "text": [
      "Processing Movies:  35%|████████████████████                                      | 375/1086 [54:22<3:37:53, 18.39s/it]"
     ]
    },
    {
     "name": "stdout",
     "output_type": "stream",
     "text": [
      "영화 '로스트 시티'의 평점: 평균 별점\n",
      "(6,030명)\n",
      "검색할 영화 이름: 바로워즈\n",
      "검색 결과 1번째 항목 확인\n"
     ]
    },
    {
     "name": "stderr",
     "output_type": "stream",
     "text": [
      "Processing Movies:  35%|████████████████████                                      | 376/1086 [54:25<2:43:47, 13.84s/it]"
     ]
    },
    {
     "name": "stdout",
     "output_type": "stream",
     "text": [
      "영화 '바로워즈'의 평점: 평균 별점\n",
      "(277명)\n",
      "검색할 영화 이름: 비지터 2\n",
      "검색 결과 1번째 항목 확인\n"
     ]
    },
    {
     "name": "stderr",
     "output_type": "stream",
     "text": [
      "Processing Movies:  35%|████████████████████▏                                     | 377/1086 [54:28<2:06:00, 10.66s/it]"
     ]
    },
    {
     "name": "stdout",
     "output_type": "stream",
     "text": [
      "영화 '비지터 2'의 평점: 평균 별점\n",
      "(364명)\n",
      "검색할 영화 이름: 브레이크 아웃\n",
      "검색 결과 1번째 항목 확인\n",
      "검색 결과 2번째 항목 확인\n",
      "검색 결과 3번째 항목 확인\n",
      "검색 결과 4번째 항목 확인\n"
     ]
    },
    {
     "name": "stderr",
     "output_type": "stream",
     "text": [
      "Processing Movies:  35%|████████████████████▏                                     | 378/1086 [54:41<2:12:37, 11.24s/it]"
     ]
    },
    {
     "name": "stdout",
     "output_type": "stream",
     "text": [
      "영화 '브레이크 아웃'의 평점: 평균 별점\n",
      "(43명)\n",
      "검색할 영화 이름: 샤드라크\n",
      "검색 결과 1번째 항목 확인\n"
     ]
    },
    {
     "name": "stderr",
     "output_type": "stream",
     "text": [
      "Processing Movies:  35%|████████████████████▏                                     | 379/1086 [54:44<1:44:04,  8.83s/it]"
     ]
    },
    {
     "name": "stdout",
     "output_type": "stream",
     "text": [
      "영화 '샤드라크'의 평점: 평균 별점\n",
      "(6명)\n",
      "검색할 영화 이름: 패밀리 플랜\n",
      "검색 결과 1번째 항목 확인\n"
     ]
    },
    {
     "name": "stderr",
     "output_type": "stream",
     "text": [
      "Processing Movies:  35%|████████████████████▎                                     | 380/1086 [54:47<1:24:06,  7.15s/it]"
     ]
    },
    {
     "name": "stdout",
     "output_type": "stream",
     "text": [
      "영화 '패밀리 플랜'의 평점: 평균 별점\n",
      "(7명)\n",
      "검색할 영화 이름: 나폴레옹\n",
      "검색 결과 1번째 항목 확인\n",
      "검색 결과 2번째 항목 확인\n"
     ]
    },
    {
     "name": "stderr",
     "output_type": "stream",
     "text": [
      "Processing Movies:  35%|████████████████████▎                                     | 381/1086 [54:54<1:21:21,  6.92s/it]"
     ]
    },
    {
     "name": "stdout",
     "output_type": "stream",
     "text": [
      "영화 '나폴레옹'의 평점: 평균 별점\n",
      "(6,336명)\n",
      "검색할 영화 이름: 마우스헌트\n",
      "검색 결과 1번째 항목 확인\n"
     ]
    },
    {
     "name": "stderr",
     "output_type": "stream",
     "text": [
      "Processing Movies:  35%|████████████████████▍                                     | 382/1086 [54:57<1:08:16,  5.82s/it]"
     ]
    },
    {
     "name": "stdout",
     "output_type": "stream",
     "text": [
      "영화 '마우스헌트'의 평점: 평균 별점\n",
      "(2.0만명)\n",
      "검색할 영화 이름: 나 홀로 집에 3\n",
      "검색 결과 1번째 항목 확인\n"
     ]
    },
    {
     "name": "stderr",
     "output_type": "stream",
     "text": [
      "Processing Movies:  35%|█████████████████████▏                                      | 383/1086 [55:00<59:06,  5.04s/it]"
     ]
    },
    {
     "name": "stdout",
     "output_type": "stream",
     "text": [
      "영화 '나 홀로 집에 3'의 평점: 평균 별점\n",
      "(25.8만명)\n",
      "검색할 영화 이름: 미스 베어\n",
      "검색 결과 1번째 항목 확인\n"
     ]
    },
    {
     "name": "stderr",
     "output_type": "stream",
     "text": [
      "Processing Movies:  35%|█████████████████████▏                                      | 384/1086 [55:03<52:37,  4.50s/it]"
     ]
    },
    {
     "name": "stdout",
     "output_type": "stream",
     "text": [
      "영화 '미스 베어'의 평점: 평균 별점\n",
      "(17명)\n",
      "검색할 영화 이름: 라스트바이킹\n",
      "검색 결과 1번째 항목 확인\n"
     ]
    },
    {
     "name": "stderr",
     "output_type": "stream",
     "text": [
      "Processing Movies:  35%|█████████████████████▎                                      | 385/1086 [55:06<48:02,  4.11s/it]"
     ]
    },
    {
     "name": "stdout",
     "output_type": "stream",
     "text": [
      "영화 '라스트바이킹'의 평점: 평균 별점\n",
      "(6명)\n",
      "검색할 영화 이름: 아버지\n",
      "검색 결과 1번째 항목 확인\n",
      "검색 결과 2번째 항목 확인\n",
      "검색 결과 3번째 항목 확인\n",
      "검색 결과 4번째 항목 확인\n",
      "검색 결과 5번째 항목 확인\n",
      "검색 결과 6번째 항목 확인\n",
      "내부 에러 발생: Message: \n",
      "\n",
      "검색 결과 7번째 항목 확인\n",
      "내부 에러 발생: Message: \n",
      "\n",
      "검색 결과 8번째 항목 확인\n",
      "내부 에러 발생: Message: \n",
      "\n",
      "검색 결과 9번째 항목 확인\n",
      "내부 에러 발생: Message: \n",
      "\n"
     ]
    },
    {
     "name": "stderr",
     "output_type": "stream",
     "text": [
      "Processing Movies:  36%|████████████████████▌                                     | 386/1086 [56:47<6:25:35, 33.05s/it]"
     ]
    },
    {
     "name": "stdout",
     "output_type": "stream",
     "text": [
      "검색할 영화 이름: 표류일기\n",
      "검색 결과 1번째 항목 확인\n"
     ]
    },
    {
     "name": "stderr",
     "output_type": "stream",
     "text": [
      "Processing Movies:  36%|████████████████████▋                                     | 387/1086 [56:50<4:40:47, 24.10s/it]"
     ]
    },
    {
     "name": "stdout",
     "output_type": "stream",
     "text": [
      "영화 '표류일기'의 평점: 평균 별점\n",
      "(139명)\n",
      "검색할 영화 이름: 세라크루\n",
      "검색 결과 1번째 항목 확인\n"
     ]
    },
    {
     "name": "stderr",
     "output_type": "stream",
     "text": [
      "Processing Movies:  36%|████████████████████▋                                     | 388/1086 [56:53<3:27:28, 17.83s/it]"
     ]
    },
    {
     "name": "stdout",
     "output_type": "stream",
     "text": [
      "영화 '세라크루'의 평점: 평균 별점\n",
      "(5명)\n",
      "검색할 영화 이름: 스타키드\n",
      "검색 결과 1번째 항목 확인\n"
     ]
    },
    {
     "name": "stderr",
     "output_type": "stream",
     "text": [
      "Processing Movies:  36%|████████████████████▊                                     | 389/1086 [56:57<2:36:14, 13.45s/it]"
     ]
    },
    {
     "name": "stdout",
     "output_type": "stream",
     "text": [
      "영화 '스타키드'의 평점: 평균 별점\n",
      "(49명)\n",
      "검색할 영화 이름: 아름다운 비행\n",
      "검색 결과 1번째 항목 확인\n"
     ]
    },
    {
     "name": "stderr",
     "output_type": "stream",
     "text": [
      "Processing Movies:  36%|████████████████████▊                                     | 390/1086 [57:00<2:00:27, 10.38s/it]"
     ]
    },
    {
     "name": "stdout",
     "output_type": "stream",
     "text": [
      "영화 '아름다운 비행'의 평점: 평균 별점\n",
      "(6.1만명)\n",
      "검색할 영화 이름: 101 달마시안\n",
      "검색 결과 1번째 항목 확인\n"
     ]
    },
    {
     "name": "stderr",
     "output_type": "stream",
     "text": [
      "Processing Movies:  36%|████████████████████▉                                     | 391/1086 [57:03<1:35:24,  8.24s/it]"
     ]
    },
    {
     "name": "stdout",
     "output_type": "stream",
     "text": [
      "영화 '101 달마시안'의 평점: 평균 별점\n",
      "(12.6만명)\n",
      "검색할 영화 이름: 뽀네뜨\n",
      "검색 결과 1번째 항목 확인\n"
     ]
    },
    {
     "name": "stderr",
     "output_type": "stream",
     "text": [
      "Processing Movies:  36%|████████████████████▉                                     | 392/1086 [57:06<1:17:53,  6.73s/it]"
     ]
    },
    {
     "name": "stdout",
     "output_type": "stream",
     "text": [
      "영화 '뽀네뜨'의 평점: 평균 별점\n",
      "(3,102명)\n",
      "검색할 영화 이름: 보거스\n",
      "검색 결과 1번째 항목 확인\n"
     ]
    },
    {
     "name": "stderr",
     "output_type": "stream",
     "text": [
      "Processing Movies:  36%|████████████████████▉                                     | 393/1086 [57:10<1:05:36,  5.68s/it]"
     ]
    },
    {
     "name": "stdout",
     "output_type": "stream",
     "text": [
      "영화 '보거스'의 평점: 평균 별점\n",
      "(228명)\n",
      "검색할 영화 이름: 솔드 아웃\n",
      "검색 결과 1번째 항목 확인\n"
     ]
    },
    {
     "name": "stderr",
     "output_type": "stream",
     "text": [
      "Processing Movies:  36%|█████████████████████▊                                      | 394/1086 [57:13<57:00,  4.94s/it]"
     ]
    },
    {
     "name": "stdout",
     "output_type": "stream",
     "text": [
      "영화 '솔드 아웃'의 평점: 평균 별점\n",
      "(2.3만명)\n",
      "검색할 영화 이름: 에어버드\n",
      "검색 결과 1번째 항목 확인\n",
      "검색 결과 2번째 항목 확인\n",
      "검색 결과 3번째 항목 확인\n",
      "검색 결과 4번째 항목 확인\n",
      "검색 결과 5번째 항목 확인\n"
     ]
    },
    {
     "name": "stderr",
     "output_type": "stream",
     "text": [
      "Processing Movies:  36%|█████████████████████                                     | 395/1086 [57:29<1:34:05,  8.17s/it]"
     ]
    },
    {
     "name": "stdout",
     "output_type": "stream",
     "text": [
      "영화 '에어버드'의 평점: 평균 별점\n",
      "(305명)\n",
      "검색할 영화 이름: 하얀풍선\n",
      "검색 결과 1번째 항목 확인\n"
     ]
    },
    {
     "name": "stderr",
     "output_type": "stream",
     "text": [
      "Processing Movies:  36%|█████████████████████▏                                    | 396/1086 [57:32<1:16:55,  6.69s/it]"
     ]
    },
    {
     "name": "stdout",
     "output_type": "stream",
     "text": [
      "영화 '하얀풍선'의 평점: 평균 별점\n",
      "(347명)\n",
      "검색할 영화 이름: 꼬마 돼지 베이브\n",
      "검색 결과 1번째 항목 확인\n"
     ]
    },
    {
     "name": "stderr",
     "output_type": "stream",
     "text": [
      "Processing Movies:  37%|█████████████████████▏                                    | 397/1086 [57:35<1:04:53,  5.65s/it]"
     ]
    },
    {
     "name": "stdout",
     "output_type": "stream",
     "text": [
      "영화 '꼬마 돼지 베이브'의 평점: 평균 별점\n",
      "(6.3만명)\n",
      "검색할 영화 이름: 가라데 키드\n",
      "검색 결과 1번째 항목 확인\n"
     ]
    },
    {
     "name": "stderr",
     "output_type": "stream",
     "text": [
      "Processing Movies:  37%|█████████████████████▉                                      | 398/1086 [57:38<56:29,  4.93s/it]"
     ]
    },
    {
     "name": "stdout",
     "output_type": "stream",
     "text": [
      "영화 '가라데 키드'의 평점: 평균 별점\n",
      "(228명)\n",
      "검색할 영화 이름: 베이비 데이 아웃\n",
      "검색 결과 1번째 항목 확인\n"
     ]
    },
    {
     "name": "stderr",
     "output_type": "stream",
     "text": [
      "Processing Movies:  37%|██████████████████████                                      | 399/1086 [57:41<50:34,  4.42s/it]"
     ]
    },
    {
     "name": "stdout",
     "output_type": "stream",
     "text": [
      "영화 '베이비 데이 아웃'의 평점: 평균 별점\n",
      "(2.4만명)\n",
      "검색할 영화 이름: 고인돌 가족 프린스톤\n"
     ]
    },
    {
     "name": "stderr",
     "output_type": "stream",
     "text": [
      "Processing Movies:  37%|██████████████████████                                      | 400/1086 [57:46<50:02,  4.38s/it]"
     ]
    },
    {
     "name": "stdout",
     "output_type": "stream",
     "text": [
      "검색할 영화 이름: 아빠와 한판승\n",
      "검색 결과 1번째 항목 확인\n"
     ]
    },
    {
     "name": "stderr",
     "output_type": "stream",
     "text": [
      "Processing Movies:  37%|██████████████████████▏                                     | 401/1086 [57:49<46:34,  4.08s/it]"
     ]
    },
    {
     "name": "stdout",
     "output_type": "stream",
     "text": [
      "영화 '아빠와 한판승'의 평점: 평균 별점\n",
      "(82명)\n",
      "검색할 영화 이름: 34번가의 기적\n",
      "검색 결과 1번째 항목 확인\n"
     ]
    },
    {
     "name": "stderr",
     "output_type": "stream",
     "text": [
      "Processing Movies:  37%|██████████████████████▏                                     | 402/1086 [57:52<43:33,  3.82s/it]"
     ]
    },
    {
     "name": "stdout",
     "output_type": "stream",
     "text": [
      "영화 '34번가의 기적'의 평점: 평균 별점\n",
      "(1.2만명)\n",
      "검색할 영화 이름: 외야의 천사들\n",
      "검색 결과 1번째 항목 확인\n"
     ]
    },
    {
     "name": "stderr",
     "output_type": "stream",
     "text": [
      "Processing Movies:  37%|██████████████████████▎                                     | 403/1086 [57:56<41:27,  3.64s/it]"
     ]
    },
    {
     "name": "stdout",
     "output_type": "stream",
     "text": [
      "영화 '외야의 천사들'의 평점: 평균 별점\n",
      "(13명)\n",
      "검색할 영화 이름: 첩보원 가족\n",
      "검색 결과 1번째 항목 확인\n"
     ]
    },
    {
     "name": "stderr",
     "output_type": "stream",
     "text": [
      "Processing Movies:  37%|██████████████████████▎                                     | 404/1086 [57:59<39:57,  3.51s/it]"
     ]
    },
    {
     "name": "stdout",
     "output_type": "stream",
     "text": [
      "영화 '첩보원 가족'의 평점: 평균 별점\n",
      "(568명)\n",
      "검색할 영화 이름: 에어\n",
      "검색 결과 1번째 항목 확인\n",
      "검색 결과 2번째 항목 확인\n",
      "검색 결과 3번째 항목 확인\n",
      "검색 결과 4번째 항목 확인\n",
      "검색 결과 5번째 항목 확인\n",
      "검색 결과 6번째 항목 확인\n",
      "내부 에러 발생: Message: \n",
      "\n",
      "검색 결과 7번째 항목 확인\n",
      "내부 에러 발생: Message: \n",
      "\n",
      "검색 결과 8번째 항목 확인\n",
      "내부 에러 발생: Message: \n",
      "\n",
      "검색 결과 9번째 항목 확인\n",
      "내부 에러 발생: Message: \n",
      "\n"
     ]
    },
    {
     "name": "stderr",
     "output_type": "stream",
     "text": [
      "Processing Movies:  37%|█████████████████████▋                                    | 405/1086 [59:40<6:13:48, 32.93s/it]"
     ]
    },
    {
     "name": "stdout",
     "output_type": "stream",
     "text": [
      "검색할 영화 이름: 루키\n",
      "검색 결과 1번째 항목 확인\n",
      "검색 결과 2번째 항목 확인\n",
      "검색 결과 3번째 항목 확인\n",
      "검색 결과 4번째 항목 확인\n",
      "검색 결과 5번째 항목 확인\n",
      "검색 결과 6번째 항목 확인\n",
      "내부 에러 발생: Message: \n",
      "\n",
      "검색 결과 7번째 항목 확인\n",
      "내부 에러 발생: Message: \n",
      "\n",
      "검색 결과 8번째 항목 확인\n",
      "내부 에러 발생: Message: \n",
      "\n",
      "검색 결과 9번째 항목 확인\n",
      "내부 에러 발생: Message: \n",
      "\n"
     ]
    },
    {
     "name": "stderr",
     "output_type": "stream",
     "text": [
      "Processing Movies:  37%|████████████████████▌                                  | 406/1086 [1:01:22<10:07:53, 53.64s/it]"
     ]
    },
    {
     "name": "stdout",
     "output_type": "stream",
     "text": [
      "검색할 영화 이름: 개구쟁이 데니스\n",
      "검색 결과 1번째 항목 확인\n"
     ]
    },
    {
     "name": "stderr",
     "output_type": "stream",
     "text": [
      "Processing Movies:  37%|████████████████████▉                                   | 407/1086 [1:01:26<7:16:09, 38.54s/it]"
     ]
    },
    {
     "name": "stdout",
     "output_type": "stream",
     "text": [
      "영화 '개구쟁이 데니스'의 평점: 평균 별점\n",
      "(1,005명)\n",
      "검색할 영화 이름: 다저스 몽키\n",
      "검색 결과 1번째 항목 확인\n"
     ]
    },
    {
     "name": "stderr",
     "output_type": "stream",
     "text": [
      "Processing Movies:  38%|█████████████████████                                   | 408/1086 [1:01:29<5:16:15, 27.99s/it]"
     ]
    },
    {
     "name": "stdout",
     "output_type": "stream",
     "text": [
      "영화 '다저스 몽키'의 평점: 평균 별점\n",
      "(3,972명)\n",
      "검색할 영화 이름: 꾸러기 가족\n",
      "검색 결과 1번째 항목 확인\n"
     ]
    },
    {
     "name": "stderr",
     "output_type": "stream",
     "text": [
      "Processing Movies:  38%|█████████████████████                                   | 409/1086 [1:01:32<3:51:53, 20.55s/it]"
     ]
    },
    {
     "name": "stdout",
     "output_type": "stream",
     "text": [
      "영화 '꾸러기 가족'의 평점: 평균 별점\n",
      "(7명)\n",
      "검색할 영화 이름: 어니스트 돌아오다\n",
      "검색 결과 1번째 항목 확인\n"
     ]
    },
    {
     "name": "stderr",
     "output_type": "stream",
     "text": [
      "Processing Movies:  38%|█████████████████████▏                                  | 410/1086 [1:01:40<3:06:54, 16.59s/it]"
     ]
    },
    {
     "name": "stdout",
     "output_type": "stream",
     "text": [
      "검색할 영화 이름: 주니어는 문제아\n"
     ]
    },
    {
     "name": "stderr",
     "output_type": "stream",
     "text": [
      "Processing Movies:  38%|█████████████████████▏                                  | 411/1086 [1:01:44<2:24:54, 12.88s/it]"
     ]
    },
    {
     "name": "stdout",
     "output_type": "stream",
     "text": [
      "검색할 영화 이름: 양키 줄루\n",
      "검색 결과 1번째 항목 확인\n"
     ]
    },
    {
     "name": "stderr",
     "output_type": "stream",
     "text": [
      "Processing Movies:  38%|█████████████████████▏                                  | 412/1086 [1:01:47<1:52:04,  9.98s/it]"
     ]
    },
    {
     "name": "stdout",
     "output_type": "stream",
     "text": [
      "영화 '양키 줄루'의 평점: 평균 별점\n",
      "(73명)\n",
      "검색할 영화 이름: 비밀의 화원\n",
      "검색 결과 1번째 항목 확인\n"
     ]
    },
    {
     "name": "stderr",
     "output_type": "stream",
     "text": [
      "Processing Movies:  38%|█████████████████████▎                                  | 413/1086 [1:01:50<1:29:05,  7.94s/it]"
     ]
    },
    {
     "name": "stdout",
     "output_type": "stream",
     "text": [
      "영화 '비밀의 화원'의 평점: 평균 별점\n",
      "(8,874명)\n",
      "검색할 영화 이름: 로빙화\n",
      "검색 결과 1번째 항목 확인\n"
     ]
    },
    {
     "name": "stderr",
     "output_type": "stream",
     "text": [
      "Processing Movies:  38%|█████████████████████▎                                  | 414/1086 [1:01:53<1:13:01,  6.52s/it]"
     ]
    },
    {
     "name": "stdout",
     "output_type": "stream",
     "text": [
      "영화 '로빙화'의 평점: 평균 별점\n",
      "(3,289명)\n",
      "검색할 영화 이름: 슈퍼 마리오\n",
      "검색 결과 1번째 항목 확인\n",
      "검색 결과 2번째 항목 확인\n"
     ]
    },
    {
     "name": "stderr",
     "output_type": "stream",
     "text": [
      "Processing Movies:  38%|█████████████████████▍                                  | 415/1086 [1:02:00<1:12:15,  6.46s/it]"
     ]
    },
    {
     "name": "stdout",
     "output_type": "stream",
     "text": [
      "영화 '슈퍼 마리오'의 평점: 평균 별점\n",
      "(3,902명)\n",
      "검색할 영화 이름: 오씨\n",
      "검색 결과 1번째 항목 확인\n"
     ]
    },
    {
     "name": "stderr",
     "output_type": "stream",
     "text": [
      "Processing Movies:  38%|█████████████████████▍                                  | 416/1086 [1:02:03<1:01:14,  5.48s/it]"
     ]
    },
    {
     "name": "stdout",
     "output_type": "stream",
     "text": [
      "영화 '오씨'의 평점: 평균 별점\n",
      "(66명)\n",
      "검색할 영화 이름: 피터팬\n",
      "검색 결과 1번째 항목 확인\n"
     ]
    },
    {
     "name": "stderr",
     "output_type": "stream",
     "text": [
      "Processing Movies:  38%|██████████████████████▎                                   | 417/1086 [1:02:06<53:29,  4.80s/it]"
     ]
    },
    {
     "name": "stdout",
     "output_type": "stream",
     "text": [
      "영화 '피터팬'의 평점: 평균 별점\n",
      "(8.9만명)\n",
      "검색할 영화 이름: 돌아오라 개구리소년\n",
      "검색 결과 1번째 항목 확인\n"
     ]
    },
    {
     "name": "stderr",
     "output_type": "stream",
     "text": [
      "Processing Movies:  38%|██████████████████████▎                                   | 418/1086 [1:02:09<48:04,  4.32s/it]"
     ]
    },
    {
     "name": "stdout",
     "output_type": "stream",
     "text": [
      "영화 '돌아오라 개구리소년'의 평점: 평균 별점\n",
      "(82명)\n",
      "검색할 영화 이름: 머나먼 여정\n",
      "검색 결과 1번째 항목 확인\n",
      "검색 결과 2번째 항목 확인\n"
     ]
    },
    {
     "name": "stderr",
     "output_type": "stream",
     "text": [
      "Processing Movies:  39%|██████████████████████▍                                   | 419/1086 [1:02:16<54:38,  4.91s/it]"
     ]
    },
    {
     "name": "stdout",
     "output_type": "stream",
     "text": [
      "영화 '머나먼 여정'의 평점: 평균 별점\n",
      "(1,698명)\n",
      "검색할 영화 이름: 나 홀로 집에 2\n",
      "검색 결과 1번째 항목 확인\n"
     ]
    },
    {
     "name": "stderr",
     "output_type": "stream",
     "text": [
      "Processing Movies:  39%|█████████████████████▋                                  | 420/1086 [1:02:23<1:02:44,  5.65s/it]"
     ]
    },
    {
     "name": "stdout",
     "output_type": "stream",
     "text": [
      "검색할 영화 이름: 후크\n",
      "검색 결과 1번째 항목 확인\n"
     ]
    },
    {
     "name": "stderr",
     "output_type": "stream",
     "text": [
      "Processing Movies:  39%|██████████████████████▍                                   | 421/1086 [1:02:26<54:49,  4.95s/it]"
     ]
    },
    {
     "name": "stdout",
     "output_type": "stream",
     "text": [
      "영화 '후크'의 평점: 평균 별점\n",
      "(7.1만명)\n",
      "검색할 영화 이름: 신부의 아버지\n",
      "검색 결과 1번째 항목 확인\n"
     ]
    },
    {
     "name": "stderr",
     "output_type": "stream",
     "text": [
      "Processing Movies:  39%|██████████████████████▌                                   | 422/1086 [1:02:29<49:02,  4.43s/it]"
     ]
    },
    {
     "name": "stdout",
     "output_type": "stream",
     "text": [
      "영화 '신부의 아버지'의 평점: 평균 별점\n",
      "(99명)\n",
      "검색할 영화 이름: 마르셀의여름\n",
      "검색 결과 1번째 항목 확인\n"
     ]
    },
    {
     "name": "stderr",
     "output_type": "stream",
     "text": [
      "Processing Movies:  39%|██████████████████████▌                                   | 423/1086 [1:02:33<44:52,  4.06s/it]"
     ]
    },
    {
     "name": "stdout",
     "output_type": "stream",
     "text": [
      "영화 '마르셀의여름'의 평점: 평균 별점\n",
      "(4,256명)\n",
      "검색할 영화 이름: 나홀로 집에\n",
      "검색 결과 1번째 항목 확인\n",
      "검색 결과 2번째 항목 확인\n",
      "검색 결과 3번째 항목 확인\n",
      "검색 결과 4번째 항목 확인\n",
      "검색 결과 5번째 항목 확인\n"
     ]
    },
    {
     "name": "stderr",
     "output_type": "stream",
     "text": [
      "Processing Movies:  39%|█████████████████████▊                                  | 424/1086 [1:02:48<1:23:35,  7.58s/it]"
     ]
    },
    {
     "name": "stdout",
     "output_type": "stream",
     "text": [
      "영화 '나홀로 집에'의 평점: 평균 별점\n",
      "(93.2만명)\n",
      "검색할 영화 이름: 로티의 모험\n",
      "검색 결과 1번째 항목 확인\n"
     ]
    },
    {
     "name": "stderr",
     "output_type": "stream",
     "text": [
      "Processing Movies:  39%|█████████████████████▉                                  | 425/1086 [1:02:52<1:09:01,  6.27s/it]"
     ]
    },
    {
     "name": "stdout",
     "output_type": "stream",
     "text": [
      "영화 '로티의 모험'의 평점: 평균 별점\n",
      "(11명)\n",
      "검색할 영화 이름: 내친구 제제\n",
      "검색 결과 1번째 항목 확인\n"
     ]
    },
    {
     "name": "stderr",
     "output_type": "stream",
     "text": [
      "Processing Movies:  39%|██████████████████████▊                                   | 426/1086 [1:02:55<58:45,  5.34s/it]"
     ]
    },
    {
     "name": "stdout",
     "output_type": "stream",
     "text": [
      "영화 '내친구 제제'의 평점: 평균 별점\n",
      "(7명)\n",
      "검색할 영화 이름: 영구와 땡칠이 소림사가다\n",
      "검색 결과 1번째 항목 확인\n"
     ]
    },
    {
     "name": "stderr",
     "output_type": "stream",
     "text": [
      "Processing Movies:  39%|██████████████████████                                  | 427/1086 [1:03:02<1:05:15,  5.94s/it]"
     ]
    },
    {
     "name": "stdout",
     "output_type": "stream",
     "text": [
      "검색할 영화 이름: 누가 로저래빗을 모함했나\n"
     ]
    },
    {
     "name": "stderr",
     "output_type": "stream",
     "text": [
      "Processing Movies:  39%|██████████████████████▊                                   | 428/1086 [1:03:06<59:34,  5.43s/it]"
     ]
    },
    {
     "name": "stdout",
     "output_type": "stream",
     "text": [
      "검색할 영화 이름: 빅\n",
      "검색 결과 1번째 항목 확인\n",
      "검색 결과 2번째 항목 확인\n",
      "검색 결과 3번째 항목 확인\n",
      "검색 결과 4번째 항목 확인\n",
      "검색 결과 5번째 항목 확인\n",
      "검색 결과 6번째 항목 확인\n",
      "내부 에러 발생: Message: \n",
      "\n",
      "검색 결과 7번째 항목 확인\n",
      "내부 에러 발생: Message: \n",
      "\n",
      "검색 결과 8번째 항목 확인\n",
      "내부 에러 발생: Message: \n",
      "\n",
      "검색 결과 9번째 항목 확인\n",
      "내부 에러 발생: Message: \n",
      "\n"
     ]
    },
    {
     "name": "stderr",
     "output_type": "stream",
     "text": [
      "Processing Movies:  40%|██████████████████████                                  | 429/1086 [1:04:48<6:16:25, 34.38s/it]"
     ]
    },
    {
     "name": "stdout",
     "output_type": "stream",
     "text": [
      "검색할 영화 이름: 미리마리 우리두리\n",
      "검색 결과 1번째 항목 확인\n"
     ]
    },
    {
     "name": "stderr",
     "output_type": "stream",
     "text": [
      "Processing Movies:  40%|██████████████████████▏                                 | 430/1086 [1:04:52<4:33:37, 25.03s/it]"
     ]
    },
    {
     "name": "stdout",
     "output_type": "stream",
     "text": [
      "영화 '미리마리 우리두리'의 평점: 평균 별점\n",
      "(31명)\n",
      "검색할 영화 이름: 푸른하늘 은하수\n"
     ]
    },
    {
     "name": "stderr",
     "output_type": "stream",
     "text": [
      "Processing Movies:  40%|██████████████████████▏                                 | 431/1086 [1:04:56<3:25:09, 18.79s/it]"
     ]
    },
    {
     "name": "stdout",
     "output_type": "stream",
     "text": [
      "검색할 영화 이름: LA용팔이\n",
      "검색 결과 1번째 항목 확인\n"
     ]
    },
    {
     "name": "stderr",
     "output_type": "stream",
     "text": [
      "Processing Movies:  40%|██████████████████████▎                                 | 432/1086 [1:04:59<2:33:51, 14.12s/it]"
     ]
    },
    {
     "name": "stdout",
     "output_type": "stream",
     "text": [
      "영화 'LA용팔이'의 평점: 평균 별점\n",
      "(22명)\n",
      "검색할 영화 이름: 여로\n",
      "검색 결과 1번째 항목 확인\n",
      "검색 결과 2번째 항목 확인\n",
      "검색 결과 3번째 항목 확인\n",
      "검색 결과 4번째 항목 확인\n"
     ]
    },
    {
     "name": "stderr",
     "output_type": "stream",
     "text": [
      "Processing Movies:  40%|██████████████████████▎                                 | 433/1086 [1:05:12<2:28:30, 13.65s/it]"
     ]
    },
    {
     "name": "stdout",
     "output_type": "stream",
     "text": [
      "영화 '여로'의 평점: 평균 별점\n",
      "(8명)\n",
      "검색할 영화 이름: 수렁에서 건진 내 딸 2\n",
      "검색 결과 1번째 항목 확인\n"
     ]
    },
    {
     "name": "stderr",
     "output_type": "stream",
     "text": [
      "Processing Movies:  40%|██████████████████████▍                                 | 434/1086 [1:05:15<1:54:16, 10.52s/it]"
     ]
    },
    {
     "name": "stdout",
     "output_type": "stream",
     "text": [
      "영화 '수렁에서 건진 내 딸 2'의 평점: 평균 별점\n",
      "(32명)\n",
      "검색할 영화 이름: 춤추는 딸\n",
      "검색 결과 1번째 항목 확인\n"
     ]
    },
    {
     "name": "stderr",
     "output_type": "stream",
     "text": [
      "Processing Movies:  40%|██████████████████████▍                                 | 435/1086 [1:05:18<1:30:16,  8.32s/it]"
     ]
    },
    {
     "name": "stdout",
     "output_type": "stream",
     "text": [
      "영화 '춤추는 딸'의 평점: 평균 별점\n",
      "(12명)\n",
      "검색할 영화 이름: 꽃지\n",
      "검색 결과 1번째 항목 확인\n",
      "검색 결과 2번째 항목 확인\n",
      "검색 결과 3번째 항목 확인\n",
      "검색 결과 4번째 항목 확인\n",
      "검색 결과 5번째 항목 확인\n",
      "검색 결과 6번째 항목 확인\n",
      "내부 에러 발생: Message: \n",
      "\n",
      "검색 결과 7번째 항목 확인\n",
      "내부 에러 발생: Message: \n",
      "\n",
      "검색 결과 8번째 항목 확인\n",
      "내부 에러 발생: Message: \n",
      "\n",
      "검색 결과 9번째 항목 확인\n",
      "내부 에러 발생: Message: \n",
      "\n"
     ]
    },
    {
     "name": "stderr",
     "output_type": "stream",
     "text": [
      "Processing Movies:  40%|██████████████████████▍                                 | 436/1086 [1:07:00<6:34:20, 36.40s/it]"
     ]
    },
    {
     "name": "stdout",
     "output_type": "stream",
     "text": [
      "검색할 영화 이름: 말괄량이 대행진\n",
      "검색 결과 1번째 항목 확인\n"
     ]
    },
    {
     "name": "stderr",
     "output_type": "stream",
     "text": [
      "Processing Movies:  40%|██████████████████████▌                                 | 437/1086 [1:07:03<4:46:00, 26.44s/it]"
     ]
    },
    {
     "name": "stdout",
     "output_type": "stream",
     "text": [
      "영화 '말괄량이 대행진'의 평점: 평균 별점\n",
      "(26명)\n",
      "검색할 영화 이름: 화녀도정\n",
      "검색 결과 1번째 항목 확인\n"
     ]
    },
    {
     "name": "stderr",
     "output_type": "stream",
     "text": [
      "Processing Movies:  40%|██████████████████████▌                                 | 438/1086 [1:07:06<3:30:12, 19.46s/it]"
     ]
    },
    {
     "name": "stdout",
     "output_type": "stream",
     "text": [
      "영화 '화녀도정'의 평점: 평균 별점\n",
      "(1명)\n",
      "검색할 영화 이름: 각시탈\n",
      "검색 결과 1번째 항목 확인\n"
     ]
    },
    {
     "name": "stderr",
     "output_type": "stream",
     "text": [
      "Processing Movies:  40%|██████████████████████▋                                 | 439/1086 [1:07:10<2:37:27, 14.60s/it]"
     ]
    },
    {
     "name": "stdout",
     "output_type": "stream",
     "text": [
      "영화 '각시탈'의 평점: 평균 별점\n",
      "(10.1만명)\n",
      "검색할 영화 이름: 난 이렇게 산다우\n",
      "검색 결과 1번째 항목 확인\n"
     ]
    },
    {
     "name": "stderr",
     "output_type": "stream",
     "text": [
      "Processing Movies:  41%|██████████████████████▋                                 | 440/1086 [1:07:13<2:00:24, 11.18s/it]"
     ]
    },
    {
     "name": "stdout",
     "output_type": "stream",
     "text": [
      "영화 '난 이렇게 산다우'의 평점: 평균 별점\n",
      "(9명)\n",
      "검색할 영화 이름: 피조개 뭍에 오르다\n",
      "검색 결과 1번째 항목 확인\n"
     ]
    },
    {
     "name": "stderr",
     "output_type": "stream",
     "text": [
      "Processing Movies:  41%|██████████████████████▋                                 | 441/1086 [1:07:16<1:34:28,  8.79s/it]"
     ]
    },
    {
     "name": "stdout",
     "output_type": "stream",
     "text": [
      "영화 '피조개 뭍에 오르다'의 평점: 평균 별점\n",
      "(11명)\n",
      "검색할 영화 이름: 장남\n",
      "검색 결과 1번째 항목 확인\n"
     ]
    },
    {
     "name": "stderr",
     "output_type": "stream",
     "text": [
      "Processing Movies:  41%|██████████████████████▊                                 | 442/1086 [1:07:19<1:16:17,  7.11s/it]"
     ]
    },
    {
     "name": "stdout",
     "output_type": "stream",
     "text": [
      "영화 '장남'의 평점: 평균 별점\n",
      "(201명)\n",
      "검색할 영화 이름: 어미\n",
      "검색 결과 1번째 항목 확인\n"
     ]
    },
    {
     "name": "stderr",
     "output_type": "stream",
     "text": [
      "Processing Movies:  41%|██████████████████████▊                                 | 443/1086 [1:07:22<1:03:34,  5.93s/it]"
     ]
    },
    {
     "name": "stdout",
     "output_type": "stream",
     "text": [
      "영화 '어미'의 평점: 평균 별점\n",
      "(172명)\n",
      "검색할 영화 이름: 사랑하는 자식들아\n",
      "검색 결과 1번째 항목 확인\n"
     ]
    },
    {
     "name": "stderr",
     "output_type": "stream",
     "text": [
      "Processing Movies:  41%|███████████████████████▋                                  | 444/1086 [1:07:26<54:44,  5.12s/it]"
     ]
    },
    {
     "name": "stdout",
     "output_type": "stream",
     "text": [
      "영화 '사랑하는 자식들아'의 평점: 평균 별점\n",
      "(3명)\n",
      "검색할 영화 이름: 타잔-크리스포터 램버트/그레이스 토크\n"
     ]
    },
    {
     "name": "stderr",
     "output_type": "stream",
     "text": [
      "Processing Movies:  41%|███████████████████████▊                                  | 445/1086 [1:07:30<51:50,  4.85s/it]"
     ]
    },
    {
     "name": "stdout",
     "output_type": "stream",
     "text": [
      "검색할 영화 이름: 수렁에서 건진 내 딸\n",
      "검색 결과 1번째 항목 확인\n"
     ]
    },
    {
     "name": "stderr",
     "output_type": "stream",
     "text": [
      "Processing Movies:  41%|███████████████████████▊                                  | 446/1086 [1:07:33<46:31,  4.36s/it]"
     ]
    },
    {
     "name": "stdout",
     "output_type": "stream",
     "text": [
      "영화 '수렁에서 건진 내 딸'의 평점: 평균 별점\n",
      "(82명)\n",
      "검색할 영화 이름: 스무해 첫째날\n",
      "검색 결과 1번째 항목 확인\n"
     ]
    },
    {
     "name": "stderr",
     "output_type": "stream",
     "text": [
      "Processing Movies:  41%|███████████████████████▊                                  | 447/1086 [1:07:36<42:46,  4.02s/it]"
     ]
    },
    {
     "name": "stdout",
     "output_type": "stream",
     "text": [
      "영화 '스무해 첫째날'의 평점: 평균 별점\n",
      "(2명)\n",
      "검색할 영화 이름: 새댁 나팔을 불기 시작했다\n",
      "검색 결과 1번째 항목 확인\n"
     ]
    },
    {
     "name": "stderr",
     "output_type": "stream",
     "text": [
      "Processing Movies:  41%|███████████████████████▉                                  | 448/1086 [1:07:39<40:05,  3.77s/it]"
     ]
    },
    {
     "name": "stdout",
     "output_type": "stream",
     "text": [
      "영화 '새댁 나팔을 불기 시작했다'의 평점: 평균 별점\n",
      "(7명)\n",
      "검색할 영화 이름: 내가 마지막 본 흥남\n",
      "검색 결과 1번째 항목 확인\n"
     ]
    },
    {
     "name": "stderr",
     "output_type": "stream",
     "text": [
      "Processing Movies:  41%|███████████████████████▉                                  | 449/1086 [1:07:43<38:12,  3.60s/it]"
     ]
    },
    {
     "name": "stdout",
     "output_type": "stream",
     "text": [
      "영화 '내가 마지막 본 흥남'의 평점: 평균 별점\n",
      "(11명)\n",
      "검색할 영화 이름: 형\n",
      "검색 결과 1번째 항목 확인\n"
     ]
    },
    {
     "name": "stderr",
     "output_type": "stream",
     "text": [
      "Processing Movies:  41%|████████████████████████                                  | 450/1086 [1:07:46<36:49,  3.47s/it]"
     ]
    },
    {
     "name": "stdout",
     "output_type": "stream",
     "text": [
      "영화 '형'의 평점: 평균 별점\n",
      "(55.3만명)\n",
      "검색할 영화 이름: 철부지\n",
      "검색 결과 1번째 항목 확인\n"
     ]
    },
    {
     "name": "stderr",
     "output_type": "stream",
     "text": [
      "Processing Movies:  42%|████████████████████████                                  | 451/1086 [1:07:49<35:53,  3.39s/it]"
     ]
    },
    {
     "name": "stdout",
     "output_type": "stream",
     "text": [
      "영화 '철부지'의 평점: 평균 별점\n",
      "(26명)\n",
      "검색할 영화 이름: 사랑하는 사람아 3부\n"
     ]
    },
    {
     "name": "stderr",
     "output_type": "stream",
     "text": [
      "Processing Movies:  42%|████████████████████████▏                                 | 452/1086 [1:07:53<38:30,  3.64s/it]"
     ]
    },
    {
     "name": "stdout",
     "output_type": "stream",
     "text": [
      "검색할 영화 이름: 저하늘에도 슬픔이\n",
      "검색 결과 1번째 항목 확인\n",
      "검색 결과 2번째 항목 확인\n"
     ]
    },
    {
     "name": "stderr",
     "output_type": "stream",
     "text": [
      "Processing Movies:  42%|████████████████████████▏                                 | 453/1086 [1:08:00<47:02,  4.46s/it]"
     ]
    },
    {
     "name": "stdout",
     "output_type": "stream",
     "text": [
      "영화 '저하늘에도 슬픔이'의 평점: 평균 별점\n",
      "(108명)\n",
      "검색할 영화 이름: 꽃잎이어라 낙엽이어라\n",
      "검색 결과 1번째 항목 확인\n"
     ]
    },
    {
     "name": "stderr",
     "output_type": "stream",
     "text": [
      "Processing Movies:  42%|████████████████████████▏                                 | 454/1086 [1:08:03<43:06,  4.09s/it]"
     ]
    },
    {
     "name": "stdout",
     "output_type": "stream",
     "text": [
      "영화 '꽃잎이어라 낙엽이어라'의 평점: 평균 별점\n",
      "(1명)\n",
      "검색할 영화 이름: 굿바이 마이 다링\n",
      "검색 결과 1번째 항목 확인\n"
     ]
    },
    {
     "name": "stderr",
     "output_type": "stream",
     "text": [
      "Processing Movies:  42%|████████████████████████▎                                 | 455/1086 [1:08:06<40:16,  3.83s/it]"
     ]
    },
    {
     "name": "stdout",
     "output_type": "stream",
     "text": [
      "영화 '굿바이 마이 다링'의 평점: 평균 별점\n",
      "(8명)\n",
      "검색할 영화 이름: 이 한몸 돌이 되어\n",
      "검색 결과 1번째 항목 확인\n"
     ]
    },
    {
     "name": "stderr",
     "output_type": "stream",
     "text": [
      "Processing Movies:  42%|████████████████████████▎                                 | 456/1086 [1:08:09<38:15,  3.64s/it]"
     ]
    },
    {
     "name": "stdout",
     "output_type": "stream",
     "text": [
      "영화 '이 한몸 돌이 되어'의 평점: 평균 별점\n",
      "(1명)\n",
      "검색할 영화 이름: 애정의 조건\n",
      "검색 결과 1번째 항목 확인\n"
     ]
    },
    {
     "name": "stderr",
     "output_type": "stream",
     "text": [
      "Processing Movies:  42%|████████████████████████▍                                 | 457/1086 [1:08:12<36:48,  3.51s/it]"
     ]
    },
    {
     "name": "stdout",
     "output_type": "stream",
     "text": [
      "영화 '애정의 조건'의 평점: 평균 별점\n",
      "(2,484명)\n",
      "검색할 영화 이름: 모정\n",
      "검색 결과 1번째 항목 확인\n",
      "내부 에러 발생: Message: \n",
      "Stacktrace:\n",
      "\tGetHandleVerifier [0x005CB8E3+45827]\n",
      "\t(No symbol) [0x0055DCC4]\n",
      "\t(No symbol) [0x0045150F]\n",
      "\t(No symbol) [0x004920BC]\n",
      "\t(No symbol) [0x0049216B]\n",
      "\t(No symbol) [0x004CE0F2]\n",
      "\t(No symbol) [0x004B2E44]\n",
      "\t(No symbol) [0x004CC034]\n",
      "\t(No symbol) [0x004B2B96]\n",
      "\t(No symbol) [0x00486998]\n",
      "\t(No symbol) [0x0048751D]\n",
      "\tGetHandleVerifier [0x00884513+2899763]\n",
      "\tGetHandleVerifier [0x008D793D+3240797]\n",
      "\tGetHandleVerifier [0x006513B4+593364]\n",
      "\tGetHandleVerifier [0x006582DC+621820]\n",
      "\t(No symbol) [0x005670A4]\n",
      "\t(No symbol) [0x005637A8]\n",
      "\t(No symbol) [0x00563947]\n",
      "\t(No symbol) [0x005559FE]\n",
      "\tBaseThreadInitThunk [0x753D7BA9+25]\n",
      "\tRtlInitializeExceptionChain [0x7775BE3B+107]\n",
      "\tRtlClearBits [0x7775BDBF+191]\n",
      "\n",
      "검색 결과 2번째 항목 확인\n",
      "내부 에러 발생: Message: \n",
      "Stacktrace:\n",
      "\tGetHandleVerifier [0x005CB8E3+45827]\n",
      "\t(No symbol) [0x0055DCC4]\n",
      "\t(No symbol) [0x0045150F]\n",
      "\t(No symbol) [0x004920BC]\n",
      "\t(No symbol) [0x0049216B]\n",
      "\t(No symbol) [0x004CE0F2]\n",
      "\t(No symbol) [0x004B2E44]\n",
      "\t(No symbol) [0x004CC034]\n",
      "\t(No symbol) [0x004B2B96]\n",
      "\t(No symbol) [0x00486998]\n",
      "\t(No symbol) [0x0048751D]\n",
      "\tGetHandleVerifier [0x00884513+2899763]\n",
      "\tGetHandleVerifier [0x008D793D+3240797]\n",
      "\tGetHandleVerifier [0x006513B4+593364]\n",
      "\tGetHandleVerifier [0x006582DC+621820]\n",
      "\t(No symbol) [0x005670A4]\n",
      "\t(No symbol) [0x005637A8]\n",
      "\t(No symbol) [0x00563947]\n",
      "\t(No symbol) [0x005559FE]\n",
      "\tBaseThreadInitThunk [0x753D7BA9+25]\n",
      "\tRtlInitializeExceptionChain [0x7775BE3B+107]\n",
      "\tRtlClearBits [0x7775BDBF+191]\n",
      "\n",
      "검색 결과 3번째 항목 확인\n",
      "내부 에러 발생: Message: \n",
      "Stacktrace:\n",
      "\tGetHandleVerifier [0x005CB8E3+45827]\n",
      "\t(No symbol) [0x0055DCC4]\n",
      "\t(No symbol) [0x0045150F]\n",
      "\t(No symbol) [0x004920BC]\n",
      "\t(No symbol) [0x0049216B]\n",
      "\t(No symbol) [0x004CE0F2]\n",
      "\t(No symbol) [0x004B2E44]\n",
      "\t(No symbol) [0x004CC034]\n",
      "\t(No symbol) [0x004B2B96]\n",
      "\t(No symbol) [0x00486998]\n",
      "\t(No symbol) [0x0048751D]\n",
      "\tGetHandleVerifier [0x00884513+2899763]\n",
      "\tGetHandleVerifier [0x008D793D+3240797]\n",
      "\tGetHandleVerifier [0x006513B4+593364]\n",
      "\tGetHandleVerifier [0x006582DC+621820]\n",
      "\t(No symbol) [0x005670A4]\n",
      "\t(No symbol) [0x005637A8]\n",
      "\t(No symbol) [0x00563947]\n",
      "\t(No symbol) [0x005559FE]\n",
      "\tBaseThreadInitThunk [0x753D7BA9+25]\n",
      "\tRtlInitializeExceptionChain [0x7775BE3B+107]\n",
      "\tRtlClearBits [0x7775BDBF+191]\n",
      "\n",
      "검색 결과 4번째 항목 확인\n",
      "내부 에러 발생: Message: \n",
      "Stacktrace:\n",
      "\tGetHandleVerifier [0x005CB8E3+45827]\n",
      "\t(No symbol) [0x0055DCC4]\n",
      "\t(No symbol) [0x0045150F]\n",
      "\t(No symbol) [0x004920BC]\n",
      "\t(No symbol) [0x0049216B]\n",
      "\t(No symbol) [0x004CE0F2]\n",
      "\t(No symbol) [0x004B2E44]\n",
      "\t(No symbol) [0x004CC034]\n",
      "\t(No symbol) [0x004B2B96]\n",
      "\t(No symbol) [0x00486998]\n",
      "\t(No symbol) [0x0048751D]\n",
      "\tGetHandleVerifier [0x00884513+2899763]\n",
      "\tGetHandleVerifier [0x008D793D+3240797]\n",
      "\tGetHandleVerifier [0x006513B4+593364]\n",
      "\tGetHandleVerifier [0x006582DC+621820]\n",
      "\t(No symbol) [0x005670A4]\n",
      "\t(No symbol) [0x005637A8]\n",
      "\t(No symbol) [0x00563947]\n",
      "\t(No symbol) [0x005559FE]\n",
      "\tBaseThreadInitThunk [0x753D7BA9+25]\n",
      "\tRtlInitializeExceptionChain [0x7775BE3B+107]\n",
      "\tRtlClearBits [0x7775BDBF+191]\n",
      "\n",
      "검색 결과 5번째 항목 확인\n",
      "내부 에러 발생: Message: \n",
      "Stacktrace:\n",
      "\tGetHandleVerifier [0x005CB8E3+45827]\n",
      "\t(No symbol) [0x0055DCC4]\n",
      "\t(No symbol) [0x0045150F]\n",
      "\t(No symbol) [0x004920BC]\n",
      "\t(No symbol) [0x0049216B]\n",
      "\t(No symbol) [0x004CE0F2]\n",
      "\t(No symbol) [0x004B2E44]\n",
      "\t(No symbol) [0x004CC034]\n",
      "\t(No symbol) [0x004B2B96]\n",
      "\t(No symbol) [0x00486998]\n",
      "\t(No symbol) [0x0048751D]\n",
      "\tGetHandleVerifier [0x00884513+2899763]\n",
      "\tGetHandleVerifier [0x008D793D+3240797]\n",
      "\tGetHandleVerifier [0x006513B4+593364]\n",
      "\tGetHandleVerifier [0x006582DC+621820]\n",
      "\t(No symbol) [0x005670A4]\n",
      "\t(No symbol) [0x005637A8]\n",
      "\t(No symbol) [0x00563947]\n",
      "\t(No symbol) [0x005559FE]\n",
      "\tBaseThreadInitThunk [0x753D7BA9+25]\n",
      "\tRtlInitializeExceptionChain [0x7775BE3B+107]\n",
      "\tRtlClearBits [0x7775BDBF+191]\n",
      "\n",
      "검색 결과 6번째 항목 확인\n",
      "내부 에러 발생: Message: \n",
      "Stacktrace:\n",
      "\tGetHandleVerifier [0x005CB8E3+45827]\n",
      "\t(No symbol) [0x0055DCC4]\n",
      "\t(No symbol) [0x0045150F]\n",
      "\t(No symbol) [0x004920BC]\n",
      "\t(No symbol) [0x0049216B]\n",
      "\t(No symbol) [0x004CE0F2]\n",
      "\t(No symbol) [0x004B2E44]\n",
      "\t(No symbol) [0x004CC034]\n",
      "\t(No symbol) [0x004B2B96]\n",
      "\t(No symbol) [0x00486998]\n",
      "\t(No symbol) [0x0048751D]\n",
      "\tGetHandleVerifier [0x00884513+2899763]\n",
      "\tGetHandleVerifier [0x008D793D+3240797]\n",
      "\tGetHandleVerifier [0x006513B4+593364]\n",
      "\tGetHandleVerifier [0x006582DC+621820]\n",
      "\t(No symbol) [0x005670A4]\n",
      "\t(No symbol) [0x005637A8]\n",
      "\t(No symbol) [0x00563947]\n",
      "\t(No symbol) [0x005559FE]\n",
      "\tBaseThreadInitThunk [0x753D7BA9+25]\n",
      "\tRtlInitializeExceptionChain [0x7775BE3B+107]\n",
      "\tRtlClearBits [0x7775BDBF+191]\n",
      "\n",
      "검색 결과 7번째 항목 확인\n",
      "내부 에러 발생: Message: \n",
      "Stacktrace:\n",
      "\tGetHandleVerifier [0x005CB8E3+45827]\n",
      "\t(No symbol) [0x0055DCC4]\n",
      "\t(No symbol) [0x0045150F]\n",
      "\t(No symbol) [0x004920BC]\n",
      "\t(No symbol) [0x0049216B]\n",
      "\t(No symbol) [0x004CE0F2]\n",
      "\t(No symbol) [0x004B2E44]\n",
      "\t(No symbol) [0x004CC034]\n",
      "\t(No symbol) [0x004B2B96]\n",
      "\t(No symbol) [0x00486998]\n",
      "\t(No symbol) [0x0048751D]\n",
      "\tGetHandleVerifier [0x00884513+2899763]\n",
      "\tGetHandleVerifier [0x008D793D+3240797]\n",
      "\tGetHandleVerifier [0x006513B4+593364]\n",
      "\tGetHandleVerifier [0x006582DC+621820]\n",
      "\t(No symbol) [0x005670A4]\n",
      "\t(No symbol) [0x005637A8]\n",
      "\t(No symbol) [0x00563947]\n",
      "\t(No symbol) [0x005559FE]\n",
      "\tBaseThreadInitThunk [0x753D7BA9+25]\n",
      "\tRtlInitializeExceptionChain [0x7775BE3B+107]\n",
      "\tRtlClearBits [0x7775BDBF+191]\n",
      "\n",
      "검색 결과 8번째 항목 확인\n",
      "내부 에러 발생: Message: \n",
      "Stacktrace:\n",
      "\tGetHandleVerifier [0x005CB8E3+45827]\n",
      "\t(No symbol) [0x0055DCC4]\n",
      "\t(No symbol) [0x0045150F]\n",
      "\t(No symbol) [0x004920BC]\n",
      "\t(No symbol) [0x0049216B]\n",
      "\t(No symbol) [0x004CE0F2]\n",
      "\t(No symbol) [0x004B2E44]\n",
      "\t(No symbol) [0x004CC034]\n",
      "\t(No symbol) [0x004B2B96]\n",
      "\t(No symbol) [0x00486998]\n",
      "\t(No symbol) [0x0048751D]\n",
      "\tGetHandleVerifier [0x00884513+2899763]\n",
      "\tGetHandleVerifier [0x008D793D+3240797]\n",
      "\tGetHandleVerifier [0x006513B4+593364]\n",
      "\tGetHandleVerifier [0x006582DC+621820]\n",
      "\t(No symbol) [0x005670A4]\n",
      "\t(No symbol) [0x005637A8]\n",
      "\t(No symbol) [0x00563947]\n",
      "\t(No symbol) [0x005559FE]\n",
      "\tBaseThreadInitThunk [0x753D7BA9+25]\n",
      "\tRtlInitializeExceptionChain [0x7775BE3B+107]\n",
      "\tRtlClearBits [0x7775BDBF+191]\n",
      "\n",
      "검색 결과 9번째 항목 확인\n",
      "내부 에러 발생: Message: \n",
      "Stacktrace:\n",
      "\tGetHandleVerifier [0x005CB8E3+45827]\n",
      "\t(No symbol) [0x0055DCC4]\n",
      "\t(No symbol) [0x0045150F]\n",
      "\t(No symbol) [0x004920BC]\n",
      "\t(No symbol) [0x0049216B]\n",
      "\t(No symbol) [0x004CE0F2]\n",
      "\t(No symbol) [0x004B2E44]\n",
      "\t(No symbol) [0x004CC034]\n",
      "\t(No symbol) [0x004B2B96]\n",
      "\t(No symbol) [0x00486998]\n",
      "\t(No symbol) [0x0048751D]\n",
      "\tGetHandleVerifier [0x00884513+2899763]\n",
      "\tGetHandleVerifier [0x008D793D+3240797]\n",
      "\tGetHandleVerifier [0x006513B4+593364]\n",
      "\tGetHandleVerifier [0x006582DC+621820]\n",
      "\t(No symbol) [0x005670A4]\n",
      "\t(No symbol) [0x005637A8]\n",
      "\t(No symbol) [0x00563947]\n",
      "\t(No symbol) [0x005559FE]\n",
      "\tBaseThreadInitThunk [0x753D7BA9+25]\n",
      "\tRtlInitializeExceptionChain [0x7775BE3B+107]\n",
      "\tRtlClearBits [0x7775BDBF+191]\n",
      "\n"
     ]
    },
    {
     "name": "stderr",
     "output_type": "stream",
     "text": [
      "Processing Movies:  42%|███████████████████████▌                                | 458/1086 [1:11:10<9:44:29, 55.84s/it]"
     ]
    },
    {
     "name": "stdout",
     "output_type": "stream",
     "text": [
      "검색할 영화 이름: 연인들의 이야기\n",
      "검색 결과 1번째 항목 확인\n"
     ]
    },
    {
     "name": "stderr",
     "output_type": "stream",
     "text": [
      "Processing Movies:  42%|███████████████████████▋                                | 459/1086 [1:11:14<6:58:39, 40.06s/it]"
     ]
    },
    {
     "name": "stdout",
     "output_type": "stream",
     "text": [
      "영화 '연인들의 이야기'의 평점: 평균 별점\n",
      "(5명)\n",
      "검색할 영화 이름: 내 인생은 나의 것\n",
      "검색 결과 1번째 항목 확인\n"
     ]
    },
    {
     "name": "stderr",
     "output_type": "stream",
     "text": [
      "Processing Movies:  42%|███████████████████████▋                                | 460/1086 [1:11:17<5:02:40, 29.01s/it]"
     ]
    },
    {
     "name": "stdout",
     "output_type": "stream",
     "text": [
      "영화 '내 인생은 나의 것'의 평점: 평균 별점\n",
      "(9명)\n",
      "검색할 영화 이름: 내일은 야구왕\n",
      "검색 결과 1번째 항목 확인\n"
     ]
    },
    {
     "name": "stderr",
     "output_type": "stream",
     "text": [
      "Processing Movies:  42%|███████████████████████▊                                | 461/1086 [1:11:20<3:41:37, 21.28s/it]"
     ]
    },
    {
     "name": "stdout",
     "output_type": "stream",
     "text": [
      "영화 '내일은 야구왕'의 평점: 평균 별점\n",
      "(34명)\n",
      "검색할 영화 이름: 애니\n",
      "검색 결과 1번째 항목 확인\n",
      "검색 결과 2번째 항목 확인\n",
      "검색 결과 3번째 항목 확인\n",
      "검색 결과 4번째 항목 확인\n",
      "검색 결과 5번째 항목 확인\n"
     ]
    },
    {
     "name": "stderr",
     "output_type": "stream",
     "text": [
      "Processing Movies:  43%|███████████████████████▊                                | 462/1086 [1:11:36<3:24:02, 19.62s/it]"
     ]
    },
    {
     "name": "stdout",
     "output_type": "stream",
     "text": [
      "영화 '애니'의 평점: 평균 별점\n",
      "(3,853명)\n",
      "검색할 영화 이름: 삐에로와 국화\n",
      "검색 결과 1번째 항목 확인\n"
     ]
    },
    {
     "name": "stderr",
     "output_type": "stream",
     "text": [
      "Processing Movies:  43%|███████████████████████▊                                | 463/1086 [1:11:39<2:32:40, 14.70s/it]"
     ]
    },
    {
     "name": "stdout",
     "output_type": "stream",
     "text": [
      "영화 '삐에로와 국화'의 평점: 평균 별점\n",
      "(8명)\n",
      "검색할 영화 이름: 춤추는 달팽이\n",
      "검색 결과 1번째 항목 확인\n"
     ]
    },
    {
     "name": "stderr",
     "output_type": "stream",
     "text": [
      "Processing Movies:  43%|███████████████████████▉                                | 464/1086 [1:11:42<1:56:42, 11.26s/it]"
     ]
    },
    {
     "name": "stdout",
     "output_type": "stream",
     "text": [
      "영화 '춤추는 달팽이'의 평점: 평균 별점\n",
      "(2명)\n",
      "검색할 영화 이름: 빙점 '81\n",
      "검색 결과 1번째 항목 확인\n"
     ]
    },
    {
     "name": "stderr",
     "output_type": "stream",
     "text": [
      "Processing Movies:  43%|███████████████████████▉                                | 465/1086 [1:11:50<1:44:27, 10.09s/it]"
     ]
    },
    {
     "name": "stdout",
     "output_type": "stream",
     "text": [
      "검색할 영화 이름: 하늘나라 엄마별이\n",
      "검색 결과 1번째 항목 확인\n",
      "내부 에러 발생: Message: \n",
      "Stacktrace:\n",
      "\tGetHandleVerifier [0x005CB8E3+45827]\n",
      "\t(No symbol) [0x0055DCC4]\n",
      "\t(No symbol) [0x0045150F]\n",
      "\t(No symbol) [0x004920BC]\n",
      "\t(No symbol) [0x0049216B]\n",
      "\t(No symbol) [0x004CE0F2]\n",
      "\t(No symbol) [0x004B2E44]\n",
      "\t(No symbol) [0x004CC034]\n",
      "\t(No symbol) [0x004B2B96]\n",
      "\t(No symbol) [0x00486998]\n",
      "\t(No symbol) [0x0048751D]\n",
      "\tGetHandleVerifier [0x00884513+2899763]\n",
      "\tGetHandleVerifier [0x008D793D+3240797]\n",
      "\tGetHandleVerifier [0x006513B4+593364]\n",
      "\tGetHandleVerifier [0x006582DC+621820]\n",
      "\t(No symbol) [0x005670A4]\n",
      "\t(No symbol) [0x005637A8]\n",
      "\t(No symbol) [0x00563947]\n",
      "\t(No symbol) [0x005559FE]\n",
      "\tBaseThreadInitThunk [0x753D7BA9+25]\n",
      "\tRtlInitializeExceptionChain [0x7775BE3B+107]\n",
      "\tRtlClearBits [0x7775BDBF+191]\n",
      "\n"
     ]
    },
    {
     "name": "stderr",
     "output_type": "stream",
     "text": [
      "Processing Movies:  43%|████████████████████████                                | 466/1086 [1:12:05<2:01:05, 11.72s/it]"
     ]
    },
    {
     "name": "stdout",
     "output_type": "stream",
     "text": [
      "검색할 영화 이름: 연분홍치마\n",
      "검색 결과 1번째 항목 확인\n"
     ]
    },
    {
     "name": "stderr",
     "output_type": "stream",
     "text": [
      "Processing Movies:  43%|████████████████████████                                | 467/1086 [1:12:08<1:34:33,  9.17s/it]"
     ]
    },
    {
     "name": "stdout",
     "output_type": "stream",
     "text": [
      "영화 '연분홍치마'의 평점: 평균 별점\n",
      "(13명)\n",
      "검색할 영화 이름: 난장이가 쏘아올린 작은 공\n",
      "검색 결과 1번째 항목 확인\n"
     ]
    },
    {
     "name": "stderr",
     "output_type": "stream",
     "text": [
      "Processing Movies:  43%|████████████████████████▏                               | 468/1086 [1:12:12<1:16:13,  7.40s/it]"
     ]
    },
    {
     "name": "stdout",
     "output_type": "stream",
     "text": [
      "영화 '난장이가 쏘아올린 작은 공'의 평점: 평균 별점\n",
      "(674명)\n",
      "검색할 영화 이름: 엄마결혼식\n",
      "검색 결과 1번째 항목 확인\n"
     ]
    },
    {
     "name": "stderr",
     "output_type": "stream",
     "text": [
      "Processing Movies:  43%|████████████████████████▏                               | 469/1086 [1:12:15<1:03:12,  6.15s/it]"
     ]
    },
    {
     "name": "stdout",
     "output_type": "stream",
     "text": [
      "영화 '엄마결혼식'의 평점: 평균 별점\n",
      "(6명)\n",
      "검색할 영화 이름: 꼭지 꼭지\n",
      "검색 결과 1번째 항목 확인\n",
      "검색 결과 2번째 항목 확인\n"
     ]
    },
    {
     "name": "stderr",
     "output_type": "stream",
     "text": [
      "Processing Movies:  43%|████████████████████████▏                               | 470/1086 [1:12:21<1:03:39,  6.20s/it]"
     ]
    },
    {
     "name": "stdout",
     "output_type": "stream",
     "text": [
      "영화 '꼭지 꼭지'의 평점: 평균 별점\n",
      "(12명)\n",
      "검색할 영화 이름: 해뜨는 집\n",
      "검색 결과 1번째 항목 확인\n"
     ]
    },
    {
     "name": "stderr",
     "output_type": "stream",
     "text": [
      "Processing Movies:  43%|█████████████████████████▏                                | 471/1086 [1:12:24<54:21,  5.30s/it]"
     ]
    },
    {
     "name": "stdout",
     "output_type": "stream",
     "text": [
      "영화 '해뜨는 집'의 평점: 평균 별점\n",
      "(17명)\n",
      "검색할 영화 이름: 개구장이 천사들\n",
      "검색 결과 1번째 항목 확인\n"
     ]
    },
    {
     "name": "stderr",
     "output_type": "stream",
     "text": [
      "Processing Movies:  43%|█████████████████████████▏                                | 472/1086 [1:12:28<47:51,  4.68s/it]"
     ]
    },
    {
     "name": "stdout",
     "output_type": "stream",
     "text": [
      "영화 '개구장이 천사들'의 평점: 평균 별점\n",
      "(16명)\n",
      "검색할 영화 이름: 형님먼저 아우먼저\n",
      "검색 결과 1번째 항목 확인\n"
     ]
    },
    {
     "name": "stderr",
     "output_type": "stream",
     "text": [
      "Processing Movies:  44%|█████████████████████████▎                                | 473/1086 [1:12:31<43:18,  4.24s/it]"
     ]
    },
    {
     "name": "stdout",
     "output_type": "stream",
     "text": [
      "영화 '형님먼저 아우먼저'의 평점: 평균 별점\n",
      "(6명)\n",
      "검색할 영화 이름: 잊어야 할 그 사람\n",
      "검색 결과 1번째 항목 확인\n"
     ]
    },
    {
     "name": "stderr",
     "output_type": "stream",
     "text": [
      "Processing Movies:  44%|█████████████████████████▎                                | 474/1086 [1:12:34<40:05,  3.93s/it]"
     ]
    },
    {
     "name": "stdout",
     "output_type": "stream",
     "text": [
      "영화 '잊어야 할 그 사람'의 평점: 평균 별점\n",
      "(2명)\n",
      "검색할 영화 이름: 오사까의 외로운 별\n"
     ]
    },
    {
     "name": "stderr",
     "output_type": "stream",
     "text": [
      "Processing Movies:  44%|█████████████████████████▎                                | 475/1086 [1:12:38<41:05,  4.03s/it]"
     ]
    },
    {
     "name": "stdout",
     "output_type": "stream",
     "text": [
      "검색할 영화 이름: 브레이킹 어웨이\n",
      "검색 결과 1번째 항목 확인\n"
     ]
    },
    {
     "name": "stderr",
     "output_type": "stream",
     "text": [
      "Processing Movies:  44%|█████████████████████████▍                                | 476/1086 [1:12:42<38:33,  3.79s/it]"
     ]
    },
    {
     "name": "stdout",
     "output_type": "stream",
     "text": [
      "영화 '브레이킹 어웨이'의 평점: 평균 별점\n",
      "(203명)\n",
      "검색할 영화 이름: 도깨비 감투\n",
      "검색 결과 1번째 항목 확인\n"
     ]
    },
    {
     "name": "stderr",
     "output_type": "stream",
     "text": [
      "Processing Movies:  44%|█████████████████████████▍                                | 477/1086 [1:12:45<36:44,  3.62s/it]"
     ]
    },
    {
     "name": "stdout",
     "output_type": "stream",
     "text": [
      "영화 '도깨비 감투'의 평점: 평균 별점\n",
      "(36명)\n",
      "검색할 영화 이름: 단짝\n",
      "검색 결과 1번째 항목 확인\n"
     ]
    },
    {
     "name": "stderr",
     "output_type": "stream",
     "text": [
      "Processing Movies:  44%|█████████████████████████▌                                | 478/1086 [1:12:48<35:23,  3.49s/it]"
     ]
    },
    {
     "name": "stdout",
     "output_type": "stream",
     "text": [
      "영화 '단짝'의 평점: 평균 별점\n",
      "(3명)\n",
      "검색할 영화 이름: 너의 창에 불이 꺼지고\n",
      "검색 결과 1번째 항목 확인\n"
     ]
    },
    {
     "name": "stderr",
     "output_type": "stream",
     "text": [
      "Processing Movies:  44%|█████████████████████████▌                                | 479/1086 [1:12:51<34:31,  3.41s/it]"
     ]
    },
    {
     "name": "stdout",
     "output_type": "stream",
     "text": [
      "영화 '너의 창에 불이 꺼지고'의 평점: 평균 별점\n",
      "(4명)\n",
      "검색할 영화 이름: 엄마 없는 하늘 아래\n",
      "검색 결과 1번째 항목 확인\n"
     ]
    },
    {
     "name": "stderr",
     "output_type": "stream",
     "text": [
      "Processing Movies:  44%|█████████████████████████▋                                | 480/1086 [1:12:54<33:51,  3.35s/it]"
     ]
    },
    {
     "name": "stdout",
     "output_type": "stream",
     "text": [
      "영화 '엄마 없는 하늘 아래'의 평점: 평균 별점\n",
      "(1,554명)\n",
      "검색할 영화 이름: 신밧드 대모험 호랑이 눈알\n",
      "검색 결과 1번째 항목 확인\n"
     ]
    },
    {
     "name": "stderr",
     "output_type": "stream",
     "text": [
      "Processing Movies:  44%|█████████████████████████▋                                | 481/1086 [1:13:02<45:58,  4.56s/it]"
     ]
    },
    {
     "name": "stdout",
     "output_type": "stream",
     "text": [
      "검색할 영화 이름: 왕자와 거지\n",
      "검색 결과 1번째 항목 확인\n"
     ]
    },
    {
     "name": "stderr",
     "output_type": "stream",
     "text": [
      "Processing Movies:  44%|█████████████████████████▋                                | 482/1086 [1:13:05<41:51,  4.16s/it]"
     ]
    },
    {
     "name": "stdout",
     "output_type": "stream",
     "text": [
      "영화 '왕자와 거지'의 평점: 평균 별점\n",
      "(113명)\n",
      "검색할 영화 이름: 우리에게 내일은 있다\n",
      "검색 결과 1번째 항목 확인\n"
     ]
    },
    {
     "name": "stderr",
     "output_type": "stream",
     "text": [
      "Processing Movies:  44%|█████████████████████████▊                                | 483/1086 [1:13:08<38:59,  3.88s/it]"
     ]
    },
    {
     "name": "stdout",
     "output_type": "stream",
     "text": [
      "영화 '우리에게 내일은 있다'의 평점: 평균 별점\n",
      "(9명)\n",
      "검색할 영화 이름: 마이웨이\n",
      "검색 결과 1번째 항목 확인\n",
      "검색 결과 2번째 항목 확인\n"
     ]
    },
    {
     "name": "stderr",
     "output_type": "stream",
     "text": [
      "Processing Movies:  45%|█████████████████████████▊                                | 484/1086 [1:13:15<46:32,  4.64s/it]"
     ]
    },
    {
     "name": "stdout",
     "output_type": "stream",
     "text": [
      "영화 '마이웨이'의 평점: 평균 별점\n",
      "(11.5만명)\n",
      "검색할 영화 이름: 세븐 얼론\n",
      "검색 결과 1번째 항목 확인\n"
     ]
    },
    {
     "name": "stderr",
     "output_type": "stream",
     "text": [
      "Processing Movies:  45%|█████████████████████████▉                                | 485/1086 [1:13:18<42:10,  4.21s/it]"
     ]
    },
    {
     "name": "stdout",
     "output_type": "stream",
     "text": [
      "영화 '세븐 얼론'의 평점: 평균 별점\n",
      "(3명)\n",
      "검색할 영화 이름: 메리 포핀스\n",
      "검색 결과 1번째 항목 확인\n"
     ]
    },
    {
     "name": "stderr",
     "output_type": "stream",
     "text": [
      "Processing Movies:  45%|█████████████████████████▉                                | 486/1086 [1:13:21<40:08,  4.01s/it]"
     ]
    },
    {
     "name": "stdout",
     "output_type": "stream",
     "text": [
      "영화 '메리 포핀스'의 평점: 평균 별점\n",
      "(2.5만명)\n",
      "검색할 영화 이름: 외아들\n",
      "검색 결과 1번째 항목 확인\n",
      "내부 에러 발생: Message: \n",
      "Stacktrace:\n",
      "\tGetHandleVerifier [0x005CB8E3+45827]\n",
      "\t(No symbol) [0x0055DCC4]\n",
      "\t(No symbol) [0x0045150F]\n",
      "\t(No symbol) [0x004920BC]\n",
      "\t(No symbol) [0x0049216B]\n",
      "\t(No symbol) [0x004CE0F2]\n",
      "\t(No symbol) [0x004B2E44]\n",
      "\t(No symbol) [0x004CC034]\n",
      "\t(No symbol) [0x004B2B96]\n",
      "\t(No symbol) [0x00486998]\n",
      "\t(No symbol) [0x0048751D]\n",
      "\tGetHandleVerifier [0x00884513+2899763]\n",
      "\tGetHandleVerifier [0x008D793D+3240797]\n",
      "\tGetHandleVerifier [0x006513B4+593364]\n",
      "\tGetHandleVerifier [0x006582DC+621820]\n",
      "\t(No symbol) [0x005670A4]\n",
      "\t(No symbol) [0x005637A8]\n",
      "\t(No symbol) [0x00563947]\n",
      "\t(No symbol) [0x005559FE]\n",
      "\tBaseThreadInitThunk [0x753D7BA9+25]\n",
      "\tRtlInitializeExceptionChain [0x7775BE3B+107]\n",
      "\tRtlClearBits [0x7775BDBF+191]\n",
      "\n",
      "검색 결과 2번째 항목 확인\n",
      "내부 에러 발생: Message: \n",
      "Stacktrace:\n",
      "\tGetHandleVerifier [0x005CB8E3+45827]\n",
      "\t(No symbol) [0x0055DCC4]\n",
      "\t(No symbol) [0x0045150F]\n",
      "\t(No symbol) [0x004920BC]\n",
      "\t(No symbol) [0x0049216B]\n",
      "\t(No symbol) [0x004CE0F2]\n",
      "\t(No symbol) [0x004B2E44]\n",
      "\t(No symbol) [0x004CC034]\n",
      "\t(No symbol) [0x004B2B96]\n",
      "\t(No symbol) [0x00486998]\n",
      "\t(No symbol) [0x0048751D]\n",
      "\tGetHandleVerifier [0x00884513+2899763]\n",
      "\tGetHandleVerifier [0x008D793D+3240797]\n",
      "\tGetHandleVerifier [0x006513B4+593364]\n",
      "\tGetHandleVerifier [0x006582DC+621820]\n",
      "\t(No symbol) [0x005670A4]\n",
      "\t(No symbol) [0x005637A8]\n",
      "\t(No symbol) [0x00563947]\n",
      "\t(No symbol) [0x005559FE]\n",
      "\tBaseThreadInitThunk [0x753D7BA9+25]\n",
      "\tRtlInitializeExceptionChain [0x7775BE3B+107]\n",
      "\tRtlClearBits [0x7775BDBF+191]\n",
      "\n",
      "검색 결과 3번째 항목 확인\n",
      "내부 에러 발생: Message: \n",
      "Stacktrace:\n",
      "\tGetHandleVerifier [0x005CB8E3+45827]\n",
      "\t(No symbol) [0x0055DCC4]\n",
      "\t(No symbol) [0x0045150F]\n",
      "\t(No symbol) [0x004920BC]\n",
      "\t(No symbol) [0x0049216B]\n",
      "\t(No symbol) [0x004CE0F2]\n",
      "\t(No symbol) [0x004B2E44]\n",
      "\t(No symbol) [0x004CC034]\n",
      "\t(No symbol) [0x004B2B96]\n",
      "\t(No symbol) [0x00486998]\n",
      "\t(No symbol) [0x0048751D]\n",
      "\tGetHandleVerifier [0x00884513+2899763]\n",
      "\tGetHandleVerifier [0x008D793D+3240797]\n",
      "\tGetHandleVerifier [0x006513B4+593364]\n",
      "\tGetHandleVerifier [0x006582DC+621820]\n",
      "\t(No symbol) [0x005670A4]\n",
      "\t(No symbol) [0x005637A8]\n",
      "\t(No symbol) [0x00563947]\n",
      "\t(No symbol) [0x005559FE]\n",
      "\tBaseThreadInitThunk [0x753D7BA9+25]\n",
      "\tRtlInitializeExceptionChain [0x7775BE3B+107]\n",
      "\tRtlClearBits [0x7775BDBF+191]\n",
      "\n"
     ]
    },
    {
     "name": "stderr",
     "output_type": "stream",
     "text": [
      "Processing Movies:  45%|█████████████████████████                               | 487/1086 [1:14:18<3:16:17, 19.66s/it]"
     ]
    },
    {
     "name": "stdout",
     "output_type": "stream",
     "text": [
      "검색할 영화 이름: 박서방\n",
      "검색 결과 1번째 항목 확인\n"
     ]
    },
    {
     "name": "stderr",
     "output_type": "stream",
     "text": [
      "Processing Movies:  45%|█████████████████████████▏                              | 488/1086 [1:14:21<2:27:14, 14.77s/it]"
     ]
    },
    {
     "name": "stdout",
     "output_type": "stream",
     "text": [
      "영화 '박서방'의 평점: 평균 별점\n",
      "(135명)\n",
      "검색할 영화 이름: 로빈슨가의 모험\n"
     ]
    },
    {
     "name": "stderr",
     "output_type": "stream",
     "text": [
      "Processing Movies:  45%|█████████████████████████▏                              | 489/1086 [1:14:25<1:56:05, 11.67s/it]"
     ]
    },
    {
     "name": "stdout",
     "output_type": "stream",
     "text": [
      "검색할 영화 이름: 길은 멀어도 마음만은\n",
      "검색 결과 1번째 항목 확인\n"
     ]
    },
    {
     "name": "stderr",
     "output_type": "stream",
     "text": [
      "Processing Movies:  45%|█████████████████████████▎                              | 490/1086 [1:14:29<1:30:47,  9.14s/it]"
     ]
    },
    {
     "name": "stdout",
     "output_type": "stream",
     "text": [
      "영화 '길은 멀어도 마음만은'의 평점: 평균 별점\n",
      "(87명)\n",
      "검색할 영화 이름: 내 모든 것을 다주어도\n",
      "검색 결과 1번째 항목 확인\n"
     ]
    },
    {
     "name": "stderr",
     "output_type": "stream",
     "text": [
      "Processing Movies:  45%|█████████████████████████▎                              | 491/1086 [1:14:32<1:13:04,  7.37s/it]"
     ]
    },
    {
     "name": "stdout",
     "output_type": "stream",
     "text": [
      "영화 '내 모든 것을 다주어도'의 평점: 평균 별점\n",
      "(12명)\n",
      "검색할 영화 이름: 시집가는 날\n",
      "검색 결과 1번째 항목 확인\n"
     ]
    },
    {
     "name": "stderr",
     "output_type": "stream",
     "text": [
      "Processing Movies:  45%|█████████████████████████▎                              | 492/1086 [1:14:35<1:00:37,  6.12s/it]"
     ]
    },
    {
     "name": "stdout",
     "output_type": "stream",
     "text": [
      "영화 '시집가는 날'의 평점: 평균 별점\n",
      "(217명)\n",
      "검색할 영화 이름: 환타지아\n",
      "검색 결과 1번째 항목 확인\n"
     ]
    },
    {
     "name": "stderr",
     "output_type": "stream",
     "text": [
      "Processing Movies:  45%|██████████████████████████▎                               | 493/1086 [1:14:38<51:54,  5.25s/it]"
     ]
    },
    {
     "name": "stdout",
     "output_type": "stream",
     "text": [
      "영화 '환타지아'의 평점: 평균 별점\n",
      "(3.0만명)\n",
      "검색할 영화 이름: 오즈의 마법사\n",
      "검색 결과 1번째 항목 확인\n"
     ]
    },
    {
     "name": "stderr",
     "output_type": "stream",
     "text": [
      "Processing Movies:  45%|██████████████████████████▍                               | 494/1086 [1:14:42<45:50,  4.65s/it]"
     ]
    },
    {
     "name": "stdout",
     "output_type": "stream",
     "text": [
      "영화 '오즈의 마법사'의 평점: 평균 별점\n",
      "(6.1만명)\n",
      "검색할 영화 이름: 화녀\n",
      "검색 결과 1번째 항목 확인\n",
      "검색 결과 2번째 항목 확인\n"
     ]
    },
    {
     "name": "stderr",
     "output_type": "stream",
     "text": [
      "Processing Movies:  46%|██████████████████████████▍                               | 495/1086 [1:14:48<50:47,  5.16s/it]"
     ]
    },
    {
     "name": "stdout",
     "output_type": "stream",
     "text": [
      "영화 '화녀'의 평점: 평균 별점\n",
      "(4,565명)\n",
      "검색할 영화 이름: 마더스\n",
      "검색 결과 1번째 항목 확인\n",
      "검색 결과 2번째 항목 확인\n",
      "검색 결과 3번째 항목 확인\n",
      "검색 결과 4번째 항목 확인\n"
     ]
    },
    {
     "name": "stderr",
     "output_type": "stream",
     "text": [
      "Processing Movies:  46%|█████████████████████████▌                              | 496/1086 [1:15:01<1:12:49,  7.41s/it]"
     ]
    },
    {
     "name": "stdout",
     "output_type": "stream",
     "text": [
      "영화 '마더스'의 평점: 평균 별점\n",
      "(1,322명)\n",
      "검색할 영화 이름: 뉴 노멀\n",
      "검색 결과 1번째 항목 확인\n"
     ]
    },
    {
     "name": "stderr",
     "output_type": "stream",
     "text": [
      "Processing Movies:  46%|█████████████████████████▋                              | 497/1086 [1:15:04<1:00:25,  6.16s/it]"
     ]
    },
    {
     "name": "stdout",
     "output_type": "stream",
     "text": [
      "영화 '뉴 노멀'의 평점: 평균 별점\n",
      "(4명)\n",
      "검색할 영화 이름: 티빙 오리지널 운수 오진 날\n"
     ]
    },
    {
     "name": "stderr",
     "output_type": "stream",
     "text": [
      "Processing Movies:  46%|██████████████████████████▌                               | 498/1086 [1:15:08<54:43,  5.58s/it]"
     ]
    },
    {
     "name": "stdout",
     "output_type": "stream",
     "text": [
      "검색할 영화 이름: 다이브: 100 피트 추락\n",
      "검색 결과 1번째 항목 확인\n"
     ]
    },
    {
     "name": "stderr",
     "output_type": "stream",
     "text": [
      "Processing Movies:  46%|██████████████████████████▋                               | 499/1086 [1:15:11<47:48,  4.89s/it]"
     ]
    },
    {
     "name": "stdout",
     "output_type": "stream",
     "text": [
      "영화 '다이브: 100 피트 추락'의 평점: 평균 별점\n",
      "(441명)\n",
      "검색할 영화 이름: 언더 유어 베드\n",
      "검색 결과 1번째 항목 확인\n"
     ]
    },
    {
     "name": "stderr",
     "output_type": "stream",
     "text": [
      "Processing Movies:  46%|██████████████████████████▋                               | 500/1086 [1:15:15<42:51,  4.39s/it]"
     ]
    },
    {
     "name": "stdout",
     "output_type": "stream",
     "text": [
      "영화 '언더 유어 베드'의 평점: 평균 별점\n",
      "(247명)\n",
      "검색할 영화 이름: 무명\n",
      "검색 결과 1번째 항목 확인\n",
      "검색 결과 2번째 항목 확인\n"
     ]
    },
    {
     "name": "stderr",
     "output_type": "stream",
     "text": [
      "Processing Movies:  46%|██████████████████████████▊                               | 501/1086 [1:15:21<48:32,  4.98s/it]"
     ]
    },
    {
     "name": "stdout",
     "output_type": "stream",
     "text": [
      "영화 '무명'의 평점: 평균 별점\n",
      "(1,076명)\n",
      "검색할 영화 이름: 오펜하이머\n",
      "검색 결과 1번째 항목 확인\n"
     ]
    },
    {
     "name": "stderr",
     "output_type": "stream",
     "text": [
      "Processing Movies:  46%|██████████████████████████▊                               | 502/1086 [1:15:24<43:46,  4.50s/it]"
     ]
    },
    {
     "name": "stdout",
     "output_type": "stream",
     "text": [
      "영화 '오펜하이머'의 평점: 평균 별점\n",
      "(10.3만명)\n",
      "검색할 영화 이름: 더 킬러\n",
      "검색 결과 1번째 항목 확인\n",
      "검색 결과 2번째 항목 확인\n",
      "검색 결과 3번째 항목 확인\n"
     ]
    },
    {
     "name": "stderr",
     "output_type": "stream",
     "text": [
      "Processing Movies:  46%|██████████████████████████▊                               | 503/1086 [1:15:34<58:16,  6.00s/it]"
     ]
    },
    {
     "name": "stdout",
     "output_type": "stream",
     "text": [
      "영화 '더 킬러'의 평점: 평균 별점\n",
      "(1.4만명)\n",
      "검색할 영화 이름: 블랙 데몬\n",
      "검색 결과 1번째 항목 확인\n"
     ]
    },
    {
     "name": "stderr",
     "output_type": "stream",
     "text": [
      "Processing Movies:  46%|██████████████████████████▉                               | 504/1086 [1:15:37<50:05,  5.16s/it]"
     ]
    },
    {
     "name": "stdout",
     "output_type": "stream",
     "text": [
      "영화 '블랙 데몬'의 평점: 평균 별점\n",
      "(183명)\n",
      "검색할 영화 이름: 차박- 살인과 낭만의 밤\n",
      "검색 결과 1번째 항목 확인\n"
     ]
    },
    {
     "name": "stderr",
     "output_type": "stream",
     "text": [
      "Processing Movies:  47%|██████████████████████████▉                               | 505/1086 [1:15:40<44:25,  4.59s/it]"
     ]
    },
    {
     "name": "stdout",
     "output_type": "stream",
     "text": [
      "영화 '차박- 살인과 낭만의 밤'의 평점: 평균 별점\n",
      "(1,491명)\n",
      "검색할 영화 이름: 칸다하\n",
      "검색 결과 1번째 항목 확인\n"
     ]
    },
    {
     "name": "stderr",
     "output_type": "stream",
     "text": [
      "Processing Movies:  47%|███████████████████████████                               | 506/1086 [1:15:43<40:22,  4.18s/it]"
     ]
    },
    {
     "name": "stdout",
     "output_type": "stream",
     "text": [
      "영화 '칸다하'의 평점: 평균 별점\n",
      "(239명)\n",
      "검색할 영화 이름: 레이징 그레이스\n",
      "검색 결과 1번째 항목 확인\n"
     ]
    },
    {
     "name": "stderr",
     "output_type": "stream",
     "text": [
      "Processing Movies:  47%|███████████████████████████                               | 507/1086 [1:15:47<37:32,  3.89s/it]"
     ]
    },
    {
     "name": "stdout",
     "output_type": "stream",
     "text": [
      "영화 '레이징 그레이스'의 평점: 평균 별점\n",
      "(326명)\n",
      "검색할 영화 이름: 피기\n",
      "검색 결과 1번째 항목 확인\n"
     ]
    },
    {
     "name": "stderr",
     "output_type": "stream",
     "text": [
      "Processing Movies:  47%|███████████████████████████▏                              | 508/1086 [1:15:50<35:31,  3.69s/it]"
     ]
    },
    {
     "name": "stdout",
     "output_type": "stream",
     "text": [
      "영화 '피기'의 평점: 평균 별점\n",
      "(3,597명)\n",
      "검색할 영화 이름: 47시간: 샤크베이트\n",
      "검색 결과 1번째 항목 확인\n"
     ]
    },
    {
     "name": "stderr",
     "output_type": "stream",
     "text": [
      "Processing Movies:  47%|███████████████████████████▏                              | 509/1086 [1:15:53<34:10,  3.55s/it]"
     ]
    },
    {
     "name": "stdout",
     "output_type": "stream",
     "text": [
      "영화 '47시간: 샤크베이트'의 평점: 평균 별점\n",
      "(60명)\n",
      "검색할 영화 이름: 더 리프: 언더 워터\n",
      "검색 결과 1번째 항목 확인\n"
     ]
    },
    {
     "name": "stderr",
     "output_type": "stream",
     "text": [
      "Processing Movies:  47%|███████████████████████████▏                              | 510/1086 [1:15:56<33:11,  3.46s/it]"
     ]
    },
    {
     "name": "stdout",
     "output_type": "stream",
     "text": [
      "영화 '더 리프: 언더 워터'의 평점: 평균 별점\n",
      "(58명)\n",
      "검색할 영화 이름: 몸값part.1\n"
     ]
    },
    {
     "name": "stderr",
     "output_type": "stream",
     "text": [
      "Processing Movies:  47%|███████████████████████████▎                              | 511/1086 [1:16:01<36:24,  3.80s/it]"
     ]
    },
    {
     "name": "stdout",
     "output_type": "stream",
     "text": [
      "검색할 영화 이름: 몸값part.2\n"
     ]
    },
    {
     "name": "stderr",
     "output_type": "stream",
     "text": [
      "Processing Movies:  47%|███████████████████████████▎                              | 512/1086 [1:16:05<37:37,  3.93s/it]"
     ]
    },
    {
     "name": "stdout",
     "output_type": "stream",
     "text": [
      "검색할 영화 이름: 엄마\n",
      "검색 결과 1번째 항목 확인\n"
     ]
    },
    {
     "name": "stderr",
     "output_type": "stream",
     "text": [
      "Processing Movies:  47%|███████████████████████████▍                              | 513/1086 [1:16:09<36:38,  3.84s/it]"
     ]
    },
    {
     "name": "stdout",
     "output_type": "stream",
     "text": [
      "영화 '엄마'의 평점: 평균 별점\n",
      "(1,230명)\n",
      "검색할 영화 이름: 그 남자, 좋은 간호사\n",
      "검색 결과 1번째 항목 확인\n"
     ]
    },
    {
     "name": "stderr",
     "output_type": "stream",
     "text": [
      "Processing Movies:  47%|███████████████████████████▍                              | 514/1086 [1:16:12<34:55,  3.66s/it]"
     ]
    },
    {
     "name": "stdout",
     "output_type": "stream",
     "text": [
      "영화 '그 남자, 좋은 간호사'의 평점: 평균 별점\n",
      "(6,499명)\n",
      "검색할 영화 이름: 데드캠핑 더라이브\n",
      "검색 결과 1번째 항목 확인\n"
     ]
    },
    {
     "name": "stderr",
     "output_type": "stream",
     "text": [
      "Processing Movies:  47%|███████████████████████████▌                              | 515/1086 [1:16:15<33:34,  3.53s/it]"
     ]
    },
    {
     "name": "stdout",
     "output_type": "stream",
     "text": [
      "영화 '데드캠핑 더라이브'의 평점: 평균 별점\n",
      "(191명)\n",
      "검색할 영화 이름: 앵커\n",
      "검색 결과 1번째 항목 확인\n"
     ]
    },
    {
     "name": "stderr",
     "output_type": "stream",
     "text": [
      "Processing Movies:  48%|███████████████████████████▌                              | 516/1086 [1:16:18<32:37,  3.44s/it]"
     ]
    },
    {
     "name": "stdout",
     "output_type": "stream",
     "text": [
      "영화 '앵커'의 평점: 평균 별점\n",
      "(6,942명)\n",
      "검색할 영화 이름: 파로호\n",
      "검색 결과 1번째 항목 확인\n"
     ]
    },
    {
     "name": "stderr",
     "output_type": "stream",
     "text": [
      "Processing Movies:  48%|███████████████████████████▌                              | 517/1086 [1:16:22<31:58,  3.37s/it]"
     ]
    },
    {
     "name": "stdout",
     "output_type": "stream",
     "text": [
      "영화 '파로호'의 평점: 평균 별점\n",
      "(682명)\n",
      "검색할 영화 이름: 셰터드\n",
      "검색 결과 1번째 항목 확인\n"
     ]
    },
    {
     "name": "stderr",
     "output_type": "stream",
     "text": [
      "Processing Movies:  48%|███████████████████████████▋                              | 518/1086 [1:16:25<31:31,  3.33s/it]"
     ]
    },
    {
     "name": "stdout",
     "output_type": "stream",
     "text": [
      "영화 '셰터드'의 평점: 평균 별점\n",
      "(952명)\n",
      "검색할 영화 이름: 옆집사람\n",
      "검색 결과 1번째 항목 확인\n"
     ]
    },
    {
     "name": "stderr",
     "output_type": "stream",
     "text": [
      "Processing Movies:  48%|███████████████████████████▋                              | 519/1086 [1:16:28<31:06,  3.29s/it]"
     ]
    },
    {
     "name": "stdout",
     "output_type": "stream",
     "text": [
      "영화 '옆집사람'의 평점: 평균 별점\n",
      "(2,466명)\n",
      "검색할 영화 이름: 사잇소리\n",
      "검색 결과 1번째 항목 확인\n"
     ]
    },
    {
     "name": "stderr",
     "output_type": "stream",
     "text": [
      "Processing Movies:  48%|███████████████████████████▊                              | 520/1086 [1:16:31<30:51,  3.27s/it]"
     ]
    },
    {
     "name": "stdout",
     "output_type": "stream",
     "text": [
      "영화 '사잇소리'의 평점: 평균 별점\n",
      "(216명)\n",
      "검색할 영화 이름: 폴: 600미터\n",
      "검색 결과 1번째 항목 확인\n"
     ]
    },
    {
     "name": "stderr",
     "output_type": "stream",
     "text": [
      "Processing Movies:  48%|███████████████████████████▊                              | 521/1086 [1:16:35<30:39,  3.26s/it]"
     ]
    },
    {
     "name": "stdout",
     "output_type": "stream",
     "text": [
      "영화 '폴: 600미터'의 평점: 평균 별점\n",
      "(2.7만명)\n",
      "검색할 영화 이름: 더 메뉴\n",
      "검색 결과 1번째 항목 확인\n"
     ]
    },
    {
     "name": "stderr",
     "output_type": "stream",
     "text": [
      "Processing Movies:  48%|███████████████████████████▉                              | 522/1086 [1:16:38<30:29,  3.24s/it]"
     ]
    },
    {
     "name": "stdout",
     "output_type": "stream",
     "text": [
      "영화 '더 메뉴'의 평점: 평균 별점\n",
      "(2.0만명)\n",
      "검색할 영화 이름: 라방\n",
      "검색 결과 1번째 항목 확인\n"
     ]
    },
    {
     "name": "stderr",
     "output_type": "stream",
     "text": [
      "Processing Movies:  48%|███████████████████████████▉                              | 523/1086 [1:16:41<30:22,  3.24s/it]"
     ]
    },
    {
     "name": "stdout",
     "output_type": "stream",
     "text": [
      "영화 '라방'의 평점: 평균 별점\n",
      "(1,709명)\n",
      "검색할 영화 이름: 썬 오브 람세스\n",
      "검색 결과 1번째 항목 확인\n"
     ]
    },
    {
     "name": "stderr",
     "output_type": "stream",
     "text": [
      "Processing Movies:  48%|███████████████████████████▉                              | 524/1086 [1:16:44<30:15,  3.23s/it]"
     ]
    },
    {
     "name": "stdout",
     "output_type": "stream",
     "text": [
      "영화 '썬 오브 람세스'의 평점: 평균 별점\n",
      "(89명)\n",
      "검색할 영화 이름: 타겟\n",
      "검색 결과 1번째 항목 확인\n",
      "검색 결과 2번째 항목 확인\n"
     ]
    },
    {
     "name": "stderr",
     "output_type": "stream",
     "text": [
      "Processing Movies:  48%|████████████████████████████                              | 525/1086 [1:16:51<38:52,  4.16s/it]"
     ]
    },
    {
     "name": "stdout",
     "output_type": "stream",
     "text": [
      "영화 '타겟'의 평점: 평균 별점\n",
      "(1.1만명)\n",
      "검색할 영화 이름: 케이지드\n",
      "검색 결과 1번째 항목 확인\n"
     ]
    },
    {
     "name": "stderr",
     "output_type": "stream",
     "text": [
      "Processing Movies:  48%|████████████████████████████                              | 526/1086 [1:16:54<36:12,  3.88s/it]"
     ]
    },
    {
     "name": "stdout",
     "output_type": "stream",
     "text": [
      "영화 '케이지드'의 평점: 평균 별점\n",
      "(33명)\n",
      "검색할 영화 이름: 수색자\n",
      "검색 결과 1번째 항목 확인\n"
     ]
    },
    {
     "name": "stderr",
     "output_type": "stream",
     "text": [
      "Processing Movies:  49%|████████████████████████████▏                             | 527/1086 [1:16:57<34:28,  3.70s/it]"
     ]
    },
    {
     "name": "stdout",
     "output_type": "stream",
     "text": [
      "영화 '수색자'의 평점: 평균 별점\n",
      "(352명)\n",
      "검색할 영화 이름: 캐릭터\n",
      "검색 결과 1번째 항목 확인\n"
     ]
    },
    {
     "name": "stderr",
     "output_type": "stream",
     "text": [
      "Processing Movies:  49%|████████████████████████████▏                             | 528/1086 [1:17:00<33:03,  3.55s/it]"
     ]
    },
    {
     "name": "stdout",
     "output_type": "stream",
     "text": [
      "영화 '캐릭터'의 평점: 평균 별점\n",
      "(634명)\n",
      "검색할 영화 이름: 패닉 런\n",
      "검색 결과 1번째 항목 확인\n"
     ]
    },
    {
     "name": "stderr",
     "output_type": "stream",
     "text": [
      "Processing Movies:  49%|████████████████████████████▎                             | 529/1086 [1:17:03<32:03,  3.45s/it]"
     ]
    },
    {
     "name": "stdout",
     "output_type": "stream",
     "text": [
      "영화 '패닉 런'의 평점: 평균 별점\n",
      "(445명)\n",
      "검색할 영화 이름: 나이트 레이더스\n",
      "검색 결과 1번째 항목 확인\n"
     ]
    },
    {
     "name": "stderr",
     "output_type": "stream",
     "text": [
      "Processing Movies:  49%|████████████████████████████▎                             | 530/1086 [1:17:07<31:21,  3.38s/it]"
     ]
    },
    {
     "name": "stdout",
     "output_type": "stream",
     "text": [
      "영화 '나이트 레이더스'의 평점: 평균 별점\n",
      "(136명)\n",
      "검색할 영화 이름: 마이 선\n",
      "검색 결과 1번째 항목 확인\n"
     ]
    },
    {
     "name": "stderr",
     "output_type": "stream",
     "text": [
      "Processing Movies:  49%|████████████████████████████▎                             | 531/1086 [1:17:10<30:50,  3.33s/it]"
     ]
    },
    {
     "name": "stdout",
     "output_type": "stream",
     "text": [
      "영화 '마이 선'의 평점: 평균 별점\n",
      "(139명)\n",
      "검색할 영화 이름: 더 노비스\n",
      "검색 결과 1번째 항목 확인\n"
     ]
    },
    {
     "name": "stderr",
     "output_type": "stream",
     "text": [
      "Processing Movies:  49%|████████████████████████████▍                             | 532/1086 [1:17:13<30:28,  3.30s/it]"
     ]
    },
    {
     "name": "stdout",
     "output_type": "stream",
     "text": [
      "영화 '더 노비스'의 평점: 평균 별점\n",
      "(1,059명)\n",
      "검색할 영화 이름: 서치: 데스게임\n",
      "검색 결과 1번째 항목 확인\n"
     ]
    },
    {
     "name": "stderr",
     "output_type": "stream",
     "text": [
      "Processing Movies:  49%|████████████████████████████▍                             | 533/1086 [1:17:16<30:15,  3.28s/it]"
     ]
    },
    {
     "name": "stdout",
     "output_type": "stream",
     "text": [
      "영화 '서치: 데스게임'의 평점: 평균 별점\n",
      "(48명)\n",
      "검색할 영화 이름: 보일링 포인트\n",
      "검색 결과 1번째 항목 확인\n"
     ]
    },
    {
     "name": "stderr",
     "output_type": "stream",
     "text": [
      "Processing Movies:  49%|████████████████████████████▌                             | 534/1086 [1:17:20<30:03,  3.27s/it]"
     ]
    },
    {
     "name": "stdout",
     "output_type": "stream",
     "text": [
      "영화 '보일링 포인트'의 평점: 평균 별점\n",
      "(4,368명)\n",
      "검색할 영화 이름: 개인레슨\n",
      "검색 결과 1번째 항목 확인\n"
     ]
    },
    {
     "name": "stderr",
     "output_type": "stream",
     "text": [
      "Processing Movies:  49%|████████████████████████████▌                             | 535/1086 [1:17:23<29:53,  3.26s/it]"
     ]
    },
    {
     "name": "stdout",
     "output_type": "stream",
     "text": [
      "영화 '개인레슨'의 평점: 평균 별점\n",
      "(176명)\n",
      "검색할 영화 이름: 발신제한\n",
      "검색 결과 1번째 항목 확인\n"
     ]
    },
    {
     "name": "stderr",
     "output_type": "stream",
     "text": [
      "Processing Movies:  49%|████████████████████████████▋                             | 536/1086 [1:17:26<29:43,  3.24s/it]"
     ]
    },
    {
     "name": "stdout",
     "output_type": "stream",
     "text": [
      "영화 '발신제한'의 평점: 평균 별점\n",
      "(1.9만명)\n",
      "검색할 영화 이름: 악인은 너무 많다 2 - 제주 실종사건의 전말\n",
      "검색 결과 1번째 항목 확인\n"
     ]
    },
    {
     "name": "stderr",
     "output_type": "stream",
     "text": [
      "Processing Movies:  49%|████████████████████████████▋                             | 537/1086 [1:17:34<42:22,  4.63s/it]"
     ]
    },
    {
     "name": "stdout",
     "output_type": "stream",
     "text": [
      "검색할 영화 이름: 볼코노고프 대위 탈출하다\n",
      "검색 결과 1번째 항목 확인\n"
     ]
    },
    {
     "name": "stderr",
     "output_type": "stream",
     "text": [
      "Processing Movies:  50%|████████████████████████████▋                             | 538/1086 [1:17:37<38:51,  4.25s/it]"
     ]
    },
    {
     "name": "stdout",
     "output_type": "stream",
     "text": [
      "영화 '볼코노고프 대위 탈출하다'의 평점: 평균 별점\n",
      "(1,493명)\n",
      "검색할 영화 이름: 아이스 로드\n",
      "검색 결과 1번째 항목 확인\n"
     ]
    },
    {
     "name": "stderr",
     "output_type": "stream",
     "text": [
      "Processing Movies:  50%|████████████████████████████▊                             | 539/1086 [1:17:41<35:59,  3.95s/it]"
     ]
    },
    {
     "name": "stdout",
     "output_type": "stream",
     "text": [
      "영화 '아이스 로드'의 평점: 평균 별점\n",
      "(1,649명)\n",
      "검색할 영화 이름: 더 도터\n",
      "검색 결과 1번째 항목 확인\n"
     ]
    },
    {
     "name": "stderr",
     "output_type": "stream",
     "text": [
      "Processing Movies:  50%|████████████████████████████▊                             | 540/1086 [1:17:44<33:56,  3.73s/it]"
     ]
    },
    {
     "name": "stdout",
     "output_type": "stream",
     "text": [
      "영화 '더 도터'의 평점: 평균 별점\n",
      "(49명)\n",
      "검색할 영화 이름: 올빼미\n",
      "검색 결과 1번째 항목 확인\n"
     ]
    },
    {
     "name": "stderr",
     "output_type": "stream",
     "text": [
      "Processing Movies:  50%|████████████████████████████▉                             | 541/1086 [1:17:47<32:26,  3.57s/it]"
     ]
    },
    {
     "name": "stdout",
     "output_type": "stream",
     "text": [
      "영화 '올빼미'의 평점: 평균 별점\n",
      "(34명)\n",
      "검색할 영화 이름: 극장판 카케구루이2: 절체절명의 러시안 룰렛\n",
      "검색 결과 1번째 항목 확인\n"
     ]
    },
    {
     "name": "stderr",
     "output_type": "stream",
     "text": [
      "Processing Movies:  50%|████████████████████████████▉                             | 542/1086 [1:17:50<31:32,  3.48s/it]"
     ]
    },
    {
     "name": "stdout",
     "output_type": "stream",
     "text": [
      "영화 '극장판 카케구루이2: 절체절명의 러시안 룰렛'의 평점: 평균 별점\n",
      "(316명)\n",
      "검색할 영화 이름: F20\n",
      "검색 결과 1번째 항목 확인\n"
     ]
    },
    {
     "name": "stderr",
     "output_type": "stream",
     "text": [
      "Processing Movies:  50%|█████████████████████████████                             | 543/1086 [1:17:53<30:43,  3.40s/it]"
     ]
    },
    {
     "name": "stdout",
     "output_type": "stream",
     "text": [
      "영화 'F20'의 평점: 평균 별점\n",
      "(633명)\n",
      "검색할 영화 이름: 말리그넌트\n"
     ]
    },
    {
     "name": "stderr",
     "output_type": "stream",
     "text": [
      "Processing Movies:  50%|█████████████████████████████                             | 544/1086 [1:17:58<32:56,  3.65s/it]"
     ]
    },
    {
     "name": "stdout",
     "output_type": "stream",
     "text": [
      "검색할 영화 이름: 콰이어트 플레이스 2\n",
      "검색 결과 1번째 항목 확인\n"
     ]
    },
    {
     "name": "stderr",
     "output_type": "stream",
     "text": [
      "Processing Movies:  50%|█████████████████████████████                             | 545/1086 [1:18:01<31:52,  3.53s/it]"
     ]
    },
    {
     "name": "stdout",
     "output_type": "stream",
     "text": [
      "영화 '콰이어트 플레이스 2'의 평점: 평균 별점\n",
      "(3.9만명)\n",
      "검색할 영화 이름: 구원\n",
      "검색 결과 1번째 항목 확인\n"
     ]
    },
    {
     "name": "stderr",
     "output_type": "stream",
     "text": [
      "Processing Movies:  50%|█████████████████████████████▏                            | 546/1086 [1:18:04<30:53,  3.43s/it]"
     ]
    },
    {
     "name": "stdout",
     "output_type": "stream",
     "text": [
      "영화 '구원'의 평점: 평균 별점\n",
      "(94명)\n",
      "검색할 영화 이름: 미드나이트\n",
      "검색 결과 1번째 항목 확인\n"
     ]
    },
    {
     "name": "stderr",
     "output_type": "stream",
     "text": [
      "Processing Movies:  50%|█████████████████████████████▏                            | 547/1086 [1:18:07<30:18,  3.37s/it]"
     ]
    },
    {
     "name": "stdout",
     "output_type": "stream",
     "text": [
      "영화 '미드나이트'의 평점: 평균 별점\n",
      "(3,355명)\n",
      "검색할 영화 이름: 더 퍼지: 포에버\n",
      "검색 결과 1번째 항목 확인\n"
     ]
    },
    {
     "name": "stderr",
     "output_type": "stream",
     "text": [
      "Processing Movies:  50%|█████████████████████████████▎                            | 548/1086 [1:18:11<30:02,  3.35s/it]"
     ]
    },
    {
     "name": "stdout",
     "output_type": "stream",
     "text": [
      "영화 '더 퍼지: 포에버'의 평점: 평균 별점\n",
      "(1,325명)\n",
      "검색할 영화 이름: 언힌지드\n",
      "검색 결과 1번째 항목 확인\n"
     ]
    },
    {
     "name": "stderr",
     "output_type": "stream",
     "text": [
      "Processing Movies:  51%|█████████████████████████████▎                            | 549/1086 [1:18:14<29:48,  3.33s/it]"
     ]
    },
    {
     "name": "stdout",
     "output_type": "stream",
     "text": [
      "영화 '언힌지드'의 평점: 평균 별점\n",
      "(7,543명)\n",
      "검색할 영화 이름: 좀비캠프\n",
      "검색 결과 1번째 항목 확인\n"
     ]
    },
    {
     "name": "stderr",
     "output_type": "stream",
     "text": [
      "Processing Movies:  51%|█████████████████████████████▎                            | 550/1086 [1:18:17<29:35,  3.31s/it]"
     ]
    },
    {
     "name": "stdout",
     "output_type": "stream",
     "text": [
      "영화 '좀비캠프'의 평점: 평균 별점\n",
      "(574명)\n",
      "검색할 영화 이름: 아무도 없다\n",
      "검색 결과 1번째 항목 확인\n",
      "검색 결과 2번째 항목 확인\n",
      "검색 결과 3번째 항목 확인\n"
     ]
    },
    {
     "name": "stderr",
     "output_type": "stream",
     "text": [
      "Processing Movies:  51%|█████████████████████████████▍                            | 551/1086 [1:18:27<46:15,  5.19s/it]"
     ]
    },
    {
     "name": "stdout",
     "output_type": "stream",
     "text": [
      "영화 '아무도 없다'의 평점: 평균 별점\n",
      "(1,001명)\n",
      "검색할 영화 이름: O.J. 심슨 사건 파일\n",
      "검색 결과 1번째 항목 확인\n"
     ]
    },
    {
     "name": "stderr",
     "output_type": "stream",
     "text": [
      "Processing Movies:  51%|█████████████████████████████▍                            | 552/1086 [1:18:30<41:18,  4.64s/it]"
     ]
    },
    {
     "name": "stdout",
     "output_type": "stream",
     "text": [
      "영화 'O.J. 심슨 사건 파일'의 평점: 평균 별점\n",
      "(107명)\n",
      "검색할 영화 이름: 늑대와 빨간 재킷\n",
      "검색 결과 1번째 항목 확인\n"
     ]
    },
    {
     "name": "stderr",
     "output_type": "stream",
     "text": [
      "Processing Movies:  51%|█████████████████████████████▌                            | 553/1086 [1:18:33<37:35,  4.23s/it]"
     ]
    },
    {
     "name": "stdout",
     "output_type": "stream",
     "text": [
      "영화 '늑대와 빨간 재킷'의 평점: 평균 별점\n",
      "(98명)\n",
      "검색할 영화 이름: 게임의 법칙: 인간사냥\n",
      "검색 결과 1번째 항목 확인\n"
     ]
    },
    {
     "name": "stderr",
     "output_type": "stream",
     "text": [
      "Processing Movies:  51%|█████████████████████████████▌                            | 554/1086 [1:18:37<34:52,  3.93s/it]"
     ]
    },
    {
     "name": "stdout",
     "output_type": "stream",
     "text": [
      "영화 '게임의 법칙: 인간사냥'의 평점: 평균 별점\n",
      "(114명)\n",
      "검색할 영화 이름: 포제서\n",
      "검색 결과 1번째 항목 확인\n"
     ]
    },
    {
     "name": "stderr",
     "output_type": "stream",
     "text": [
      "Processing Movies:  51%|█████████████████████████████▋                            | 555/1086 [1:18:40<32:54,  3.72s/it]"
     ]
    },
    {
     "name": "stdout",
     "output_type": "stream",
     "text": [
      "영화 '포제서'의 평점: 평균 별점\n",
      "(1,887명)\n",
      "검색할 영화 이름: 스파이럴\n",
      "검색 결과 1번째 항목 확인\n"
     ]
    },
    {
     "name": "stderr",
     "output_type": "stream",
     "text": [
      "Processing Movies:  51%|█████████████████████████████▋                            | 556/1086 [1:18:43<31:34,  3.58s/it]"
     ]
    },
    {
     "name": "stdout",
     "output_type": "stream",
     "text": [
      "영화 '스파이럴'의 평점: 평균 별점\n",
      "(4,337명)\n",
      "검색할 영화 이름: 더 스파이\n",
      "검색 결과 1번째 항목 확인\n"
     ]
    },
    {
     "name": "stderr",
     "output_type": "stream",
     "text": [
      "Processing Movies:  51%|█████████████████████████████▋                            | 557/1086 [1:18:46<30:35,  3.47s/it]"
     ]
    },
    {
     "name": "stdout",
     "output_type": "stream",
     "text": [
      "영화 '더 스파이'의 평점: 평균 별점\n",
      "(7,889명)\n",
      "검색할 영화 이름: 모리타니안\n",
      "검색 결과 1번째 항목 확인\n"
     ]
    },
    {
     "name": "stderr",
     "output_type": "stream",
     "text": [
      "Processing Movies:  51%|█████████████████████████████▊                            | 558/1086 [1:18:50<29:54,  3.40s/it]"
     ]
    },
    {
     "name": "stdout",
     "output_type": "stream",
     "text": [
      "영화 '모리타니안'의 평점: 평균 별점\n",
      "(5,583명)\n",
      "검색할 영화 이름: 호라이즌 라인\n",
      "검색 결과 1번째 항목 확인\n"
     ]
    },
    {
     "name": "stderr",
     "output_type": "stream",
     "text": [
      "Processing Movies:  51%|█████████████████████████████▊                            | 559/1086 [1:18:53<29:25,  3.35s/it]"
     ]
    },
    {
     "name": "stdout",
     "output_type": "stream",
     "text": [
      "영화 '호라이즌 라인'의 평점: 평균 별점\n",
      "(357명)\n",
      "검색할 영화 이름: 더 시크릿\n",
      "검색 결과 1번째 항목 확인\n",
      "검색 결과 2번째 항목 확인\n"
     ]
    },
    {
     "name": "stderr",
     "output_type": "stream",
     "text": [
      "Processing Movies:  52%|█████████████████████████████▉                            | 560/1086 [1:18:59<37:15,  4.25s/it]"
     ]
    },
    {
     "name": "stdout",
     "output_type": "stream",
     "text": [
      "영화 '더 시크릿'의 평점: 평균 별점\n",
      "(361명)\n",
      "검색할 영화 이름: 아웃브레이크 호텔\n",
      "검색 결과 1번째 항목 확인\n"
     ]
    },
    {
     "name": "stderr",
     "output_type": "stream",
     "text": [
      "Processing Movies:  52%|█████████████████████████████▉                            | 561/1086 [1:19:02<34:41,  3.96s/it]"
     ]
    },
    {
     "name": "stdout",
     "output_type": "stream",
     "text": [
      "영화 '아웃브레이크 호텔'의 평점: 평균 별점\n",
      "(111명)\n",
      "검색할 영화 이름: 락다운 213주\n",
      "검색 결과 1번째 항목 확인\n"
     ]
    },
    {
     "name": "stderr",
     "output_type": "stream",
     "text": [
      "Processing Movies:  52%|██████████████████████████████                            | 562/1086 [1:19:06<33:07,  3.79s/it]"
     ]
    },
    {
     "name": "stdout",
     "output_type": "stream",
     "text": [
      "영화 '락다운 213주'의 평점: 평균 별점\n",
      "(157명)\n",
      "검색할 영화 이름: 크로스 더 라인\n",
      "검색 결과 1번째 항목 확인\n"
     ]
    },
    {
     "name": "stderr",
     "output_type": "stream",
     "text": [
      "Processing Movies:  52%|██████████████████████████████                            | 563/1086 [1:19:09<31:35,  3.62s/it]"
     ]
    },
    {
     "name": "stdout",
     "output_type": "stream",
     "text": [
      "영화 '크로스 더 라인'의 평점: 평균 별점\n",
      "(382명)\n",
      "검색할 영화 이름: 디바\n",
      "검색 결과 1번째 항목 확인\n"
     ]
    },
    {
     "name": "stderr",
     "output_type": "stream",
     "text": [
      "Processing Movies:  52%|██████████████████████████████                            | 564/1086 [1:19:12<30:26,  3.50s/it]"
     ]
    },
    {
     "name": "stdout",
     "output_type": "stream",
     "text": [
      "영화 '디바'의 평점: 평균 별점\n",
      "(9,969명)\n",
      "검색할 영화 이름: 뉴 오더\n",
      "검색 결과 1번째 항목 확인\n"
     ]
    },
    {
     "name": "stderr",
     "output_type": "stream",
     "text": [
      "Processing Movies:  52%|██████████████████████████████▏                           | 565/1086 [1:19:16<29:38,  3.41s/it]"
     ]
    },
    {
     "name": "stdout",
     "output_type": "stream",
     "text": [
      "영화 '뉴 오더'의 평점: 평균 별점\n",
      "(1,441명)\n",
      "검색할 영화 이름: 퍼펙트 내니\n",
      "검색 결과 1번째 항목 확인\n"
     ]
    },
    {
     "name": "stderr",
     "output_type": "stream",
     "text": [
      "Processing Movies:  52%|██████████████████████████████▏                           | 566/1086 [1:19:19<29:05,  3.36s/it]"
     ]
    },
    {
     "name": "stdout",
     "output_type": "stream",
     "text": [
      "영화 '퍼펙트 내니'의 평점: 평균 별점\n",
      "(531명)\n",
      "검색할 영화 이름: 아내를 죽였다\n",
      "검색 결과 1번째 항목 확인\n"
     ]
    },
    {
     "name": "stderr",
     "output_type": "stream",
     "text": [
      "Processing Movies:  52%|██████████████████████████████▎                           | 567/1086 [1:19:22<28:39,  3.31s/it]"
     ]
    },
    {
     "name": "stdout",
     "output_type": "stream",
     "text": [
      "영화 '아내를 죽였다'의 평점: 평균 별점\n",
      "(4,727명)\n",
      "검색할 영화 이름: 더하우스\n",
      "검색 결과 1번째 항목 확인\n"
     ]
    },
    {
     "name": "stderr",
     "output_type": "stream",
     "text": [
      "Processing Movies:  52%|██████████████████████████████▎                           | 568/1086 [1:19:25<28:20,  3.28s/it]"
     ]
    },
    {
     "name": "stdout",
     "output_type": "stream",
     "text": [
      "영화 '더하우스'의 평점: 평균 별점\n",
      "(5,066명)\n",
      "검색할 영화 이름: 그것: 두 번째 이야기\n",
      "검색 결과 1번째 항목 확인\n"
     ]
    },
    {
     "name": "stderr",
     "output_type": "stream",
     "text": [
      "Processing Movies:  52%|██████████████████████████████▍                           | 569/1086 [1:19:28<28:24,  3.30s/it]"
     ]
    },
    {
     "name": "stdout",
     "output_type": "stream",
     "text": [
      "영화 '그것: 두 번째 이야기'의 평점: 평균 별점\n",
      "(1.9만명)\n",
      "검색할 영화 이름: 언더워터\n",
      "검색 결과 1번째 항목 확인\n"
     ]
    },
    {
     "name": "stderr",
     "output_type": "stream",
     "text": [
      "Processing Movies:  52%|██████████████████████████████▍                           | 570/1086 [1:19:32<28:08,  3.27s/it]"
     ]
    },
    {
     "name": "stdout",
     "output_type": "stream",
     "text": [
      "영화 '언더워터'의 평점: 평균 별점\n",
      "(9,319명)\n",
      "검색할 영화 이름: 서치 아웃\n",
      "검색 결과 1번째 항목 확인\n"
     ]
    },
    {
     "name": "stderr",
     "output_type": "stream",
     "text": [
      "Processing Movies:  53%|██████████████████████████████▍                           | 571/1086 [1:19:35<27:59,  3.26s/it]"
     ]
    },
    {
     "name": "stdout",
     "output_type": "stream",
     "text": [
      "영화 '서치 아웃'의 평점: 평균 별점\n",
      "(1,154명)\n",
      "검색할 영화 이름: 설화\n",
      "검색 결과 1번째 항목 확인\n",
      "검색 결과 2번째 항목 확인\n",
      "내부 에러 발생: Message: \n",
      "Stacktrace:\n",
      "\tGetHandleVerifier [0x005CB8E3+45827]\n",
      "\t(No symbol) [0x0055DCC4]\n",
      "\t(No symbol) [0x0045150F]\n",
      "\t(No symbol) [0x004920BC]\n",
      "\t(No symbol) [0x0049216B]\n",
      "\t(No symbol) [0x004CE0F2]\n",
      "\t(No symbol) [0x004B2E44]\n",
      "\t(No symbol) [0x004CC034]\n",
      "\t(No symbol) [0x004B2B96]\n",
      "\t(No symbol) [0x00486998]\n",
      "\t(No symbol) [0x0048751D]\n",
      "\tGetHandleVerifier [0x00884513+2899763]\n",
      "\tGetHandleVerifier [0x008D793D+3240797]\n",
      "\tGetHandleVerifier [0x006513B4+593364]\n",
      "\tGetHandleVerifier [0x006582DC+621820]\n",
      "\t(No symbol) [0x005670A4]\n",
      "\t(No symbol) [0x005637A8]\n",
      "\t(No symbol) [0x00563947]\n",
      "\t(No symbol) [0x005559FE]\n",
      "\tBaseThreadInitThunk [0x753D7BA9+25]\n",
      "\tRtlInitializeExceptionChain [0x7775BE3B+107]\n",
      "\tRtlClearBits [0x7775BDBF+191]\n",
      "\n",
      "검색 결과 3번째 항목 확인\n",
      "내부 에러 발생: Message: \n",
      "Stacktrace:\n",
      "\tGetHandleVerifier [0x005CB8E3+45827]\n",
      "\t(No symbol) [0x0055DCC4]\n",
      "\t(No symbol) [0x0045150F]\n",
      "\t(No symbol) [0x004920BC]\n",
      "\t(No symbol) [0x0049216B]\n",
      "\t(No symbol) [0x004CE0F2]\n",
      "\t(No symbol) [0x004B2E44]\n",
      "\t(No symbol) [0x004CC034]\n",
      "\t(No symbol) [0x004B2B96]\n",
      "\t(No symbol) [0x00486998]\n",
      "\t(No symbol) [0x0048751D]\n",
      "\tGetHandleVerifier [0x00884513+2899763]\n",
      "\tGetHandleVerifier [0x008D793D+3240797]\n",
      "\tGetHandleVerifier [0x006513B4+593364]\n",
      "\tGetHandleVerifier [0x006582DC+621820]\n",
      "\t(No symbol) [0x005670A4]\n",
      "\t(No symbol) [0x005637A8]\n",
      "\t(No symbol) [0x00563947]\n",
      "\t(No symbol) [0x005559FE]\n",
      "\tBaseThreadInitThunk [0x753D7BA9+25]\n",
      "\tRtlInitializeExceptionChain [0x7775BE3B+107]\n",
      "\tRtlClearBits [0x7775BDBF+191]\n",
      "\n",
      "검색 결과 4번째 항목 확인\n",
      "내부 에러 발생: Message: \n",
      "Stacktrace:\n",
      "\tGetHandleVerifier [0x005CB8E3+45827]\n",
      "\t(No symbol) [0x0055DCC4]\n",
      "\t(No symbol) [0x0045150F]\n",
      "\t(No symbol) [0x004920BC]\n",
      "\t(No symbol) [0x0049216B]\n",
      "\t(No symbol) [0x004CE0F2]\n",
      "\t(No symbol) [0x004B2E44]\n",
      "\t(No symbol) [0x004CC034]\n",
      "\t(No symbol) [0x004B2B96]\n",
      "\t(No symbol) [0x00486998]\n",
      "\t(No symbol) [0x0048751D]\n",
      "\tGetHandleVerifier [0x00884513+2899763]\n",
      "\tGetHandleVerifier [0x008D793D+3240797]\n",
      "\tGetHandleVerifier [0x006513B4+593364]\n",
      "\tGetHandleVerifier [0x006582DC+621820]\n",
      "\t(No symbol) [0x005670A4]\n",
      "\t(No symbol) [0x005637A8]\n",
      "\t(No symbol) [0x00563947]\n",
      "\t(No symbol) [0x005559FE]\n",
      "\tBaseThreadInitThunk [0x753D7BA9+25]\n",
      "\tRtlInitializeExceptionChain [0x7775BE3B+107]\n",
      "\tRtlClearBits [0x7775BDBF+191]\n",
      "\n",
      "검색 결과 5번째 항목 확인\n",
      "내부 에러 발생: Message: \n",
      "Stacktrace:\n",
      "\tGetHandleVerifier [0x005CB8E3+45827]\n",
      "\t(No symbol) [0x0055DCC4]\n",
      "\t(No symbol) [0x0045150F]\n",
      "\t(No symbol) [0x004920BC]\n",
      "\t(No symbol) [0x0049216B]\n",
      "\t(No symbol) [0x004CE0F2]\n",
      "\t(No symbol) [0x004B2E44]\n",
      "\t(No symbol) [0x004CC034]\n",
      "\t(No symbol) [0x004B2B96]\n",
      "\t(No symbol) [0x00486998]\n",
      "\t(No symbol) [0x0048751D]\n",
      "\tGetHandleVerifier [0x00884513+2899763]\n",
      "\tGetHandleVerifier [0x008D793D+3240797]\n",
      "\tGetHandleVerifier [0x006513B4+593364]\n",
      "\tGetHandleVerifier [0x006582DC+621820]\n",
      "\t(No symbol) [0x005670A4]\n",
      "\t(No symbol) [0x005637A8]\n",
      "\t(No symbol) [0x00563947]\n",
      "\t(No symbol) [0x005559FE]\n",
      "\tBaseThreadInitThunk [0x753D7BA9+25]\n",
      "\tRtlInitializeExceptionChain [0x7775BE3B+107]\n",
      "\tRtlClearBits [0x7775BDBF+191]\n",
      "\n",
      "검색 결과 6번째 항목 확인\n",
      "내부 에러 발생: Message: \n",
      "Stacktrace:\n",
      "\tGetHandleVerifier [0x005CB8E3+45827]\n",
      "\t(No symbol) [0x0055DCC4]\n",
      "\t(No symbol) [0x0045150F]\n",
      "\t(No symbol) [0x004920BC]\n",
      "\t(No symbol) [0x0049216B]\n",
      "\t(No symbol) [0x004CE0F2]\n",
      "\t(No symbol) [0x004B2E44]\n",
      "\t(No symbol) [0x004CC034]\n",
      "\t(No symbol) [0x004B2B96]\n",
      "\t(No symbol) [0x00486998]\n",
      "\t(No symbol) [0x0048751D]\n",
      "\tGetHandleVerifier [0x00884513+2899763]\n",
      "\tGetHandleVerifier [0x008D793D+3240797]\n",
      "\tGetHandleVerifier [0x006513B4+593364]\n",
      "\tGetHandleVerifier [0x006582DC+621820]\n",
      "\t(No symbol) [0x005670A4]\n",
      "\t(No symbol) [0x005637A8]\n",
      "\t(No symbol) [0x00563947]\n",
      "\t(No symbol) [0x005559FE]\n",
      "\tBaseThreadInitThunk [0x753D7BA9+25]\n",
      "\tRtlInitializeExceptionChain [0x7775BE3B+107]\n",
      "\tRtlClearBits [0x7775BDBF+191]\n",
      "\n",
      "검색 결과 7번째 항목 확인\n",
      "내부 에러 발생: Message: \n",
      "Stacktrace:\n",
      "\tGetHandleVerifier [0x005CB8E3+45827]\n",
      "\t(No symbol) [0x0055DCC4]\n",
      "\t(No symbol) [0x0045150F]\n",
      "\t(No symbol) [0x004920BC]\n",
      "\t(No symbol) [0x0049216B]\n",
      "\t(No symbol) [0x004CE0F2]\n",
      "\t(No symbol) [0x004B2E44]\n",
      "\t(No symbol) [0x004CC034]\n",
      "\t(No symbol) [0x004B2B96]\n",
      "\t(No symbol) [0x00486998]\n",
      "\t(No symbol) [0x0048751D]\n",
      "\tGetHandleVerifier [0x00884513+2899763]\n",
      "\tGetHandleVerifier [0x008D793D+3240797]\n",
      "\tGetHandleVerifier [0x006513B4+593364]\n",
      "\tGetHandleVerifier [0x006582DC+621820]\n",
      "\t(No symbol) [0x005670A4]\n",
      "\t(No symbol) [0x005637A8]\n",
      "\t(No symbol) [0x00563947]\n",
      "\t(No symbol) [0x005559FE]\n",
      "\tBaseThreadInitThunk [0x753D7BA9+25]\n",
      "\tRtlInitializeExceptionChain [0x7775BE3B+107]\n",
      "\tRtlClearBits [0x7775BDBF+191]\n",
      "\n"
     ]
    },
    {
     "name": "stderr",
     "output_type": "stream",
     "text": [
      "Processing Movies:  53%|█████████████████████████████▍                          | 572/1086 [1:21:35<5:28:51, 38.39s/it]"
     ]
    },
    {
     "name": "stdout",
     "output_type": "stream",
     "text": [
      "검색할 영화 이름: 오피셜 시크릿\n",
      "검색 결과 1번째 항목 확인\n"
     ]
    },
    {
     "name": "stderr",
     "output_type": "stream",
     "text": [
      "Processing Movies:  53%|█████████████████████████████▌                          | 573/1086 [1:21:39<3:58:03, 27.84s/it]"
     ]
    },
    {
     "name": "stdout",
     "output_type": "stream",
     "text": [
      "영화 '오피셜 시크릿'의 평점: 평균 별점\n",
      "(5,136명)\n",
      "검색할 영화 이름: 상간녀 살인사건\n",
      "검색 결과 1번째 항목 확인\n"
     ]
    },
    {
     "name": "stderr",
     "output_type": "stream",
     "text": [
      "Processing Movies:  53%|█████████████████████████████▌                          | 574/1086 [1:21:42<2:54:37, 20.46s/it]"
     ]
    },
    {
     "name": "stdout",
     "output_type": "stream",
     "text": [
      "영화 '상간녀 살인사건'의 평점: 평균 별점\n",
      "(624명)\n",
      "검색할 영화 이름: 부다페스트 스토리\n",
      "검색 결과 1번째 항목 확인\n"
     ]
    },
    {
     "name": "stderr",
     "output_type": "stream",
     "text": [
      "Processing Movies:  53%|█████████████████████████████▋                          | 575/1086 [1:21:45<2:10:15, 15.29s/it]"
     ]
    },
    {
     "name": "stdout",
     "output_type": "stream",
     "text": [
      "영화 '부다페스트 스토리'의 평점: 평균 별점\n",
      "(605명)\n",
      "검색할 영화 이름: 21 브릿지: 테러 셧다운\n",
      "검색 결과 1번째 항목 확인\n"
     ]
    },
    {
     "name": "stderr",
     "output_type": "stream",
     "text": [
      "Processing Movies:  53%|█████████████████████████████▋                          | 576/1086 [1:21:48<1:39:18, 11.68s/it]"
     ]
    },
    {
     "name": "stdout",
     "output_type": "stream",
     "text": [
      "영화 '21 브릿지: 테러 셧다운'의 평점: 평균 별점\n",
      "(3,707명)\n",
      "검색할 영화 이름: 유혹의 한계\n",
      "검색 결과 1번째 항목 확인\n"
     ]
    },
    {
     "name": "stderr",
     "output_type": "stream",
     "text": [
      "Processing Movies:  53%|█████████████████████████████▊                          | 577/1086 [1:21:51<1:17:37,  9.15s/it]"
     ]
    },
    {
     "name": "stdout",
     "output_type": "stream",
     "text": [
      "영화 '유혹의 한계'의 평점: 평균 별점\n",
      "(33명)\n",
      "검색할 영화 이름: 닥터 슬립\n",
      "검색 결과 1번째 항목 확인\n"
     ]
    },
    {
     "name": "stderr",
     "output_type": "stream",
     "text": [
      "Processing Movies:  53%|█████████████████████████████▊                          | 578/1086 [1:21:55<1:02:22,  7.37s/it]"
     ]
    },
    {
     "name": "stdout",
     "output_type": "stream",
     "text": [
      "영화 '닥터 슬립'의 평점: 평균 별점\n",
      "(8,286명)\n",
      "검색할 영화 이름: 살인귀를 키우는 여자\n",
      "검색 결과 1번째 항목 확인\n"
     ]
    },
    {
     "name": "stderr",
     "output_type": "stream",
     "text": [
      "Processing Movies:  53%|██████████████████████████████▉                           | 579/1086 [1:21:58<51:44,  6.12s/it]"
     ]
    },
    {
     "name": "stdout",
     "output_type": "stream",
     "text": [
      "영화 '살인귀를 키우는 여자'의 평점: 평균 별점\n",
      "(456명)\n",
      "검색할 영화 이름: 미씽: 사라진 딸\n",
      "검색 결과 1번째 항목 확인\n"
     ]
    },
    {
     "name": "stderr",
     "output_type": "stream",
     "text": [
      "Processing Movies:  53%|██████████████████████████████▉                           | 580/1086 [1:22:01<44:18,  5.25s/it]"
     ]
    },
    {
     "name": "stdout",
     "output_type": "stream",
     "text": [
      "영화 '미씽: 사라진 딸'의 평점: 평균 별점\n",
      "(527명)\n",
      "검색할 영화 이름: 스코어 투 셔틀\n",
      "검색 결과 1번째 항목 확인\n"
     ]
    },
    {
     "name": "stderr",
     "output_type": "stream",
     "text": [
      "Processing Movies:  53%|███████████████████████████████                           | 581/1086 [1:22:04<39:03,  4.64s/it]"
     ]
    },
    {
     "name": "stdout",
     "output_type": "stream",
     "text": [
      "영화 '스코어 투 셔틀'의 평점: 평균 별점\n",
      "(274명)\n",
      "검색할 영화 이름: 굿 라이어\n",
      "검색 결과 1번째 항목 확인\n"
     ]
    },
    {
     "name": "stderr",
     "output_type": "stream",
     "text": [
      "Processing Movies:  54%|███████████████████████████████                           | 582/1086 [1:22:08<35:24,  4.21s/it]"
     ]
    },
    {
     "name": "stdout",
     "output_type": "stream",
     "text": [
      "영화 '굿 라이어'의 평점: 평균 별점\n",
      "(3,106명)\n",
      "검색할 영화 이름: 로또쉐어\n",
      "검색 결과 1번째 항목 확인\n"
     ]
    },
    {
     "name": "stderr",
     "output_type": "stream",
     "text": [
      "Processing Movies:  54%|███████████████████████████████▏                          | 583/1086 [1:22:11<32:49,  3.92s/it]"
     ]
    },
    {
     "name": "stdout",
     "output_type": "stream",
     "text": [
      "영화 '로또쉐어'의 평점: 평균 별점\n",
      "(114명)\n",
      "검색할 영화 이름: 포이즌 로즈\n",
      "검색 결과 1번째 항목 확인\n"
     ]
    },
    {
     "name": "stderr",
     "output_type": "stream",
     "text": [
      "Processing Movies:  54%|███████████████████████████████▏                          | 584/1086 [1:22:14<31:00,  3.71s/it]"
     ]
    },
    {
     "name": "stdout",
     "output_type": "stream",
     "text": [
      "영화 '포이즌 로즈'의 평점: 평균 별점\n",
      "(101명)\n",
      "검색할 영화 이름: 관전TV\n"
     ]
    },
    {
     "name": "stderr",
     "output_type": "stream",
     "text": [
      "Processing Movies:  54%|███████████████████████████████▏                          | 585/1086 [1:22:18<32:20,  3.87s/it]"
     ]
    },
    {
     "name": "stdout",
     "output_type": "stream",
     "text": [
      "검색할 영화 이름: 언더 유어 베드\n",
      "검색 결과 1번째 항목 확인\n"
     ]
    },
    {
     "name": "stderr",
     "output_type": "stream",
     "text": [
      "Processing Movies:  54%|███████████████████████████████▎                          | 586/1086 [1:22:22<30:51,  3.70s/it]"
     ]
    },
    {
     "name": "stdout",
     "output_type": "stream",
     "text": [
      "영화 '언더 유어 베드'의 평점: 평균 별점\n",
      "(247명)\n",
      "검색할 영화 이름: 야곱의 사다리\n",
      "검색 결과 1번째 항목 확인\n"
     ]
    },
    {
     "name": "stderr",
     "output_type": "stream",
     "text": [
      "Processing Movies:  54%|███████████████████████████████▎                          | 587/1086 [1:22:25<29:35,  3.56s/it]"
     ]
    },
    {
     "name": "stdout",
     "output_type": "stream",
     "text": [
      "영화 '야곱의 사다리'의 평점: 평균 별점\n",
      "(5,303명)\n",
      "검색할 영화 이름: 쉬 네버 다이\n",
      "검색 결과 1번째 항목 확인\n"
     ]
    },
    {
     "name": "stderr",
     "output_type": "stream",
     "text": [
      "Processing Movies:  54%|███████████████████████████████▍                          | 588/1086 [1:22:28<28:41,  3.46s/it]"
     ]
    },
    {
     "name": "stdout",
     "output_type": "stream",
     "text": [
      "영화 '쉬 네버 다이'의 평점: 평균 별점\n",
      "(47명)\n",
      "검색할 영화 이름: 아이 씨 유\n",
      "검색 결과 1번째 항목 확인\n"
     ]
    },
    {
     "name": "stderr",
     "output_type": "stream",
     "text": [
      "Processing Movies:  54%|███████████████████████████████▍                          | 589/1086 [1:22:31<28:02,  3.38s/it]"
     ]
    },
    {
     "name": "stdout",
     "output_type": "stream",
     "text": [
      "영화 '아이 씨 유'의 평점: 평균 별점\n",
      "(1,653명)\n",
      "검색할 영화 이름: 나를 찾아줘\n",
      "검색 결과 1번째 항목 확인\n"
     ]
    },
    {
     "name": "stderr",
     "output_type": "stream",
     "text": [
      "Processing Movies:  54%|███████████████████████████████▌                          | 590/1086 [1:22:34<27:36,  3.34s/it]"
     ]
    },
    {
     "name": "stdout",
     "output_type": "stream",
     "text": [
      "영화 '나를 찾아줘'의 평점: 평균 별점\n",
      "(36.0만명)\n",
      "검색할 영화 이름: 블라인드 멜로디\n",
      "검색 결과 1번째 항목 확인\n"
     ]
    },
    {
     "name": "stderr",
     "output_type": "stream",
     "text": [
      "Processing Movies:  54%|███████████████████████████████▌                          | 591/1086 [1:22:38<27:17,  3.31s/it]"
     ]
    },
    {
     "name": "stdout",
     "output_type": "stream",
     "text": [
      "영화 '블라인드 멜로디'의 평점: 평균 별점\n",
      "(7,802명)\n",
      "검색할 영화 이름: 추격자: 살인자의 증거\n",
      "검색 결과 1번째 항목 확인\n"
     ]
    },
    {
     "name": "stderr",
     "output_type": "stream",
     "text": [
      "Processing Movies:  55%|███████████████████████████████▌                          | 592/1086 [1:22:41<27:00,  3.28s/it]"
     ]
    },
    {
     "name": "stdout",
     "output_type": "stream",
     "text": [
      "영화 '추격자: 살인자의 증거'의 평점: 평균 별점\n",
      "(82명)\n",
      "검색할 영화 이름: 헌팅 오브 힐하우스\n",
      "검색 결과 1번째 항목 확인\n"
     ]
    },
    {
     "name": "stderr",
     "output_type": "stream",
     "text": [
      "Processing Movies:  55%|███████████████████████████████▋                          | 593/1086 [1:22:44<26:47,  3.26s/it]"
     ]
    },
    {
     "name": "stdout",
     "output_type": "stream",
     "text": [
      "영화 '헌팅 오브 힐하우스'의 평점: 평균 별점\n",
      "(153명)\n",
      "검색할 영화 이름: 작년 겨울, 너와 이별\n",
      "검색 결과 1번째 항목 확인\n"
     ]
    },
    {
     "name": "stderr",
     "output_type": "stream",
     "text": [
      "Processing Movies:  55%|███████████████████████████████▋                          | 594/1086 [1:22:47<26:39,  3.25s/it]"
     ]
    },
    {
     "name": "stdout",
     "output_type": "stream",
     "text": [
      "영화 '작년 겨울, 너와 이별'의 평점: 평균 별점\n",
      "(2,148명)\n",
      "검색할 영화 이름: 파라노말 하우스\n",
      "검색 결과 1번째 항목 확인\n"
     ]
    },
    {
     "name": "stderr",
     "output_type": "stream",
     "text": [
      "Processing Movies:  55%|███████████████████████████████▊                          | 595/1086 [1:22:51<26:32,  3.24s/it]"
     ]
    },
    {
     "name": "stdout",
     "output_type": "stream",
     "text": [
      "영화 '파라노말 하우스'의 평점: 평균 별점\n",
      "(5명)\n",
      "검색할 영화 이름: 데스트랩\n",
      "검색 결과 1번째 항목 확인\n",
      "검색 결과 2번째 항목 확인\n"
     ]
    },
    {
     "name": "stderr",
     "output_type": "stream",
     "text": [
      "Processing Movies:  55%|███████████████████████████████▊                          | 596/1086 [1:22:57<34:02,  4.17s/it]"
     ]
    },
    {
     "name": "stdout",
     "output_type": "stream",
     "text": [
      "영화 '데스트랩'의 평점: 평균 별점\n",
      "(121명)\n",
      "검색할 영화 이름: 메멘토모리\n",
      "검색 결과 1번째 항목 확인\n"
     ]
    },
    {
     "name": "stderr",
     "output_type": "stream",
     "text": [
      "Processing Movies:  55%|███████████████████████████████▉                          | 597/1086 [1:23:00<31:39,  3.88s/it]"
     ]
    },
    {
     "name": "stdout",
     "output_type": "stream",
     "text": [
      "영화 '메멘토모리'의 평점: 평균 별점\n",
      "(557명)\n",
      "검색할 영화 이름: 루킹 글라스\n",
      "검색 결과 1번째 항목 확인\n",
      "검색 결과 2번째 항목 확인\n",
      "내부 에러 발생: Message: \n",
      "Stacktrace:\n",
      "\tGetHandleVerifier [0x005CB8E3+45827]\n",
      "\t(No symbol) [0x0055DCC4]\n",
      "\t(No symbol) [0x0045150F]\n",
      "\t(No symbol) [0x004920BC]\n",
      "\t(No symbol) [0x0049216B]\n",
      "\t(No symbol) [0x004CE0F2]\n",
      "\t(No symbol) [0x004B2E44]\n",
      "\t(No symbol) [0x004CC034]\n",
      "\t(No symbol) [0x004B2B96]\n",
      "\t(No symbol) [0x00486998]\n",
      "\t(No symbol) [0x0048751D]\n",
      "\tGetHandleVerifier [0x00884513+2899763]\n",
      "\tGetHandleVerifier [0x008D793D+3240797]\n",
      "\tGetHandleVerifier [0x006513B4+593364]\n",
      "\tGetHandleVerifier [0x006582DC+621820]\n",
      "\t(No symbol) [0x005670A4]\n",
      "\t(No symbol) [0x005637A8]\n",
      "\t(No symbol) [0x00563947]\n",
      "\t(No symbol) [0x005559FE]\n",
      "\tBaseThreadInitThunk [0x753D7BA9+25]\n",
      "\tRtlInitializeExceptionChain [0x7775BE3B+107]\n",
      "\tRtlClearBits [0x7775BDBF+191]\n",
      "\n"
     ]
    },
    {
     "name": "stderr",
     "output_type": "stream",
     "text": [
      "Processing Movies:  55%|██████████████████████████████▊                         | 598/1086 [1:23:19<1:07:30,  8.30s/it]"
     ]
    },
    {
     "name": "stdout",
     "output_type": "stream",
     "text": [
      "검색할 영화 이름: 레드 스패로\n",
      "검색 결과 1번째 항목 확인\n"
     ]
    },
    {
     "name": "stderr",
     "output_type": "stream",
     "text": [
      "Processing Movies:  55%|███████████████████████████████▉                          | 599/1086 [1:23:22<54:58,  6.77s/it]"
     ]
    },
    {
     "name": "stdout",
     "output_type": "stream",
     "text": [
      "영화 '레드 스패로'의 평점: 평균 별점\n",
      "(1.6만명)\n",
      "검색할 영화 이름: 호텔 뭄바이\n",
      "검색 결과 1번째 항목 확인\n"
     ]
    },
    {
     "name": "stderr",
     "output_type": "stream",
     "text": [
      "Processing Movies:  55%|████████████████████████████████                          | 600/1086 [1:23:25<46:13,  5.71s/it]"
     ]
    },
    {
     "name": "stdout",
     "output_type": "stream",
     "text": [
      "영화 '호텔 뭄바이'의 평점: 평균 별점\n",
      "(4.6만명)\n",
      "검색할 영화 이름: 더 길티\n",
      "검색 결과 1번째 항목 확인\n"
     ]
    },
    {
     "name": "stderr",
     "output_type": "stream",
     "text": [
      "Processing Movies:  55%|████████████████████████████████                          | 601/1086 [1:23:28<40:07,  4.96s/it]"
     ]
    },
    {
     "name": "stdout",
     "output_type": "stream",
     "text": [
      "영화 '더 길티'의 평점: 평균 별점\n",
      "(1.3만명)\n",
      "검색할 영화 이름: 배드 사마리안\n",
      "검색 결과 1번째 항목 확인\n"
     ]
    },
    {
     "name": "stderr",
     "output_type": "stream",
     "text": [
      "Processing Movies:  55%|████████████████████████████████▏                         | 602/1086 [1:23:32<35:51,  4.45s/it]"
     ]
    },
    {
     "name": "stdout",
     "output_type": "stream",
     "text": [
      "영화 '배드 사마리안'의 평점: 평균 별점\n",
      "(3,488명)\n",
      "검색할 영화 이름: 진범\n",
      "검색 결과 1번째 항목 확인\n"
     ]
    },
    {
     "name": "stderr",
     "output_type": "stream",
     "text": [
      "Processing Movies:  56%|████████████████████████████████▏                         | 603/1086 [1:23:35<32:48,  4.08s/it]"
     ]
    },
    {
     "name": "stdout",
     "output_type": "stream",
     "text": [
      "영화 '진범'의 평점: 평균 별점\n",
      "(4,416명)\n",
      "검색할 영화 이름: 도어락\n",
      "검색 결과 1번째 항목 확인\n"
     ]
    },
    {
     "name": "stderr",
     "output_type": "stream",
     "text": [
      "Processing Movies:  56%|████████████████████████████████▎                         | 604/1086 [1:23:38<30:41,  3.82s/it]"
     ]
    },
    {
     "name": "stdout",
     "output_type": "stream",
     "text": [
      "영화 '도어락'의 평점: 평균 별점\n",
      "(6.0만명)\n",
      "검색할 영화 이름: 부탁 하나만 들어줘\n",
      "검색 결과 1번째 항목 확인\n"
     ]
    },
    {
     "name": "stderr",
     "output_type": "stream",
     "text": [
      "Processing Movies:  56%|████████████████████████████████▎                         | 605/1086 [1:23:41<29:13,  3.65s/it]"
     ]
    },
    {
     "name": "stdout",
     "output_type": "stream",
     "text": [
      "영화 '부탁 하나만 들어줘'의 평점: 평균 별점\n",
      "(10.0만명)\n",
      "검색할 영화 이름: 할로우 차일드 : 숲 속의 문\n",
      "검색 결과 1번째 항목 확인\n"
     ]
    },
    {
     "name": "stderr",
     "output_type": "stream",
     "text": [
      "Processing Movies:  56%|████████████████████████████████▎                         | 606/1086 [1:23:49<38:46,  4.85s/it]"
     ]
    },
    {
     "name": "stdout",
     "output_type": "stream",
     "text": [
      "검색할 영화 이름: 10 바이 10\n",
      "검색 결과 1번째 항목 확인\n"
     ]
    },
    {
     "name": "stderr",
     "output_type": "stream",
     "text": [
      "Processing Movies:  56%|████████████████████████████████▍                         | 607/1086 [1:23:52<34:50,  4.37s/it]"
     ]
    },
    {
     "name": "stdout",
     "output_type": "stream",
     "text": [
      "영화 '10 바이 10'의 평점: 평균 별점\n",
      "(928명)\n",
      "검색할 영화 이름: 7년의 밤\n",
      "검색 결과 1번째 항목 확인\n"
     ]
    },
    {
     "name": "stderr",
     "output_type": "stream",
     "text": [
      "Processing Movies:  56%|████████████████████████████████▍                         | 608/1086 [1:23:55<32:05,  4.03s/it]"
     ]
    },
    {
     "name": "stdout",
     "output_type": "stream",
     "text": [
      "영화 '7년의 밤'의 평점: 평균 별점\n",
      "(2.5만명)\n",
      "검색할 영화 이름: 인비저블 위트니스\n",
      "검색 결과 1번째 항목 확인\n"
     ]
    },
    {
     "name": "stderr",
     "output_type": "stream",
     "text": [
      "Processing Movies:  56%|████████████████████████████████▌                         | 609/1086 [1:23:59<30:08,  3.79s/it]"
     ]
    },
    {
     "name": "stdout",
     "output_type": "stream",
     "text": [
      "영화 '인비저블 위트니스'의 평점: 평균 별점\n",
      "(630명)\n",
      "검색할 영화 이름: 나이팅게일\n",
      "검색 결과 1번째 항목 확인\n"
     ]
    },
    {
     "name": "stderr",
     "output_type": "stream",
     "text": [
      "Processing Movies:  56%|████████████████████████████████▌                         | 610/1086 [1:24:02<29:00,  3.66s/it]"
     ]
    },
    {
     "name": "stdout",
     "output_type": "stream",
     "text": [
      "영화 '나이팅게일'의 평점: 평균 별점\n",
      "(811명)\n",
      "검색할 영화 이름: 이웃의 아내\n",
      "검색 결과 1번째 항목 확인\n",
      "검색 결과 2번째 항목 확인\n"
     ]
    },
    {
     "name": "stderr",
     "output_type": "stream",
     "text": [
      "Processing Movies:  56%|████████████████████████████████▋                         | 611/1086 [1:24:08<35:16,  4.46s/it]"
     ]
    },
    {
     "name": "stdout",
     "output_type": "stream",
     "text": [
      "영화 '이웃의 아내'의 평점: 평균 별점\n",
      "(254명)\n",
      "검색할 영화 이름: 지푸라기라도 잡고 싶은 짐승들\n",
      "검색 결과 1번째 항목 확인\n"
     ]
    },
    {
     "name": "stderr",
     "output_type": "stream",
     "text": [
      "Processing Movies:  56%|████████████████████████████████▋                         | 612/1086 [1:24:12<32:18,  4.09s/it]"
     ]
    },
    {
     "name": "stdout",
     "output_type": "stream",
     "text": [
      "영화 '지푸라기라도 잡고 싶은 짐승들'의 평점: 평균 별점\n",
      "(4.4만명)\n",
      "검색할 영화 이름: 다니엘 이즌 리얼\n",
      "검색 결과 1번째 항목 확인\n"
     ]
    },
    {
     "name": "stderr",
     "output_type": "stream",
     "text": [
      "Processing Movies:  56%|████████████████████████████████▋                         | 613/1086 [1:24:15<30:24,  3.86s/it]"
     ]
    },
    {
     "name": "stdout",
     "output_type": "stream",
     "text": [
      "영화 '다니엘 이즌 리얼'의 평점: 평균 별점\n",
      "(807명)\n",
      "검색할 영화 이름: 샤크 베이트\n",
      "검색 결과 1번째 항목 확인\n",
      "검색 결과 2번째 항목 확인\n"
     ]
    },
    {
     "name": "stderr",
     "output_type": "stream",
     "text": [
      "Processing Movies:  57%|████████████████████████████████▊                         | 614/1086 [1:24:21<36:09,  4.60s/it]"
     ]
    },
    {
     "name": "stdout",
     "output_type": "stream",
     "text": [
      "영화 '샤크 베이트'의 평점: 평균 별점\n",
      "(36명)\n",
      "검색할 영화 이름: 클리너:살인마의 집\n",
      "검색 결과 1번째 항목 확인\n"
     ]
    },
    {
     "name": "stderr",
     "output_type": "stream",
     "text": [
      "Processing Movies:  57%|████████████████████████████████▊                         | 615/1086 [1:24:24<32:47,  4.18s/it]"
     ]
    },
    {
     "name": "stdout",
     "output_type": "stream",
     "text": [
      "영화 '클리너:살인마의 집'의 평점: 평균 별점\n",
      "(77명)\n",
      "검색할 영화 이름: 우상\n",
      "검색 결과 1번째 항목 확인\n"
     ]
    },
    {
     "name": "stderr",
     "output_type": "stream",
     "text": [
      "Processing Movies:  57%|████████████████████████████████▉                         | 616/1086 [1:24:28<30:25,  3.88s/it]"
     ]
    },
    {
     "name": "stdout",
     "output_type": "stream",
     "text": [
      "영화 '우상'의 평점: 평균 별점\n",
      "(1.7만명)\n",
      "검색할 영화 이름: 스마트폰을 떨어뜨렸을 뿐인데\n",
      "검색 결과 1번째 항목 확인\n"
     ]
    },
    {
     "name": "stderr",
     "output_type": "stream",
     "text": [
      "Processing Movies:  57%|████████████████████████████████▉                         | 617/1086 [1:24:31<28:51,  3.69s/it]"
     ]
    },
    {
     "name": "stdout",
     "output_type": "stream",
     "text": [
      "영화 '스마트폰을 떨어뜨렸을 뿐인데'의 평점: 평균 별점\n",
      "(5,428명)\n",
      "검색할 영화 이름: 아메리칸 사이코 2018\n",
      "검색 결과 1번째 항목 확인\n"
     ]
    },
    {
     "name": "stderr",
     "output_type": "stream",
     "text": [
      "Processing Movies:  57%|█████████████████████████████████                         | 618/1086 [1:24:34<27:40,  3.55s/it]"
     ]
    },
    {
     "name": "stdout",
     "output_type": "stream",
     "text": [
      "영화 '아메리칸 사이코 2018'의 평점: 평균 별점\n",
      "(36명)\n",
      "검색할 영화 이름: 살인소설\n",
      "검색 결과 1번째 항목 확인\n",
      "검색 결과 2번째 항목 확인\n"
     ]
    },
    {
     "name": "stderr",
     "output_type": "stream",
     "text": [
      "Processing Movies:  57%|█████████████████████████████████                         | 619/1086 [1:24:40<34:04,  4.38s/it]"
     ]
    },
    {
     "name": "stdout",
     "output_type": "stream",
     "text": [
      "영화 '살인소설'의 평점: 평균 별점\n",
      "(2.5만명)\n",
      "검색할 영화 이름: 목격자\n",
      "검색 결과 1번째 항목 확인\n"
     ]
    },
    {
     "name": "stderr",
     "output_type": "stream",
     "text": [
      "Processing Movies:  57%|█████████████████████████████████                         | 620/1086 [1:24:44<31:16,  4.03s/it]"
     ]
    },
    {
     "name": "stdout",
     "output_type": "stream",
     "text": [
      "영화 '목격자'의 평점: 평균 별점\n",
      "(566명)\n",
      "검색할 영화 이름: 여동생\n",
      "검색 결과 1번째 항목 확인\n",
      "검색 결과 2번째 항목 확인\n",
      "검색 결과 3번째 항목 확인\n",
      "검색 결과 4번째 항목 확인\n"
     ]
    },
    {
     "name": "stderr",
     "output_type": "stream",
     "text": [
      "Processing Movies:  57%|█████████████████████████████████▏                        | 621/1086 [1:24:56<51:05,  6.59s/it]"
     ]
    },
    {
     "name": "stdout",
     "output_type": "stream",
     "text": [
      "영화 '여동생'의 평점: 평균 별점\n",
      "(89명)\n",
      "검색할 영화 이름: 디트로이트\n",
      "검색 결과 1번째 항목 확인\n"
     ]
    },
    {
     "name": "stderr",
     "output_type": "stream",
     "text": [
      "Processing Movies:  57%|█████████████████████████████████▏                        | 622/1086 [1:24:59<43:08,  5.58s/it]"
     ]
    },
    {
     "name": "stdout",
     "output_type": "stream",
     "text": [
      "영화 '디트로이트'의 평점: 평균 별점\n",
      "(1.2만명)\n",
      "검색할 영화 이름: 킬링 디어\n",
      "검색 결과 1번째 항목 확인\n"
     ]
    },
    {
     "name": "stderr",
     "output_type": "stream",
     "text": [
      "Processing Movies:  57%|█████████████████████████████████▎                        | 623/1086 [1:25:03<37:41,  4.88s/it]"
     ]
    },
    {
     "name": "stdout",
     "output_type": "stream",
     "text": [
      "영화 '킬링 디어'의 평점: 평균 별점\n",
      "(8.1만명)\n",
      "검색할 영화 이름: 윈드 리버: 감독판\n",
      "검색 결과 1번째 항목 확인\n"
     ]
    },
    {
     "name": "stderr",
     "output_type": "stream",
     "text": [
      "Processing Movies:  57%|█████████████████████████████████▎                        | 624/1086 [1:25:06<33:45,  4.38s/it]"
     ]
    },
    {
     "name": "stdout",
     "output_type": "stream",
     "text": [
      "영화 '윈드 리버: 감독판'의 평점: 평균 별점\n",
      "(2,523명)\n",
      "검색할 영화 이름: 사라진 밤\n",
      "검색 결과 1번째 항목 확인\n"
     ]
    },
    {
     "name": "stderr",
     "output_type": "stream",
     "text": [
      "Processing Movies:  58%|█████████████████████████████████▍                        | 625/1086 [1:25:09<31:00,  4.04s/it]"
     ]
    },
    {
     "name": "stdout",
     "output_type": "stream",
     "text": [
      "영화 '사라진 밤'의 평점: 평균 별점\n",
      "(9.1만명)\n",
      "검색할 영화 이름: 양의 나무\n",
      "검색 결과 1번째 항목 확인\n"
     ]
    },
    {
     "name": "stderr",
     "output_type": "stream",
     "text": [
      "Processing Movies:  58%|█████████████████████████████████▍                        | 626/1086 [1:25:12<29:02,  3.79s/it]"
     ]
    },
    {
     "name": "stdout",
     "output_type": "stream",
     "text": [
      "영화 '양의 나무'의 평점: 평균 별점\n",
      "(3,712명)\n",
      "검색할 영화 이름: 경성 81호 : 죽지 않는 집\n",
      "검색 결과 1번째 항목 확인\n"
     ]
    },
    {
     "name": "stderr",
     "output_type": "stream",
     "text": [
      "Processing Movies:  58%|█████████████████████████████████▍                        | 627/1086 [1:25:16<27:39,  3.62s/it]"
     ]
    },
    {
     "name": "stdout",
     "output_type": "stream",
     "text": [
      "영화 '경성 81호 : 죽지 않는 집'의 평점: 평균 별점\n",
      "(82명)\n",
      "검색할 영화 이름: 이스케이프 파이터\n",
      "검색 결과 1번째 항목 확인\n"
     ]
    },
    {
     "name": "stderr",
     "output_type": "stream",
     "text": [
      "Processing Movies:  58%|█████████████████████████████████▌                        | 628/1086 [1:25:19<26:38,  3.49s/it]"
     ]
    },
    {
     "name": "stdout",
     "output_type": "stream",
     "text": [
      "영화 '이스케이프 파이터'의 평점: 평균 별점\n",
      "(41명)\n",
      "검색할 영화 이름: 그림자 킬러\n",
      "검색 결과 1번째 항목 확인\n",
      "검색 결과 2번째 항목 확인\n"
     ]
    },
    {
     "name": "stderr",
     "output_type": "stream",
     "text": [
      "Processing Movies:  58%|█████████████████████████████████▌                        | 629/1086 [1:25:25<32:59,  4.33s/it]"
     ]
    },
    {
     "name": "stdout",
     "output_type": "stream",
     "text": [
      "영화 '그림자 킬러'의 평점: 평균 별점\n",
      "(102명)\n",
      "검색할 영화 이름: 속사정\n",
      "검색 결과 1번째 항목 확인\n"
     ]
    },
    {
     "name": "stderr",
     "output_type": "stream",
     "text": [
      "Processing Movies:  58%|█████████████████████████████████▋                        | 630/1086 [1:25:28<30:19,  3.99s/it]"
     ]
    },
    {
     "name": "stdout",
     "output_type": "stream",
     "text": [
      "영화 '속사정'의 평점: 평균 별점\n",
      "(537명)\n",
      "검색할 영화 이름: 엘리스의 50가지 그림자\n",
      "검색 결과 1번째 항목 확인\n"
     ]
    },
    {
     "name": "stderr",
     "output_type": "stream",
     "text": [
      "Processing Movies:  58%|█████████████████████████████████▋                        | 631/1086 [1:25:31<28:30,  3.76s/it]"
     ]
    },
    {
     "name": "stdout",
     "output_type": "stream",
     "text": [
      "영화 '엘리스의 50가지 그림자'의 평점: 평균 별점\n",
      "(959명)\n",
      "검색할 영화 이름: 은밀한 교육의 비밀\n",
      "검색 결과 1번째 항목 확인\n"
     ]
    },
    {
     "name": "stderr",
     "output_type": "stream",
     "text": [
      "Processing Movies:  58%|█████████████████████████████████▊                        | 632/1086 [1:25:35<27:12,  3.60s/it]"
     ]
    },
    {
     "name": "stdout",
     "output_type": "stream",
     "text": [
      "영화 '은밀한 교육의 비밀'의 평점: 평균 별점\n",
      "(28명)\n",
      "검색할 영화 이름: 로우\n",
      "검색 결과 1번째 항목 확인\n"
     ]
    },
    {
     "name": "stderr",
     "output_type": "stream",
     "text": [
      "Processing Movies:  58%|█████████████████████████████████▊                        | 633/1086 [1:25:38<26:13,  3.47s/it]"
     ]
    },
    {
     "name": "stdout",
     "output_type": "stream",
     "text": [
      "영화 '로우'의 평점: 평균 별점\n",
      "(1.6만명)\n",
      "검색할 영화 이름: 22년 후의 고백\n",
      "검색 결과 1번째 항목 확인\n"
     ]
    },
    {
     "name": "stderr",
     "output_type": "stream",
     "text": [
      "Processing Movies:  58%|█████████████████████████████████▊                        | 634/1086 [1:25:41<25:35,  3.40s/it]"
     ]
    },
    {
     "name": "stdout",
     "output_type": "stream",
     "text": [
      "영화 '22년 후의 고백'의 평점: 평균 별점\n",
      "(3,876명)\n",
      "검색할 영화 이름: 두 개의 사랑\n",
      "검색 결과 1번째 항목 확인\n"
     ]
    },
    {
     "name": "stderr",
     "output_type": "stream",
     "text": [
      "Processing Movies:  58%|█████████████████████████████████▉                        | 635/1086 [1:25:44<25:08,  3.35s/it]"
     ]
    },
    {
     "name": "stdout",
     "output_type": "stream",
     "text": [
      "영화 '두 개의 사랑'의 평점: 평균 별점\n",
      "(3,939명)\n",
      "검색할 영화 이름: 하루\n",
      "검색 결과 1번째 항목 확인\n"
     ]
    },
    {
     "name": "stderr",
     "output_type": "stream",
     "text": [
      "Processing Movies:  59%|█████████████████████████████████▉                        | 636/1086 [1:25:47<24:47,  3.31s/it]"
     ]
    },
    {
     "name": "stdout",
     "output_type": "stream",
     "text": [
      "영화 '하루'의 평점: 평균 별점\n",
      "(4.9만명)\n",
      "검색할 영화 이름: 룸 이스케이프\n",
      "검색 결과 1번째 항목 확인\n",
      "검색 결과 2번째 항목 확인\n",
      "검색 결과 3번째 항목 확인\n"
     ]
    },
    {
     "name": "stderr",
     "output_type": "stream",
     "text": [
      "Processing Movies:  59%|██████████████████████████████████                        | 637/1086 [1:25:57<38:30,  5.15s/it]"
     ]
    },
    {
     "name": "stdout",
     "output_type": "stream",
     "text": [
      "영화 '룸 이스케이프'의 평점: 평균 별점\n",
      "(5,522명)\n",
      "검색할 영화 이름: 세 번째 살인\n",
      "검색 결과 1번째 항목 확인\n"
     ]
    },
    {
     "name": "stderr",
     "output_type": "stream",
     "text": [
      "Processing Movies:  59%|██████████████████████████████████                        | 638/1086 [1:26:00<34:07,  4.57s/it]"
     ]
    },
    {
     "name": "stdout",
     "output_type": "stream",
     "text": [
      "영화 '세 번째 살인'의 평점: 평균 별점\n",
      "(3.1만명)\n",
      "검색할 영화 이름: 배드 지니어스\n",
      "검색 결과 1번째 항목 확인\n"
     ]
    },
    {
     "name": "stderr",
     "output_type": "stream",
     "text": [
      "Processing Movies:  59%|██████████████████████████████████▏                       | 639/1086 [1:26:03<31:00,  4.16s/it]"
     ]
    },
    {
     "name": "stdout",
     "output_type": "stream",
     "text": [
      "영화 '배드 지니어스'의 평점: 평균 별점\n",
      "(6.9만명)\n",
      "검색할 영화 이름: 토일렛\n",
      "검색 결과 1번째 항목 확인\n"
     ]
    },
    {
     "name": "stderr",
     "output_type": "stream",
     "text": [
      "Processing Movies:  59%|██████████████████████████████████▏                       | 640/1086 [1:26:07<28:47,  3.87s/it]"
     ]
    },
    {
     "name": "stdout",
     "output_type": "stream",
     "text": [
      "영화 '토일렛'의 평점: 평균 별점\n",
      "(23명)\n",
      "검색할 영화 이름: 인페르노 타워\n",
      "검색 결과 1번째 항목 확인\n"
     ]
    },
    {
     "name": "stderr",
     "output_type": "stream",
     "text": [
      "Processing Movies:  59%|██████████████████████████████████▏                       | 641/1086 [1:26:10<28:16,  3.81s/it]"
     ]
    },
    {
     "name": "stdout",
     "output_type": "stream",
     "text": [
      "영화 '인페르노 타워'의 평점: 평균 별점\n",
      "(170명)\n",
      "검색할 영화 이름: 새디스트\n",
      "검색 결과 1번째 항목 확인\n"
     ]
    },
    {
     "name": "stderr",
     "output_type": "stream",
     "text": [
      "Processing Movies:  59%|██████████████████████████████████▎                       | 642/1086 [1:26:13<26:51,  3.63s/it]"
     ]
    },
    {
     "name": "stdout",
     "output_type": "stream",
     "text": [
      "영화 '새디스트'의 평점: 평균 별점\n",
      "(579명)\n",
      "검색할 영화 이름: 베를린 신드롬\n",
      "검색 결과 1번째 항목 확인\n"
     ]
    },
    {
     "name": "stderr",
     "output_type": "stream",
     "text": [
      "Processing Movies:  59%|██████████████████████████████████▎                       | 643/1086 [1:26:17<25:51,  3.50s/it]"
     ]
    },
    {
     "name": "stdout",
     "output_type": "stream",
     "text": [
      "영화 '베를린 신드롬'의 평점: 평균 별점\n",
      "(4,679명)\n",
      "검색할 영화 이름: 시크릿 파트너스\n",
      "검색 결과 1번째 항목 확인\n"
     ]
    },
    {
     "name": "stderr",
     "output_type": "stream",
     "text": [
      "Processing Movies:  59%|██████████████████████████████████▍                       | 644/1086 [1:26:20<25:08,  3.41s/it]"
     ]
    },
    {
     "name": "stdout",
     "output_type": "stream",
     "text": [
      "영화 '시크릿 파트너스'의 평점: 평균 별점\n",
      "(260명)\n",
      "검색할 영화 이름: 심판자들\n",
      "검색 결과 1번째 항목 확인\n",
      "검색 결과 2번째 항목 확인\n",
      "검색 결과 3번째 항목 확인\n",
      "검색 결과 4번째 항목 확인\n"
     ]
    },
    {
     "name": "stderr",
     "output_type": "stream",
     "text": [
      "Processing Movies:  59%|██████████████████████████████████▍                       | 645/1086 [1:26:32<45:19,  6.17s/it]"
     ]
    },
    {
     "name": "stdout",
     "output_type": "stream",
     "text": [
      "영화 '심판자들'의 평점: 평균 별점\n",
      "(19명)\n",
      "검색할 영화 이름: 석조저택 살인사건\n",
      "검색 결과 1번째 항목 확인\n"
     ]
    },
    {
     "name": "stderr",
     "output_type": "stream",
     "text": [
      "Processing Movies:  59%|██████████████████████████████████▌                       | 646/1086 [1:26:36<38:42,  5.28s/it]"
     ]
    },
    {
     "name": "stdout",
     "output_type": "stream",
     "text": [
      "영화 '석조저택 살인사건'의 평점: 평균 별점\n",
      "(3.6만명)\n",
      "검색할 영화 이름: 반드시 잡는다\n",
      "검색 결과 1번째 항목 확인\n"
     ]
    },
    {
     "name": "stderr",
     "output_type": "stream",
     "text": [
      "Processing Movies:  60%|██████████████████████████████████▌                       | 647/1086 [1:26:39<34:05,  4.66s/it]"
     ]
    },
    {
     "name": "stdout",
     "output_type": "stream",
     "text": [
      "영화 '반드시 잡는다'의 평점: 평균 별점\n",
      "(1.8만명)\n",
      "검색할 영화 이름: 매혹당한 사람들\n",
      "검색 결과 1번째 항목 확인\n"
     ]
    },
    {
     "name": "stderr",
     "output_type": "stream",
     "text": [
      "Processing Movies:  60%|██████████████████████████████████▌                       | 648/1086 [1:26:42<30:51,  4.23s/it]"
     ]
    },
    {
     "name": "stdout",
     "output_type": "stream",
     "text": [
      "영화 '매혹당한 사람들'의 평점: 평균 별점\n",
      "(1.7만명)\n",
      "검색할 영화 이름: 레티나\n",
      "검색 결과 1번째 항목 확인\n"
     ]
    },
    {
     "name": "stderr",
     "output_type": "stream",
     "text": [
      "Processing Movies:  60%|██████████████████████████████████▋                       | 649/1086 [1:26:45<28:35,  3.92s/it]"
     ]
    },
    {
     "name": "stdout",
     "output_type": "stream",
     "text": [
      "영화 '레티나'의 평점: 평균 별점\n",
      "(18명)\n",
      "검색할 영화 이름: 해빙\n",
      "검색 결과 1번째 항목 확인\n"
     ]
    },
    {
     "name": "stderr",
     "output_type": "stream",
     "text": [
      "Processing Movies:  60%|██████████████████████████████████▋                       | 650/1086 [1:26:48<26:54,  3.70s/it]"
     ]
    },
    {
     "name": "stdout",
     "output_type": "stream",
     "text": [
      "영화 '해빙'의 평점: 평균 별점\n",
      "(9.3만명)\n",
      "검색할 영화 이름: 더 워닝\n",
      "검색 결과 1번째 항목 확인\n"
     ]
    },
    {
     "name": "stderr",
     "output_type": "stream",
     "text": [
      "Processing Movies:  60%|██████████████████████████████████▊                       | 651/1086 [1:26:52<25:44,  3.55s/it]"
     ]
    },
    {
     "name": "stdout",
     "output_type": "stream",
     "text": [
      "영화 '더 워닝'의 평점: 평균 별점\n",
      "(186명)\n",
      "검색할 영화 이름: 얼라이드\n",
      "검색 결과 1번째 항목 확인\n"
     ]
    },
    {
     "name": "stderr",
     "output_type": "stream",
     "text": [
      "Processing Movies:  60%|██████████████████████████████████▊                       | 652/1086 [1:26:55<25:00,  3.46s/it]"
     ]
    },
    {
     "name": "stdout",
     "output_type": "stream",
     "text": [
      "영화 '얼라이드'의 평점: 평균 별점\n",
      "(7.4만명)\n",
      "검색할 영화 이름: 이스케이프 게임\n",
      "검색 결과 1번째 항목 확인\n"
     ]
    },
    {
     "name": "stderr",
     "output_type": "stream",
     "text": [
      "Processing Movies:  60%|██████████████████████████████████▊                       | 653/1086 [1:26:58<24:28,  3.39s/it]"
     ]
    },
    {
     "name": "stdout",
     "output_type": "stream",
     "text": [
      "영화 '이스케이프 게임'의 평점: 평균 별점\n",
      "(194명)\n",
      "검색할 영화 이름: 익스페트리어트\n",
      "검색 결과 1번째 항목 확인\n"
     ]
    },
    {
     "name": "stderr",
     "output_type": "stream",
     "text": [
      "Processing Movies:  60%|██████████████████████████████████▉                       | 654/1086 [1:27:01<23:59,  3.33s/it]"
     ]
    },
    {
     "name": "stdout",
     "output_type": "stream",
     "text": [
      "영화 '익스페트리어트'의 평점: 평균 별점\n",
      "(62명)\n",
      "검색할 영화 이름: 47 미터\n",
      "검색 결과 1번째 항목 확인\n",
      "검색 결과 2번째 항목 확인\n"
     ]
    },
    {
     "name": "stderr",
     "output_type": "stream",
     "text": [
      "Processing Movies:  60%|██████████████████████████████████▉                       | 655/1086 [1:27:08<30:19,  4.22s/it]"
     ]
    },
    {
     "name": "stdout",
     "output_type": "stream",
     "text": [
      "영화 '47 미터'의 평점: 평균 별점\n",
      "(3.4만명)\n",
      "검색할 영화 이름: 탐하다: 욕망의 섬\n"
     ]
    },
    {
     "name": "stderr",
     "output_type": "stream",
     "text": [
      "Processing Movies:  60%|███████████████████████████████████                       | 656/1086 [1:27:12<30:20,  4.23s/it]"
     ]
    },
    {
     "name": "stdout",
     "output_type": "stream",
     "text": [
      "검색할 영화 이름: 더 프로디지\n",
      "검색 결과 1번째 항목 확인\n"
     ]
    },
    {
     "name": "stderr",
     "output_type": "stream",
     "text": [
      "Processing Movies:  60%|███████████████████████████████████                       | 657/1086 [1:27:15<28:04,  3.93s/it]"
     ]
    },
    {
     "name": "stdout",
     "output_type": "stream",
     "text": [
      "영화 '더 프로디지'의 평점: 평균 별점\n",
      "(492명)\n",
      "검색할 영화 이름: 감염: 지구 최후의 날\n",
      "검색 결과 1번째 항목 확인\n"
     ]
    },
    {
     "name": "stderr",
     "output_type": "stream",
     "text": [
      "Processing Movies:  61%|███████████████████████████████████▏                      | 658/1086 [1:27:18<26:27,  3.71s/it]"
     ]
    },
    {
     "name": "stdout",
     "output_type": "stream",
     "text": [
      "영화 '감염: 지구 최후의 날'의 평점: 평균 별점\n",
      "(159명)\n",
      "검색할 영화 이름: 슈퍼걸 : 미녀파이터\n",
      "검색 결과 1번째 항목 확인\n"
     ]
    },
    {
     "name": "stderr",
     "output_type": "stream",
     "text": [
      "Processing Movies:  61%|███████████████████████████████████▏                      | 659/1086 [1:27:22<25:18,  3.56s/it]"
     ]
    },
    {
     "name": "stdout",
     "output_type": "stream",
     "text": [
      "영화 '슈퍼걸 : 미녀파이터'의 평점: 평균 별점\n",
      "(11명)\n",
      "검색할 영화 이름: 모범생\n",
      "검색 결과 1번째 항목 확인\n"
     ]
    },
    {
     "name": "stderr",
     "output_type": "stream",
     "text": [
      "Processing Movies:  61%|███████████████████████████████████▏                      | 660/1086 [1:27:25<24:27,  3.44s/it]"
     ]
    },
    {
     "name": "stdout",
     "output_type": "stream",
     "text": [
      "영화 '모범생'의 평점: 평균 별점\n",
      "(321명)\n",
      "검색할 영화 이름: 포토그래퍼\n",
      "검색 결과 1번째 항목 확인\n"
     ]
    },
    {
     "name": "stderr",
     "output_type": "stream",
     "text": [
      "Processing Movies:  61%|███████████████████████████████████▎                      | 661/1086 [1:27:28<23:53,  3.37s/it]"
     ]
    },
    {
     "name": "stdout",
     "output_type": "stream",
     "text": [
      "영화 '포토그래퍼'의 평점: 평균 별점\n",
      "(1명)\n",
      "검색할 영화 이름: 탐정사무소-그놈의 얼굴\n",
      "검색 결과 1번째 항목 확인\n"
     ]
    },
    {
     "name": "stderr",
     "output_type": "stream",
     "text": [
      "Processing Movies:  61%|███████████████████████████████████▎                      | 662/1086 [1:27:31<23:27,  3.32s/it]"
     ]
    },
    {
     "name": "stdout",
     "output_type": "stream",
     "text": [
      "영화 '탐정사무소-그놈의 얼굴'의 평점: 평균 별점\n",
      "(23명)\n",
      "검색할 영화 이름: 실종2\n",
      "검색 결과 1번째 항목 확인\n",
      "검색 결과 2번째 항목 확인\n"
     ]
    },
    {
     "name": "stderr",
     "output_type": "stream",
     "text": [
      "Processing Movies:  61%|███████████████████████████████████▍                      | 663/1086 [1:27:37<29:41,  4.21s/it]"
     ]
    },
    {
     "name": "stdout",
     "output_type": "stream",
     "text": [
      "영화 '실종2'의 평점: 평균 별점\n",
      "(322명)\n",
      "검색할 영화 이름: 사슬-두여자의유혹-무삭제\n"
     ]
    },
    {
     "name": "stderr",
     "output_type": "stream",
     "text": [
      "Processing Movies:  61%|███████████████████████████████████▍                      | 664/1086 [1:27:42<29:42,  4.22s/it]"
     ]
    },
    {
     "name": "stdout",
     "output_type": "stream",
     "text": [
      "검색할 영화 이름: 인트루더: 낯선 침입자\n",
      "검색 결과 1번째 항목 확인\n"
     ]
    },
    {
     "name": "stderr",
     "output_type": "stream",
     "text": [
      "Processing Movies:  61%|███████████████████████████████████▌                      | 665/1086 [1:27:45<27:31,  3.92s/it]"
     ]
    },
    {
     "name": "stdout",
     "output_type": "stream",
     "text": [
      "영화 '인트루더: 낯선 침입자'의 평점: 평균 별점\n",
      "(261명)\n",
      "검색할 영화 이름: 탐정사무소-평강공주와 바보온달 무삭제판\n",
      "검색 결과 1번째 항목 확인\n"
     ]
    },
    {
     "name": "stderr",
     "output_type": "stream",
     "text": [
      "Processing Movies:  61%|███████████████████████████████████▌                      | 666/1086 [1:27:48<26:02,  3.72s/it]"
     ]
    },
    {
     "name": "stdout",
     "output_type": "stream",
     "text": [
      "영화 '탐정사무소-평강공주와 바보온달 무삭제판'의 평점: 평균 별점\n",
      "(41명)\n",
      "검색할 영화 이름: 12피트\n",
      "검색 결과 1번째 항목 확인\n"
     ]
    },
    {
     "name": "stderr",
     "output_type": "stream",
     "text": [
      "Processing Movies:  61%|███████████████████████████████████▌                      | 667/1086 [1:27:52<25:36,  3.67s/it]"
     ]
    },
    {
     "name": "stdout",
     "output_type": "stream",
     "text": [
      "영화 '12피트'의 평점: 평균 별점\n",
      "(6,118명)\n",
      "검색할 영화 이름: 실종: 사라진아내\n",
      "검색 결과 1번째 항목 확인\n"
     ]
    },
    {
     "name": "stderr",
     "output_type": "stream",
     "text": [
      "Processing Movies:  62%|███████████████████████████████████▋                      | 668/1086 [1:27:55<24:36,  3.53s/it]"
     ]
    },
    {
     "name": "stdout",
     "output_type": "stream",
     "text": [
      "영화 '실종: 사라진아내'의 평점: 평균 별점\n",
      "(329명)\n",
      "검색할 영화 이름: 더 바\n",
      "검색 결과 1번째 항목 확인\n"
     ]
    },
    {
     "name": "stderr",
     "output_type": "stream",
     "text": [
      "Processing Movies:  62%|███████████████████████████████████▋                      | 669/1086 [1:27:58<23:49,  3.43s/it]"
     ]
    },
    {
     "name": "stdout",
     "output_type": "stream",
     "text": [
      "영화 '더 바'의 평점: 평균 별점\n",
      "(1.2만명)\n",
      "검색할 영화 이름: 범죄의 여왕\n",
      "검색 결과 1번째 항목 확인\n"
     ]
    },
    {
     "name": "stderr",
     "output_type": "stream",
     "text": [
      "Processing Movies:  62%|███████████████████████████████████▊                      | 670/1086 [1:28:01<23:18,  3.36s/it]"
     ]
    },
    {
     "name": "stdout",
     "output_type": "stream",
     "text": [
      "영화 '범죄의 여왕'의 평점: 평균 별점\n",
      "(4.6만명)\n",
      "검색할 영화 이름: 혼자\n",
      "검색 결과 1번째 항목 확인\n",
      "검색 결과 2번째 항목 확인\n",
      "검색 결과 3번째 항목 확인\n",
      "검색 결과 4번째 항목 확인\n",
      "검색 결과 5번째 항목 확인\n",
      "검색 결과 6번째 항목 확인\n",
      "내부 에러 발생: Message: \n",
      "\n",
      "검색 결과 7번째 항목 확인\n",
      "내부 에러 발생: Message: \n",
      "\n",
      "검색 결과 8번째 항목 확인\n",
      "내부 에러 발생: Message: \n",
      "\n",
      "검색 결과 9번째 항목 확인\n",
      "내부 에러 발생: Message: \n",
      "\n"
     ]
    },
    {
     "name": "stderr",
     "output_type": "stream",
     "text": [
      "Processing Movies:  62%|██████████████████████████████████▌                     | 671/1086 [1:29:43<3:46:45, 32.78s/it]"
     ]
    },
    {
     "name": "stdout",
     "output_type": "stream",
     "text": [
      "검색할 영화 이름: 더 탱크\n",
      "검색 결과 1번째 항목 확인\n"
     ]
    },
    {
     "name": "stderr",
     "output_type": "stream",
     "text": [
      "Processing Movies:  62%|██████████████████████████████████▋                     | 672/1086 [1:29:46<2:45:32, 23.99s/it]"
     ]
    },
    {
     "name": "stdout",
     "output_type": "stream",
     "text": [
      "영화 '더 탱크'의 평점: 평균 별점\n",
      "(342명)\n",
      "검색할 영화 이름: 스노든\n",
      "검색 결과 1번째 항목 확인\n"
     ]
    },
    {
     "name": "stderr",
     "output_type": "stream",
     "text": [
      "Processing Movies:  62%|██████████████████████████████████▋                     | 673/1086 [1:29:49<2:02:19, 17.77s/it]"
     ]
    },
    {
     "name": "stdout",
     "output_type": "stream",
     "text": [
      "영화 '스노든'의 평점: 평균 별점\n",
      "(3.7만명)\n",
      "검색할 영화 이름: 아가씨\n",
      "검색 결과 1번째 항목 확인\n"
     ]
    },
    {
     "name": "stderr",
     "output_type": "stream",
     "text": [
      "Processing Movies:  62%|██████████████████████████████████▊                     | 674/1086 [1:29:53<1:32:02, 13.40s/it]"
     ]
    },
    {
     "name": "stdout",
     "output_type": "stream",
     "text": [
      "영화 '아가씨'의 평점: 평균 별점\n",
      "(110.6만명)\n",
      "검색할 영화 이름: 인시디어스: 더 하우스\n",
      "검색 결과 1번째 항목 확인\n"
     ]
    },
    {
     "name": "stderr",
     "output_type": "stream",
     "text": [
      "Processing Movies:  62%|██████████████████████████████████▊                     | 675/1086 [1:29:56<1:11:00, 10.37s/it]"
     ]
    },
    {
     "name": "stdout",
     "output_type": "stream",
     "text": [
      "영화 '인시디어스: 더 하우스'의 평점: 평균 별점\n",
      "(1,028명)\n",
      "검색할 영화 이름: 탐정사무소-그놈의 얼굴 무삭제판\n"
     ]
    },
    {
     "name": "stderr",
     "output_type": "stream",
     "text": [
      "Processing Movies:  62%|████████████████████████████████████                      | 676/1086 [1:30:00<58:18,  8.53s/it]"
     ]
    },
    {
     "name": "stdout",
     "output_type": "stream",
     "text": [
      "검색할 영화 이름: 앤트로포이드\n",
      "검색 결과 1번째 항목 확인\n"
     ]
    },
    {
     "name": "stderr",
     "output_type": "stream",
     "text": [
      "Processing Movies:  62%|████████████████████████████████████▏                     | 677/1086 [1:30:03<47:16,  6.93s/it]"
     ]
    },
    {
     "name": "stdout",
     "output_type": "stream",
     "text": [
      "영화 '앤트로포이드'의 평점: 평균 별점\n",
      "(3,810명)\n",
      "검색할 영화 이름: 트릭\n",
      "검색 결과 1번째 항목 확인\n",
      "검색 결과 2번째 항목 확인\n",
      "검색 결과 3번째 항목 확인\n",
      "검색 결과 4번째 항목 확인\n",
      "검색 결과 5번째 항목 확인\n",
      "검색 결과 6번째 항목 확인\n",
      "내부 에러 발생: Message: \n",
      "\n",
      "검색 결과 7번째 항목 확인\n",
      "내부 에러 발생: Message: \n",
      "Stacktrace:\n",
      "\tGetHandleVerifier [0x005CB8E3+45827]\n",
      "\t(No symbol) [0x0055DCC4]\n",
      "\t(No symbol) [0x0045150F]\n",
      "\t(No symbol) [0x004920BC]\n",
      "\t(No symbol) [0x0049216B]\n",
      "\t(No symbol) [0x004CE0F2]\n",
      "\t(No symbol) [0x004B2E44]\n",
      "\t(No symbol) [0x004CC034]\n",
      "\t(No symbol) [0x004B2B96]\n",
      "\t(No symbol) [0x00486998]\n",
      "\t(No symbol) [0x0048751D]\n",
      "\tGetHandleVerifier [0x00884513+2899763]\n",
      "\tGetHandleVerifier [0x008D793D+3240797]\n",
      "\tGetHandleVerifier [0x006513B4+593364]\n",
      "\tGetHandleVerifier [0x006582DC+621820]\n",
      "\t(No symbol) [0x005670A4]\n",
      "\t(No symbol) [0x005637A8]\n",
      "\t(No symbol) [0x00563947]\n",
      "\t(No symbol) [0x005559FE]\n",
      "\tBaseThreadInitThunk [0x753D7BA9+25]\n",
      "\tRtlInitializeExceptionChain [0x7775BE3B+107]\n",
      "\tRtlClearBits [0x7775BDBF+191]\n",
      "\n",
      "검색 결과 8번째 항목 확인\n",
      "내부 에러 발생: Message: \n",
      "Stacktrace:\n",
      "\tGetHandleVerifier [0x005CB8E3+45827]\n",
      "\t(No symbol) [0x0055DCC4]\n",
      "\t(No symbol) [0x0045150F]\n",
      "\t(No symbol) [0x004920BC]\n",
      "\t(No symbol) [0x0049216B]\n",
      "\t(No symbol) [0x004CE0F2]\n",
      "\t(No symbol) [0x004B2E44]\n",
      "\t(No symbol) [0x004CC034]\n",
      "\t(No symbol) [0x004B2B96]\n",
      "\t(No symbol) [0x00486998]\n",
      "\t(No symbol) [0x0048751D]\n",
      "\tGetHandleVerifier [0x00884513+2899763]\n",
      "\tGetHandleVerifier [0x008D793D+3240797]\n",
      "\tGetHandleVerifier [0x006513B4+593364]\n",
      "\tGetHandleVerifier [0x006582DC+621820]\n",
      "\t(No symbol) [0x005670A4]\n",
      "\t(No symbol) [0x005637A8]\n",
      "\t(No symbol) [0x00563947]\n",
      "\t(No symbol) [0x005559FE]\n",
      "\tBaseThreadInitThunk [0x753D7BA9+25]\n",
      "\tRtlInitializeExceptionChain [0x7775BE3B+107]\n",
      "\tRtlClearBits [0x7775BDBF+191]\n",
      "\n",
      "검색 결과 9번째 항목 확인\n",
      "내부 에러 발생: Message: \n",
      "Stacktrace:\n",
      "\tGetHandleVerifier [0x005CB8E3+45827]\n",
      "\t(No symbol) [0x0055DCC4]\n",
      "\t(No symbol) [0x0045150F]\n",
      "\t(No symbol) [0x004920BC]\n",
      "\t(No symbol) [0x0049216B]\n",
      "\t(No symbol) [0x004CE0F2]\n",
      "\t(No symbol) [0x004B2E44]\n",
      "\t(No symbol) [0x004CC034]\n",
      "\t(No symbol) [0x004B2B96]\n",
      "\t(No symbol) [0x00486998]\n",
      "\t(No symbol) [0x0048751D]\n",
      "\tGetHandleVerifier [0x00884513+2899763]\n",
      "\tGetHandleVerifier [0x008D793D+3240797]\n",
      "\tGetHandleVerifier [0x006513B4+593364]\n",
      "\tGetHandleVerifier [0x006582DC+621820]\n",
      "\t(No symbol) [0x005670A4]\n",
      "\t(No symbol) [0x005637A8]\n",
      "\t(No symbol) [0x00563947]\n",
      "\t(No symbol) [0x005559FE]\n",
      "\tBaseThreadInitThunk [0x753D7BA9+25]\n",
      "\tRtlInitializeExceptionChain [0x7775BE3B+107]\n",
      "\tRtlClearBits [0x7775BDBF+191]\n",
      "\n"
     ]
    },
    {
     "name": "stderr",
     "output_type": "stream",
     "text": [
      "Processing Movies:  62%|██████████████████████████████████▉                     | 678/1086 [1:31:45<3:59:44, 35.26s/it]"
     ]
    },
    {
     "name": "stdout",
     "output_type": "stream",
     "text": [
      "검색할 영화 이름: 펫\n",
      "검색 결과 1번째 항목 확인\n",
      "검색 결과 2번째 항목 확인\n",
      "검색 결과 3번째 항목 확인\n",
      "검색 결과 4번째 항목 확인\n",
      "검색 결과 5번째 항목 확인\n",
      "검색 결과 6번째 항목 확인\n",
      "내부 에러 발생: Message: \n",
      "\n",
      "검색 결과 7번째 항목 확인\n",
      "내부 에러 발생: Message: \n",
      "\n",
      "검색 결과 8번째 항목 확인\n",
      "내부 에러 발생: Message: \n",
      "\n",
      "검색 결과 9번째 항목 확인\n",
      "내부 에러 발생: Message: \n",
      "\n"
     ]
    },
    {
     "name": "stderr",
     "output_type": "stream",
     "text": [
      "Processing Movies:  63%|███████████████████████████████████                     | 679/1086 [1:33:27<6:14:39, 55.23s/it]"
     ]
    },
    {
     "name": "stdout",
     "output_type": "stream",
     "text": [
      "검색할 영화 이름: 사슬 - 두 여자의 유혹\n"
     ]
    },
    {
     "name": "stderr",
     "output_type": "stream",
     "text": [
      "Processing Movies:  63%|███████████████████████████████████                     | 680/1086 [1:33:31<4:30:13, 39.93s/it]"
     ]
    },
    {
     "name": "stdout",
     "output_type": "stream",
     "text": [
      "검색할 영화 이름: 탐정사무소 - 사랑과 전쟁\n",
      "검색 결과 1번째 항목 확인\n"
     ]
    },
    {
     "name": "stderr",
     "output_type": "stream",
     "text": [
      "Processing Movies:  63%|███████████████████████████████████                     | 681/1086 [1:33:34<3:15:13, 28.92s/it]"
     ]
    },
    {
     "name": "stdout",
     "output_type": "stream",
     "text": [
      "영화 '탐정사무소 - 사랑과 전쟁'의 평점: 평균 별점\n",
      "(70명)\n",
      "검색할 영화 이름: 침묵살인\n",
      "검색 결과 1번째 항목 확인\n"
     ]
    },
    {
     "name": "stderr",
     "output_type": "stream",
     "text": [
      "Processing Movies:  63%|███████████████████████████████████▏                    | 682/1086 [1:33:37<2:22:47, 21.21s/it]"
     ]
    },
    {
     "name": "stdout",
     "output_type": "stream",
     "text": [
      "영화 '침묵살인'의 평점: 평균 별점\n",
      "(63명)\n",
      "검색할 영화 이름: 허니문 호텔 살인사건\n",
      "검색 결과 1번째 항목 확인\n"
     ]
    },
    {
     "name": "stderr",
     "output_type": "stream",
     "text": [
      "Processing Movies:  63%|███████████████████████████████████▏                    | 683/1086 [1:33:40<1:46:09, 15.80s/it]"
     ]
    },
    {
     "name": "stdout",
     "output_type": "stream",
     "text": [
      "영화 '허니문 호텔 살인사건'의 평점: 평균 별점\n",
      "(2,358명)\n",
      "검색할 영화 이름: 원 나이트 스탠드 - 찢어진 웨딩드레스\n",
      "검색 결과 1번째 항목 확인\n"
     ]
    },
    {
     "name": "stderr",
     "output_type": "stream",
     "text": [
      "Processing Movies:  63%|███████████████████████████████████▎                    | 684/1086 [1:33:48<1:28:54, 13.27s/it]"
     ]
    },
    {
     "name": "stdout",
     "output_type": "stream",
     "text": [
      "검색할 영화 이름: 네루다\n",
      "검색 결과 1번째 항목 확인\n"
     ]
    },
    {
     "name": "stderr",
     "output_type": "stream",
     "text": [
      "Processing Movies:  63%|███████████████████████████████████▎                    | 685/1086 [1:33:51<1:08:29, 10.25s/it]"
     ]
    },
    {
     "name": "stdout",
     "output_type": "stream",
     "text": [
      "영화 '네루다'의 평점: 평균 별점\n",
      "(2,390명)\n",
      "검색할 영화 이름: 머니 몬스터\n",
      "검색 결과 1번째 항목 확인\n"
     ]
    },
    {
     "name": "stderr",
     "output_type": "stream",
     "text": [
      "Processing Movies:  63%|████████████████████████████████████▋                     | 686/1086 [1:33:54<54:15,  8.14s/it]"
     ]
    },
    {
     "name": "stdout",
     "output_type": "stream",
     "text": [
      "영화 '머니 몬스터'의 평점: 평균 별점\n",
      "(1.1만명)\n",
      "검색할 영화 이름: 분노\n",
      "검색 결과 1번째 항목 확인\n",
      "검색 결과 2번째 항목 확인\n",
      "검색 결과 3번째 항목 확인\n",
      "검색 결과 4번째 항목 확인\n",
      "검색 결과 5번째 항목 확인\n",
      "검색 결과 6번째 항목 확인\n",
      "내부 에러 발생: Message: \n",
      "\n",
      "검색 결과 7번째 항목 확인\n",
      "내부 에러 발생: Message: \n",
      "\n",
      "검색 결과 8번째 항목 확인\n",
      "내부 에러 발생: Message: \n",
      "\n",
      "검색 결과 9번째 항목 확인\n",
      "내부 에러 발생: Message: \n",
      "\n"
     ]
    },
    {
     "name": "stderr",
     "output_type": "stream",
     "text": [
      "Processing Movies:  63%|███████████████████████████████████▍                    | 687/1086 [1:35:36<4:01:11, 36.27s/it]"
     ]
    },
    {
     "name": "stdout",
     "output_type": "stream",
     "text": [
      "검색할 영화 이름: 23 아이덴티티\n",
      "검색 결과 1번째 항목 확인\n"
     ]
    },
    {
     "name": "stderr",
     "output_type": "stream",
     "text": [
      "Processing Movies:  63%|███████████████████████████████████▍                    | 688/1086 [1:35:39<2:54:49, 26.36s/it]"
     ]
    },
    {
     "name": "stdout",
     "output_type": "stream",
     "text": [
      "영화 '23 아이덴티티'의 평점: 평균 별점\n",
      "(17.1만명)\n",
      "검색할 영화 이름: 맨 인 더 다크\n",
      "검색 결과 1번째 항목 확인\n",
      "검색 결과 2번째 항목 확인\n"
     ]
    },
    {
     "name": "stderr",
     "output_type": "stream",
     "text": [
      "Processing Movies:  63%|███████████████████████████████████▌                    | 689/1086 [1:35:46<2:14:39, 20.35s/it]"
     ]
    },
    {
     "name": "stdout",
     "output_type": "stream",
     "text": [
      "영화 '맨 인 더 다크'의 평점: 평균 별점\n",
      "(16.5만명)\n",
      "검색할 영화 이름: 파괴자들\n",
      "검색 결과 1번째 항목 확인\n"
     ]
    },
    {
     "name": "stderr",
     "output_type": "stream",
     "text": [
      "Processing Movies:  64%|███████████████████████████████████▌                    | 690/1086 [1:35:49<1:40:23, 15.21s/it]"
     ]
    },
    {
     "name": "stdout",
     "output_type": "stream",
     "text": [
      "영화 '파괴자들'의 평점: 평균 별점\n",
      "(4,134명)\n",
      "검색할 영화 이름: 불청객 - 반가운 손님\n",
      "검색 결과 1번째 항목 확인\n"
     ]
    },
    {
     "name": "stderr",
     "output_type": "stream",
     "text": [
      "Processing Movies:  64%|███████████████████████████████████▋                    | 691/1086 [1:35:52<1:16:27, 11.61s/it]"
     ]
    },
    {
     "name": "stdout",
     "output_type": "stream",
     "text": [
      "영화 '불청객 - 반가운 손님'의 평점: 평균 별점\n",
      "(1,141명)\n",
      "검색할 영화 이름: 인카네이트\n",
      "검색 결과 1번째 항목 확인\n"
     ]
    },
    {
     "name": "stderr",
     "output_type": "stream",
     "text": [
      "Processing Movies:  64%|████████████████████████████████████▉                     | 692/1086 [1:35:55<59:42,  9.09s/it]"
     ]
    },
    {
     "name": "stdout",
     "output_type": "stream",
     "text": [
      "영화 '인카네이트'의 평점: 평균 별점\n",
      "(1,425명)\n",
      "검색할 영화 이름: 더 베일\n",
      "검색 결과 1번째 항목 확인\n"
     ]
    },
    {
     "name": "stderr",
     "output_type": "stream",
     "text": [
      "Processing Movies:  64%|█████████████████████████████████████                     | 693/1086 [1:35:59<47:58,  7.33s/it]"
     ]
    },
    {
     "name": "stdout",
     "output_type": "stream",
     "text": [
      "영화 '더 베일'의 평점: 평균 별점\n",
      "(12명)\n",
      "검색할 영화 이름: 원초적 비디오 테이프\n",
      "검색 결과 1번째 항목 확인\n"
     ]
    },
    {
     "name": "stderr",
     "output_type": "stream",
     "text": [
      "Processing Movies:  64%|█████████████████████████████████████                     | 694/1086 [1:36:02<39:47,  6.09s/it]"
     ]
    },
    {
     "name": "stdout",
     "output_type": "stream",
     "text": [
      "영화 '원초적 비디오 테이프'의 평점: 평균 별점\n",
      "(198명)\n",
      "검색할 영화 이름: 적 그리스도의 날\n",
      "검색 결과 1번째 항목 확인\n"
     ]
    },
    {
     "name": "stderr",
     "output_type": "stream",
     "text": [
      "Processing Movies:  64%|█████████████████████████████████████                     | 695/1086 [1:36:05<34:01,  5.22s/it]"
     ]
    },
    {
     "name": "stdout",
     "output_type": "stream",
     "text": [
      "영화 '적 그리스도의 날'의 평점: 평균 별점\n",
      "(63명)\n",
      "검색할 영화 이름: 죽음의 리무진\n",
      "검색 결과 1번째 항목 확인\n"
     ]
    },
    {
     "name": "stderr",
     "output_type": "stream",
     "text": [
      "Processing Movies:  64%|█████████████████████████████████████▏                    | 696/1086 [1:36:08<29:58,  4.61s/it]"
     ]
    },
    {
     "name": "stdout",
     "output_type": "stream",
     "text": [
      "영화 '죽음의 리무진'의 평점: 평균 별점\n",
      "(148명)\n",
      "검색할 영화 이름: 카인드 오브 머더\n",
      "검색 결과 1번째 항목 확인\n"
     ]
    },
    {
     "name": "stderr",
     "output_type": "stream",
     "text": [
      "Processing Movies:  64%|█████████████████████████████████████▏                    | 697/1086 [1:36:11<27:10,  4.19s/it]"
     ]
    },
    {
     "name": "stdout",
     "output_type": "stream",
     "text": [
      "영화 '카인드 오브 머더'의 평점: 평균 별점\n",
      "(2,636명)\n",
      "검색할 영화 이름: 아포칼립스 로드\n",
      "검색 결과 1번째 항목 확인\n"
     ]
    },
    {
     "name": "stderr",
     "output_type": "stream",
     "text": [
      "Processing Movies:  64%|█████████████████████████████████████▎                    | 698/1086 [1:36:15<25:11,  3.90s/it]"
     ]
    },
    {
     "name": "stdout",
     "output_type": "stream",
     "text": [
      "영화 '아포칼립스 로드'의 평점: 평균 별점\n",
      "(4명)\n",
      "검색할 영화 이름: 두 여자: 피의 복수\n",
      "검색 결과 1번째 항목 확인\n"
     ]
    },
    {
     "name": "stderr",
     "output_type": "stream",
     "text": [
      "Processing Movies:  64%|█████████████████████████████████████▎                    | 699/1086 [1:36:18<23:46,  3.69s/it]"
     ]
    },
    {
     "name": "stdout",
     "output_type": "stream",
     "text": [
      "영화 '두 여자: 피의 복수'의 평점: 평균 별점\n",
      "(998명)\n",
      "검색할 영화 이름: 차일드 44\n",
      "검색 결과 1번째 항목 확인\n"
     ]
    },
    {
     "name": "stderr",
     "output_type": "stream",
     "text": [
      "Processing Movies:  64%|█████████████████████████████████████▍                    | 700/1086 [1:36:21<22:46,  3.54s/it]"
     ]
    },
    {
     "name": "stdout",
     "output_type": "stream",
     "text": [
      "영화 '차일드 44'의 평점: 평균 별점\n",
      "(1.0만명)\n",
      "검색할 영화 이름: 지하실\n",
      "검색 결과 1번째 항목 확인\n"
     ]
    },
    {
     "name": "stderr",
     "output_type": "stream",
     "text": [
      "Processing Movies:  65%|█████████████████████████████████████▍                    | 701/1086 [1:36:24<22:04,  3.44s/it]"
     ]
    },
    {
     "name": "stdout",
     "output_type": "stream",
     "text": [
      "영화 '지하실'의 평점: 평균 별점\n",
      "(46명)\n",
      "검색할 영화 이름: 리커버리\n",
      "검색 결과 1번째 항목 확인\n"
     ]
    },
    {
     "name": "stderr",
     "output_type": "stream",
     "text": [
      "Processing Movies:  65%|█████████████████████████████████████▍                    | 702/1086 [1:36:27<21:32,  3.37s/it]"
     ]
    },
    {
     "name": "stdout",
     "output_type": "stream",
     "text": [
      "영화 '리커버리'의 평점: 평균 별점\n",
      "(103명)\n",
      "검색할 영화 이름: 언프렌드\n",
      "검색 결과 1번째 항목 확인\n"
     ]
    },
    {
     "name": "stderr",
     "output_type": "stream",
     "text": [
      "Processing Movies:  65%|█████████████████████████████████████▌                    | 703/1086 [1:36:31<21:09,  3.32s/it]"
     ]
    },
    {
     "name": "stdout",
     "output_type": "stream",
     "text": [
      "영화 '언프렌드'의 평점: 평균 별점\n",
      "(2,495명)\n",
      "검색할 영화 이름: 살인재능\n",
      "검색 결과 1번째 항목 확인\n"
     ]
    },
    {
     "name": "stderr",
     "output_type": "stream",
     "text": [
      "Processing Movies:  65%|█████████████████████████████████████▌                    | 704/1086 [1:36:34<20:53,  3.28s/it]"
     ]
    },
    {
     "name": "stdout",
     "output_type": "stream",
     "text": [
      "영화 '살인재능'의 평점: 평균 별점\n",
      "(1,246명)\n",
      "검색할 영화 이름: 더 킬러\n",
      "검색 결과 1번째 항목 확인\n",
      "검색 결과 2번째 항목 확인\n",
      "검색 결과 3번째 항목 확인\n"
     ]
    },
    {
     "name": "stderr",
     "output_type": "stream",
     "text": [
      "Processing Movies:  65%|█████████████████████████████████████▋                    | 705/1086 [1:36:43<33:01,  5.20s/it]"
     ]
    },
    {
     "name": "stdout",
     "output_type": "stream",
     "text": [
      "영화 '더 킬러'의 평점: 평균 별점\n",
      "(1.4만명)\n",
      "검색할 영화 이름: 익스트랙션\n",
      "검색 결과 1번째 항목 확인\n",
      "검색 결과 2번째 항목 확인\n"
     ]
    },
    {
     "name": "stderr",
     "output_type": "stream",
     "text": [
      "Processing Movies:  65%|█████████████████████████████████████▋                    | 706/1086 [1:36:50<35:03,  5.54s/it]"
     ]
    },
    {
     "name": "stdout",
     "output_type": "stream",
     "text": [
      "영화 '익스트랙션'의 평점: 평균 별점\n",
      "(2.6만명)\n",
      "검색할 영화 이름: 하이-라이즈\n",
      "검색 결과 1번째 항목 확인\n"
     ]
    },
    {
     "name": "stderr",
     "output_type": "stream",
     "text": [
      "Processing Movies:  65%|█████████████████████████████████████▊                    | 707/1086 [1:36:53<30:34,  4.84s/it]"
     ]
    },
    {
     "name": "stdout",
     "output_type": "stream",
     "text": [
      "영화 '하이-라이즈'의 평점: 평균 별점\n",
      "(1.1만명)\n",
      "검색할 영화 이름: 더 폰\n",
      "검색 결과 1번째 항목 확인\n"
     ]
    },
    {
     "name": "stderr",
     "output_type": "stream",
     "text": [
      "Processing Movies:  65%|█████████████████████████████████████▊                    | 708/1086 [1:36:56<27:23,  4.35s/it]"
     ]
    },
    {
     "name": "stdout",
     "output_type": "stream",
     "text": [
      "영화 '더 폰'의 평점: 평균 별점\n",
      "(18.9만명)\n",
      "검색할 영화 이름: 특종: 량첸살인기\n",
      "검색 결과 1번째 항목 확인\n"
     ]
    },
    {
     "name": "stderr",
     "output_type": "stream",
     "text": [
      "Processing Movies:  65%|█████████████████████████████████████▊                    | 709/1086 [1:36:59<25:09,  4.00s/it]"
     ]
    },
    {
     "name": "stdout",
     "output_type": "stream",
     "text": [
      "영화 '특종: 량첸살인기'의 평점: 평균 별점\n",
      "(13.1만명)\n",
      "검색할 영화 이름: 감금의 시간\n"
     ]
    },
    {
     "name": "stderr",
     "output_type": "stream",
     "text": [
      "Processing Movies:  65%|█████████████████████████████████████▉                    | 710/1086 [1:37:04<25:32,  4.08s/it]"
     ]
    },
    {
     "name": "stdout",
     "output_type": "stream",
     "text": [
      "검색할 영화 이름: 그빨로\n",
      "검색 결과 1번째 항목 확인\n"
     ]
    },
    {
     "name": "stderr",
     "output_type": "stream",
     "text": [
      "Processing Movies:  65%|█████████████████████████████████████▉                    | 711/1086 [1:37:07<23:50,  3.81s/it]"
     ]
    },
    {
     "name": "stdout",
     "output_type": "stream",
     "text": [
      "영화 '그빨로'의 평점: 평균 별점\n",
      "(90명)\n",
      "검색할 영화 이름: 랑데부\n",
      "검색 결과 1번째 항목 확인\n",
      "검색 결과 2번째 항목 확인\n"
     ]
    },
    {
     "name": "stderr",
     "output_type": "stream",
     "text": [
      "Processing Movies:  66%|██████████████████████████████████████                    | 712/1086 [1:37:14<29:38,  4.75s/it]"
     ]
    },
    {
     "name": "stdout",
     "output_type": "stream",
     "text": [
      "영화 '랑데부'의 평점: 평균 별점\n",
      "(891명)\n",
      "검색할 영화 이름: 캅카\n",
      "검색 결과 1번째 항목 확인\n"
     ]
    },
    {
     "name": "stderr",
     "output_type": "stream",
     "text": [
      "Processing Movies:  66%|██████████████████████████████████████                    | 713/1086 [1:37:17<26:38,  4.29s/it]"
     ]
    },
    {
     "name": "stdout",
     "output_type": "stream",
     "text": [
      "영화 '캅카'의 평점: 평균 별점\n",
      "(1,779명)\n",
      "검색할 영화 이름: 로스트 인 더 선\n",
      "검색 결과 1번째 항목 확인\n"
     ]
    },
    {
     "name": "stderr",
     "output_type": "stream",
     "text": [
      "Processing Movies:  66%|██████████████████████████████████████▏                   | 714/1086 [1:37:20<24:33,  3.96s/it]"
     ]
    },
    {
     "name": "stdout",
     "output_type": "stream",
     "text": [
      "영화 '로스트 인 더 선'의 평점: 평균 별점\n",
      "(583명)\n",
      "검색할 영화 이름: 상간녀\n",
      "검색 결과 1번째 항목 확인\n"
     ]
    },
    {
     "name": "stderr",
     "output_type": "stream",
     "text": [
      "Processing Movies:  66%|██████████████████████████████████████▏                   | 715/1086 [1:37:23<23:03,  3.73s/it]"
     ]
    },
    {
     "name": "stdout",
     "output_type": "stream",
     "text": [
      "영화 '상간녀'의 평점: 평균 별점\n",
      "(353명)\n",
      "검색할 영화 이름: 레트리뷰션 : 응징의 날\n",
      "검색 결과 1번째 항목 확인\n"
     ]
    },
    {
     "name": "stderr",
     "output_type": "stream",
     "text": [
      "Processing Movies:  66%|██████████████████████████████████████▏                   | 716/1086 [1:37:27<22:02,  3.57s/it]"
     ]
    },
    {
     "name": "stdout",
     "output_type": "stream",
     "text": [
      "영화 '레트리뷰션 : 응징의 날'의 평점: 평균 별점\n",
      "(653명)\n",
      "검색할 영화 이름: 서머지드\n",
      "검색 결과 1번째 항목 확인\n"
     ]
    },
    {
     "name": "stderr",
     "output_type": "stream",
     "text": [
      "Processing Movies:  66%|██████████████████████████████████████▎                   | 717/1086 [1:37:30<21:17,  3.46s/it]"
     ]
    },
    {
     "name": "stdout",
     "output_type": "stream",
     "text": [
      "영화 '서머지드'의 평점: 평균 별점\n",
      "(498명)\n",
      "검색할 영화 이름: 그녀가 죽은 밤\n",
      "검색 결과 1번째 항목 확인\n"
     ]
    },
    {
     "name": "stderr",
     "output_type": "stream",
     "text": [
      "Processing Movies:  66%|██████████████████████████████████████▎                   | 718/1086 [1:37:33<20:45,  3.39s/it]"
     ]
    },
    {
     "name": "stdout",
     "output_type": "stream",
     "text": [
      "영화 '그녀가 죽은 밤'의 평점: 평균 별점\n",
      "(1,431명)\n",
      "검색할 영화 이름: 죽음의 트럭\n",
      "검색 결과 1번째 항목 확인\n"
     ]
    },
    {
     "name": "stderr",
     "output_type": "stream",
     "text": [
      "Processing Movies:  66%|██████████████████████████████████████▍                   | 719/1086 [1:37:36<20:46,  3.40s/it]"
     ]
    },
    {
     "name": "stdout",
     "output_type": "stream",
     "text": [
      "영화 '죽음의 트럭'의 평점: 평균 별점\n",
      "(957명)\n",
      "검색할 영화 이름: 섬. 사라진 사람들\n",
      "검색 결과 1번째 항목 확인\n"
     ]
    },
    {
     "name": "stderr",
     "output_type": "stream",
     "text": [
      "Processing Movies:  66%|██████████████████████████████████████▍                   | 720/1086 [1:37:40<20:26,  3.35s/it]"
     ]
    },
    {
     "name": "stdout",
     "output_type": "stream",
     "text": [
      "영화 '섬. 사라진 사람들'의 평점: 평균 별점\n",
      "(1.1만명)\n",
      "검색할 영화 이름: 캠핑\n",
      "검색 결과 1번째 항목 확인\n"
     ]
    },
    {
     "name": "stderr",
     "output_type": "stream",
     "text": [
      "Processing Movies:  66%|██████████████████████████████████████▌                   | 721/1086 [1:37:43<20:07,  3.31s/it]"
     ]
    },
    {
     "name": "stdout",
     "output_type": "stream",
     "text": [
      "영화 '캠핑'의 평점: 평균 별점\n",
      "(148명)\n",
      "검색할 영화 이름: 빅 스카이\n",
      "검색 결과 1번째 항목 확인\n"
     ]
    },
    {
     "name": "stderr",
     "output_type": "stream",
     "text": [
      "Processing Movies:  66%|██████████████████████████████████████▌                   | 722/1086 [1:37:46<19:50,  3.27s/it]"
     ]
    },
    {
     "name": "stdout",
     "output_type": "stream",
     "text": [
      "영화 '빅 스카이'의 평점: 평균 별점\n",
      "(94명)\n",
      "검색할 영화 이름: 크룰: 두 얼굴의 사나이\n",
      "검색 결과 1번째 항목 확인\n"
     ]
    },
    {
     "name": "stderr",
     "output_type": "stream",
     "text": [
      "Processing Movies:  67%|██████████████████████████████████████▌                   | 723/1086 [1:37:49<19:41,  3.25s/it]"
     ]
    },
    {
     "name": "stdout",
     "output_type": "stream",
     "text": [
      "영화 '크룰: 두 얼굴의 사나이'의 평점: 평균 별점\n",
      "(1,028명)\n",
      "검색할 영화 이름: 릴리그레이스: 마녀이야기\n",
      "검색 결과 1번째 항목 확인\n"
     ]
    },
    {
     "name": "stderr",
     "output_type": "stream",
     "text": [
      "Processing Movies:  67%|██████████████████████████████████████▋                   | 724/1086 [1:37:52<19:31,  3.24s/it]"
     ]
    },
    {
     "name": "stdout",
     "output_type": "stream",
     "text": [
      "영화 '릴리그레이스: 마녀이야기'의 평점: 평균 별점\n",
      "(1,785명)\n",
      "검색할 영화 이름: 함정\n",
      "검색 결과 1번째 항목 확인\n",
      "검색 결과 2번째 항목 확인\n"
     ]
    },
    {
     "name": "stderr",
     "output_type": "stream",
     "text": [
      "Processing Movies:  67%|██████████████████████████████████████▋                   | 725/1086 [1:37:59<25:01,  4.16s/it]"
     ]
    },
    {
     "name": "stdout",
     "output_type": "stream",
     "text": [
      "영화 '함정'의 평점: 평균 별점\n",
      "(7,486명)\n",
      "검색할 영화 이름: 천공의 벌\n",
      "검색 결과 1번째 항목 확인\n"
     ]
    },
    {
     "name": "stderr",
     "output_type": "stream",
     "text": [
      "Processing Movies:  67%|██████████████████████████████████████▊                   | 726/1086 [1:38:02<23:14,  3.87s/it]"
     ]
    },
    {
     "name": "stdout",
     "output_type": "stream",
     "text": [
      "영화 '천공의 벌'의 평점: 평균 별점\n",
      "(693명)\n",
      "검색할 영화 이름: 더 비지트\n",
      "검색 결과 1번째 항목 확인\n"
     ]
    },
    {
     "name": "stderr",
     "output_type": "stream",
     "text": [
      "Processing Movies:  67%|██████████████████████████████████████▊                   | 727/1086 [1:38:05<22:02,  3.68s/it]"
     ]
    },
    {
     "name": "stdout",
     "output_type": "stream",
     "text": [
      "영화 '더 비지트'의 평점: 평균 별점\n",
      "(2.0만명)\n",
      "검색할 영화 이름: 호프 로스트\n",
      "검색 결과 1번째 항목 확인\n"
     ]
    },
    {
     "name": "stderr",
     "output_type": "stream",
     "text": [
      "Processing Movies:  67%|██████████████████████████████████████▉                   | 728/1086 [1:38:09<21:30,  3.61s/it]"
     ]
    },
    {
     "name": "stdout",
     "output_type": "stream",
     "text": [
      "영화 '호프 로스트'의 평점: 평균 별점\n",
      "(1,969명)\n",
      "검색할 영화 이름: 란제리살인사건\n",
      "검색 결과 1번째 항목 확인\n"
     ]
    },
    {
     "name": "stderr",
     "output_type": "stream",
     "text": [
      "Processing Movies:  67%|██████████████████████████████████████▉                   | 729/1086 [1:38:12<20:44,  3.49s/it]"
     ]
    },
    {
     "name": "stdout",
     "output_type": "stream",
     "text": [
      "영화 '란제리살인사건'의 평점: 평균 별점\n",
      "(117명)\n",
      "검색할 영화 이름: 페이 더 고스트\n",
      "검색 결과 1번째 항목 확인\n"
     ]
    },
    {
     "name": "stderr",
     "output_type": "stream",
     "text": [
      "Processing Movies:  67%|██████████████████████████████████████▉                   | 730/1086 [1:38:15<20:12,  3.41s/it]"
     ]
    },
    {
     "name": "stdout",
     "output_type": "stream",
     "text": [
      "영화 '페이 더 고스트'의 평점: 평균 별점\n",
      "(820명)\n",
      "검색할 영화 이름: 악의 연대기\n",
      "검색 결과 1번째 항목 확인\n"
     ]
    },
    {
     "name": "stderr",
     "output_type": "stream",
     "text": [
      "Processing Movies:  67%|███████████████████████████████████████                   | 731/1086 [1:38:18<19:48,  3.35s/it]"
     ]
    },
    {
     "name": "stdout",
     "output_type": "stream",
     "text": [
      "영화 '악의 연대기'의 평점: 평균 별점\n",
      "(23.5만명)\n",
      "검색할 영화 이름: 컨파인스\n",
      "검색 결과 1번째 항목 확인\n"
     ]
    },
    {
     "name": "stderr",
     "output_type": "stream",
     "text": [
      "Processing Movies:  67%|███████████████████████████████████████                   | 732/1086 [1:38:21<19:28,  3.30s/it]"
     ]
    },
    {
     "name": "stdout",
     "output_type": "stream",
     "text": [
      "영화 '컨파인스'의 평점: 평균 별점\n",
      "(167명)\n",
      "검색할 영화 이름: 리그레션\n",
      "검색 결과 1번째 항목 확인\n"
     ]
    },
    {
     "name": "stderr",
     "output_type": "stream",
     "text": [
      "Processing Movies:  67%|███████████████████████████████████████▏                  | 733/1086 [1:38:25<19:13,  3.27s/it]"
     ]
    },
    {
     "name": "stdout",
     "output_type": "stream",
     "text": [
      "영화 '리그레션'의 평점: 평균 별점\n",
      "(4,751명)\n",
      "검색할 영화 이름: 스파이 브릿지\n",
      "검색 결과 1번째 항목 확인\n"
     ]
    },
    {
     "name": "stderr",
     "output_type": "stream",
     "text": [
      "Processing Movies:  68%|███████████████████████████████████████▏                  | 734/1086 [1:38:28<19:05,  3.25s/it]"
     ]
    },
    {
     "name": "stdout",
     "output_type": "stream",
     "text": [
      "영화 '스파이 브릿지'의 평점: 평균 별점\n",
      "(3.9만명)\n",
      "검색할 영화 이름: 건즈 포 하이어\n",
      "검색 결과 1번째 항목 확인\n"
     ]
    },
    {
     "name": "stderr",
     "output_type": "stream",
     "text": [
      "Processing Movies:  68%|███████████████████████████████████████▎                  | 735/1086 [1:38:31<18:56,  3.24s/it]"
     ]
    },
    {
     "name": "stdout",
     "output_type": "stream",
     "text": [
      "영화 '건즈 포 하이어'의 평점: 평균 별점\n",
      "(114명)\n",
      "검색할 영화 이름: 강간 몰카 유출 사건\n"
     ]
    },
    {
     "name": "stderr",
     "output_type": "stream",
     "text": [
      "Processing Movies:  68%|███████████████████████████████████████▎                  | 736/1086 [1:38:35<20:38,  3.54s/it]"
     ]
    },
    {
     "name": "stdout",
     "output_type": "stream",
     "text": [
      "검색할 영화 이름: 어떤살인\n",
      "검색 결과 1번째 항목 확인\n"
     ]
    },
    {
     "name": "stderr",
     "output_type": "stream",
     "text": [
      "Processing Movies:  68%|███████████████████████████████████████▎                  | 737/1086 [1:38:39<20:01,  3.44s/it]"
     ]
    },
    {
     "name": "stdout",
     "output_type": "stream",
     "text": [
      "영화 '어떤살인'의 평점: 평균 별점\n",
      "(1,744명)\n",
      "검색할 영화 이름: 살인범의 기억\n",
      "검색 결과 1번째 항목 확인\n"
     ]
    },
    {
     "name": "stderr",
     "output_type": "stream",
     "text": [
      "Processing Movies:  68%|███████████████████████████████████████▍                  | 738/1086 [1:38:42<19:33,  3.37s/it]"
     ]
    },
    {
     "name": "stdout",
     "output_type": "stream",
     "text": [
      "영화 '살인범의 기억'의 평점: 평균 별점\n",
      "(23명)\n",
      "검색할 영화 이름: 노크 노크\n",
      "검색 결과 1번째 항목 확인\n"
     ]
    },
    {
     "name": "stderr",
     "output_type": "stream",
     "text": [
      "Processing Movies:  68%|███████████████████████████████████████▍                  | 739/1086 [1:38:45<19:11,  3.32s/it]"
     ]
    },
    {
     "name": "stdout",
     "output_type": "stream",
     "text": [
      "영화 '노크 노크'의 평점: 평균 별점\n",
      "(7,178명)\n",
      "검색할 영화 이름: 킬 유어 프렌즈\n",
      "검색 결과 1번째 항목 확인\n"
     ]
    },
    {
     "name": "stderr",
     "output_type": "stream",
     "text": [
      "Processing Movies:  68%|███████████████████████████████████████▌                  | 740/1086 [1:38:48<18:56,  3.29s/it]"
     ]
    },
    {
     "name": "stdout",
     "output_type": "stream",
     "text": [
      "영화 '킬 유어 프렌즈'의 평점: 평균 별점\n",
      "(441명)\n",
      "검색할 영화 이름: 비밀은 없다\n",
      "검색 결과 1번째 항목 확인\n"
     ]
    },
    {
     "name": "stderr",
     "output_type": "stream",
     "text": [
      "Processing Movies:  68%|███████████████████████████████████████▌                  | 741/1086 [1:38:51<18:45,  3.26s/it]"
     ]
    },
    {
     "name": "stdout",
     "output_type": "stream",
     "text": [
      "영화 '비밀은 없다'의 평점: 평균 별점\n",
      "(10.0만명)\n",
      "검색할 영화 이름: 악의 도시\n",
      "검색 결과 1번째 항목 확인\n"
     ]
    },
    {
     "name": "stderr",
     "output_type": "stream",
     "text": [
      "Processing Movies:  68%|███████████████████████████████████████▋                  | 742/1086 [1:38:55<18:36,  3.25s/it]"
     ]
    },
    {
     "name": "stdout",
     "output_type": "stream",
     "text": [
      "영화 '악의 도시'의 평점: 평균 별점\n",
      "(147명)\n",
      "검색할 영화 이름: 위험한 채팅\n",
      "검색 결과 1번째 항목 확인\n"
     ]
    },
    {
     "name": "stderr",
     "output_type": "stream",
     "text": [
      "Processing Movies:  68%|███████████████████████████████████████▋                  | 743/1086 [1:39:02<25:42,  4.50s/it]"
     ]
    },
    {
     "name": "stdout",
     "output_type": "stream",
     "text": [
      "검색할 영화 이름: 저주의 시작\n",
      "검색 결과 1번째 항목 확인\n",
      "검색 결과 2번째 항목 확인\n",
      "검색 결과 3번째 항목 확인\n",
      "검색 결과 4번째 항목 확인\n",
      "검색 결과 5번째 항목 확인\n",
      "검색 결과 6번째 항목 확인\n",
      "내부 에러 발생: Message: \n",
      "\n",
      "검색 결과 7번째 항목 확인\n",
      "내부 에러 발생: Message: \n",
      "\n",
      "검색 결과 8번째 항목 확인\n",
      "내부 에러 발생: Message: \n",
      "\n",
      "검색 결과 9번째 항목 확인\n",
      "내부 에러 발생: Message: \n",
      "\n"
     ]
    },
    {
     "name": "stderr",
     "output_type": "stream",
     "text": [
      "Processing Movies:  69%|██████████████████████████████████████▎                 | 744/1086 [1:40:44<3:12:06, 33.70s/it]"
     ]
    },
    {
     "name": "stdout",
     "output_type": "stream",
     "text": [
      "검색할 영화 이름: 샤크네이도 스톰\n",
      "검색 결과 1번째 항목 확인\n"
     ]
    },
    {
     "name": "stderr",
     "output_type": "stream",
     "text": [
      "Processing Movies:  69%|██████████████████████████████████████▍                 | 745/1086 [1:40:47<2:19:33, 24.56s/it]"
     ]
    },
    {
     "name": "stdout",
     "output_type": "stream",
     "text": [
      "영화 '샤크네이도 스톰'의 평점: 평균 별점\n",
      "(422명)\n",
      "검색할 영화 이름: 시간이탈자\n",
      "검색 결과 1번째 항목 확인\n"
     ]
    },
    {
     "name": "stderr",
     "output_type": "stream",
     "text": [
      "Processing Movies:  69%|██████████████████████████████████████▍                 | 746/1086 [1:40:50<1:42:51, 18.15s/it]"
     ]
    },
    {
     "name": "stdout",
     "output_type": "stream",
     "text": [
      "영화 '시간이탈자'의 평점: 평균 별점\n",
      "(11.2만명)\n",
      "검색할 영화 이름: 액트 오브 워\n",
      "검색 결과 1번째 항목 확인\n"
     ]
    },
    {
     "name": "stderr",
     "output_type": "stream",
     "text": [
      "Processing Movies:  69%|██████████████████████████████████████▌                 | 747/1086 [1:40:53<1:17:13, 13.67s/it]"
     ]
    },
    {
     "name": "stdout",
     "output_type": "stream",
     "text": [
      "영화 '액트 오브 워'의 평점: 평균 별점\n",
      "(460명)\n",
      "검색할 영화 이름: 50가지 욕망의 그림자\n",
      "검색 결과 1번째 항목 확인\n"
     ]
    },
    {
     "name": "stderr",
     "output_type": "stream",
     "text": [
      "Processing Movies:  69%|███████████████████████████████████████▉                  | 748/1086 [1:40:57<59:19, 10.53s/it]"
     ]
    },
    {
     "name": "stdout",
     "output_type": "stream",
     "text": [
      "영화 '50가지 욕망의 그림자'의 평점: 평균 별점\n",
      "(53명)\n",
      "검색할 영화 이름: 그놈이다\n",
      "검색 결과 1번째 항목 확인\n"
     ]
    },
    {
     "name": "stderr",
     "output_type": "stream",
     "text": [
      "Processing Movies:  69%|████████████████████████████████████████                  | 749/1086 [1:41:00<46:46,  8.33s/it]"
     ]
    },
    {
     "name": "stdout",
     "output_type": "stream",
     "text": [
      "영화 '그놈이다'의 평점: 평균 별점\n",
      "(6.1만명)\n",
      "검색할 영화 이름: 블러드 오렌지\n",
      "검색 결과 1번째 항목 확인\n"
     ]
    },
    {
     "name": "stderr",
     "output_type": "stream",
     "text": [
      "Processing Movies:  69%|████████████████████████████████████████                  | 750/1086 [1:41:03<38:08,  6.81s/it]"
     ]
    },
    {
     "name": "stdout",
     "output_type": "stream",
     "text": [
      "영화 '블러드 오렌지'의 평점: 평균 별점\n",
      "(110명)\n",
      "검색할 영화 이름: 인투 더 포레스트\n",
      "검색 결과 1번째 항목 확인\n"
     ]
    },
    {
     "name": "stderr",
     "output_type": "stream",
     "text": [
      "Processing Movies:  69%|████████████████████████████████████████                  | 751/1086 [1:41:06<32:02,  5.74s/it]"
     ]
    },
    {
     "name": "stdout",
     "output_type": "stream",
     "text": [
      "영화 '인투 더 포레스트'의 평점: 평균 별점\n",
      "(1,522명)\n",
      "검색할 영화 이름: 널 기다리며\n",
      "검색 결과 1번째 항목 확인\n",
      "검색 결과 2번째 항목 확인\n"
     ]
    },
    {
     "name": "stderr",
     "output_type": "stream",
     "text": [
      "Processing Movies:  69%|████████████████████████████████████████▏                 | 752/1086 [1:41:13<33:00,  5.93s/it]"
     ]
    },
    {
     "name": "stdout",
     "output_type": "stream",
     "text": [
      "영화 '널 기다리며'의 평점: 평균 별점\n",
      "(2.5만명)\n",
      "검색할 영화 이름: 싸이코 킬러\n",
      "검색 결과 1번째 항목 확인\n"
     ]
    },
    {
     "name": "stderr",
     "output_type": "stream",
     "text": [
      "Processing Movies:  69%|████████████████████████████████████████▏                 | 753/1086 [1:41:16<28:22,  5.11s/it]"
     ]
    },
    {
     "name": "stdout",
     "output_type": "stream",
     "text": [
      "영화 '싸이코 킬러'의 평점: 평균 별점\n",
      "(2명)\n",
      "검색할 영화 이름: 악인은 살아 있다\n",
      "검색 결과 1번째 항목 확인\n"
     ]
    },
    {
     "name": "stderr",
     "output_type": "stream",
     "text": [
      "Processing Movies:  69%|████████████████████████████████████████▎                 | 754/1086 [1:41:19<25:06,  4.54s/it]"
     ]
    },
    {
     "name": "stdout",
     "output_type": "stream",
     "text": [
      "영화 '악인은 살아 있다'의 평점: 평균 별점\n",
      "(1,203명)\n",
      "검색할 영화 이름: 살인캠프\n",
      "검색 결과 1번째 항목 확인\n"
     ]
    },
    {
     "name": "stderr",
     "output_type": "stream",
     "text": [
      "Processing Movies:  70%|████████████████████████████████████████▎                 | 755/1086 [1:41:22<22:52,  4.15s/it]"
     ]
    },
    {
     "name": "stdout",
     "output_type": "stream",
     "text": [
      "영화 '살인캠프'의 평점: 평균 별점\n",
      "(642명)\n",
      "검색할 영화 이름: 타투\n",
      "검색 결과 1번째 항목 확인\n"
     ]
    },
    {
     "name": "stderr",
     "output_type": "stream",
     "text": [
      "Processing Movies:  70%|████████████████████████████████████████▍                 | 756/1086 [1:41:26<21:14,  3.86s/it]"
     ]
    },
    {
     "name": "stdout",
     "output_type": "stream",
     "text": [
      "영화 '타투'의 평점: 평균 별점\n",
      "(1,594명)\n",
      "검색할 영화 이름: 언유주얼 서스펙트\n",
      "검색 결과 1번째 항목 확인\n"
     ]
    },
    {
     "name": "stderr",
     "output_type": "stream",
     "text": [
      "Processing Movies:  70%|████████████████████████████████████████▍                 | 757/1086 [1:41:29<20:06,  3.67s/it]"
     ]
    },
    {
     "name": "stdout",
     "output_type": "stream",
     "text": [
      "영화 '언유주얼 서스펙트'의 평점: 평균 별점\n",
      "(64명)\n",
      "검색할 영화 이름: 고백할 수 없는\n",
      "검색 결과 1번째 항목 확인\n"
     ]
    },
    {
     "name": "stderr",
     "output_type": "stream",
     "text": [
      "Processing Movies:  70%|████████████████████████████████████████▍                 | 758/1086 [1:41:32<19:18,  3.53s/it]"
     ]
    },
    {
     "name": "stdout",
     "output_type": "stream",
     "text": [
      "영화 '고백할 수 없는'의 평점: 평균 별점\n",
      "(463명)\n",
      "검색할 영화 이름: 화끈한 써비스: 어느 잔인한 미용사의\n",
      "검색 결과 1번째 항목 확인\n"
     ]
    },
    {
     "name": "stderr",
     "output_type": "stream",
     "text": [
      "Processing Movies:  70%|████████████████████████████████████████▌                 | 759/1086 [1:41:35<18:45,  3.44s/it]"
     ]
    },
    {
     "name": "stdout",
     "output_type": "stream",
     "text": [
      "영화 '화끈한 써비스: 어느 잔인한 미용사의'의 평점: 평균 별점\n",
      "(175명)\n",
      "검색할 영화 이름: 다크 하트\n",
      "검색 결과 1번째 항목 확인\n"
     ]
    },
    {
     "name": "stderr",
     "output_type": "stream",
     "text": [
      "Processing Movies:  70%|████████████████████████████████████████▌                 | 760/1086 [1:41:38<18:17,  3.37s/it]"
     ]
    },
    {
     "name": "stdout",
     "output_type": "stream",
     "text": [
      "영화 '다크 하트'의 평점: 평균 별점\n",
      "(6명)\n",
      "검색할 영화 이름: 터널: 다크니스 디센딩\n",
      "검색 결과 1번째 항목 확인\n"
     ]
    },
    {
     "name": "stderr",
     "output_type": "stream",
     "text": [
      "Processing Movies:  70%|████████████████████████████████████████▋                 | 761/1086 [1:41:42<17:58,  3.32s/it]"
     ]
    },
    {
     "name": "stdout",
     "output_type": "stream",
     "text": [
      "영화 '터널: 다크니스 디센딩'의 평점: 평균 별점\n",
      "(14명)\n",
      "검색할 영화 이름: 모스트 원티드 맨\n",
      "검색 결과 1번째 항목 확인\n"
     ]
    },
    {
     "name": "stderr",
     "output_type": "stream",
     "text": [
      "Processing Movies:  70%|████████████████████████████████████████▋                 | 762/1086 [1:41:45<17:44,  3.29s/it]"
     ]
    },
    {
     "name": "stdout",
     "output_type": "stream",
     "text": [
      "영화 '모스트 원티드 맨'의 평점: 평균 별점\n",
      "(2.6만명)\n",
      "검색할 영화 이름: 1월의 두 얼굴\n",
      "검색 결과 1번째 항목 확인\n"
     ]
    },
    {
     "name": "stderr",
     "output_type": "stream",
     "text": [
      "Processing Movies:  70%|████████████████████████████████████████▋                 | 763/1086 [1:41:48<17:33,  3.26s/it]"
     ]
    },
    {
     "name": "stdout",
     "output_type": "stream",
     "text": [
      "영화 '1월의 두 얼굴'의 평점: 평균 별점\n",
      "(2,850명)\n",
      "검색할 영화 이름: 마스터: 뒤틀린 사랑\n",
      "검색 결과 1번째 항목 확인\n"
     ]
    },
    {
     "name": "stderr",
     "output_type": "stream",
     "text": [
      "Processing Movies:  70%|████████████████████████████████████████▊                 | 764/1086 [1:41:51<17:25,  3.25s/it]"
     ]
    },
    {
     "name": "stdout",
     "output_type": "stream",
     "text": [
      "영화 '마스터: 뒤틀린 사랑'의 평점: 평균 별점\n",
      "(917명)\n",
      "검색할 영화 이름: 나를 찾아줘\n",
      "검색 결과 1번째 항목 확인\n"
     ]
    },
    {
     "name": "stderr",
     "output_type": "stream",
     "text": [
      "Processing Movies:  70%|████████████████████████████████████████▊                 | 765/1086 [1:41:55<17:29,  3.27s/it]"
     ]
    },
    {
     "name": "stdout",
     "output_type": "stream",
     "text": [
      "영화 '나를 찾아줘'의 평점: 평균 별점\n",
      "(36.0만명)\n",
      "검색할 영화 이름: 스테레오\n",
      "검색 결과 1번째 항목 확인\n"
     ]
    },
    {
     "name": "stderr",
     "output_type": "stream",
     "text": [
      "Processing Movies:  71%|████████████████████████████████████████▉                 | 766/1086 [1:41:58<17:23,  3.26s/it]"
     ]
    },
    {
     "name": "stdout",
     "output_type": "stream",
     "text": [
      "영화 '스테레오'의 평점: 평균 별점\n",
      "(520명)\n",
      "검색할 영화 이름: 소셜포비아\n",
      "검색 결과 1번째 항목 확인\n"
     ]
    },
    {
     "name": "stderr",
     "output_type": "stream",
     "text": [
      "Processing Movies:  71%|████████████████████████████████████████▉                 | 767/1086 [1:42:01<17:14,  3.24s/it]"
     ]
    },
    {
     "name": "stdout",
     "output_type": "stream",
     "text": [
      "영화 '소셜포비아'의 평점: 평균 별점\n",
      "(17.9만명)\n",
      "검색할 영화 이름: 설계\n",
      "검색 결과 1번째 항목 확인\n"
     ]
    },
    {
     "name": "stderr",
     "output_type": "stream",
     "text": [
      "Processing Movies:  71%|█████████████████████████████████████████                 | 768/1086 [1:42:04<17:09,  3.24s/it]"
     ]
    },
    {
     "name": "stdout",
     "output_type": "stream",
     "text": [
      "영화 '설계'의 평점: 평균 별점\n",
      "(4,177명)\n",
      "검색할 영화 이름: 욕망의 독: 중독\n"
     ]
    },
    {
     "name": "stderr",
     "output_type": "stream",
     "text": [
      "Processing Movies:  71%|█████████████████████████████████████████                 | 769/1086 [1:42:09<18:44,  3.55s/it]"
     ]
    },
    {
     "name": "stdout",
     "output_type": "stream",
     "text": [
      "검색할 영화 이름: 오피스\n",
      "검색 결과 1번째 항목 확인\n"
     ]
    },
    {
     "name": "stderr",
     "output_type": "stream",
     "text": [
      "Processing Movies:  71%|█████████████████████████████████████████                 | 770/1086 [1:42:12<18:08,  3.45s/it]"
     ]
    },
    {
     "name": "stdout",
     "output_type": "stream",
     "text": [
      "영화 '오피스'의 평점: 평균 별점\n",
      "(11.5만명)\n",
      "검색할 영화 이름: 살인의 늪\n",
      "검색 결과 1번째 항목 확인\n"
     ]
    },
    {
     "name": "stderr",
     "output_type": "stream",
     "text": [
      "Processing Movies:  71%|█████████████████████████████████████████▏                | 771/1086 [1:42:15<17:42,  3.37s/it]"
     ]
    },
    {
     "name": "stdout",
     "output_type": "stream",
     "text": [
      "영화 '살인의 늪'의 평점: 평균 별점\n",
      "(935명)\n",
      "검색할 영화 이름: 악령의 집\n",
      "검색 결과 1번째 항목 확인\n"
     ]
    },
    {
     "name": "stderr",
     "output_type": "stream",
     "text": [
      "Processing Movies:  71%|█████████████████████████████████████████▏                | 772/1086 [1:42:18<17:22,  3.32s/it]"
     ]
    },
    {
     "name": "stdout",
     "output_type": "stream",
     "text": [
      "영화 '악령의 집'의 평점: 평균 별점\n",
      "(282명)\n",
      "검색할 영화 이름: 레지던트 데블\n",
      "검색 결과 1번째 항목 확인\n"
     ]
    },
    {
     "name": "stderr",
     "output_type": "stream",
     "text": [
      "Processing Movies:  71%|█████████████████████████████████████████▎                | 773/1086 [1:42:21<17:07,  3.28s/it]"
     ]
    },
    {
     "name": "stdout",
     "output_type": "stream",
     "text": [
      "영화 '레지던트 데블'의 평점: 평균 별점\n",
      "(4명)\n",
      "검색할 영화 이름: 굿 메리지\n",
      "검색 결과 1번째 항목 확인\n"
     ]
    },
    {
     "name": "stderr",
     "output_type": "stream",
     "text": [
      "Processing Movies:  71%|█████████████████████████████████████████▎                | 774/1086 [1:42:25<16:56,  3.26s/it]"
     ]
    },
    {
     "name": "stdout",
     "output_type": "stream",
     "text": [
      "영화 '굿 메리지'의 평점: 평균 별점\n",
      "(717명)\n",
      "검색할 영화 이름: 덫: 치명적인 유혹\n",
      "검색 결과 1번째 항목 확인\n"
     ]
    },
    {
     "name": "stderr",
     "output_type": "stream",
     "text": [
      "Processing Movies:  71%|█████████████████████████████████████████▍                | 775/1086 [1:42:28<16:48,  3.24s/it]"
     ]
    },
    {
     "name": "stdout",
     "output_type": "stream",
     "text": [
      "영화 '덫: 치명적인 유혹'의 평점: 평균 별점\n",
      "(1,374명)\n",
      "검색할 영화 이름: 모든 비밀스러운 것들\n",
      "검색 결과 1번째 항목 확인\n"
     ]
    },
    {
     "name": "stderr",
     "output_type": "stream",
     "text": [
      "Processing Movies:  71%|█████████████████████████████████████████▍                | 776/1086 [1:42:31<16:42,  3.23s/it]"
     ]
    },
    {
     "name": "stdout",
     "output_type": "stream",
     "text": [
      "영화 '모든 비밀스러운 것들'의 평점: 평균 별점\n",
      "(2,556명)\n",
      "검색할 영화 이름: 숨바꼭질: 겟 아웃\n",
      "검색 결과 1번째 항목 확인\n"
     ]
    },
    {
     "name": "stderr",
     "output_type": "stream",
     "text": [
      "Processing Movies:  72%|█████████████████████████████████████████▍                | 777/1086 [1:42:34<16:36,  3.22s/it]"
     ]
    },
    {
     "name": "stdout",
     "output_type": "stream",
     "text": [
      "영화 '숨바꼭질: 겟 아웃'의 평점: 평균 별점\n",
      "(55명)\n",
      "검색할 영화 이름: 캠퍼스 어택 크리스티 처결단\n",
      "검색 결과 1번째 항목 확인\n"
     ]
    },
    {
     "name": "stderr",
     "output_type": "stream",
     "text": [
      "Processing Movies:  72%|█████████████████████████████████████████▌                | 778/1086 [1:42:41<22:54,  4.46s/it]"
     ]
    },
    {
     "name": "stdout",
     "output_type": "stream",
     "text": [
      "검색할 영화 이름: 캠프 살인사건의 비밀\n",
      "검색 결과 1번째 항목 확인\n"
     ]
    },
    {
     "name": "stderr",
     "output_type": "stream",
     "text": [
      "Processing Movies:  72%|█████████████████████████████████████████▌                | 779/1086 [1:42:45<20:54,  4.09s/it]"
     ]
    },
    {
     "name": "stdout",
     "output_type": "stream",
     "text": [
      "영화 '캠프 살인사건의 비밀'의 평점: 평균 별점\n",
      "(200명)\n",
      "검색할 영화 이름: 완벽한 거짓말\n",
      "검색 결과 1번째 항목 확인\n"
     ]
    },
    {
     "name": "stderr",
     "output_type": "stream",
     "text": [
      "Processing Movies:  72%|█████████████████████████████████████████▋                | 780/1086 [1:42:48<19:29,  3.82s/it]"
     ]
    },
    {
     "name": "stdout",
     "output_type": "stream",
     "text": [
      "영화 '완벽한 거짓말'의 평점: 평균 별점\n",
      "(7,281명)\n",
      "검색할 영화 이름: 레전드 워리어\n",
      "검색 결과 1번째 항목 확인\n",
      "검색 결과 2번째 항목 확인\n"
     ]
    },
    {
     "name": "stderr",
     "output_type": "stream",
     "text": [
      "Processing Movies:  72%|█████████████████████████████████████████▋                | 781/1086 [1:42:54<23:18,  4.59s/it]"
     ]
    },
    {
     "name": "stdout",
     "output_type": "stream",
     "text": [
      "영화 '레전드 워리어'의 평점: 평균 별점\n",
      "(4명)\n",
      "검색할 영화 이름: 더 로프트 : 비밀의 방\n",
      "검색 결과 1번째 항목 확인\n"
     ]
    },
    {
     "name": "stderr",
     "output_type": "stream",
     "text": [
      "Processing Movies:  72%|█████████████████████████████████████████▊                | 782/1086 [1:42:57<21:08,  4.17s/it]"
     ]
    },
    {
     "name": "stdout",
     "output_type": "stream",
     "text": [
      "영화 '더 로프트 : 비밀의 방'의 평점: 평균 별점\n",
      "(3,443명)\n",
      "검색할 영화 이름: 포커 나이트\n",
      "검색 결과 1번째 항목 확인\n"
     ]
    },
    {
     "name": "stderr",
     "output_type": "stream",
     "text": [
      "Processing Movies:  72%|█████████████████████████████████████████▊                | 783/1086 [1:43:01<19:36,  3.88s/it]"
     ]
    },
    {
     "name": "stdout",
     "output_type": "stream",
     "text": [
      "영화 '포커 나이트'의 평점: 평균 별점\n",
      "(584명)\n",
      "검색할 영화 이름: 기생수 파트1\n",
      "검색 결과 1번째 항목 확인\n"
     ]
    },
    {
     "name": "stderr",
     "output_type": "stream",
     "text": [
      "Processing Movies:  72%|█████████████████████████████████████████▊                | 784/1086 [1:43:04<18:30,  3.68s/it]"
     ]
    },
    {
     "name": "stdout",
     "output_type": "stream",
     "text": [
      "영화 '기생수 파트1'의 평점: 평균 별점\n",
      "(12.3만명)\n",
      "검색할 영화 이름: 울언니: 성상납의 비밀 무삭제판\n"
     ]
    },
    {
     "name": "stderr",
     "output_type": "stream",
     "text": [
      "Processing Movies:  72%|█████████████████████████████████████████▉                | 785/1086 [1:43:08<19:19,  3.85s/it]"
     ]
    },
    {
     "name": "stdout",
     "output_type": "stream",
     "text": [
      "검색할 영화 이름: 테이킹\n",
      "검색 결과 1번째 항목 확인\n",
      "검색 결과 2번째 항목 확인\n"
     ]
    },
    {
     "name": "stderr",
     "output_type": "stream",
     "text": [
      "Processing Movies:  72%|█████████████████████████████████████████▉                | 786/1086 [1:43:15<23:57,  4.79s/it]"
     ]
    },
    {
     "name": "stdout",
     "output_type": "stream",
     "text": [
      "영화 '테이킹'의 평점: 평균 별점\n",
      "(24명)\n",
      "검색할 영화 이름: 전성수배\n",
      "검색 결과 1번째 항목 확인\n"
     ]
    },
    {
     "name": "stderr",
     "output_type": "stream",
     "text": [
      "Processing Movies:  72%|██████████████████████████████████████████                | 787/1086 [1:43:18<21:30,  4.32s/it]"
     ]
    },
    {
     "name": "stdout",
     "output_type": "stream",
     "text": [
      "영화 '전성수배'의 평점: 평균 별점\n",
      "(18명)\n",
      "검색할 영화 이름: 아서\n",
      "검색 결과 1번째 항목 확인\n"
     ]
    },
    {
     "name": "stderr",
     "output_type": "stream",
     "text": [
      "Processing Movies:  73%|██████████████████████████████████████████                | 788/1086 [1:43:22<19:56,  4.02s/it]"
     ]
    },
    {
     "name": "stdout",
     "output_type": "stream",
     "text": [
      "영화 '아서'의 평점: 평균 별점\n",
      "(241명)\n",
      "검색할 영화 이름: 인디아나 존스: 운명의 다이얼\n",
      "검색 결과 1번째 항목 확인\n"
     ]
    },
    {
     "name": "stderr",
     "output_type": "stream",
     "text": [
      "Processing Movies:  73%|██████████████████████████████████████████▏               | 789/1086 [1:43:25<18:42,  3.78s/it]"
     ]
    },
    {
     "name": "stdout",
     "output_type": "stream",
     "text": [
      "영화 '인디아나 존스: 운명의 다이얼'의 평점: 평균 별점\n",
      "(1.0만명)\n",
      "검색할 영화 이름: 보 이즈 어프레이드\n",
      "검색 결과 1번째 항목 확인\n"
     ]
    },
    {
     "name": "stderr",
     "output_type": "stream",
     "text": [
      "Processing Movies:  73%|██████████████████████████████████████████▏               | 790/1086 [1:43:28<17:48,  3.61s/it]"
     ]
    },
    {
     "name": "stdout",
     "output_type": "stream",
     "text": [
      "영화 '보 이즈 어프레이드'의 평점: 평균 별점\n",
      "(2.1만명)\n",
      "검색할 영화 이름: 주사위놀이, 마불 세계여행\n",
      "검색 결과 1번째 항목 확인\n",
      "내부 에러 발생: Message: \n",
      "Stacktrace:\n",
      "\tGetHandleVerifier [0x005CB8E3+45827]\n",
      "\t(No symbol) [0x0055DCC4]\n",
      "\t(No symbol) [0x0045150F]\n",
      "\t(No symbol) [0x004920BC]\n",
      "\t(No symbol) [0x0049216B]\n",
      "\t(No symbol) [0x004CE0F2]\n",
      "\t(No symbol) [0x004B2E44]\n",
      "\t(No symbol) [0x004CC034]\n",
      "\t(No symbol) [0x004B2B96]\n",
      "\t(No symbol) [0x00486998]\n",
      "\t(No symbol) [0x0048751D]\n",
      "\tGetHandleVerifier [0x00884513+2899763]\n",
      "\tGetHandleVerifier [0x008D793D+3240797]\n",
      "\tGetHandleVerifier [0x006513B4+593364]\n",
      "\tGetHandleVerifier [0x006582DC+621820]\n",
      "\t(No symbol) [0x005670A4]\n",
      "\t(No symbol) [0x005637A8]\n",
      "\t(No symbol) [0x00563947]\n",
      "\t(No symbol) [0x005559FE]\n",
      "\tBaseThreadInitThunk [0x753D7BA9+25]\n",
      "\tRtlInitializeExceptionChain [0x7775BE3B+107]\n",
      "\tRtlClearBits [0x7775BDBF+191]\n",
      "\n"
     ]
    },
    {
     "name": "stderr",
     "output_type": "stream",
     "text": [
      "Processing Movies:  73%|██████████████████████████████████████████▏               | 791/1086 [1:43:44<35:19,  7.18s/it]"
     ]
    },
    {
     "name": "stdout",
     "output_type": "stream",
     "text": [
      "검색할 영화 이름: 베어헌터\n",
      "검색 결과 1번째 항목 확인\n"
     ]
    },
    {
     "name": "stderr",
     "output_type": "stream",
     "text": [
      "Processing Movies:  73%|██████████████████████████████████████████▎               | 792/1086 [1:43:47<29:20,  5.99s/it]"
     ]
    },
    {
     "name": "stdout",
     "output_type": "stream",
     "text": [
      "영화 '베어헌터'의 평점: 평균 별점\n",
      "(15명)\n",
      "검색할 영화 이름: 신비한 동물들과 덤블도어의 비밀\n",
      "검색 결과 1번째 항목 확인\n"
     ]
    },
    {
     "name": "stderr",
     "output_type": "stream",
     "text": [
      "Processing Movies:  73%|██████████████████████████████████████████▎               | 793/1086 [1:43:50<25:11,  5.16s/it]"
     ]
    },
    {
     "name": "stdout",
     "output_type": "stream",
     "text": [
      "영화 '신비한 동물들과 덤블도어의 비밀'의 평점: 평균 별점\n",
      "(2.6만명)\n",
      "검색할 영화 이름: 지옥만세\n",
      "검색 결과 1번째 항목 확인\n"
     ]
    },
    {
     "name": "stderr",
     "output_type": "stream",
     "text": [
      "Processing Movies:  73%|██████████████████████████████████████████▍               | 794/1086 [1:43:53<22:15,  4.57s/it]"
     ]
    },
    {
     "name": "stdout",
     "output_type": "stream",
     "text": [
      "영화 '지옥만세'의 평점: 평균 별점\n",
      "(5,848명)\n",
      "검색할 영화 이름: 고스트버스터즈 라이즈\n",
      "검색 결과 1번째 항목 확인\n"
     ]
    },
    {
     "name": "stderr",
     "output_type": "stream",
     "text": [
      "Processing Movies:  73%|██████████████████████████████████████████▍               | 795/1086 [1:43:56<20:13,  4.17s/it]"
     ]
    },
    {
     "name": "stdout",
     "output_type": "stream",
     "text": [
      "영화 '고스트버스터즈 라이즈'의 평점: 평균 별점\n",
      "(5,927명)\n",
      "검색할 영화 이름: 카오스 워킹\n",
      "검색 결과 1번째 항목 확인\n"
     ]
    },
    {
     "name": "stderr",
     "output_type": "stream",
     "text": [
      "Processing Movies:  73%|██████████████████████████████████████████▌               | 796/1086 [1:44:00<18:47,  3.89s/it]"
     ]
    },
    {
     "name": "stdout",
     "output_type": "stream",
     "text": [
      "영화 '카오스 워킹'의 평점: 평균 별점\n",
      "(3,915명)\n",
      "검색할 영화 이름: 그린 나이트\n",
      "검색 결과 1번째 항목 확인\n"
     ]
    },
    {
     "name": "stderr",
     "output_type": "stream",
     "text": [
      "Processing Movies:  73%|██████████████████████████████████████████▌               | 797/1086 [1:44:03<17:47,  3.69s/it]"
     ]
    },
    {
     "name": "stdout",
     "output_type": "stream",
     "text": [
      "영화 '그린 나이트'의 평점: 평균 별점\n",
      "(3.7만명)\n",
      "검색할 영화 이름: 클리포드 더 빅 레드 독\n",
      "검색 결과 1번째 항목 확인\n"
     ]
    },
    {
     "name": "stderr",
     "output_type": "stream",
     "text": [
      "Processing Movies:  73%|██████████████████████████████████████████▌               | 798/1086 [1:44:06<17:03,  3.55s/it]"
     ]
    },
    {
     "name": "stdout",
     "output_type": "stream",
     "text": [
      "영화 '클리포드 더 빅 레드 독'의 평점: 평균 별점\n",
      "(501명)\n",
      "검색할 영화 이름: 2067\n",
      "검색 결과 1번째 항목 확인\n",
      "내부 에러 발생: 'int' object has no attribute 'replace'\n"
     ]
    },
    {
     "name": "stderr",
     "output_type": "stream",
     "text": [
      "Processing Movies:  74%|██████████████████████████████████████████▋               | 799/1086 [1:44:11<19:32,  4.09s/it]"
     ]
    },
    {
     "name": "stdout",
     "output_type": "stream",
     "text": [
      "검색할 영화 이름: 엑설런트 어드벤쳐 3\n",
      "검색 결과 1번째 항목 확인\n"
     ]
    },
    {
     "name": "stderr",
     "output_type": "stream",
     "text": [
      "Processing Movies:  74%|██████████████████████████████████████████▋               | 800/1086 [1:44:15<18:13,  3.82s/it]"
     ]
    },
    {
     "name": "stdout",
     "output_type": "stream",
     "text": [
      "영화 '엑설런트 어드벤쳐 3'의 평점: 평균 별점\n",
      "(391명)\n",
      "검색할 영화 이름: 토토리! 우리 둘만의 여름\n",
      "검색 결과 1번째 항목 확인\n"
     ]
    },
    {
     "name": "stderr",
     "output_type": "stream",
     "text": [
      "Processing Movies:  74%|██████████████████████████████████████████▊               | 801/1086 [1:44:18<17:18,  3.65s/it]"
     ]
    },
    {
     "name": "stdout",
     "output_type": "stream",
     "text": [
      "영화 '토토리! 우리 둘만의 여름'의 평점: 평균 별점\n",
      "(511명)\n",
      "검색할 영화 이름: 해적: 도깨비 깃발\n",
      "검색 결과 1번째 항목 확인\n"
     ]
    },
    {
     "name": "stderr",
     "output_type": "stream",
     "text": [
      "Processing Movies:  74%|██████████████████████████████████████████▊               | 802/1086 [1:44:21<16:40,  3.52s/it]"
     ]
    },
    {
     "name": "stdout",
     "output_type": "stream",
     "text": [
      "영화 '해적: 도깨비 깃발'의 평점: 평균 별점\n",
      "(1.3만명)\n",
      "검색할 영화 이름: 컴어웨이\n",
      "검색 결과 1번째 항목 확인\n"
     ]
    },
    {
     "name": "stderr",
     "output_type": "stream",
     "text": [
      "Processing Movies:  74%|██████████████████████████████████████████▉               | 803/1086 [1:44:24<16:08,  3.42s/it]"
     ]
    },
    {
     "name": "stdout",
     "output_type": "stream",
     "text": [
      "영화 '컴어웨이'의 평점: 평균 별점\n",
      "(45명)\n",
      "검색할 영화 이름: 콜 오브 와일드\n",
      "검색 결과 1번째 항목 확인\n"
     ]
    },
    {
     "name": "stderr",
     "output_type": "stream",
     "text": [
      "Processing Movies:  74%|██████████████████████████████████████████▉               | 804/1086 [1:44:28<15:47,  3.36s/it]"
     ]
    },
    {
     "name": "stdout",
     "output_type": "stream",
     "text": [
      "영화 '콜 오브 와일드'의 평점: 평균 별점\n",
      "(2,179명)\n",
      "검색할 영화 이름: 나인스 게이트: 아홉 번째 살인\n",
      "검색 결과 1번째 항목 확인\n"
     ]
    },
    {
     "name": "stderr",
     "output_type": "stream",
     "text": [
      "Processing Movies:  74%|██████████████████████████████████████████▉               | 805/1086 [1:44:31<15:33,  3.32s/it]"
     ]
    },
    {
     "name": "stdout",
     "output_type": "stream",
     "text": [
      "영화 '나인스 게이트: 아홉 번째 살인'의 평점: 평균 별점\n",
      "(82명)\n",
      "검색할 영화 이름: 뮬란\n",
      "검색 결과 1번째 항목 확인\n"
     ]
    },
    {
     "name": "stderr",
     "output_type": "stream",
     "text": [
      "Processing Movies:  74%|███████████████████████████████████████████               | 806/1086 [1:44:34<15:19,  3.29s/it]"
     ]
    },
    {
     "name": "stdout",
     "output_type": "stream",
     "text": [
      "영화 '뮬란'의 평점: 평균 별점\n",
      "(7,996명)\n",
      "검색할 영화 이름: 투모로우 아포칼립스\n",
      "검색 결과 1번째 항목 확인\n"
     ]
    },
    {
     "name": "stderr",
     "output_type": "stream",
     "text": [
      "Processing Movies:  74%|███████████████████████████████████████████               | 807/1086 [1:44:37<15:10,  3.26s/it]"
     ]
    },
    {
     "name": "stdout",
     "output_type": "stream",
     "text": [
      "영화 '투모로우 아포칼립스'의 평점: 평균 별점\n",
      "(30명)\n",
      "검색할 영화 이름: 백두산\n",
      "검색 결과 1번째 항목 확인\n"
     ]
    },
    {
     "name": "stderr",
     "output_type": "stream",
     "text": [
      "Processing Movies:  74%|███████████████████████████████████████████▏              | 808/1086 [1:44:40<15:00,  3.24s/it]"
     ]
    },
    {
     "name": "stdout",
     "output_type": "stream",
     "text": [
      "영화 '백두산'의 평점: 평균 별점\n",
      "(25.6만명)\n",
      "검색할 영화 이름: 발명왕 볼트\n",
      "검색 결과 1번째 항목 확인\n"
     ]
    },
    {
     "name": "stderr",
     "output_type": "stream",
     "text": [
      "Processing Movies:  74%|███████████████████████████████████████████▏              | 809/1086 [1:44:44<14:54,  3.23s/it]"
     ]
    },
    {
     "name": "stdout",
     "output_type": "stream",
     "text": [
      "영화 '발명왕 볼트'의 평점: 평균 별점\n",
      "(26명)\n",
      "검색할 영화 이름: 말레피센트 2\n",
      "검색 결과 1번째 항목 확인\n"
     ]
    },
    {
     "name": "stderr",
     "output_type": "stream",
     "text": [
      "Processing Movies:  75%|███████████████████████████████████████████▎              | 810/1086 [1:44:47<14:48,  3.22s/it]"
     ]
    },
    {
     "name": "stdout",
     "output_type": "stream",
     "text": [
      "영화 '말레피센트 2'의 평점: 평균 별점\n",
      "(2.4만명)\n",
      "검색할 영화 이름: 곰돌이 푸 다시 만나 행복해\n",
      "검색 결과 1번째 항목 확인\n"
     ]
    },
    {
     "name": "stderr",
     "output_type": "stream",
     "text": [
      "Processing Movies:  75%|███████████████████████████████████████████▎              | 811/1086 [1:44:50<14:45,  3.22s/it]"
     ]
    },
    {
     "name": "stdout",
     "output_type": "stream",
     "text": [
      "영화 '곰돌이 푸 다시 만나 행복해'의 평점: 평균 별점\n",
      "(2.5만명)\n",
      "검색할 영화 이름: 후드\n",
      "검색 결과 1번째 항목 확인\n",
      "검색 결과 2번째 항목 확인\n"
     ]
    },
    {
     "name": "stderr",
     "output_type": "stream",
     "text": [
      "Processing Movies:  75%|███████████████████████████████████████████▎              | 812/1086 [1:44:56<19:06,  4.19s/it]"
     ]
    },
    {
     "name": "stdout",
     "output_type": "stream",
     "text": [
      "영화 '후드'의 평점: 평균 별점\n",
      "(1.2만명)\n",
      "검색할 영화 이름: 대지진: 엔드 오브 더 월드\n",
      "검색 결과 1번째 항목 확인\n"
     ]
    },
    {
     "name": "stderr",
     "output_type": "stream",
     "text": [
      "Processing Movies:  75%|███████████████████████████████████████████▍              | 813/1086 [1:45:00<17:46,  3.91s/it]"
     ]
    },
    {
     "name": "stdout",
     "output_type": "stream",
     "text": [
      "영화 '대지진: 엔드 오브 더 월드'의 평점: 평균 별점\n",
      "(57명)\n",
      "검색할 영화 이름: 라이온 킹\n",
      "검색 결과 1번째 항목 확인\n",
      "검색 결과 2번째 항목 확인\n",
      "검색 결과 3번째 항목 확인\n"
     ]
    },
    {
     "name": "stderr",
     "output_type": "stream",
     "text": [
      "Processing Movies:  75%|███████████████████████████████████████████▍              | 814/1086 [1:45:09<25:13,  5.56s/it]"
     ]
    },
    {
     "name": "stdout",
     "output_type": "stream",
     "text": [
      "영화 '라이온 킹'의 평점: 평균 별점\n",
      "(79.1만명)\n",
      "검색할 영화 이름: 트레킹: 저주의 숲\n",
      "검색 결과 1번째 항목 확인\n"
     ]
    },
    {
     "name": "stderr",
     "output_type": "stream",
     "text": [
      "Processing Movies:  75%|███████████████████████████████████████████▌              | 815/1086 [1:45:12<21:56,  4.86s/it]"
     ]
    },
    {
     "name": "stdout",
     "output_type": "stream",
     "text": [
      "영화 '트레킹: 저주의 숲'의 평점: 평균 별점\n",
      "(127명)\n",
      "검색할 영화 이름: 왕이 될 아이\n",
      "검색 결과 1번째 항목 확인\n"
     ]
    },
    {
     "name": "stderr",
     "output_type": "stream",
     "text": [
      "Processing Movies:  75%|███████████████████████████████████████████▌              | 816/1086 [1:45:16<19:36,  4.36s/it]"
     ]
    },
    {
     "name": "stdout",
     "output_type": "stream",
     "text": [
      "영화 '왕이 될 아이'의 평점: 평균 별점\n",
      "(662명)\n",
      "검색할 영화 이름: 알라딘\n",
      "검색 결과 1번째 항목 확인\n"
     ]
    },
    {
     "name": "stderr",
     "output_type": "stream",
     "text": [
      "Processing Movies:  75%|███████████████████████████████████████████▋              | 817/1086 [1:45:19<18:00,  4.02s/it]"
     ]
    },
    {
     "name": "stdout",
     "output_type": "stream",
     "text": [
      "영화 '알라딘'의 평점: 평균 별점\n",
      "(26.1만명)\n",
      "검색할 영화 이름: 샤크 쓰나미\n",
      "검색 결과 1번째 항목 확인\n"
     ]
    },
    {
     "name": "stderr",
     "output_type": "stream",
     "text": [
      "Processing Movies:  75%|███████████████████████████████████████████▋              | 818/1086 [1:45:22<16:52,  3.78s/it]"
     ]
    },
    {
     "name": "stdout",
     "output_type": "stream",
     "text": [
      "영화 '샤크 쓰나미'의 평점: 평균 별점\n",
      "(100명)\n",
      "검색할 영화 이름: 펠리니를 찾아서\n",
      "검색 결과 1번째 항목 확인\n"
     ]
    },
    {
     "name": "stderr",
     "output_type": "stream",
     "text": [
      "Processing Movies:  75%|███████████████████████████████████████████▋              | 819/1086 [1:45:25<16:02,  3.61s/it]"
     ]
    },
    {
     "name": "stdout",
     "output_type": "stream",
     "text": [
      "영화 '펠리니를 찾아서'의 평점: 평균 별점\n",
      "(419명)\n",
      "검색할 영화 이름: 릴라와 마법의 책\n",
      "검색 결과 1번째 항목 확인\n"
     ]
    },
    {
     "name": "stderr",
     "output_type": "stream",
     "text": [
      "Processing Movies:  76%|███████████████████████████████████████████▊              | 820/1086 [1:45:28<15:26,  3.48s/it]"
     ]
    },
    {
     "name": "stdout",
     "output_type": "stream",
     "text": [
      "영화 '릴라와 마법의 책'의 평점: 평균 별점\n",
      "(34명)\n",
      "검색할 영화 이름: 린 온 피트\n",
      "검색 결과 1번째 항목 확인\n"
     ]
    },
    {
     "name": "stderr",
     "output_type": "stream",
     "text": [
      "Processing Movies:  76%|███████████████████████████████████████████▊              | 821/1086 [1:45:32<15:00,  3.40s/it]"
     ]
    },
    {
     "name": "stdout",
     "output_type": "stream",
     "text": [
      "영화 '린 온 피트'의 평점: 평균 별점\n",
      "(1,937명)\n",
      "검색할 영화 이름: 옥자\n",
      "검색 결과 1번째 항목 확인\n"
     ]
    },
    {
     "name": "stderr",
     "output_type": "stream",
     "text": [
      "Processing Movies:  76%|███████████████████████████████████████████▉              | 822/1086 [1:45:35<14:40,  3.34s/it]"
     ]
    },
    {
     "name": "stdout",
     "output_type": "stream",
     "text": [
      "영화 '옥자'의 평점: 평균 별점\n",
      "(17.3만명)\n",
      "검색할 영화 이름: 마이 펫 다이노소어\n",
      "검색 결과 1번째 항목 확인\n"
     ]
    },
    {
     "name": "stderr",
     "output_type": "stream",
     "text": [
      "Processing Movies:  76%|███████████████████████████████████████████▉              | 823/1086 [1:45:38<14:29,  3.31s/it]"
     ]
    },
    {
     "name": "stdout",
     "output_type": "stream",
     "text": [
      "영화 '마이 펫 다이노소어'의 평점: 평균 별점\n",
      "(370명)\n",
      "검색할 영화 이름: 셰이프 오브 워터: 사랑의 모양\n",
      "검색 결과 1번째 항목 확인\n"
     ]
    },
    {
     "name": "stderr",
     "output_type": "stream",
     "text": [
      "Processing Movies:  76%|████████████████████████████████████████████              | 824/1086 [1:45:41<14:20,  3.29s/it]"
     ]
    },
    {
     "name": "stdout",
     "output_type": "stream",
     "text": [
      "영화 '셰이프 오브 워터: 사랑의 모양'의 평점: 평균 별점\n",
      "(13.0만명)\n",
      "검색할 영화 이름: 로스트: 7 킬로미터\n",
      "검색 결과 1번째 항목 확인\n"
     ]
    },
    {
     "name": "stderr",
     "output_type": "stream",
     "text": [
      "Processing Movies:  76%|████████████████████████████████████████████              | 825/1086 [1:45:44<14:11,  3.26s/it]"
     ]
    },
    {
     "name": "stdout",
     "output_type": "stream",
     "text": [
      "영화 '로스트: 7 킬로미터'의 평점: 평균 별점\n",
      "(95명)\n",
      "검색할 영화 이름: 베일리 어게인\n",
      "검색 결과 1번째 항목 확인\n"
     ]
    },
    {
     "name": "stderr",
     "output_type": "stream",
     "text": [
      "Processing Movies:  76%|████████████████████████████████████████████              | 826/1086 [1:45:48<14:04,  3.25s/it]"
     ]
    },
    {
     "name": "stdout",
     "output_type": "stream",
     "text": [
      "영화 '베일리 어게인'의 평점: 평균 별점\n",
      "(6.1만명)\n",
      "검색할 영화 이름: 스왈로 탐험대와 아마존 해적\n",
      "검색 결과 1번째 항목 확인\n"
     ]
    },
    {
     "name": "stderr",
     "output_type": "stream",
     "text": [
      "Processing Movies:  76%|████████████████████████████████████████████▏             | 827/1086 [1:45:51<14:04,  3.26s/it]"
     ]
    },
    {
     "name": "stdout",
     "output_type": "stream",
     "text": [
      "영화 '스왈로 탐험대와 아마존 해적'의 평점: 평균 별점\n",
      "(110명)\n",
      "검색할 영화 이름: 콜로니: 인류 최후의 날\n",
      "검색 결과 1번째 항목 확인\n"
     ]
    },
    {
     "name": "stderr",
     "output_type": "stream",
     "text": [
      "Processing Movies:  76%|████████████████████████████████████████████▏             | 828/1086 [1:45:54<13:56,  3.24s/it]"
     ]
    },
    {
     "name": "stdout",
     "output_type": "stream",
     "text": [
      "영화 '콜로니: 인류 최후의 날'의 평점: 평균 별점\n",
      "(122명)\n",
      "검색할 영화 이름: 후로티로봇 극장판\n",
      "검색 결과 1번째 항목 확인\n"
     ]
    },
    {
     "name": "stderr",
     "output_type": "stream",
     "text": [
      "Processing Movies:  76%|████████████████████████████████████████████▎             | 829/1086 [1:45:58<14:05,  3.29s/it]"
     ]
    },
    {
     "name": "stdout",
     "output_type": "stream",
     "text": [
      "영화 '후로티로봇 극장판'의 평점: 평균 별점\n",
      "(41명)\n",
      "검색할 영화 이름: 패신저스\n",
      "검색 결과 1번째 항목 확인\n"
     ]
    },
    {
     "name": "stderr",
     "output_type": "stream",
     "text": [
      "Processing Movies:  76%|████████████████████████████████████████████▎             | 830/1086 [1:46:01<13:57,  3.27s/it]"
     ]
    },
    {
     "name": "stdout",
     "output_type": "stream",
     "text": [
      "영화 '패신저스'의 평점: 평균 별점\n",
      "(19.0만명)\n",
      "검색할 영화 이름: 스페이스 비트윈 어스\n",
      "검색 결과 1번째 항목 확인\n"
     ]
    },
    {
     "name": "stderr",
     "output_type": "stream",
     "text": [
      "Processing Movies:  77%|████████████████████████████████████████████▍             | 831/1086 [1:46:04<13:50,  3.26s/it]"
     ]
    },
    {
     "name": "stdout",
     "output_type": "stream",
     "text": [
      "영화 '스페이스 비트윈 어스'의 평점: 평균 별점\n",
      "(1.4만명)\n",
      "검색할 영화 이름: 피터와 드래곤\n",
      "검색 결과 1번째 항목 확인\n"
     ]
    },
    {
     "name": "stderr",
     "output_type": "stream",
     "text": [
      "Processing Movies:  77%|████████████████████████████████████████████▍             | 832/1086 [1:46:07<13:55,  3.29s/it]"
     ]
    },
    {
     "name": "stdout",
     "output_type": "stream",
     "text": [
      "영화 '피터와 드래곤'의 평점: 평균 별점\n",
      "(2,384명)\n",
      "검색할 영화 이름: 너브\n",
      "검색 결과 1번째 항목 확인\n"
     ]
    },
    {
     "name": "stderr",
     "output_type": "stream",
     "text": [
      "Processing Movies:  77%|████████████████████████████████████████████▍             | 833/1086 [1:46:11<13:48,  3.27s/it]"
     ]
    },
    {
     "name": "stdout",
     "output_type": "stream",
     "text": [
      "영화 '너브'의 평점: 평균 별점\n",
      "(2.9만명)\n",
      "검색할 영화 이름: 인퀴지터: 엘도라도의 저주\n",
      "검색 결과 1번째 항목 확인\n"
     ]
    },
    {
     "name": "stderr",
     "output_type": "stream",
     "text": [
      "Processing Movies:  77%|████████████████████████████████████████████▌             | 834/1086 [1:46:14<13:42,  3.26s/it]"
     ]
    },
    {
     "name": "stdout",
     "output_type": "stream",
     "text": [
      "영화 '인퀴지터: 엘도라도의 저주'의 평점: 평균 별점\n",
      "(12명)\n",
      "검색할 영화 이름: 벤허\n",
      "검색 결과 1번째 항목 확인\n"
     ]
    },
    {
     "name": "stderr",
     "output_type": "stream",
     "text": [
      "Processing Movies:  77%|████████████████████████████████████████████▌             | 835/1086 [1:46:17<13:33,  3.24s/it]"
     ]
    },
    {
     "name": "stdout",
     "output_type": "stream",
     "text": [
      "영화 '벤허'의 평점: 평균 별점\n",
      "(3,211명)\n",
      "검색할 영화 이름: 갓 오브 이집트\n",
      "검색 결과 1번째 항목 확인\n"
     ]
    },
    {
     "name": "stderr",
     "output_type": "stream",
     "text": [
      "Processing Movies:  77%|████████████████████████████████████████████▋             | 836/1086 [1:46:20<13:28,  3.23s/it]"
     ]
    },
    {
     "name": "stdout",
     "output_type": "stream",
     "text": [
      "영화 '갓 오브 이집트'의 평점: 평균 별점\n",
      "(8.5만명)\n",
      "검색할 영화 이름: 현장법사: 서유기의 시작\n",
      "검색 결과 1번째 항목 확인\n"
     ]
    },
    {
     "name": "stderr",
     "output_type": "stream",
     "text": [
      "Processing Movies:  77%|████████████████████████████████████████████▋             | 837/1086 [1:46:23<13:23,  3.23s/it]"
     ]
    },
    {
     "name": "stdout",
     "output_type": "stream",
     "text": [
      "영화 '현장법사: 서유기의 시작'의 평점: 평균 별점\n",
      "(13명)\n",
      "검색할 영화 이름: 신비한 동물사전\n",
      "검색 결과 1번째 항목 확인\n",
      "검색 결과 2번째 항목 확인\n",
      "검색 결과 3번째 항목 확인\n",
      "검색 결과 4번째 항목 확인\n",
      "검색 결과 5번째 항목 확인\n"
     ]
    },
    {
     "name": "stderr",
     "output_type": "stream",
     "text": [
      "Processing Movies:  77%|████████████████████████████████████████████▊             | 838/1086 [1:46:39<28:46,  6.96s/it]"
     ]
    },
    {
     "name": "stdout",
     "output_type": "stream",
     "text": [
      "영화 '신비한 동물사전'의 평점: 평균 별점\n",
      "(32.9만명)\n",
      "검색할 영화 이름: 비트윈 랜드 앤 씨\n",
      "검색 결과 1번째 항목 확인\n"
     ]
    },
    {
     "name": "stderr",
     "output_type": "stream",
     "text": [
      "Processing Movies:  77%|████████████████████████████████████████████▊             | 839/1086 [1:46:42<24:04,  5.85s/it]"
     ]
    },
    {
     "name": "stdout",
     "output_type": "stream",
     "text": [
      "영화 '비트윈 랜드 앤 씨'의 평점: 평균 별점\n",
      "(438명)\n",
      "검색할 영화 이름: 양말요정 휴고의 대모험\n",
      "검색 결과 1번째 항목 확인\n"
     ]
    },
    {
     "name": "stderr",
     "output_type": "stream",
     "text": [
      "Processing Movies:  77%|████████████████████████████████████████████▊             | 840/1086 [1:46:46<20:44,  5.06s/it]"
     ]
    },
    {
     "name": "stdout",
     "output_type": "stream",
     "text": [
      "영화 '양말요정 휴고의 대모험'의 평점: 평균 별점\n",
      "(109명)\n",
      "검색할 영화 이름: 고스트 헌터: 얼음 몬스터의 부활\n",
      "검색 결과 1번째 항목 확인\n"
     ]
    },
    {
     "name": "stderr",
     "output_type": "stream",
     "text": [
      "Processing Movies:  77%|████████████████████████████████████████████▉             | 841/1086 [1:46:49<18:24,  4.51s/it]"
     ]
    },
    {
     "name": "stdout",
     "output_type": "stream",
     "text": [
      "영화 '고스트 헌터: 얼음 몬스터의 부활'의 평점: 평균 별점\n",
      "(188명)\n",
      "검색할 영화 이름: 마이 리틀 자이언트\n",
      "검색 결과 1번째 항목 확인\n"
     ]
    },
    {
     "name": "stderr",
     "output_type": "stream",
     "text": [
      "Processing Movies:  78%|████████████████████████████████████████████▉             | 842/1086 [1:46:52<16:44,  4.12s/it]"
     ]
    },
    {
     "name": "stdout",
     "output_type": "stream",
     "text": [
      "영화 '마이 리틀 자이언트'의 평점: 평균 별점\n",
      "(1.7만명)\n",
      "검색할 영화 이름: 광야의 40일\n",
      "검색 결과 1번째 항목 확인\n"
     ]
    },
    {
     "name": "stderr",
     "output_type": "stream",
     "text": [
      "Processing Movies:  78%|█████████████████████████████████████████████             | 843/1086 [1:46:55<15:33,  3.84s/it]"
     ]
    },
    {
     "name": "stdout",
     "output_type": "stream",
     "text": [
      "영화 '광야의 40일'의 평점: 평균 별점\n",
      "(617명)\n",
      "검색할 영화 이름: 정글북\n",
      "검색 결과 1번째 항목 확인\n"
     ]
    },
    {
     "name": "stderr",
     "output_type": "stream",
     "text": [
      "Processing Movies:  78%|█████████████████████████████████████████████             | 844/1086 [1:46:58<14:42,  3.65s/it]"
     ]
    },
    {
     "name": "stdout",
     "output_type": "stream",
     "text": [
      "영화 '정글북'의 평점: 평균 별점\n",
      "(11.7만명)\n",
      "검색할 영화 이름: 레버넌트: 죽음에서 돌아온 자\n",
      "검색 결과 1번째 항목 확인\n"
     ]
    },
    {
     "name": "stderr",
     "output_type": "stream",
     "text": [
      "Processing Movies:  78%|█████████████████████████████████████████████▏            | 845/1086 [1:47:02<14:08,  3.52s/it]"
     ]
    },
    {
     "name": "stdout",
     "output_type": "stream",
     "text": [
      "영화 '레버넌트: 죽음에서 돌아온 자'의 평점: 평균 별점\n",
      "(19.2만명)\n",
      "검색할 영화 이름: 트래쉬\n",
      "검색 결과 1번째 항목 확인\n"
     ]
    },
    {
     "name": "stderr",
     "output_type": "stream",
     "text": [
      "Processing Movies:  78%|█████████████████████████████████████████████▏            | 846/1086 [1:47:05<13:43,  3.43s/it]"
     ]
    },
    {
     "name": "stdout",
     "output_type": "stream",
     "text": [
      "영화 '트래쉬'의 평점: 평균 별점\n",
      "(6,248명)\n",
      "검색할 영화 이름: 에베레스트\n",
      "검색 결과 1번째 항목 확인\n"
     ]
    },
    {
     "name": "stderr",
     "output_type": "stream",
     "text": [
      "Processing Movies:  78%|█████████████████████████████████████████████▏            | 847/1086 [1:47:08<13:23,  3.36s/it]"
     ]
    },
    {
     "name": "stdout",
     "output_type": "stream",
     "text": [
      "영화 '에베레스트'의 평점: 평균 별점\n",
      "(1.4만명)\n",
      "검색할 영화 이름: 거울나라의 앨리스\n",
      "검색 결과 1번째 항목 확인\n"
     ]
    },
    {
     "name": "stderr",
     "output_type": "stream",
     "text": [
      "Processing Movies:  78%|█████████████████████████████████████████████▎            | 848/1086 [1:47:11<13:10,  3.32s/it]"
     ]
    },
    {
     "name": "stdout",
     "output_type": "stream",
     "text": [
      "영화 '거울나라의 앨리스'의 평점: 평균 별점\n",
      "(16.6만명)\n",
      "검색할 영화 이름: 둠스데이 2018\n",
      "검색 결과 1번째 항목 확인\n"
     ]
    },
    {
     "name": "stderr",
     "output_type": "stream",
     "text": [
      "Processing Movies:  78%|█████████████████████████████████████████████▎            | 849/1086 [1:47:15<12:58,  3.29s/it]"
     ]
    },
    {
     "name": "stdout",
     "output_type": "stream",
     "text": [
      "영화 '둠스데이 2018'의 평점: 평균 별점\n",
      "(3,381명)\n",
      "검색할 영화 이름: 돈키호테 맨 오브 라만차\n",
      "검색 결과 1번째 항목 확인\n"
     ]
    },
    {
     "name": "stderr",
     "output_type": "stream",
     "text": [
      "Processing Movies:  78%|█████████████████████████████████████████████▍            | 850/1086 [1:47:18<12:49,  3.26s/it]"
     ]
    },
    {
     "name": "stdout",
     "output_type": "stream",
     "text": [
      "영화 '돈키호테 맨 오브 라만차'의 평점: 평균 별점\n",
      "(2,363명)\n",
      "검색할 영화 이름: 박물관이 살아있다 : 비밀의 무덤\n",
      "검색 결과 1번째 항목 확인\n"
     ]
    },
    {
     "name": "stderr",
     "output_type": "stream",
     "text": [
      "Processing Movies:  78%|█████████████████████████████████████████████▍            | 851/1086 [1:47:21<12:44,  3.25s/it]"
     ]
    },
    {
     "name": "stdout",
     "output_type": "stream",
     "text": [
      "영화 '박물관이 살아있다 : 비밀의 무덤'의 평점: 평균 별점\n",
      "(12.7만명)\n",
      "검색할 영화 이름: 7번째 아들\n",
      "검색 결과 1번째 항목 확인\n"
     ]
    },
    {
     "name": "stderr",
     "output_type": "stream",
     "text": [
      "Processing Movies:  78%|█████████████████████████████████████████████▌            | 852/1086 [1:47:24<12:38,  3.24s/it]"
     ]
    },
    {
     "name": "stdout",
     "output_type": "stream",
     "text": [
      "영화 '7번째 아들'의 평점: 평균 별점\n",
      "(4,505명)\n",
      "검색할 영화 이름: 디브\n",
      "검색 결과 1번째 항목 확인\n"
     ]
    },
    {
     "name": "stderr",
     "output_type": "stream",
     "text": [
      "Processing Movies:  79%|█████████████████████████████████████████████▌            | 853/1086 [1:47:27<12:32,  3.23s/it]"
     ]
    },
    {
     "name": "stdout",
     "output_type": "stream",
     "text": [
      "영화 '디브'의 평점: 평균 별점\n",
      "(487명)\n",
      "검색할 영화 이름: 헝거게임: 모킹제이\n",
      "검색 결과 1번째 항목 확인\n"
     ]
    },
    {
     "name": "stderr",
     "output_type": "stream",
     "text": [
      "Processing Movies:  79%|█████████████████████████████████████████████▌            | 854/1086 [1:47:31<12:36,  3.26s/it]"
     ]
    },
    {
     "name": "stdout",
     "output_type": "stream",
     "text": [
      "영화 '헝거게임: 모킹제이'의 평점: 평균 별점\n",
      "(34.8만명)\n",
      "검색할 영화 이름: 꾸뻬씨의 행복여행\n",
      "검색 결과 1번째 항목 확인\n"
     ]
    },
    {
     "name": "stderr",
     "output_type": "stream",
     "text": [
      "Processing Movies:  79%|█████████████████████████████████████████████▋            | 855/1086 [1:47:34<12:35,  3.27s/it]"
     ]
    },
    {
     "name": "stdout",
     "output_type": "stream",
     "text": [
      "영화 '꾸뻬씨의 행복여행'의 평점: 평균 별점\n",
      "(13.7만명)\n",
      "검색할 영화 이름: 해적: 바다로 간 산적\n",
      "검색 결과 1번째 항목 확인\n"
     ]
    },
    {
     "name": "stderr",
     "output_type": "stream",
     "text": [
      "Processing Movies:  79%|█████████████████████████████████████████████▋            | 856/1086 [1:47:37<12:29,  3.26s/it]"
     ]
    },
    {
     "name": "stdout",
     "output_type": "stream",
     "text": [
      "영화 '해적: 바다로 간 산적'의 평점: 평균 별점\n",
      "(64.6만명)\n",
      "검색할 영화 이름: 호빗: 다섯 군대 전투\n",
      "검색 결과 1번째 항목 확인\n"
     ]
    },
    {
     "name": "stderr",
     "output_type": "stream",
     "text": [
      "Processing Movies:  79%|█████████████████████████████████████████████▊            | 857/1086 [1:47:40<12:23,  3.25s/it]"
     ]
    },
    {
     "name": "stdout",
     "output_type": "stream",
     "text": [
      "영화 '호빗: 다섯 군대 전투'의 평점: 평균 별점\n",
      "(22.7만명)\n",
      "검색할 영화 이름: 둠스데이: 지구 최후의 전쟁\n",
      "검색 결과 1번째 항목 확인\n"
     ]
    },
    {
     "name": "stderr",
     "output_type": "stream",
     "text": [
      "Processing Movies:  79%|█████████████████████████████████████████████▊            | 858/1086 [1:47:44<12:19,  3.24s/it]"
     ]
    },
    {
     "name": "stdout",
     "output_type": "stream",
     "text": [
      "영화 '둠스데이: 지구 최후의 전쟁'의 평점: 평균 별점\n",
      "(2,347명)\n",
      "검색할 영화 이름: 앤트보이: 레드퓨리의 복수\n",
      "검색 결과 1번째 항목 확인\n"
     ]
    },
    {
     "name": "stderr",
     "output_type": "stream",
     "text": [
      "Processing Movies:  79%|█████████████████████████████████████████████▉            | 859/1086 [1:47:47<12:14,  3.23s/it]"
     ]
    },
    {
     "name": "stdout",
     "output_type": "stream",
     "text": [
      "영화 '앤트보이: 레드퓨리의 복수'의 평점: 평균 별점\n",
      "(1,517명)\n",
      "검색할 영화 이름: 사일런트 워\n",
      "검색 결과 1번째 항목 확인\n"
     ]
    },
    {
     "name": "stderr",
     "output_type": "stream",
     "text": [
      "Processing Movies:  79%|█████████████████████████████████████████████▉            | 860/1086 [1:47:50<12:08,  3.22s/it]"
     ]
    },
    {
     "name": "stdout",
     "output_type": "stream",
     "text": [
      "영화 '사일런트 워'의 평점: 평균 별점\n",
      "(9명)\n",
      "검색할 영화 이름: 쥬라기 파크: 아마존 어드벤쳐\n",
      "검색 결과 1번째 항목 확인\n"
     ]
    },
    {
     "name": "stderr",
     "output_type": "stream",
     "text": [
      "Processing Movies:  79%|█████████████████████████████████████████████▉            | 861/1086 [1:47:53<12:04,  3.22s/it]"
     ]
    },
    {
     "name": "stdout",
     "output_type": "stream",
     "text": [
      "영화 '쥬라기 파크: 아마존 어드벤쳐'의 평점: 평균 별점\n",
      "(6,283명)\n",
      "검색할 영화 이름: 다이노소어 아일랜드\n",
      "검색 결과 1번째 항목 확인\n"
     ]
    },
    {
     "name": "stderr",
     "output_type": "stream",
     "text": [
      "Processing Movies:  79%|██████████████████████████████████████████████            | 862/1086 [1:47:57<12:00,  3.22s/it]"
     ]
    },
    {
     "name": "stdout",
     "output_type": "stream",
     "text": [
      "영화 '다이노소어 아일랜드'의 평점: 평균 별점\n",
      "(1,893명)\n",
      "검색할 영화 이름: 신화: 고대 왕국의 비밀\n",
      "검색 결과 1번째 항목 확인\n"
     ]
    },
    {
     "name": "stderr",
     "output_type": "stream",
     "text": [
      "Processing Movies:  79%|██████████████████████████████████████████████            | 863/1086 [1:48:00<11:57,  3.22s/it]"
     ]
    },
    {
     "name": "stdout",
     "output_type": "stream",
     "text": [
      "영화 '신화: 고대 왕국의 비밀'의 평점: 평균 별점\n",
      "(89명)\n",
      "검색할 영화 이름: 창문 넘어 도망친 100세 노인\n",
      "검색 결과 1번째 항목 확인\n"
     ]
    },
    {
     "name": "stderr",
     "output_type": "stream",
     "text": [
      "Processing Movies:  80%|██████████████████████████████████████████████▏           | 864/1086 [1:48:03<11:54,  3.22s/it]"
     ]
    },
    {
     "name": "stdout",
     "output_type": "stream",
     "text": [
      "영화 '창문 넘어 도망친 100세 노인'의 평점: 평균 별점\n",
      "(21.3만명)\n",
      "검색할 영화 이름: 벨과 세바스찬\n",
      "검색 결과 1번째 항목 확인\n",
      "검색 결과 2번째 항목 확인\n",
      "검색 결과 3번째 항목 확인\n"
     ]
    },
    {
     "name": "stderr",
     "output_type": "stream",
     "text": [
      "Processing Movies:  80%|██████████████████████████████████████████████▏           | 865/1086 [1:48:12<18:42,  5.08s/it]"
     ]
    },
    {
     "name": "stdout",
     "output_type": "stream",
     "text": [
      "영화 '벨과 세바스찬'의 평점: 평균 별점\n",
      "(5명)\n",
      "검색할 영화 이름: 체르노빌: 원전 대폭발\n",
      "검색 결과 1번째 항목 확인\n"
     ]
    },
    {
     "name": "stderr",
     "output_type": "stream",
     "text": [
      "Processing Movies:  80%|██████████████████████████████████████████████▎           | 866/1086 [1:48:16<16:34,  4.52s/it]"
     ]
    },
    {
     "name": "stdout",
     "output_type": "stream",
     "text": [
      "영화 '체르노빌: 원전 대폭발'의 평점: 평균 별점\n",
      "(3,830명)\n",
      "검색할 영화 이름: 정글\n",
      "검색 결과 1번째 항목 확인\n",
      "검색 결과 2번째 항목 확인\n"
     ]
    },
    {
     "name": "stderr",
     "output_type": "stream",
     "text": [
      "Processing Movies:  80%|██████████████████████████████████████████████▎           | 867/1086 [1:48:22<18:29,  5.07s/it]"
     ]
    },
    {
     "name": "stdout",
     "output_type": "stream",
     "text": [
      "영화 '정글'의 평점: 평균 별점\n",
      "(7,558명)\n",
      "검색할 영화 이름: 호빗: 스마우그의 폐허\n",
      "검색 결과 1번째 항목 확인\n"
     ]
    },
    {
     "name": "stderr",
     "output_type": "stream",
     "text": [
      "Processing Movies:  80%|██████████████████████████████████████████████▎           | 868/1086 [1:48:25<16:24,  4.52s/it]"
     ]
    },
    {
     "name": "stdout",
     "output_type": "stream",
     "text": [
      "영화 '호빗: 스마우그의 폐허'의 평점: 평균 별점\n",
      "(30.1만명)\n",
      "검색할 영화 이름: 노아\n",
      "검색 결과 1번째 항목 확인\n"
     ]
    },
    {
     "name": "stderr",
     "output_type": "stream",
     "text": [
      "Processing Movies:  80%|██████████████████████████████████████████████▍           | 869/1086 [1:48:28<14:55,  4.13s/it]"
     ]
    },
    {
     "name": "stdout",
     "output_type": "stream",
     "text": [
      "영화 '노아'의 평점: 평균 별점\n",
      "(9.9만명)\n",
      "검색할 영화 이름: 월터의 상상은 현실이 된다\n",
      "검색 결과 1번째 항목 확인\n"
     ]
    },
    {
     "name": "stderr",
     "output_type": "stream",
     "text": [
      "Processing Movies:  80%|██████████████████████████████████████████████▍           | 870/1086 [1:48:32<13:53,  3.86s/it]"
     ]
    },
    {
     "name": "stdout",
     "output_type": "stream",
     "text": [
      "영화 '월터의 상상은 현실이 된다'의 평점: 평균 별점\n",
      "(43.6만명)\n",
      "검색할 영화 이름: 앤트보이: 초딩 히어로의 탄생\n",
      "검색 결과 1번째 항목 확인\n"
     ]
    },
    {
     "name": "stderr",
     "output_type": "stream",
     "text": [
      "Processing Movies:  80%|██████████████████████████████████████████████▌           | 871/1086 [1:48:35<13:09,  3.67s/it]"
     ]
    },
    {
     "name": "stdout",
     "output_type": "stream",
     "text": [
      "영화 '앤트보이: 초딩 히어로의 탄생'의 평점: 평균 별점\n",
      "(576명)\n",
      "검색할 영화 이름: 스피벳: 천재 발명가의 기묘한 여행\n",
      "검색 결과 1번째 항목 확인\n"
     ]
    },
    {
     "name": "stderr",
     "output_type": "stream",
     "text": [
      "Processing Movies:  80%|██████████████████████████████████████████████▌           | 872/1086 [1:48:38<12:40,  3.56s/it]"
     ]
    },
    {
     "name": "stdout",
     "output_type": "stream",
     "text": [
      "영화 '스피벳: 천재 발명가의 기묘한 여행'의 평점: 평균 별점\n",
      "(1,720명)\n",
      "검색할 영화 이름: 뱀파이어 시스터\n",
      "검색 결과 1번째 항목 확인\n"
     ]
    },
    {
     "name": "stderr",
     "output_type": "stream",
     "text": [
      "Processing Movies:  80%|██████████████████████████████████████████████▌           | 873/1086 [1:48:41<12:18,  3.47s/it]"
     ]
    },
    {
     "name": "stdout",
     "output_type": "stream",
     "text": [
      "영화 '뱀파이어 시스터'의 평점: 평균 별점\n",
      "(733명)\n",
      "검색할 영화 이름: 라이프 오브 파이\n",
      "검색 결과 1번째 항목 확인\n"
     ]
    },
    {
     "name": "stderr",
     "output_type": "stream",
     "text": [
      "Processing Movies:  80%|██████████████████████████████████████████████▋           | 874/1086 [1:48:45<11:59,  3.39s/it]"
     ]
    },
    {
     "name": "stdout",
     "output_type": "stream",
     "text": [
      "영화 '라이프 오브 파이'의 평점: 평균 별점\n",
      "(60.9만명)\n",
      "검색할 영화 이름: 해적: 위대한 영웅\n",
      "검색 결과 1번째 항목 확인\n"
     ]
    },
    {
     "name": "stderr",
     "output_type": "stream",
     "text": [
      "Processing Movies:  81%|██████████████████████████████████████████████▋           | 875/1086 [1:48:48<12:14,  3.48s/it]"
     ]
    },
    {
     "name": "stdout",
     "output_type": "stream",
     "text": [
      "영화 '해적: 위대한 영웅'의 평점: 평균 별점\n",
      "(52명)\n",
      "검색할 영화 이름: 1812 나폴레옹 대전투\n",
      "검색 결과 1번째 항목 확인\n"
     ]
    },
    {
     "name": "stderr",
     "output_type": "stream",
     "text": [
      "Processing Movies:  81%|██████████████████████████████████████████████▊           | 876/1086 [1:48:52<11:54,  3.40s/it]"
     ]
    },
    {
     "name": "stdout",
     "output_type": "stream",
     "text": [
      "영화 '1812 나폴레옹 대전투'의 평점: 평균 별점\n",
      "(128명)\n",
      "검색할 영화 이름: 다크 타이드\n",
      "검색 결과 1번째 항목 확인\n"
     ]
    },
    {
     "name": "stderr",
     "output_type": "stream",
     "text": [
      "Processing Movies:  81%|██████████████████████████████████████████████▊           | 877/1086 [1:48:55<11:37,  3.34s/it]"
     ]
    },
    {
     "name": "stdout",
     "output_type": "stream",
     "text": [
      "영화 '다크 타이드'의 평점: 평균 별점\n",
      "(86명)\n",
      "검색할 영화 이름: 고스트\n",
      "검색 결과 1번째 항목 확인\n",
      "검색 결과 2번째 항목 확인\n",
      "검색 결과 3번째 항목 확인\n",
      "검색 결과 4번째 항목 확인\n",
      "검색 결과 5번째 항목 확인\n",
      "검색 결과 6번째 항목 확인\n",
      "내부 에러 발생: Message: \n",
      "\n",
      "검색 결과 7번째 항목 확인\n",
      "내부 에러 발생: Message: \n",
      "\n",
      "검색 결과 8번째 항목 확인\n",
      "내부 에러 발생: Message: \n",
      "\n",
      "검색 결과 9번째 항목 확인\n",
      "내부 에러 발생: Message: \n",
      "\n"
     ]
    },
    {
     "name": "stderr",
     "output_type": "stream",
     "text": [
      "Processing Movies:  81%|█████████████████████████████████████████████▎          | 878/1086 [1:50:37<1:54:16, 32.97s/it]"
     ]
    },
    {
     "name": "stdout",
     "output_type": "stream",
     "text": [
      "검색할 영화 이름: 삼총사 2014\n",
      "검색 결과 1번째 항목 확인\n"
     ]
    },
    {
     "name": "stderr",
     "output_type": "stream",
     "text": [
      "Processing Movies:  81%|█████████████████████████████████████████████▎          | 879/1086 [1:50:40<1:22:56, 24.04s/it]"
     ]
    },
    {
     "name": "stdout",
     "output_type": "stream",
     "text": [
      "영화 '삼총사 2014'의 평점: 평균 별점\n",
      "(246명)\n",
      "검색할 영화 이름: 온 더 로드\n",
      "검색 결과 1번째 항목 확인\n"
     ]
    },
    {
     "name": "stderr",
     "output_type": "stream",
     "text": [
      "Processing Movies:  81%|█████████████████████████████████████████████▍          | 880/1086 [1:50:44<1:01:24, 17.89s/it]"
     ]
    },
    {
     "name": "stdout",
     "output_type": "stream",
     "text": [
      "영화 '온 더 로드'의 평점: 평균 별점\n",
      "(3,830명)\n",
      "검색할 영화 이름: 크리스마스 스타\n",
      "검색 결과 1번째 항목 확인\n",
      "검색 결과 2번째 항목 확인\n",
      "검색 결과 3번째 항목 확인\n"
     ]
    },
    {
     "name": "stderr",
     "output_type": "stream",
     "text": [
      "Processing Movies:  81%|███████████████████████████████████████████████           | 881/1086 [1:50:53<52:28, 15.36s/it]"
     ]
    },
    {
     "name": "stdout",
     "output_type": "stream",
     "text": [
      "영화 '크리스마스 스타'의 평점: 평균 별점\n",
      "(697명)\n",
      "검색할 영화 이름: 해양경찰 마르코\n",
      "검색 결과 1번째 항목 확인\n"
     ]
    },
    {
     "name": "stderr",
     "output_type": "stream",
     "text": [
      "Processing Movies:  81%|███████████████████████████████████████████████           | 882/1086 [1:50:56<39:48, 11.71s/it]"
     ]
    },
    {
     "name": "stdout",
     "output_type": "stream",
     "text": [
      "영화 '해양경찰 마르코'의 평점: 평균 별점\n",
      "(1,351명)\n",
      "검색할 영화 이름: 호빗: 뜻밖의 여정\n",
      "검색 결과 1번째 항목 확인\n"
     ]
    },
    {
     "name": "stderr",
     "output_type": "stream",
     "text": [
      "Processing Movies:  81%|███████████████████████████████████████████████▏          | 883/1086 [1:50:59<30:59,  9.16s/it]"
     ]
    },
    {
     "name": "stdout",
     "output_type": "stream",
     "text": [
      "영화 '호빗: 뜻밖의 여정'의 평점: 평균 별점\n",
      "(44.9만명)\n",
      "검색할 영화 이름: 베이비 메이커스\n",
      "검색 결과 1번째 항목 확인\n"
     ]
    },
    {
     "name": "stderr",
     "output_type": "stream",
     "text": [
      "Processing Movies:  81%|███████████████████████████████████████████████▏          | 884/1086 [1:51:03<24:50,  7.38s/it]"
     ]
    },
    {
     "name": "stdout",
     "output_type": "stream",
     "text": [
      "영화 '베이비 메이커스'의 평점: 평균 별점\n",
      "(1,181명)\n",
      "검색할 영화 이름: 타임트랩 워\n",
      "검색 결과 1번째 항목 확인\n"
     ]
    },
    {
     "name": "stderr",
     "output_type": "stream",
     "text": [
      "Processing Movies:  81%|███████████████████████████████████████████████▎          | 885/1086 [1:51:06<20:32,  6.13s/it]"
     ]
    },
    {
     "name": "stdout",
     "output_type": "stream",
     "text": [
      "영화 '타임트랩 워'의 평점: 평균 별점\n",
      "(52명)\n",
      "검색할 영화 이름: 댐999: 거대한 물폭탄\n",
      "검색 결과 1번째 항목 확인\n"
     ]
    },
    {
     "name": "stderr",
     "output_type": "stream",
     "text": [
      "Processing Movies:  82%|███████████████████████████████████████████████▎          | 886/1086 [1:51:09<17:30,  5.25s/it]"
     ]
    },
    {
     "name": "stdout",
     "output_type": "stream",
     "text": [
      "영화 '댐999: 거대한 물폭탄'의 평점: 평균 별점\n",
      "(2,279명)\n",
      "검색할 영화 이름: 생텀\n",
      "검색 결과 1번째 항목 확인\n"
     ]
    },
    {
     "name": "stderr",
     "output_type": "stream",
     "text": [
      "Processing Movies:  82%|███████████████████████████████████████████████▎          | 887/1086 [1:51:12<15:22,  4.63s/it]"
     ]
    },
    {
     "name": "stdout",
     "output_type": "stream",
     "text": [
      "영화 '생텀'의 평점: 평균 별점\n",
      "(3.4만명)\n",
      "검색할 영화 이름: 시즌 오브 더 위치: 마녀 호송단\n",
      "검색 결과 1번째 항목 확인\n"
     ]
    },
    {
     "name": "stderr",
     "output_type": "stream",
     "text": [
      "Processing Movies:  82%|███████████████████████████████████████████████▍          | 888/1086 [1:51:15<13:53,  4.21s/it]"
     ]
    },
    {
     "name": "stdout",
     "output_type": "stream",
     "text": [
      "영화 '시즌 오브 더 위치: 마녀 호송단'의 평점: 평균 별점\n",
      "(2.3만명)\n",
      "검색할 영화 이름: 대재앙\n",
      "검색 결과 1번째 항목 확인\n",
      "검색 결과 2번째 항목 확인\n"
     ]
    },
    {
     "name": "stderr",
     "output_type": "stream",
     "text": [
      "Processing Movies:  82%|███████████████████████████████████████████████▍          | 889/1086 [1:51:22<15:54,  4.84s/it]"
     ]
    },
    {
     "name": "stdout",
     "output_type": "stream",
     "text": [
      "영화 '대재앙'의 평점: 평균 별점\n",
      "(3명)\n",
      "검색할 영화 이름: 북극의 후예 이누크\n",
      "검색 결과 1번째 항목 확인\n"
     ]
    },
    {
     "name": "stderr",
     "output_type": "stream",
     "text": [
      "Processing Movies:  82%|███████████████████████████████████████████████▌          | 890/1086 [1:51:25<14:13,  4.35s/it]"
     ]
    },
    {
     "name": "stdout",
     "output_type": "stream",
     "text": [
      "영화 '북극의 후예 이누크'의 평점: 평균 별점\n",
      "(137명)\n",
      "검색할 영화 이름: 아프리카 마법여행\n",
      "검색 결과 1번째 항목 확인\n"
     ]
    },
    {
     "name": "stderr",
     "output_type": "stream",
     "text": [
      "Processing Movies:  82%|███████████████████████████████████████████████▌          | 891/1086 [1:51:28<13:01,  4.01s/it]"
     ]
    },
    {
     "name": "stdout",
     "output_type": "stream",
     "text": [
      "영화 '아프리카 마법여행'의 평점: 평균 별점\n",
      "(76명)\n",
      "검색할 영화 이름: 박물관이 살아있다 2\n",
      "검색 결과 1번째 항목 확인\n"
     ]
    },
    {
     "name": "stderr",
     "output_type": "stream",
     "text": [
      "Processing Movies:  82%|███████████████████████████████████████████████▋          | 892/1086 [1:51:31<12:10,  3.77s/it]"
     ]
    },
    {
     "name": "stdout",
     "output_type": "stream",
     "text": [
      "영화 '박물관이 살아있다 2'의 평점: 평균 별점\n",
      "(30.8만명)\n",
      "검색할 영화 이름: 기억메신저 2033\n",
      "검색 결과 1번째 항목 확인\n"
     ]
    },
    {
     "name": "stderr",
     "output_type": "stream",
     "text": [
      "Processing Movies:  82%|███████████████████████████████████████████████▋          | 893/1086 [1:51:35<11:35,  3.60s/it]"
     ]
    },
    {
     "name": "stdout",
     "output_type": "stream",
     "text": [
      "영화 '기억메신저 2033'의 평점: 평균 별점\n",
      "(3명)\n",
      "검색할 영화 이름: 잃어버린 세계를 찾아 2015\n",
      "검색 결과 1번째 항목 확인\n"
     ]
    },
    {
     "name": "stderr",
     "output_type": "stream",
     "text": [
      "Processing Movies:  82%|███████████████████████████████████████████████▋          | 894/1086 [1:51:38<11:09,  3.49s/it]"
     ]
    },
    {
     "name": "stdout",
     "output_type": "stream",
     "text": [
      "영화 '잃어버린 세계를 찾아 2015'의 평점: 평균 별점\n",
      "(20명)\n",
      "검색할 영화 이름: 해리 포터와 혼혈 왕자\n",
      "검색 결과 1번째 항목 확인\n"
     ]
    },
    {
     "name": "stderr",
     "output_type": "stream",
     "text": [
      "Processing Movies:  82%|███████████████████████████████████████████████▊          | 895/1086 [1:51:41<10:55,  3.43s/it]"
     ]
    },
    {
     "name": "stdout",
     "output_type": "stream",
     "text": [
      "영화 '해리 포터와 혼혈 왕자'의 평점: 평균 별점\n",
      "(68.9만명)\n",
      "검색할 영화 이름: 럭키 루크: 전설의 무법자\n",
      "검색 결과 1번째 항목 확인\n"
     ]
    },
    {
     "name": "stderr",
     "output_type": "stream",
     "text": [
      "Processing Movies:  83%|███████████████████████████████████████████████▊          | 896/1086 [1:51:44<10:41,  3.37s/it]"
     ]
    },
    {
     "name": "stdout",
     "output_type": "stream",
     "text": [
      "영화 '럭키 루크: 전설의 무법자'의 평점: 평균 별점\n",
      "(162명)\n",
      "검색할 영화 이름: 팀퍼틸 아이들\n",
      "검색 결과 1번째 항목 확인\n"
     ]
    },
    {
     "name": "stderr",
     "output_type": "stream",
     "text": [
      "Processing Movies:  83%|███████████████████████████████████████████████▉          | 897/1086 [1:51:48<10:27,  3.32s/it]"
     ]
    },
    {
     "name": "stdout",
     "output_type": "stream",
     "text": [
      "영화 '팀퍼틸 아이들'의 평점: 평균 별점\n",
      "(336명)\n",
      "검색할 영화 이름: 잃어버린 지구 속으로\n",
      "검색 결과 1번째 항목 확인\n"
     ]
    },
    {
     "name": "stderr",
     "output_type": "stream",
     "text": [
      "Processing Movies:  83%|███████████████████████████████████████████████▉          | 898/1086 [1:51:51<10:18,  3.29s/it]"
     ]
    },
    {
     "name": "stdout",
     "output_type": "stream",
     "text": [
      "영화 '잃어버린 지구 속으로'의 평점: 평균 별점\n",
      "(368명)\n",
      "검색할 영화 이름: 라르고 윈치\n",
      "검색 결과 1번째 항목 확인\n"
     ]
    },
    {
     "name": "stderr",
     "output_type": "stream",
     "text": [
      "Processing Movies:  83%|████████████████████████████████████████████████          | 899/1086 [1:51:54<10:09,  3.26s/it]"
     ]
    },
    {
     "name": "stdout",
     "output_type": "stream",
     "text": [
      "영화 '라르고 윈치'의 평점: 평균 별점\n",
      "(8,880명)\n",
      "검색할 영화 이름: 문프린세스 : 문에이커의 비밀\n",
      "검색 결과 1번째 항목 확인\n"
     ]
    },
    {
     "name": "stderr",
     "output_type": "stream",
     "text": [
      "Processing Movies:  83%|████████████████████████████████████████████████          | 900/1086 [1:51:57<10:04,  3.25s/it]"
     ]
    },
    {
     "name": "stdout",
     "output_type": "stream",
     "text": [
      "영화 '문프린세스 : 문에이커의 비밀'의 평점: 평균 별점\n",
      "(1.3만명)\n",
      "검색할 영화 이름: 나니아 연대기:캐스피언 왕자\n",
      "검색 결과 1번째 항목 확인\n"
     ]
    },
    {
     "name": "stderr",
     "output_type": "stream",
     "text": [
      "Processing Movies:  83%|████████████████████████████████████████████████          | 901/1086 [1:52:05<13:50,  4.49s/it]"
     ]
    },
    {
     "name": "stdout",
     "output_type": "stream",
     "text": [
      "검색할 영화 이름: 10,000 BC\n",
      "검색 결과 1번째 항목 확인\n"
     ]
    },
    {
     "name": "stderr",
     "output_type": "stream",
     "text": [
      "Processing Movies:  83%|████████████████████████████████████████████████▏         | 902/1086 [1:52:08<12:35,  4.11s/it]"
     ]
    },
    {
     "name": "stdout",
     "output_type": "stream",
     "text": [
      "영화 '10,000 BC'의 평점: 평균 별점\n",
      "(3.8만명)\n",
      "검색할 영화 이름: 잉크하트 : 어둠의 부활\n",
      "검색 결과 1번째 항목 확인\n"
     ]
    },
    {
     "name": "stderr",
     "output_type": "stream",
     "text": [
      "Processing Movies:  83%|████████████████████████████████████████████████▏         | 903/1086 [1:52:11<11:43,  3.84s/it]"
     ]
    },
    {
     "name": "stdout",
     "output_type": "stream",
     "text": [
      "영화 '잉크하트 : 어둠의 부활'의 평점: 평균 별점\n",
      "(1.7만명)\n",
      "검색할 영화 이름: 비밀의 숲 테라비시아\n",
      "검색 결과 1번째 항목 확인\n"
     ]
    },
    {
     "name": "stderr",
     "output_type": "stream",
     "text": [
      "Processing Movies:  83%|████████████████████████████████████████████████▎         | 904/1086 [1:52:14<11:06,  3.66s/it]"
     ]
    },
    {
     "name": "stdout",
     "output_type": "stream",
     "text": [
      "영화 '비밀의 숲 테라비시아'의 평점: 평균 별점\n",
      "(7.2만명)\n",
      "검색할 영화 이름: 워터호스\n",
      "검색 결과 1번째 항목 확인\n"
     ]
    },
    {
     "name": "stderr",
     "output_type": "stream",
     "text": [
      "Processing Movies:  83%|████████████████████████████████████████████████▎         | 905/1086 [1:52:17<10:38,  3.53s/it]"
     ]
    },
    {
     "name": "stdout",
     "output_type": "stream",
     "text": [
      "영화 '워터호스'의 평점: 평균 별점\n",
      "(2.2만명)\n",
      "검색할 영화 이름: 스파이더위크가의 비밀\n",
      "검색 결과 1번째 항목 확인\n"
     ]
    },
    {
     "name": "stderr",
     "output_type": "stream",
     "text": [
      "Processing Movies:  83%|████████████████████████████████████████████████▍         | 906/1086 [1:52:21<10:17,  3.43s/it]"
     ]
    },
    {
     "name": "stdout",
     "output_type": "stream",
     "text": [
      "영화 '스파이더위크가의 비밀'의 평점: 평균 별점\n",
      "(5.4만명)\n",
      "검색할 영화 이름: 에이트 빌로우\n",
      "검색 결과 1번째 항목 확인\n"
     ]
    },
    {
     "name": "stderr",
     "output_type": "stream",
     "text": [
      "Processing Movies:  84%|████████████████████████████████████████████████▍         | 907/1086 [1:52:24<10:02,  3.37s/it]"
     ]
    },
    {
     "name": "stdout",
     "output_type": "stream",
     "text": [
      "영화 '에이트 빌로우'의 평점: 평균 별점\n",
      "(7.3만명)\n",
      "검색할 영화 이름: 다빈치 트레져\n",
      "검색 결과 1번째 항목 확인\n"
     ]
    },
    {
     "name": "stderr",
     "output_type": "stream",
     "text": [
      "Processing Movies:  84%|████████████████████████████████████████████████▍         | 908/1086 [1:52:27<09:51,  3.32s/it]"
     ]
    },
    {
     "name": "stdout",
     "output_type": "stream",
     "text": [
      "영화 '다빈치 트레져'의 평점: 평균 별점\n",
      "(149명)\n",
      "검색할 영화 이름: 아더와 미니모이-제1탄비밀원정대의출정\n"
     ]
    },
    {
     "name": "stderr",
     "output_type": "stream",
     "text": [
      "Processing Movies:  84%|████████████████████████████████████████████████▌         | 909/1086 [1:52:31<10:37,  3.60s/it]"
     ]
    },
    {
     "name": "stdout",
     "output_type": "stream",
     "text": [
      "검색할 영화 이름: 토미리존스의 쓰리베리얼\n",
      "검색 결과 1번째 항목 확인\n"
     ]
    },
    {
     "name": "stderr",
     "output_type": "stream",
     "text": [
      "Processing Movies:  84%|████████████████████████████████████████████████▌         | 910/1086 [1:52:35<10:14,  3.49s/it]"
     ]
    },
    {
     "name": "stdout",
     "output_type": "stream",
     "text": [
      "영화 '토미리존스의 쓰리베리얼'의 평점: 평균 별점\n",
      "(1,111명)\n",
      "검색할 영화 이름: 피터 팬\n",
      "검색 결과 1번째 항목 확인\n"
     ]
    },
    {
     "name": "stderr",
     "output_type": "stream",
     "text": [
      "Processing Movies:  84%|████████████████████████████████████████████████▋         | 911/1086 [1:52:38<09:55,  3.40s/it]"
     ]
    },
    {
     "name": "stdout",
     "output_type": "stream",
     "text": [
      "영화 '피터 팬'의 평점: 평균 별점\n",
      "(8.9만명)\n",
      "검색할 영화 이름: 캐리비안의 해적 : 블랙펄의 저주\n"
     ]
    },
    {
     "name": "stderr",
     "output_type": "stream",
     "text": [
      "Processing Movies:  84%|████████████████████████████████████████████████▋         | 912/1086 [1:52:42<10:36,  3.66s/it]"
     ]
    },
    {
     "name": "stdout",
     "output_type": "stream",
     "text": [
      "검색할 영화 이름: 코로나도\n",
      "검색 결과 1번째 항목 확인\n"
     ]
    },
    {
     "name": "stderr",
     "output_type": "stream",
     "text": [
      "Processing Movies:  84%|████████████████████████████████████████████████▊         | 913/1086 [1:52:45<10:10,  3.53s/it]"
     ]
    },
    {
     "name": "stdout",
     "output_type": "stream",
     "text": [
      "영화 '코로나도'의 평점: 평균 별점\n",
      "(44명)\n",
      "검색할 영화 이름: 토끼 울타리\n",
      "검색 결과 1번째 항목 확인\n"
     ]
    },
    {
     "name": "stderr",
     "output_type": "stream",
     "text": [
      "Processing Movies:  84%|████████████████████████████████████████████████▊         | 914/1086 [1:52:49<09:50,  3.43s/it]"
     ]
    },
    {
     "name": "stdout",
     "output_type": "stream",
     "text": [
      "영화 '토끼 울타리'의 평점: 평균 별점\n",
      "(1,149명)\n",
      "검색할 영화 이름: 인터스테이트\n",
      "검색 결과 1번째 항목 확인\n"
     ]
    },
    {
     "name": "stderr",
     "output_type": "stream",
     "text": [
      "Processing Movies:  84%|████████████████████████████████████████████████▊         | 915/1086 [1:52:52<09:34,  3.36s/it]"
     ]
    },
    {
     "name": "stdout",
     "output_type": "stream",
     "text": [
      "영화 '인터스테이트'의 평점: 평균 별점\n",
      "(1,241명)\n",
      "검색할 영화 이름: 보물성\n",
      "검색 결과 1번째 항목 확인\n"
     ]
    },
    {
     "name": "stderr",
     "output_type": "stream",
     "text": [
      "Processing Movies:  84%|████████████████████████████████████████████████▉         | 916/1086 [1:52:55<09:23,  3.31s/it]"
     ]
    },
    {
     "name": "stdout",
     "output_type": "stream",
     "text": [
      "영화 '보물성'의 평점: 평균 별점\n",
      "(1.5만명)\n",
      "검색할 영화 이름: 제이 앤 사일런트밥\n",
      "검색 결과 1번째 항목 확인\n"
     ]
    },
    {
     "name": "stderr",
     "output_type": "stream",
     "text": [
      "Processing Movies:  84%|████████████████████████████████████████████████▉         | 917/1086 [1:52:58<09:16,  3.29s/it]"
     ]
    },
    {
     "name": "stdout",
     "output_type": "stream",
     "text": [
      "영화 '제이 앤 사일런트밥'의 평점: 평균 별점\n",
      "(782명)\n",
      "검색할 영화 이름: 록키와 불윙클\n",
      "검색 결과 1번째 항목 확인\n"
     ]
    },
    {
     "name": "stderr",
     "output_type": "stream",
     "text": [
      "Processing Movies:  85%|█████████████████████████████████████████████████         | 918/1086 [1:53:01<09:08,  3.27s/it]"
     ]
    },
    {
     "name": "stdout",
     "output_type": "stream",
     "text": [
      "영화 '록키와 불윙클'의 평점: 평균 별점\n",
      "(61명)\n",
      "검색할 영화 이름: 비치\n",
      "검색 결과 1번째 항목 확인\n",
      "검색 결과 2번째 항목 확인\n"
     ]
    },
    {
     "name": "stderr",
     "output_type": "stream",
     "text": [
      "Processing Movies:  85%|█████████████████████████████████████████████████         | 919/1086 [1:53:08<11:38,  4.18s/it]"
     ]
    },
    {
     "name": "stdout",
     "output_type": "stream",
     "text": [
      "영화 '비치'의 평점: 평균 별점\n",
      "(2.5만명)\n",
      "검색할 영화 이름: 도그마\n",
      "검색 결과 1번째 항목 확인\n"
     ]
    },
    {
     "name": "stderr",
     "output_type": "stream",
     "text": [
      "Processing Movies:  85%|█████████████████████████████████████████████████▏        | 920/1086 [1:53:11<10:45,  3.89s/it]"
     ]
    },
    {
     "name": "stdout",
     "output_type": "stream",
     "text": [
      "영화 '도그마'의 평점: 평균 별점\n",
      "(9,261명)\n",
      "검색할 영화 이름: 빅베어\n",
      "검색 결과 1번째 항목 확인\n"
     ]
    },
    {
     "name": "stderr",
     "output_type": "stream",
     "text": [
      "Processing Movies:  85%|█████████████████████████████████████████████████▏        | 921/1086 [1:53:14<10:07,  3.68s/it]"
     ]
    },
    {
     "name": "stdout",
     "output_type": "stream",
     "text": [
      "영화 '빅베어'의 평점: 평균 별점\n",
      "(79명)\n",
      "검색할 영화 이름: 공룡 티렉스\n",
      "검색 결과 1번째 항목 확인\n"
     ]
    },
    {
     "name": "stderr",
     "output_type": "stream",
     "text": [
      "Processing Movies:  85%|█████████████████████████████████████████████████▏        | 922/1086 [1:53:17<09:40,  3.54s/it]"
     ]
    },
    {
     "name": "stdout",
     "output_type": "stream",
     "text": [
      "영화 '공룡 티렉스'의 평점: 평균 별점\n",
      "(19명)\n",
      "검색할 영화 이름: 마이티 조 영\n",
      "검색 결과 1번째 항목 확인\n"
     ]
    },
    {
     "name": "stderr",
     "output_type": "stream",
     "text": [
      "Processing Movies:  85%|█████████████████████████████████████████████████▎        | 923/1086 [1:53:21<09:20,  3.44s/it]"
     ]
    },
    {
     "name": "stdout",
     "output_type": "stream",
     "text": [
      "영화 '마이티 조 영'의 평점: 평균 별점\n",
      "(31명)\n",
      "검색할 영화 이름: 조지 오브 정글\n",
      "검색 결과 1번째 항목 확인\n",
      "검색 결과 2번째 항목 확인\n"
     ]
    },
    {
     "name": "stderr",
     "output_type": "stream",
     "text": [
      "Processing Movies:  85%|█████████████████████████████████████████████████▎        | 924/1086 [1:53:27<11:37,  4.30s/it]"
     ]
    },
    {
     "name": "stdout",
     "output_type": "stream",
     "text": [
      "영화 '조지 오브 정글'의 평점: 평균 별점\n",
      "(1.0만명)\n",
      "검색할 영화 이름: 쥬라기 공원 2 - 잃어버린 세계\n",
      "검색 결과 1번째 항목 확인\n"
     ]
    },
    {
     "name": "stderr",
     "output_type": "stream",
     "text": [
      "Processing Movies:  85%|█████████████████████████████████████████████████▍        | 925/1086 [1:53:34<14:04,  5.24s/it]"
     ]
    },
    {
     "name": "stdout",
     "output_type": "stream",
     "text": [
      "검색할 영화 이름: 화이트 스콜\n",
      "검색 결과 1번째 항목 확인\n"
     ]
    },
    {
     "name": "stderr",
     "output_type": "stream",
     "text": [
      "Processing Movies:  85%|█████████████████████████████████████████████████▍        | 926/1086 [1:53:38<12:44,  4.78s/it]"
     ]
    },
    {
     "name": "stdout",
     "output_type": "stream",
     "text": [
      "영화 '화이트 스콜'의 평점: 평균 별점\n",
      "(1,971명)\n",
      "검색할 영화 이름: 비밀의 화원\n",
      "검색 결과 1번째 항목 확인\n"
     ]
    },
    {
     "name": "stderr",
     "output_type": "stream",
     "text": [
      "Processing Movies:  85%|█████████████████████████████████████████████████▌        | 927/1086 [1:53:41<11:29,  4.34s/it]"
     ]
    },
    {
     "name": "stdout",
     "output_type": "stream",
     "text": [
      "영화 '비밀의 화원'의 평점: 평균 별점\n",
      "(8,874명)\n",
      "검색할 영화 이름: 스페이스 잼\n",
      "검색 결과 1번째 항목 확인\n",
      "검색 결과 2번째 항목 확인\n"
     ]
    },
    {
     "name": "stderr",
     "output_type": "stream",
     "text": [
      "Processing Movies:  85%|█████████████████████████████████████████████████▌        | 928/1086 [1:53:48<12:59,  4.93s/it]"
     ]
    },
    {
     "name": "stdout",
     "output_type": "stream",
     "text": [
      "영화 '스페이스 잼'의 평점: 평균 별점\n",
      "(1.9만명)\n",
      "검색할 영화 이름: 레인저 스카우트\n",
      "검색 결과 1번째 항목 확인\n"
     ]
    },
    {
     "name": "stderr",
     "output_type": "stream",
     "text": [
      "Processing Movies:  86%|█████████████████████████████████████████████████▌        | 929/1086 [1:53:51<11:33,  4.42s/it]"
     ]
    },
    {
     "name": "stdout",
     "output_type": "stream",
     "text": [
      "영화 '레인저 스카우트'의 평점: 평균 별점\n",
      "(34명)\n",
      "검색할 영화 이름: 모험왕\n",
      "검색 결과 1번째 항목 확인\n"
     ]
    },
    {
     "name": "stderr",
     "output_type": "stream",
     "text": [
      "Processing Movies:  86%|█████████████████████████████████████████████████▋        | 930/1086 [1:53:54<10:35,  4.07s/it]"
     ]
    },
    {
     "name": "stdout",
     "output_type": "stream",
     "text": [
      "영화 '모험왕'의 평점: 평균 별점\n",
      "(2,968명)\n",
      "검색할 영화 이름: 블랙 데이 블루 나이트\n",
      "검색 결과 1번째 항목 확인\n"
     ]
    },
    {
     "name": "stderr",
     "output_type": "stream",
     "text": [
      "Processing Movies:  86%|█████████████████████████████████████████████████▋        | 931/1086 [1:53:58<10:25,  4.03s/it]"
     ]
    },
    {
     "name": "stdout",
     "output_type": "stream",
     "text": [
      "영화 '블랙 데이 블루 나이트'의 평점: 평균 별점\n",
      "(6명)\n",
      "검색할 영화 이름: 콩고\n",
      "검색 결과 1번째 항목 확인\n"
     ]
    },
    {
     "name": "stderr",
     "output_type": "stream",
     "text": [
      "Processing Movies:  86%|█████████████████████████████████████████████████▊        | 932/1086 [1:54:01<09:42,  3.78s/it]"
     ]
    },
    {
     "name": "stdout",
     "output_type": "stream",
     "text": [
      "영화 '콩고'의 평점: 평균 별점\n",
      "(5,052명)\n",
      "검색할 영화 이름: 쥬만지\n",
      "검색 결과 1번째 항목 확인\n",
      "검색 결과 2번째 항목 확인\n",
      "검색 결과 3번째 항목 확인\n"
     ]
    },
    {
     "name": "stderr",
     "output_type": "stream",
     "text": [
      "Processing Movies:  86%|█████████████████████████████████████████████████▊        | 933/1086 [1:54:11<13:58,  5.48s/it]"
     ]
    },
    {
     "name": "stdout",
     "output_type": "stream",
     "text": [
      "영화 '쥬만지'의 평점: 평균 별점\n",
      "(47.4만명)\n",
      "검색할 영화 이름: 도시 속의 인디언\n",
      "검색 결과 1번째 항목 확인\n"
     ]
    },
    {
     "name": "stderr",
     "output_type": "stream",
     "text": [
      "Processing Movies:  86%|█████████████████████████████████████████████████▉        | 934/1086 [1:54:14<12:09,  4.80s/it]"
     ]
    },
    {
     "name": "stdout",
     "output_type": "stream",
     "text": [
      "영화 '도시 속의 인디언'의 평점: 평균 별점\n",
      "(103명)\n",
      "검색할 영화 이름: 리버 와일드\n",
      "검색 결과 1번째 항목 확인\n"
     ]
    },
    {
     "name": "stderr",
     "output_type": "stream",
     "text": [
      "Processing Movies:  86%|█████████████████████████████████████████████████▉        | 935/1086 [1:54:17<10:52,  4.32s/it]"
     ]
    },
    {
     "name": "stdout",
     "output_type": "stream",
     "text": [
      "영화 '리버 와일드'의 평점: 평균 별점\n",
      "(6,089명)\n",
      "검색할 영화 이름: 에어본\n",
      "검색 결과 1번째 항목 확인\n"
     ]
    },
    {
     "name": "stderr",
     "output_type": "stream",
     "text": [
      "Processing Movies:  86%|█████████████████████████████████████████████████▉        | 936/1086 [1:54:20<09:57,  3.98s/it]"
     ]
    },
    {
     "name": "stdout",
     "output_type": "stream",
     "text": [
      "영화 '에어본'의 평점: 평균 별점\n",
      "(5명)\n",
      "검색할 영화 이름: 베니 대소동\n"
     ]
    },
    {
     "name": "stderr",
     "output_type": "stream",
     "text": [
      "Processing Movies:  86%|██████████████████████████████████████████████████        | 937/1086 [1:54:24<10:04,  4.06s/it]"
     ]
    },
    {
     "name": "stdout",
     "output_type": "stream",
     "text": [
      "검색할 영화 이름: 난쟁이 왕국\n",
      "검색 결과 1번째 항목 확인\n"
     ]
    },
    {
     "name": "stderr",
     "output_type": "stream",
     "text": [
      "Processing Movies:  86%|██████████████████████████████████████████████████        | 938/1086 [1:54:28<09:23,  3.80s/it]"
     ]
    },
    {
     "name": "stdout",
     "output_type": "stream",
     "text": [
      "영화 '난쟁이 왕국'의 평점: 평균 별점\n",
      "(2명)\n",
      "검색할 영화 이름: 정신나간 유령\n",
      "검색 결과 1번째 항목 확인\n"
     ]
    },
    {
     "name": "stderr",
     "output_type": "stream",
     "text": [
      "Processing Movies:  86%|██████████████████████████████████████████████████▏       | 939/1086 [1:54:31<08:52,  3.62s/it]"
     ]
    },
    {
     "name": "stdout",
     "output_type": "stream",
     "text": [
      "영화 '정신나간 유령'의 평점: 평균 별점\n",
      "(29명)\n",
      "검색할 영화 이름: 우주의 용사 반달가면\n",
      "검색 결과 1번째 항목 확인\n"
     ]
    },
    {
     "name": "stderr",
     "output_type": "stream",
     "text": [
      "Processing Movies:  87%|██████████████████████████████████████████████████▏       | 940/1086 [1:54:34<08:30,  3.50s/it]"
     ]
    },
    {
     "name": "stdout",
     "output_type": "stream",
     "text": [
      "영화 '우주의 용사 반달가면'의 평점: 평균 별점\n",
      "(576명)\n",
      "검색할 영화 이름: 제수이트 죠\n"
     ]
    },
    {
     "name": "stderr",
     "output_type": "stream",
     "text": [
      "Processing Movies:  87%|██████████████████████████████████████████████████▎       | 941/1086 [1:54:38<08:59,  3.72s/it]"
     ]
    },
    {
     "name": "stdout",
     "output_type": "stream",
     "text": [
      "검색할 영화 이름: 크로커다일 던디\n",
      "검색 결과 1번째 항목 확인\n"
     ]
    },
    {
     "name": "stderr",
     "output_type": "stream",
     "text": [
      "Processing Movies:  87%|██████████████████████████████████████████████████▎       | 942/1086 [1:54:42<09:03,  3.77s/it]"
     ]
    },
    {
     "name": "stdout",
     "output_type": "stream",
     "text": [
      "영화 '크로커다일 던디'의 평점: 평균 별점\n",
      "(911명)\n",
      "검색할 영화 이름: 쿼터매인\n"
     ]
    },
    {
     "name": "stderr",
     "output_type": "stream",
     "text": [
      "Processing Movies:  87%|██████████████████████████████████████████████████▎       | 943/1086 [1:54:46<09:20,  3.92s/it]"
     ]
    },
    {
     "name": "stdout",
     "output_type": "stream",
     "text": [
      "검색할 영화 이름: 구니스\n",
      "검색 결과 1번째 항목 확인\n"
     ]
    },
    {
     "name": "stderr",
     "output_type": "stream",
     "text": [
      "Processing Movies:  87%|██████████████████████████████████████████████████▍       | 944/1086 [1:54:50<08:46,  3.71s/it]"
     ]
    },
    {
     "name": "stdout",
     "output_type": "stream",
     "text": [
      "영화 '구니스'의 평점: 평균 별점\n",
      "(3.4만명)\n",
      "검색할 영화 이름: 골드시나\n",
      "검색 결과 1번째 항목 확인\n"
     ]
    },
    {
     "name": "stderr",
     "output_type": "stream",
     "text": [
      "Processing Movies:  87%|██████████████████████████████████████████████████▍       | 945/1086 [1:54:53<08:21,  3.56s/it]"
     ]
    },
    {
     "name": "stdout",
     "output_type": "stream",
     "text": [
      "영화 '골드시나'의 평점: 평균 별점\n",
      "(94명)\n",
      "검색할 영화 이름: 크미치스\n",
      "검색 결과 1번째 항목 확인\n"
     ]
    },
    {
     "name": "stderr",
     "output_type": "stream",
     "text": [
      "Processing Movies:  87%|██████████████████████████████████████████████████▌       | 946/1086 [1:54:56<08:02,  3.45s/it]"
     ]
    },
    {
     "name": "stdout",
     "output_type": "stream",
     "text": [
      "영화 '크미치스'의 평점: 평균 별점\n",
      "(23명)\n",
      "검색할 영화 이름: 대지진\n",
      "검색 결과 1번째 항목 확인\n",
      "검색 결과 2번째 항목 확인\n"
     ]
    },
    {
     "name": "stderr",
     "output_type": "stream",
     "text": [
      "Processing Movies:  87%|██████████████████████████████████████████████████▌       | 947/1086 [1:55:02<09:58,  4.30s/it]"
     ]
    },
    {
     "name": "stdout",
     "output_type": "stream",
     "text": [
      "영화 '대지진'의 평점: 평균 별점\n",
      "(6,313명)\n",
      "검색할 영화 이름: 아귀레 신의 분노\n",
      "검색 결과 1번째 항목 확인\n"
     ]
    },
    {
     "name": "stderr",
     "output_type": "stream",
     "text": [
      "Processing Movies:  87%|██████████████████████████████████████████████████▋       | 948/1086 [1:55:10<12:00,  5.22s/it]"
     ]
    },
    {
     "name": "stdout",
     "output_type": "stream",
     "text": [
      "검색할 영화 이름: 14인의 여걸\n"
     ]
    },
    {
     "name": "stderr",
     "output_type": "stream",
     "text": [
      "Processing Movies:  87%|██████████████████████████████████████████████████▋       | 949/1086 [1:55:14<11:16,  4.93s/it]"
     ]
    },
    {
     "name": "stdout",
     "output_type": "stream",
     "text": [
      "검색할 영화 이름: 멀고 먼 푸른바다\n"
     ]
    },
    {
     "name": "stderr",
     "output_type": "stream",
     "text": [
      "Processing Movies:  87%|██████████████████████████████████████████████████▋       | 950/1086 [1:55:18<10:42,  4.72s/it]"
     ]
    },
    {
     "name": "stdout",
     "output_type": "stream",
     "text": [
      "검색할 영화 이름: 로빈훗\n",
      "검색 결과 1번째 항목 확인\n"
     ]
    },
    {
     "name": "stderr",
     "output_type": "stream",
     "text": [
      "Processing Movies:  88%|██████████████████████████████████████████████████▊       | 951/1086 [1:55:21<09:36,  4.27s/it]"
     ]
    },
    {
     "name": "stdout",
     "output_type": "stream",
     "text": [
      "영화 '로빈훗'의 평점: 평균 별점\n",
      "(3.8만명)\n",
      "검색할 영화 이름: 자바의 동쪽\n"
     ]
    },
    {
     "name": "stderr",
     "output_type": "stream",
     "text": [
      "Processing Movies:  88%|██████████████████████████████████████████████████▊       | 952/1086 [1:55:26<09:30,  4.26s/it]"
     ]
    },
    {
     "name": "stdout",
     "output_type": "stream",
     "text": [
      "검색할 영화 이름: 황금광 시대\n",
      "검색 결과 1번째 항목 확인\n"
     ]
    },
    {
     "name": "stderr",
     "output_type": "stream",
     "text": [
      "Processing Movies:  88%|██████████████████████████████████████████████████▉       | 953/1086 [1:55:29<08:44,  3.94s/it]"
     ]
    },
    {
     "name": "stdout",
     "output_type": "stream",
     "text": [
      "영화 '황금광 시대'의 평점: 평균 별점\n",
      "(1.6만명)\n",
      "검색할 영화 이름: 잔고: 분노의 적자\n",
      "검색 결과 1번째 항목 확인\n"
     ]
    },
    {
     "name": "stderr",
     "output_type": "stream",
     "text": [
      "Processing Movies:  88%|██████████████████████████████████████████████████▉       | 954/1086 [1:55:32<08:12,  3.73s/it]"
     ]
    },
    {
     "name": "stdout",
     "output_type": "stream",
     "text": [
      "영화 '잔고: 분노의 적자'의 평점: 평균 별점\n",
      "(876명)\n",
      "검색할 영화 이름: 아파치 정션 : 무법자의 지대\n",
      "검색 결과 1번째 항목 확인\n"
     ]
    },
    {
     "name": "stderr",
     "output_type": "stream",
     "text": [
      "Processing Movies:  88%|███████████████████████████████████████████████████       | 955/1086 [1:55:35<07:48,  3.58s/it]"
     ]
    },
    {
     "name": "stdout",
     "output_type": "stream",
     "text": [
      "영화 '아파치 정션 : 무법자의 지대'의 평점: 평균 별점\n",
      "(58명)\n",
      "검색할 영화 이름: 죽음의 숲\n",
      "검색 결과 1번째 항목 확인\n",
      "검색 결과 2번째 항목 확인\n",
      "검색 결과 3번째 항목 확인\n",
      "검색 결과 4번째 항목 확인\n",
      "검색 결과 5번째 항목 확인\n",
      "검색 결과 6번째 항목 확인\n",
      "내부 에러 발생: Message: \n",
      "\n",
      "검색 결과 7번째 항목 확인\n",
      "내부 에러 발생: Message: \n",
      "\n"
     ]
    },
    {
     "name": "stderr",
     "output_type": "stream",
     "text": [
      "Processing Movies:  88%|███████████████████████████████████████████████████       | 956/1086 [1:56:36<44:56, 20.74s/it]"
     ]
    },
    {
     "name": "stdout",
     "output_type": "stream",
     "text": [
      "검색할 영화 이름: 불 라이더\n",
      "검색 결과 1번째 항목 확인\n",
      "검색 결과 2번째 항목 확인\n",
      "검색 결과 3번째 항목 확인\n",
      "검색 결과 4번째 항목 확인\n",
      "검색 결과 5번째 항목 확인\n",
      "검색 결과 6번째 항목 확인\n",
      "내부 에러 발생: Message: \n",
      "\n",
      "검색 결과 7번째 항목 확인\n",
      "내부 에러 발생: Message: \n",
      "\n",
      "검색 결과 8번째 항목 확인\n",
      "내부 에러 발생: Message: \n",
      "\n",
      "검색 결과 9번째 항목 확인\n",
      "내부 에러 발생: Message: \n",
      "\n"
     ]
    },
    {
     "name": "stderr",
     "output_type": "stream",
     "text": [
      "Processing Movies:  88%|█████████████████████████████████████████████████▎      | 957/1086 [1:58:18<1:36:55, 45.08s/it]"
     ]
    },
    {
     "name": "stdout",
     "output_type": "stream",
     "text": [
      "검색할 영화 이름: 미국대전쟁\n",
      "검색 결과 1번째 항목 확인\n"
     ]
    },
    {
     "name": "stderr",
     "output_type": "stream",
     "text": [
      "Processing Movies:  88%|█████████████████████████████████████████████████▍      | 958/1086 [1:58:21<1:09:22, 32.52s/it]"
     ]
    },
    {
     "name": "stdout",
     "output_type": "stream",
     "text": [
      "영화 '미국대전쟁'의 평점: 평균 별점\n",
      "(1명)\n",
      "검색할 영화 이름: 무법자-난공불락 대열차\n",
      "검색 결과 1번째 항목 확인\n"
     ]
    },
    {
     "name": "stderr",
     "output_type": "stream",
     "text": [
      "Processing Movies:  88%|███████████████████████████████████████████████████▏      | 959/1086 [1:58:24<50:13, 23.73s/it]"
     ]
    },
    {
     "name": "stdout",
     "output_type": "stream",
     "text": [
      "영화 '무법자-난공불락 대열차'의 평점: 평균 별점\n",
      "(3명)\n",
      "검색할 영화 이름: 최후의 배틀\n",
      "검색 결과 1번째 항목 확인\n"
     ]
    },
    {
     "name": "stderr",
     "output_type": "stream",
     "text": [
      "Processing Movies:  88%|███████████████████████████████████████████████████▎      | 960/1086 [1:58:28<36:53, 17.57s/it]"
     ]
    },
    {
     "name": "stdout",
     "output_type": "stream",
     "text": [
      "영화 '최후의 배틀'의 평점: 평균 별점\n",
      "(2명)\n",
      "검색할 영화 이름: 현상금 사냥꾼\n",
      "검색 결과 1번째 항목 확인\n"
     ]
    },
    {
     "name": "stderr",
     "output_type": "stream",
     "text": [
      "Processing Movies:  88%|███████████████████████████████████████████████████▎      | 961/1086 [1:58:31<27:37, 13.26s/it]"
     ]
    },
    {
     "name": "stdout",
     "output_type": "stream",
     "text": [
      "영화 '현상금 사냥꾼'의 평점: 평균 별점\n",
      "(845명)\n",
      "검색할 영화 이름: 어쌔신 리벤지\n",
      "검색 결과 1번째 항목 확인\n"
     ]
    },
    {
     "name": "stderr",
     "output_type": "stream",
     "text": [
      "Processing Movies:  89%|███████████████████████████████████████████████████▍      | 962/1086 [1:58:34<21:09, 10.24s/it]"
     ]
    },
    {
     "name": "stdout",
     "output_type": "stream",
     "text": [
      "영화 '어쌔신 리벤지'의 평점: 평균 별점\n",
      "(12명)\n",
      "검색할 영화 이름: 무법자\n",
      "검색 결과 1번째 항목 확인\n",
      "검색 결과 2번째 항목 확인\n",
      "검색 결과 3번째 항목 확인\n"
     ]
    },
    {
     "name": "stderr",
     "output_type": "stream",
     "text": [
      "Processing Movies:  89%|███████████████████████████████████████████████████▍      | 963/1086 [1:58:43<20:29, 10.00s/it]"
     ]
    },
    {
     "name": "stdout",
     "output_type": "stream",
     "text": [
      "영화 '무법자'의 평점: 평균 별점\n",
      "(5,142명)\n",
      "검색할 영화 이름: 론섬 도브 처치\n",
      "검색 결과 1번째 항목 확인\n"
     ]
    },
    {
     "name": "stderr",
     "output_type": "stream",
     "text": [
      "Processing Movies:  89%|███████████████████████████████████████████████████▍      | 964/1086 [1:58:47<16:13,  7.98s/it]"
     ]
    },
    {
     "name": "stdout",
     "output_type": "stream",
     "text": [
      "영화 '론섬 도브 처치'의 평점: 평균 별점\n",
      "(127명)\n",
      "검색할 영화 이름: 장고:분노의 추적자\n",
      "검색 결과 1번째 항목 확인\n"
     ]
    },
    {
     "name": "stderr",
     "output_type": "stream",
     "text": [
      "Processing Movies:  89%|███████████████████████████████████████████████████▌      | 965/1086 [1:58:50<13:11,  6.55s/it]"
     ]
    },
    {
     "name": "stdout",
     "output_type": "stream",
     "text": [
      "영화 '장고:분노의 추적자'의 평점: 평균 별점\n",
      "(26.5만명)\n",
      "검색할 영화 이름: 알바레즈 형제: 마약왕을 제거하라\n",
      "검색 결과 1번째 항목 확인\n"
     ]
    },
    {
     "name": "stderr",
     "output_type": "stream",
     "text": [
      "Processing Movies:  89%|███████████████████████████████████████████████████▌      | 966/1086 [1:58:54<11:27,  5.73s/it]"
     ]
    },
    {
     "name": "stdout",
     "output_type": "stream",
     "text": [
      "영화 '알바레즈 형제: 마약왕을 제거하라'의 평점: 평균 별점\n",
      "(536명)\n",
      "검색할 영화 이름: 철암 계곡의 혈투\n",
      "검색 결과 1번째 항목 확인\n"
     ]
    },
    {
     "name": "stderr",
     "output_type": "stream",
     "text": [
      "Processing Movies:  89%|███████████████████████████████████████████████████▋      | 967/1086 [1:58:57<09:52,  4.98s/it]"
     ]
    },
    {
     "name": "stdout",
     "output_type": "stream",
     "text": [
      "영화 '철암 계곡의 혈투'의 평점: 평균 별점\n",
      "(705명)\n",
      "검색할 영화 이름: 좋은 놈, 나쁜 놈, 이상한 놈\n",
      "검색 결과 1번째 항목 확인\n"
     ]
    },
    {
     "name": "stderr",
     "output_type": "stream",
     "text": [
      "Processing Movies:  89%|███████████████████████████████████████████████████▋      | 968/1086 [1:59:00<08:45,  4.45s/it]"
     ]
    },
    {
     "name": "stdout",
     "output_type": "stream",
     "text": [
      "영화 '좋은 놈, 나쁜 놈, 이상한 놈'의 평점: 평균 별점\n",
      "(88.5만명)\n",
      "검색할 영화 이름: 오픈 레인지\n",
      "검색 결과 1번째 항목 확인\n"
     ]
    },
    {
     "name": "stderr",
     "output_type": "stream",
     "text": [
      "Processing Movies:  89%|███████████████████████████████████████████████████▊      | 969/1086 [1:59:03<07:56,  4.08s/it]"
     ]
    },
    {
     "name": "stdout",
     "output_type": "stream",
     "text": [
      "영화 '오픈 레인지'의 평점: 평균 별점\n",
      "(2,038명)\n",
      "검색할 영화 이름: 킹스턴\n",
      "검색 결과 1번째 항목 확인\n",
      "검색 결과 2번째 항목 확인\n"
     ]
    },
    {
     "name": "stderr",
     "output_type": "stream",
     "text": [
      "Processing Movies:  89%|███████████████████████████████████████████████████▊      | 970/1086 [1:59:10<09:10,  4.74s/it]"
     ]
    },
    {
     "name": "stdout",
     "output_type": "stream",
     "text": [
      "영화 '킹스턴'의 평점: 평균 별점\n",
      "(2명)\n",
      "검색할 영화 이름: 퀵 앤 데드\n",
      "검색 결과 1번째 항목 확인\n"
     ]
    },
    {
     "name": "stderr",
     "output_type": "stream",
     "text": [
      "Processing Movies:  89%|███████████████████████████████████████████████████▊      | 971/1086 [1:59:13<08:12,  4.28s/it]"
     ]
    },
    {
     "name": "stdout",
     "output_type": "stream",
     "text": [
      "영화 '퀵 앤 데드'의 평점: 평균 별점\n",
      "(8,890명)\n",
      "검색할 영화 이름: 타슌가\n",
      "검색 결과 1번째 항목 확인\n"
     ]
    },
    {
     "name": "stderr",
     "output_type": "stream",
     "text": [
      "Processing Movies:  90%|███████████████████████████████████████████████████▉      | 972/1086 [1:59:16<07:31,  3.96s/it]"
     ]
    },
    {
     "name": "stdout",
     "output_type": "stream",
     "text": [
      "영화 '타슌가'의 평점: 평균 별점\n",
      "(11명)\n",
      "검색할 영화 이름: 굿바이 뉴욕 황금을 찾아라\n",
      "검색 결과 1번째 항목 확인\n"
     ]
    },
    {
     "name": "stderr",
     "output_type": "stream",
     "text": [
      "Processing Movies:  90%|███████████████████████████████████████████████████▉      | 973/1086 [1:59:23<09:22,  4.98s/it]"
     ]
    },
    {
     "name": "stdout",
     "output_type": "stream",
     "text": [
      "검색할 영화 이름: 와이어트 어프\n",
      "검색 결과 1번째 항목 확인\n"
     ]
    },
    {
     "name": "stderr",
     "output_type": "stream",
     "text": [
      "Processing Movies:  90%|████████████████████████████████████████████████████      | 974/1086 [1:59:27<08:18,  4.45s/it]"
     ]
    },
    {
     "name": "stdout",
     "output_type": "stream",
     "text": [
      "영화 '와이어트 어프'의 평점: 평균 별점\n",
      "(513명)\n",
      "검색할 영화 이름: 매버릭\n",
      "검색 결과 1번째 항목 확인\n",
      "검색 결과 2번째 항목 확인\n",
      "검색 결과 3번째 항목 확인\n"
     ]
    },
    {
     "name": "stderr",
     "output_type": "stream",
     "text": [
      "Processing Movies:  90%|████████████████████████████████████████████████████      | 975/1086 [1:59:36<10:59,  5.94s/it]"
     ]
    },
    {
     "name": "stdout",
     "output_type": "stream",
     "text": [
      "영화 '매버릭'의 평점: 평균 별점\n",
      "(7,046명)\n",
      "검색할 영화 이름: 나쁜 여자들\n",
      "검색 결과 1번째 항목 확인\n"
     ]
    },
    {
     "name": "stderr",
     "output_type": "stream",
     "text": [
      "Processing Movies:  90%|████████████████████████████████████████████████████▏     | 976/1086 [1:59:39<09:24,  5.13s/it]"
     ]
    },
    {
     "name": "stdout",
     "output_type": "stream",
     "text": [
      "영화 '나쁜 여자들'의 평점: 평균 별점\n",
      "(596명)\n",
      "검색할 영화 이름: 제로니모\n",
      "검색 결과 1번째 항목 확인\n"
     ]
    },
    {
     "name": "stderr",
     "output_type": "stream",
     "text": [
      "Processing Movies:  90%|████████████████████████████████████████████████████▏     | 977/1086 [1:59:43<08:15,  4.55s/it]"
     ]
    },
    {
     "name": "stdout",
     "output_type": "stream",
     "text": [
      "영화 '제로니모'의 평점: 평균 별점\n",
      "(245명)\n",
      "검색할 영화 이름: 미키 루크의 추적자\n"
     ]
    },
    {
     "name": "stderr",
     "output_type": "stream",
     "text": [
      "Processing Movies:  90%|████████████████████████████████████████████████████▏     | 978/1086 [1:59:47<08:01,  4.46s/it]"
     ]
    },
    {
     "name": "stdout",
     "output_type": "stream",
     "text": [
      "검색할 영화 이름: 파시\n",
      "검색 결과 1번째 항목 확인\n",
      "내부 에러 발생: Message: \n",
      "Stacktrace:\n",
      "\tGetHandleVerifier [0x005CB8E3+45827]\n",
      "\t(No symbol) [0x0055DCC4]\n",
      "\t(No symbol) [0x0045150F]\n",
      "\t(No symbol) [0x004920BC]\n",
      "\t(No symbol) [0x0049216B]\n",
      "\t(No symbol) [0x004CE0F2]\n",
      "\t(No symbol) [0x004B2E44]\n",
      "\t(No symbol) [0x004CC034]\n",
      "\t(No symbol) [0x004B2B96]\n",
      "\t(No symbol) [0x00486998]\n",
      "\t(No symbol) [0x0048751D]\n",
      "\tGetHandleVerifier [0x00884513+2899763]\n",
      "\tGetHandleVerifier [0x008D793D+3240797]\n",
      "\tGetHandleVerifier [0x006513B4+593364]\n",
      "\tGetHandleVerifier [0x006582DC+621820]\n",
      "\t(No symbol) [0x005670A4]\n",
      "\t(No symbol) [0x005637A8]\n",
      "\t(No symbol) [0x00563947]\n",
      "\t(No symbol) [0x005559FE]\n",
      "\tBaseThreadInitThunk [0x753D7BA9+25]\n",
      "\tRtlInitializeExceptionChain [0x7775BE3B+107]\n",
      "\tRtlClearBits [0x7775BDBF+191]\n",
      "\n",
      "검색 결과 2번째 항목 확인\n",
      "내부 에러 발생: Message: \n",
      "Stacktrace:\n",
      "\tGetHandleVerifier [0x005CB8E3+45827]\n",
      "\t(No symbol) [0x0055DCC4]\n",
      "\t(No symbol) [0x0045150F]\n",
      "\t(No symbol) [0x004920BC]\n",
      "\t(No symbol) [0x0049216B]\n",
      "\t(No symbol) [0x004CE0F2]\n",
      "\t(No symbol) [0x004B2E44]\n",
      "\t(No symbol) [0x004CC034]\n",
      "\t(No symbol) [0x004B2B96]\n",
      "\t(No symbol) [0x00486998]\n",
      "\t(No symbol) [0x0048751D]\n",
      "\tGetHandleVerifier [0x00884513+2899763]\n",
      "\tGetHandleVerifier [0x008D793D+3240797]\n",
      "\tGetHandleVerifier [0x006513B4+593364]\n",
      "\tGetHandleVerifier [0x006582DC+621820]\n",
      "\t(No symbol) [0x005670A4]\n",
      "\t(No symbol) [0x005637A8]\n",
      "\t(No symbol) [0x00563947]\n",
      "\t(No symbol) [0x005559FE]\n",
      "\tBaseThreadInitThunk [0x753D7BA9+25]\n",
      "\tRtlInitializeExceptionChain [0x7775BE3B+107]\n",
      "\tRtlClearBits [0x7775BDBF+191]\n",
      "\n",
      "검색 결과 3번째 항목 확인\n",
      "내부 에러 발생: Message: \n",
      "Stacktrace:\n",
      "\tGetHandleVerifier [0x005CB8E3+45827]\n",
      "\t(No symbol) [0x0055DCC4]\n",
      "\t(No symbol) [0x0045150F]\n",
      "\t(No symbol) [0x004920BC]\n",
      "\t(No symbol) [0x0049216B]\n",
      "\t(No symbol) [0x004CE0F2]\n",
      "\t(No symbol) [0x004B2E44]\n",
      "\t(No symbol) [0x004CC034]\n",
      "\t(No symbol) [0x004B2B96]\n",
      "\t(No symbol) [0x00486998]\n",
      "\t(No symbol) [0x0048751D]\n",
      "\tGetHandleVerifier [0x00884513+2899763]\n",
      "\tGetHandleVerifier [0x008D793D+3240797]\n",
      "\tGetHandleVerifier [0x006513B4+593364]\n",
      "\tGetHandleVerifier [0x006582DC+621820]\n",
      "\t(No symbol) [0x005670A4]\n",
      "\t(No symbol) [0x005637A8]\n",
      "\t(No symbol) [0x00563947]\n",
      "\t(No symbol) [0x005559FE]\n",
      "\tBaseThreadInitThunk [0x753D7BA9+25]\n",
      "\tRtlInitializeExceptionChain [0x7775BE3B+107]\n",
      "\tRtlClearBits [0x7775BDBF+191]\n",
      "\n",
      "검색 결과 4번째 항목 확인\n",
      "내부 에러 발생: Message: \n",
      "Stacktrace:\n",
      "\tGetHandleVerifier [0x005CB8E3+45827]\n",
      "\t(No symbol) [0x0055DCC4]\n",
      "\t(No symbol) [0x0045150F]\n",
      "\t(No symbol) [0x004920BC]\n",
      "\t(No symbol) [0x0049216B]\n",
      "\t(No symbol) [0x004CE0F2]\n",
      "\t(No symbol) [0x004B2E44]\n",
      "\t(No symbol) [0x004CC034]\n",
      "\t(No symbol) [0x004B2B96]\n",
      "\t(No symbol) [0x00486998]\n",
      "\t(No symbol) [0x0048751D]\n",
      "\tGetHandleVerifier [0x00884513+2899763]\n",
      "\tGetHandleVerifier [0x008D793D+3240797]\n",
      "\tGetHandleVerifier [0x006513B4+593364]\n",
      "\tGetHandleVerifier [0x006582DC+621820]\n",
      "\t(No symbol) [0x005670A4]\n",
      "\t(No symbol) [0x005637A8]\n",
      "\t(No symbol) [0x00563947]\n",
      "\t(No symbol) [0x005559FE]\n",
      "\tBaseThreadInitThunk [0x753D7BA9+25]\n",
      "\tRtlInitializeExceptionChain [0x7775BE3B+107]\n",
      "\tRtlClearBits [0x7775BDBF+191]\n",
      "\n",
      "검색 결과 5번째 항목 확인\n",
      "내부 에러 발생: Message: \n",
      "Stacktrace:\n",
      "\tGetHandleVerifier [0x005CB8E3+45827]\n",
      "\t(No symbol) [0x0055DCC4]\n",
      "\t(No symbol) [0x0045150F]\n",
      "\t(No symbol) [0x004920BC]\n",
      "\t(No symbol) [0x0049216B]\n",
      "\t(No symbol) [0x004CE0F2]\n",
      "\t(No symbol) [0x004B2E44]\n",
      "\t(No symbol) [0x004CC034]\n",
      "\t(No symbol) [0x004B2B96]\n",
      "\t(No symbol) [0x00486998]\n",
      "\t(No symbol) [0x0048751D]\n",
      "\tGetHandleVerifier [0x00884513+2899763]\n",
      "\tGetHandleVerifier [0x008D793D+3240797]\n",
      "\tGetHandleVerifier [0x006513B4+593364]\n",
      "\tGetHandleVerifier [0x006582DC+621820]\n",
      "\t(No symbol) [0x005670A4]\n",
      "\t(No symbol) [0x005637A8]\n",
      "\t(No symbol) [0x00563947]\n",
      "\t(No symbol) [0x005559FE]\n",
      "\tBaseThreadInitThunk [0x753D7BA9+25]\n",
      "\tRtlInitializeExceptionChain [0x7775BE3B+107]\n",
      "\tRtlClearBits [0x7775BDBF+191]\n",
      "\n",
      "검색 결과 6번째 항목 확인\n",
      "내부 에러 발생: Message: \n",
      "Stacktrace:\n",
      "\tGetHandleVerifier [0x005CB8E3+45827]\n",
      "\t(No symbol) [0x0055DCC4]\n",
      "\t(No symbol) [0x0045150F]\n",
      "\t(No symbol) [0x004920BC]\n",
      "\t(No symbol) [0x0049216B]\n",
      "\t(No symbol) [0x004CE0F2]\n",
      "\t(No symbol) [0x004B2E44]\n",
      "\t(No symbol) [0x004CC034]\n",
      "\t(No symbol) [0x004B2B96]\n",
      "\t(No symbol) [0x00486998]\n",
      "\t(No symbol) [0x0048751D]\n",
      "\tGetHandleVerifier [0x00884513+2899763]\n",
      "\tGetHandleVerifier [0x008D793D+3240797]\n",
      "\tGetHandleVerifier [0x006513B4+593364]\n",
      "\tGetHandleVerifier [0x006582DC+621820]\n",
      "\t(No symbol) [0x005670A4]\n",
      "\t(No symbol) [0x005637A8]\n",
      "\t(No symbol) [0x00563947]\n",
      "\t(No symbol) [0x005559FE]\n",
      "\tBaseThreadInitThunk [0x753D7BA9+25]\n",
      "\tRtlInitializeExceptionChain [0x7775BE3B+107]\n",
      "\tRtlClearBits [0x7775BDBF+191]\n",
      "\n",
      "검색 결과 7번째 항목 확인\n",
      "내부 에러 발생: Message: \n",
      "Stacktrace:\n",
      "\tGetHandleVerifier [0x005CB8E3+45827]\n",
      "\t(No symbol) [0x0055DCC4]\n",
      "\t(No symbol) [0x0045150F]\n",
      "\t(No symbol) [0x004920BC]\n",
      "\t(No symbol) [0x0049216B]\n",
      "\t(No symbol) [0x004CE0F2]\n",
      "\t(No symbol) [0x004B2E44]\n",
      "\t(No symbol) [0x004CC034]\n",
      "\t(No symbol) [0x004B2B96]\n",
      "\t(No symbol) [0x00486998]\n",
      "\t(No symbol) [0x0048751D]\n",
      "\tGetHandleVerifier [0x00884513+2899763]\n",
      "\tGetHandleVerifier [0x008D793D+3240797]\n",
      "\tGetHandleVerifier [0x006513B4+593364]\n",
      "\tGetHandleVerifier [0x006582DC+621820]\n",
      "\t(No symbol) [0x005670A4]\n",
      "\t(No symbol) [0x005637A8]\n",
      "\t(No symbol) [0x00563947]\n",
      "\t(No symbol) [0x005559FE]\n",
      "\tBaseThreadInitThunk [0x753D7BA9+25]\n",
      "\tRtlInitializeExceptionChain [0x7775BE3B+107]\n",
      "\tRtlClearBits [0x7775BDBF+191]\n",
      "\n",
      "검색 결과 8번째 항목 확인\n",
      "내부 에러 발생: Message: \n",
      "Stacktrace:\n",
      "\tGetHandleVerifier [0x005CB8E3+45827]\n",
      "\t(No symbol) [0x0055DCC4]\n",
      "\t(No symbol) [0x0045150F]\n",
      "\t(No symbol) [0x004920BC]\n",
      "\t(No symbol) [0x0049216B]\n",
      "\t(No symbol) [0x004CE0F2]\n",
      "\t(No symbol) [0x004B2E44]\n",
      "\t(No symbol) [0x004CC034]\n",
      "\t(No symbol) [0x004B2B96]\n",
      "\t(No symbol) [0x00486998]\n",
      "\t(No symbol) [0x0048751D]\n",
      "\tGetHandleVerifier [0x00884513+2899763]\n",
      "\tGetHandleVerifier [0x008D793D+3240797]\n",
      "\tGetHandleVerifier [0x006513B4+593364]\n",
      "\tGetHandleVerifier [0x006582DC+621820]\n",
      "\t(No symbol) [0x005670A4]\n",
      "\t(No symbol) [0x005637A8]\n",
      "\t(No symbol) [0x00563947]\n",
      "\t(No symbol) [0x005559FE]\n",
      "\tBaseThreadInitThunk [0x753D7BA9+25]\n",
      "\tRtlInitializeExceptionChain [0x7775BE3B+107]\n",
      "\tRtlClearBits [0x7775BDBF+191]\n",
      "\n",
      "검색 결과 9번째 항목 확인\n",
      "내부 에러 발생: Message: \n",
      "Stacktrace:\n",
      "\tGetHandleVerifier [0x005CB8E3+45827]\n",
      "\t(No symbol) [0x0055DCC4]\n",
      "\t(No symbol) [0x0045150F]\n",
      "\t(No symbol) [0x004920BC]\n",
      "\t(No symbol) [0x0049216B]\n",
      "\t(No symbol) [0x004CE0F2]\n",
      "\t(No symbol) [0x004B2E44]\n",
      "\t(No symbol) [0x004CC034]\n",
      "\t(No symbol) [0x004B2B96]\n",
      "\t(No symbol) [0x00486998]\n",
      "\t(No symbol) [0x0048751D]\n",
      "\tGetHandleVerifier [0x00884513+2899763]\n",
      "\tGetHandleVerifier [0x008D793D+3240797]\n",
      "\tGetHandleVerifier [0x006513B4+593364]\n",
      "\tGetHandleVerifier [0x006582DC+621820]\n",
      "\t(No symbol) [0x005670A4]\n",
      "\t(No symbol) [0x005637A8]\n",
      "\t(No symbol) [0x00563947]\n",
      "\t(No symbol) [0x005559FE]\n",
      "\tBaseThreadInitThunk [0x753D7BA9+25]\n",
      "\tRtlInitializeExceptionChain [0x7775BE3B+107]\n",
      "\tRtlClearBits [0x7775BDBF+191]\n",
      "\n"
     ]
    },
    {
     "name": "stderr",
     "output_type": "stream",
     "text": [
      "Processing Movies:  90%|██████████████████████████████████████████████████▍     | 979/1086 [2:02:45<1:40:39, 56.45s/it]"
     ]
    },
    {
     "name": "stdout",
     "output_type": "stream",
     "text": [
      "검색할 영화 이름: 늑대와 춤을\n",
      "검색 결과 1번째 항목 확인\n"
     ]
    },
    {
     "name": "stderr",
     "output_type": "stream",
     "text": [
      "Processing Movies:  90%|██████████████████████████████████████████████████▌     | 980/1086 [2:02:48<1:11:30, 40.48s/it]"
     ]
    },
    {
     "name": "stdout",
     "output_type": "stream",
     "text": [
      "영화 '늑대와 춤을'의 평점: 평균 별점\n",
      "(5.9만명)\n",
      "검색할 영화 이름: 실버라도\n",
      "검색 결과 1번째 항목 확인\n"
     ]
    },
    {
     "name": "stderr",
     "output_type": "stream",
     "text": [
      "Processing Movies:  90%|████████████████████████████████████████████████████▍     | 981/1086 [2:02:51<51:16, 29.30s/it]"
     ]
    },
    {
     "name": "stdout",
     "output_type": "stream",
     "text": [
      "영화 '실버라도'의 평점: 평균 별점\n",
      "(312명)\n",
      "검색할 영화 이름: 아우트 로\n",
      "검색 결과 1번째 항목 확인\n",
      "내부 에러 발생: Message: \n",
      "Stacktrace:\n",
      "\tGetHandleVerifier [0x005CB8E3+45827]\n",
      "\t(No symbol) [0x0055DCC4]\n",
      "\t(No symbol) [0x0045150F]\n",
      "\t(No symbol) [0x004920BC]\n",
      "\t(No symbol) [0x0049216B]\n",
      "\t(No symbol) [0x004CE0F2]\n",
      "\t(No symbol) [0x004B2E44]\n",
      "\t(No symbol) [0x004CC034]\n",
      "\t(No symbol) [0x004B2B96]\n",
      "\t(No symbol) [0x00486998]\n",
      "\t(No symbol) [0x0048751D]\n",
      "\tGetHandleVerifier [0x00884513+2899763]\n",
      "\tGetHandleVerifier [0x008D793D+3240797]\n",
      "\tGetHandleVerifier [0x006513B4+593364]\n",
      "\tGetHandleVerifier [0x006582DC+621820]\n",
      "\t(No symbol) [0x005670A4]\n",
      "\t(No symbol) [0x005637A8]\n",
      "\t(No symbol) [0x00563947]\n",
      "\t(No symbol) [0x005559FE]\n",
      "\tBaseThreadInitThunk [0x753D7BA9+25]\n",
      "\tRtlInitializeExceptionChain [0x7775BE3B+107]\n",
      "\tRtlClearBits [0x7775BDBF+191]\n",
      "\n",
      "검색 결과 2번째 항목 확인\n",
      "내부 에러 발생: Message: \n",
      "Stacktrace:\n",
      "\tGetHandleVerifier [0x005CB8E3+45827]\n",
      "\t(No symbol) [0x0055DCC4]\n",
      "\t(No symbol) [0x0045150F]\n",
      "\t(No symbol) [0x004920BC]\n",
      "\t(No symbol) [0x0049216B]\n",
      "\t(No symbol) [0x004CE0F2]\n",
      "\t(No symbol) [0x004B2E44]\n",
      "\t(No symbol) [0x004CC034]\n",
      "\t(No symbol) [0x004B2B96]\n",
      "\t(No symbol) [0x00486998]\n",
      "\t(No symbol) [0x0048751D]\n",
      "\tGetHandleVerifier [0x00884513+2899763]\n",
      "\tGetHandleVerifier [0x008D793D+3240797]\n",
      "\tGetHandleVerifier [0x006513B4+593364]\n",
      "\tGetHandleVerifier [0x006582DC+621820]\n",
      "\t(No symbol) [0x005670A4]\n",
      "\t(No symbol) [0x005637A8]\n",
      "\t(No symbol) [0x00563947]\n",
      "\t(No symbol) [0x005559FE]\n",
      "\tBaseThreadInitThunk [0x753D7BA9+25]\n",
      "\tRtlInitializeExceptionChain [0x7775BE3B+107]\n",
      "\tRtlClearBits [0x7775BDBF+191]\n",
      "\n"
     ]
    },
    {
     "name": "stderr",
     "output_type": "stream",
     "text": [
      "Processing Movies:  90%|████████████████████████████████████████████████████▍     | 982/1086 [2:03:27<54:08, 31.24s/it]"
     ]
    },
    {
     "name": "stdout",
     "output_type": "stream",
     "text": [
      "검색할 영화 이름: 군용열차\n",
      "검색 결과 1번째 항목 확인\n"
     ]
    },
    {
     "name": "stderr",
     "output_type": "stream",
     "text": [
      "Processing Movies:  91%|████████████████████████████████████████████████████▍     | 983/1086 [2:03:30<39:11, 22.83s/it]"
     ]
    },
    {
     "name": "stdout",
     "output_type": "stream",
     "text": [
      "영화 '군용열차'의 평점: 평균 별점\n",
      "(99명)\n",
      "검색할 영화 이름: 최후의 총잡이\n",
      "검색 결과 1번째 항목 확인\n"
     ]
    },
    {
     "name": "stderr",
     "output_type": "stream",
     "text": [
      "Processing Movies:  91%|████████████████████████████████████████████████████▌     | 984/1086 [2:03:33<28:47, 16.94s/it]"
     ]
    },
    {
     "name": "stdout",
     "output_type": "stream",
     "text": [
      "영화 '최후의 총잡이'의 평점: 평균 별점\n",
      "(17명)\n",
      "검색할 영화 이름: 조로\n",
      "검색 결과 1번째 항목 확인\n",
      "검색 결과 2번째 항목 확인\n",
      "검색 결과 3번째 항목 확인\n",
      "검색 결과 4번째 항목 확인\n",
      "검색 결과 5번째 항목 확인\n",
      "검색 결과 6번째 항목 확인\n",
      "내부 에러 발생: Message: \n",
      "\n",
      "검색 결과 7번째 항목 확인\n",
      "내부 에러 발생: Message: \n",
      "\n",
      "검색 결과 8번째 항목 확인\n",
      "내부 에러 발생: Message: \n",
      "\n",
      "검색 결과 9번째 항목 확인\n",
      "내부 에러 발생: Message: \n",
      "\n"
     ]
    },
    {
     "name": "stderr",
     "output_type": "stream",
     "text": [
      "Processing Movies:  91%|██████████████████████████████████████████████████▊     | 985/1086 [2:05:15<1:11:10, 42.29s/it]"
     ]
    },
    {
     "name": "stdout",
     "output_type": "stream",
     "text": [
      "검색할 영화 이름: 블라드 마니\n"
     ]
    },
    {
     "name": "stderr",
     "output_type": "stream",
     "text": [
      "Processing Movies:  91%|████████████████████████████████████████████████████▋     | 986/1086 [2:05:19<51:27, 30.87s/it]"
     ]
    },
    {
     "name": "stdout",
     "output_type": "stream",
     "text": [
      "검색할 영화 이름: 황야의 스트렌저\n",
      "검색 결과 1번째 항목 확인\n"
     ]
    },
    {
     "name": "stderr",
     "output_type": "stream",
     "text": [
      "Processing Movies:  91%|████████████████████████████████████████████████████▋     | 987/1086 [2:05:26<39:17, 23.82s/it]"
     ]
    },
    {
     "name": "stdout",
     "output_type": "stream",
     "text": [
      "검색할 영화 이름: 바르데즈\n",
      "검색 결과 1번째 항목 확인\n"
     ]
    },
    {
     "name": "stderr",
     "output_type": "stream",
     "text": [
      "Processing Movies:  91%|████████████████████████████████████████████████████▊     | 988/1086 [2:05:29<28:48, 17.63s/it]"
     ]
    },
    {
     "name": "stdout",
     "output_type": "stream",
     "text": [
      "영화 '바르데즈'의 평점: 평균 별점\n",
      "(21명)\n",
      "검색할 영화 이름: 헌팅 파티\n",
      "검색 결과 1번째 항목 확인\n"
     ]
    },
    {
     "name": "stderr",
     "output_type": "stream",
     "text": [
      "Processing Movies:  91%|████████████████████████████████████████████████████▊     | 989/1086 [2:05:33<21:30, 13.31s/it]"
     ]
    },
    {
     "name": "stdout",
     "output_type": "stream",
     "text": [
      "영화 '헌팅 파티'의 평점: 평균 별점\n",
      "(916명)\n",
      "검색할 영화 이름: 튜니티라 불러다오\n",
      "검색 결과 1번째 항목 확인\n"
     ]
    },
    {
     "name": "stderr",
     "output_type": "stream",
     "text": [
      "Processing Movies:  91%|████████████████████████████████████████████████████▊     | 990/1086 [2:05:36<16:26, 10.28s/it]"
     ]
    },
    {
     "name": "stdout",
     "output_type": "stream",
     "text": [
      "영화 '튜니티라 불러다오'의 평점: 평균 별점\n",
      "(1,021명)\n",
      "검색할 영화 이름: 엘 토포\n",
      "검색 결과 1번째 항목 확인\n"
     ]
    },
    {
     "name": "stderr",
     "output_type": "stream",
     "text": [
      "Processing Movies:  91%|████████████████████████████████████████████████████▉     | 991/1086 [2:05:39<12:54,  8.15s/it]"
     ]
    },
    {
     "name": "stdout",
     "output_type": "stream",
     "text": [
      "영화 '엘 토포'의 평점: 평균 별점\n",
      "(2,722명)\n",
      "검색할 영화 이름: 캣트로\n"
     ]
    },
    {
     "name": "stderr",
     "output_type": "stream",
     "text": [
      "Processing Movies:  91%|████████████████████████████████████████████████████▉     | 992/1086 [2:05:43<10:55,  6.98s/it]"
     ]
    },
    {
     "name": "stdout",
     "output_type": "stream",
     "text": [
      "검색할 영화 이름: 아디오스 사바타\n",
      "검색 결과 1번째 항목 확인\n"
     ]
    },
    {
     "name": "stderr",
     "output_type": "stream",
     "text": [
      "Processing Movies:  91%|█████████████████████████████████████████████████████     | 993/1086 [2:05:46<09:03,  5.85s/it]"
     ]
    },
    {
     "name": "stdout",
     "output_type": "stream",
     "text": [
      "영화 '아디오스 사바타'의 평점: 평균 별점\n",
      "(37명)\n",
      "검색할 영화 이름: 그리즈리 킹\n"
     ]
    },
    {
     "name": "stderr",
     "output_type": "stream",
     "text": [
      "Processing Movies:  92%|█████████████████████████████████████████████████████     | 994/1086 [2:05:51<08:13,  5.36s/it]"
     ]
    },
    {
     "name": "stdout",
     "output_type": "stream",
     "text": [
      "검색할 영화 이름: 말이라고 불리운 사나이\n",
      "검색 결과 1번째 항목 확인\n",
      "검색 결과 2번째 항목 확인\n"
     ]
    },
    {
     "name": "stderr",
     "output_type": "stream",
     "text": [
      "Processing Movies:  92%|█████████████████████████████████████████████████████▏    | 995/1086 [2:06:01<10:27,  6.89s/it]"
     ]
    },
    {
     "name": "stdout",
     "output_type": "stream",
     "text": [
      "검색할 영화 이름: 콘돌의 요새\n"
     ]
    },
    {
     "name": "stderr",
     "output_type": "stream",
     "text": [
      "Processing Movies:  92%|█████████████████████████████████████████████████████▏    | 996/1086 [2:06:05<09:08,  6.10s/it]"
     ]
    },
    {
     "name": "stdout",
     "output_type": "stream",
     "text": [
      "검색할 영화 이름: 솔저 블루\n",
      "검색 결과 1번째 항목 확인\n"
     ]
    },
    {
     "name": "stderr",
     "output_type": "stream",
     "text": [
      "Processing Movies:  92%|█████████████████████████████████████████████████████▏    | 997/1086 [2:06:09<07:45,  5.23s/it]"
     ]
    },
    {
     "name": "stdout",
     "output_type": "stream",
     "text": [
      "영화 '솔저 블루'의 평점: 평균 별점\n",
      "(83명)\n",
      "검색할 영화 이름: 엘 콘도\n"
     ]
    },
    {
     "name": "stderr",
     "output_type": "stream",
     "text": [
      "Processing Movies:  92%|█████████████████████████████████████████████████████▎    | 998/1086 [2:06:13<07:13,  4.93s/it]"
     ]
    },
    {
     "name": "stdout",
     "output_type": "stream",
     "text": [
      "검색할 영화 이름: 대탈옥\n",
      "검색 결과 1번째 항목 확인\n"
     ]
    },
    {
     "name": "stderr",
     "output_type": "stream",
     "text": [
      "Processing Movies:  92%|█████████████████████████████████████████████████████▎    | 999/1086 [2:06:16<06:24,  4.42s/it]"
     ]
    },
    {
     "name": "stdout",
     "output_type": "stream",
     "text": [
      "영화 '대탈옥'의 평점: 평균 별점\n",
      "(19명)\n",
      "검색할 영화 이름: 몬테월슈\n"
     ]
    },
    {
     "name": "stderr",
     "output_type": "stream",
     "text": [
      "Processing Movies:  92%|████████████████████████████████████████████████████▍    | 1000/1086 [2:06:20<06:14,  4.36s/it]"
     ]
    },
    {
     "name": "stdout",
     "output_type": "stream",
     "text": [
      "검색할 영화 이름: 석양을 향해 달려라\n"
     ]
    },
    {
     "name": "stderr",
     "output_type": "stream",
     "text": [
      "Processing Movies:  92%|████████████████████████████████████████████████████▌    | 1001/1086 [2:06:24<06:07,  4.32s/it]"
     ]
    },
    {
     "name": "stdout",
     "output_type": "stream",
     "text": [
      "검색할 영화 이름: 서부악인전\n"
     ]
    },
    {
     "name": "stderr",
     "output_type": "stream",
     "text": [
      "Processing Movies:  92%|████████████████████████████████████████████████████▌    | 1002/1086 [2:06:29<06:01,  4.30s/it]"
     ]
    },
    {
     "name": "stdout",
     "output_type": "stream",
     "text": [
      "검색할 영화 이름: 황야는 통곡한다\n",
      "검색 결과 1번째 항목 확인\n"
     ]
    },
    {
     "name": "stderr",
     "output_type": "stream",
     "text": [
      "Processing Movies:  92%|████████████████████████████████████████████████████▋    | 1003/1086 [2:06:32<05:30,  3.98s/it]"
     ]
    },
    {
     "name": "stdout",
     "output_type": "stream",
     "text": [
      "영화 '황야는 통곡한다'의 평점: 평균 별점\n",
      "(16명)\n",
      "검색할 영화 이름: 비바장고\n",
      "검색 결과 1번째 항목 확인\n"
     ]
    },
    {
     "name": "stderr",
     "output_type": "stream",
     "text": [
      "Processing Movies:  92%|████████████████████████████████████████████████████▋    | 1004/1086 [2:06:35<05:06,  3.74s/it]"
     ]
    },
    {
     "name": "stdout",
     "output_type": "stream",
     "text": [
      "영화 '비바장고'의 평점: 평균 별점\n",
      "(21명)\n",
      "검색할 영화 이름: 정의의 건벨트\n"
     ]
    },
    {
     "name": "stderr",
     "output_type": "stream",
     "text": [
      "Processing Movies:  93%|████████████████████████████████████████████████████▋    | 1005/1086 [2:06:39<05:14,  3.89s/it]"
     ]
    },
    {
     "name": "stdout",
     "output_type": "stream",
     "text": [
      "검색할 영화 이름: 돌아온 무숙자\n"
     ]
    },
    {
     "name": "stderr",
     "output_type": "stream",
     "text": [
      "Processing Movies:  93%|████████████████████████████████████████████████████▊    | 1006/1086 [2:06:44<05:19,  3.99s/it]"
     ]
    },
    {
     "name": "stdout",
     "output_type": "stream",
     "text": [
      "검색할 영화 이름: 방랑의 나바죠 죠\n"
     ]
    },
    {
     "name": "stderr",
     "output_type": "stream",
     "text": [
      "Processing Movies:  93%|████████████████████████████████████████████████████▊    | 1007/1086 [2:06:48<05:21,  4.07s/it]"
     ]
    },
    {
     "name": "stdout",
     "output_type": "stream",
     "text": [
      "검색할 영화 이름: 잘있거라 황야\n"
     ]
    },
    {
     "name": "stderr",
     "output_type": "stream",
     "text": [
      "Processing Movies:  93%|████████████████████████████████████████████████████▉    | 1008/1086 [2:06:52<05:20,  4.11s/it]"
     ]
    },
    {
     "name": "stdout",
     "output_type": "stream",
     "text": [
      "검색할 영화 이름: 그링고\n",
      "검색 결과 1번째 항목 확인\n"
     ]
    },
    {
     "name": "stderr",
     "output_type": "stream",
     "text": [
      "Processing Movies:  93%|████████████████████████████████████████████████████▉    | 1009/1086 [2:06:55<04:56,  3.85s/it]"
     ]
    },
    {
     "name": "stdout",
     "output_type": "stream",
     "text": [
      "영화 '그링고'의 평점: 평균 별점\n",
      "(1,503명)\n",
      "검색할 영화 이름: 황야의 무법자\n",
      "검색 결과 1번째 항목 확인\n",
      "검색 결과 2번째 항목 확인\n"
     ]
    },
    {
     "name": "stderr",
     "output_type": "stream",
     "text": [
      "Processing Movies:  93%|█████████████████████████████████████████████████████    | 1010/1086 [2:07:03<06:12,  4.90s/it]"
     ]
    },
    {
     "name": "stdout",
     "output_type": "stream",
     "text": [
      "영화 '황야의 무법자'의 평점: 평균 별점\n",
      "(1.6만명)\n",
      "검색할 영화 이름: 4인의 무뢰한\n"
     ]
    },
    {
     "name": "stderr",
     "output_type": "stream",
     "text": [
      "Processing Movies:  93%|█████████████████████████████████████████████████████    | 1011/1086 [2:07:07<05:52,  4.70s/it]"
     ]
    },
    {
     "name": "stdout",
     "output_type": "stream",
     "text": [
      "검색할 영화 이름: 거대한 서부\n",
      "검색 결과 1번째 항목 확인\n",
      "검색 결과 2번째 항목 확인\n",
      "검색 결과 3번째 항목 확인\n",
      "검색 결과 4번째 항목 확인\n",
      "검색 결과 5번째 항목 확인\n",
      "검색 결과 6번째 항목 확인\n",
      "내부 에러 발생: Message: \n",
      "\n",
      "검색 결과 7번째 항목 확인\n",
      "내부 에러 발생: Message: \n",
      "\n",
      "검색 결과 8번째 항목 확인\n",
      "내부 에러 발생: Message: \n",
      "\n",
      "검색 결과 9번째 항목 확인\n",
      "내부 에러 발생: Message: \n",
      "\n"
     ]
    },
    {
     "name": "stderr",
     "output_type": "stream",
     "text": [
      "Processing Movies:  93%|█████████████████████████████████████████████████████    | 1012/1086 [2:08:49<41:40, 33.79s/it]"
     ]
    },
    {
     "name": "stdout",
     "output_type": "stream",
     "text": [
      "검색할 영화 이름: 베라크루스\n",
      "검색 결과 1번째 항목 확인\n"
     ]
    },
    {
     "name": "stderr",
     "output_type": "stream",
     "text": [
      "Processing Movies:  93%|█████████████████████████████████████████████████████▏   | 1013/1086 [2:08:52<29:58, 24.64s/it]"
     ]
    },
    {
     "name": "stdout",
     "output_type": "stream",
     "text": [
      "영화 '베라크루스'의 평점: 평균 별점\n",
      "(456명)\n",
      "검색할 영화 이름: 아파치요새\n",
      "검색 결과 1번째 항목 확인\n"
     ]
    },
    {
     "name": "stderr",
     "output_type": "stream",
     "text": [
      "Processing Movies:  93%|█████████████████████████████████████████████████████▏   | 1014/1086 [2:08:55<21:51, 18.21s/it]"
     ]
    },
    {
     "name": "stdout",
     "output_type": "stream",
     "text": [
      "영화 '아파치요새'의 평점: 평균 별점\n",
      "(1,100명)\n",
      "검색할 영화 이름: 인어공주\n",
      "검색 결과 1번째 항목 확인\n"
     ]
    },
    {
     "name": "stderr",
     "output_type": "stream",
     "text": [
      "Processing Movies:  93%|█████████████████████████████████████████████████████▎   | 1015/1086 [2:08:58<16:13, 13.71s/it]"
     ]
    },
    {
     "name": "stdout",
     "output_type": "stream",
     "text": [
      "영화 '인어공주'의 평점: 평균 별점\n",
      "(5.6만명)\n",
      "검색할 영화 이름: 뮤지컬 <미아 파밀리아>\n",
      "검색 결과 1번째 항목 확인\n"
     ]
    },
    {
     "name": "stderr",
     "output_type": "stream",
     "text": [
      "Processing Movies:  94%|█████████████████████████████████████████████████████▎   | 1016/1086 [2:09:01<12:19, 10.57s/it]"
     ]
    },
    {
     "name": "stdout",
     "output_type": "stream",
     "text": [
      "영화 '뮤지컬 <미아 파밀리아>'의 평점: 평균 별점\n",
      "(67명)\n",
      "검색할 영화 이름: 마리앙투아네트\n",
      "검색 결과 1번째 항목 확인\n"
     ]
    },
    {
     "name": "stderr",
     "output_type": "stream",
     "text": [
      "Processing Movies:  94%|█████████████████████████████████████████████████████▍   | 1017/1086 [2:09:05<09:36,  8.36s/it]"
     ]
    },
    {
     "name": "stdout",
     "output_type": "stream",
     "text": [
      "영화 '마리앙투아네트'의 평점: 평균 별점\n",
      "(9.5만명)\n",
      "검색할 영화 이름: 뮤지컬 번지점프를 하다\n",
      "검색 결과 1번째 항목 확인\n"
     ]
    },
    {
     "name": "stderr",
     "output_type": "stream",
     "text": [
      "Processing Movies:  94%|█████████████████████████████████████████████████████▍   | 1018/1086 [2:09:08<07:43,  6.82s/it]"
     ]
    },
    {
     "name": "stdout",
     "output_type": "stream",
     "text": [
      "영화 '뮤지컬 번지점프를 하다'의 평점: 평균 별점\n",
      "(46명)\n",
      "검색할 영화 이름: 이상한 나라의 아빠\n",
      "검색 결과 1번째 항목 확인\n"
     ]
    },
    {
     "name": "stderr",
     "output_type": "stream",
     "text": [
      "Processing Movies:  94%|█████████████████████████████████████████████████████▍   | 1019/1086 [2:09:11<06:23,  5.73s/it]"
     ]
    },
    {
     "name": "stdout",
     "output_type": "stream",
     "text": [
      "영화 '이상한 나라의 아빠'의 평점: 평균 별점\n",
      "(9명)\n",
      "검색할 영화 이름: 2021 스웨그 에이지 : 외쳐, 조선!\n",
      "검색 결과 1번째 항목 확인\n"
     ]
    },
    {
     "name": "stderr",
     "output_type": "stream",
     "text": [
      "Processing Movies:  94%|█████████████████████████████████████████████████████▌   | 1020/1086 [2:09:14<05:28,  4.98s/it]"
     ]
    },
    {
     "name": "stdout",
     "output_type": "stream",
     "text": [
      "영화 '2021 스웨그 에이지 : 외쳐, 조선!'의 평점: 평균 별점\n",
      "(2,222명)\n",
      "검색할 영화 이름: 투란도트 어둠의 왕국\n",
      "검색 결과 1번째 항목 확인\n"
     ]
    },
    {
     "name": "stderr",
     "output_type": "stream",
     "text": [
      "Processing Movies:  94%|█████████████████████████████████████████████████████▌   | 1021/1086 [2:09:22<06:08,  5.68s/it]"
     ]
    },
    {
     "name": "stdout",
     "output_type": "stream",
     "text": [
      "검색할 영화 이름: 디어 에반 핸슨\n",
      "검색 결과 1번째 항목 확인\n"
     ]
    },
    {
     "name": "stderr",
     "output_type": "stream",
     "text": [
      "Processing Movies:  94%|█████████████████████████████████████████████████████▋   | 1022/1086 [2:09:25<05:15,  4.93s/it]"
     ]
    },
    {
     "name": "stdout",
     "output_type": "stream",
     "text": [
      "영화 '디어 에반 핸슨'의 평점: 평균 별점\n",
      "(7,145명)\n",
      "검색할 영화 이름: 팬텀: 더 뮤지컬 라이브\n",
      "검색 결과 1번째 항목 확인\n"
     ]
    },
    {
     "name": "stderr",
     "output_type": "stream",
     "text": [
      "Processing Movies:  94%|█████████████████████████████████████████████████████▋   | 1023/1086 [2:09:28<04:38,  4.42s/it]"
     ]
    },
    {
     "name": "stdout",
     "output_type": "stream",
     "text": [
      "영화 '팬텀: 더 뮤지컬 라이브'의 평점: 평균 별점\n",
      "(412명)\n",
      "검색할 영화 이름: 뮤지컬 레드북\n",
      "검색 결과 1번째 항목 확인\n"
     ]
    },
    {
     "name": "stderr",
     "output_type": "stream",
     "text": [
      "Processing Movies:  94%|█████████████████████████████████████████████████████▋   | 1024/1086 [2:09:32<04:28,  4.33s/it]"
     ]
    },
    {
     "name": "stdout",
     "output_type": "stream",
     "text": [
      "영화 '뮤지컬 레드북'의 평점: 평균 별점\n",
      "(434명)\n",
      "검색할 영화 이름: 인 더 하이츠\n",
      "검색 결과 1번째 항목 확인\n"
     ]
    },
    {
     "name": "stderr",
     "output_type": "stream",
     "text": [
      "Processing Movies:  94%|█████████████████████████████████████████████████████▊   | 1025/1086 [2:09:35<04:04,  4.02s/it]"
     ]
    },
    {
     "name": "stdout",
     "output_type": "stream",
     "text": [
      "영화 '인 더 하이츠'의 평점: 평균 별점\n",
      "(3,542명)\n",
      "검색할 영화 이름: 베르테르\n",
      "검색 결과 1번째 항목 확인\n"
     ]
    },
    {
     "name": "stderr",
     "output_type": "stream",
     "text": [
      "Processing Movies:  94%|█████████████████████████████████████████████████████▊   | 1026/1086 [2:09:39<03:46,  3.78s/it]"
     ]
    },
    {
     "name": "stdout",
     "output_type": "stream",
     "text": [
      "영화 '베르테르'의 평점: 평균 별점\n",
      "(305명)\n",
      "검색할 영화 이름: 잃어버린 얼굴 1895\n",
      "검색 결과 1번째 항목 확인\n"
     ]
    },
    {
     "name": "stderr",
     "output_type": "stream",
     "text": [
      "Processing Movies:  95%|█████████████████████████████████████████████████████▉   | 1027/1086 [2:09:42<03:33,  3.62s/it]"
     ]
    },
    {
     "name": "stdout",
     "output_type": "stream",
     "text": [
      "영화 '잃어버린 얼굴 1895'의 평점: 평균 별점\n",
      "(162명)\n",
      "검색할 영화 이름: 인생은 아름다워\n",
      "검색 결과 1번째 항목 확인\n"
     ]
    },
    {
     "name": "stderr",
     "output_type": "stream",
     "text": [
      "Processing Movies:  95%|█████████████████████████████████████████████████████▉   | 1028/1086 [2:09:45<03:23,  3.50s/it]"
     ]
    },
    {
     "name": "stdout",
     "output_type": "stream",
     "text": [
      "영화 '인생은 아름다워'의 평점: 평균 별점\n",
      "(49.5만명)\n",
      "검색할 영화 이름: 뮤지컬 배니싱\n",
      "검색 결과 1번째 항목 확인\n"
     ]
    },
    {
     "name": "stderr",
     "output_type": "stream",
     "text": [
      "Processing Movies:  95%|██████████████████████████████████████████████████████   | 1029/1086 [2:09:48<03:14,  3.42s/it]"
     ]
    },
    {
     "name": "stdout",
     "output_type": "stream",
     "text": [
      "영화 '뮤지컬 배니싱'의 평점: 평균 별점\n",
      "(40명)\n",
      "검색할 영화 이름: 이별식당\n",
      "검색 결과 1번째 항목 확인\n"
     ]
    },
    {
     "name": "stderr",
     "output_type": "stream",
     "text": [
      "Processing Movies:  95%|██████████████████████████████████████████████████████   | 1030/1086 [2:09:52<03:07,  3.35s/it]"
     ]
    },
    {
     "name": "stdout",
     "output_type": "stream",
     "text": [
      "영화 '이별식당'의 평점: 평균 별점\n",
      "(166명)\n",
      "검색할 영화 이름: 레미제라블: 뮤지컬 콘서트\n",
      "검색 결과 1번째 항목 확인\n"
     ]
    },
    {
     "name": "stderr",
     "output_type": "stream",
     "text": [
      "Processing Movies:  95%|██████████████████████████████████████████████████████   | 1031/1086 [2:09:55<03:02,  3.31s/it]"
     ]
    },
    {
     "name": "stdout",
     "output_type": "stream",
     "text": [
      "영화 '레미제라블: 뮤지컬 콘서트'의 평점: 평균 별점\n",
      "(613명)\n",
      "검색할 영화 이름: 다시 만난 날들\n",
      "검색 결과 1번째 항목 확인\n"
     ]
    },
    {
     "name": "stderr",
     "output_type": "stream",
     "text": [
      "Processing Movies:  95%|██████████████████████████████████████████████████████▏  | 1032/1086 [2:09:58<02:57,  3.29s/it]"
     ]
    },
    {
     "name": "stdout",
     "output_type": "stream",
     "text": [
      "영화 '다시 만난 날들'의 평점: 평균 별점\n",
      "(430명)\n",
      "검색할 영화 이름: 뮤지컬 브로드웨이 42번가\n",
      "검색 결과 1번째 항목 확인\n"
     ]
    },
    {
     "name": "stderr",
     "output_type": "stream",
     "text": [
      "Processing Movies:  95%|██████████████████████████████████████████████████████▏  | 1033/1086 [2:10:01<02:53,  3.27s/it]"
     ]
    },
    {
     "name": "stdout",
     "output_type": "stream",
     "text": [
      "영화 '뮤지컬 브로드웨이 42번가'의 평점: 평균 별점\n",
      "(1,380명)\n",
      "검색할 영화 이름: 캣츠\n",
      "검색 결과 1번째 항목 확인\n"
     ]
    },
    {
     "name": "stderr",
     "output_type": "stream",
     "text": [
      "Processing Movies:  95%|██████████████████████████████████████████████████████▎  | 1034/1086 [2:10:05<02:49,  3.26s/it]"
     ]
    },
    {
     "name": "stdout",
     "output_type": "stream",
     "text": [
      "영화 '캣츠'의 평점: 평균 별점\n",
      "(1.2만명)\n",
      "검색할 영화 이름: 몬테크리스토\n",
      "검색 결과 1번째 항목 확인\n",
      "검색 결과 2번째 항목 확인\n"
     ]
    },
    {
     "name": "stderr",
     "output_type": "stream",
     "text": [
      "Processing Movies:  95%|██████████████████████████████████████████████████████▎  | 1035/1086 [2:10:11<03:33,  4.19s/it]"
     ]
    },
    {
     "name": "stdout",
     "output_type": "stream",
     "text": [
      "영화 '몬테크리스토'의 평점: 평균 별점\n",
      "(126명)\n",
      "검색할 영화 이름: 톡식 어벤져\n",
      "검색 결과 1번째 항목 확인\n"
     ]
    },
    {
     "name": "stderr",
     "output_type": "stream",
     "text": [
      "Processing Movies:  95%|██████████████████████████████████████████████████████▍  | 1036/1086 [2:10:14<03:14,  3.89s/it]"
     ]
    },
    {
     "name": "stdout",
     "output_type": "stream",
     "text": [
      "영화 '톡식 어벤져'의 평점: 평균 별점\n",
      "(124명)\n",
      "검색할 영화 이름: 위시업\n",
      "검색 결과 1번째 항목 확인\n"
     ]
    },
    {
     "name": "stderr",
     "output_type": "stream",
     "text": [
      "Processing Movies:  95%|██████████████████████████████████████████████████████▍  | 1037/1086 [2:10:18<03:12,  3.93s/it]"
     ]
    },
    {
     "name": "stdout",
     "output_type": "stream",
     "text": [
      "영화 '위시업'의 평점: 평균 별점\n",
      "(2,322명)\n",
      "검색할 영화 이름: 안나 카레니나\n",
      "검색 결과 1번째 항목 확인\n"
     ]
    },
    {
     "name": "stderr",
     "output_type": "stream",
     "text": [
      "Processing Movies:  96%|██████████████████████████████████████████████████████▍  | 1038/1086 [2:10:21<02:59,  3.75s/it]"
     ]
    },
    {
     "name": "stdout",
     "output_type": "stream",
     "text": [
      "영화 '안나 카레니나'의 평점: 평균 별점\n",
      "(4.9만명)\n",
      "검색할 영화 이름: 무녀도\n",
      "검색 결과 1번째 항목 확인\n"
     ]
    },
    {
     "name": "stderr",
     "output_type": "stream",
     "text": [
      "Processing Movies:  96%|██████████████████████████████████████████████████████▌  | 1039/1086 [2:10:25<02:48,  3.59s/it]"
     ]
    },
    {
     "name": "stdout",
     "output_type": "stream",
     "text": [
      "영화 '무녀도'의 평점: 평균 별점\n",
      "(200명)\n",
      "검색할 영화 이름: 맘마미아!2\n",
      "검색 결과 1번째 항목 확인\n"
     ]
    },
    {
     "name": "stderr",
     "output_type": "stream",
     "text": [
      "Processing Movies:  96%|██████████████████████████████████████████████████████▌  | 1040/1086 [2:10:28<02:40,  3.48s/it]"
     ]
    },
    {
     "name": "stdout",
     "output_type": "stream",
     "text": [
      "영화 '맘마미아!2'의 평점: 평균 별점\n",
      "(8.2만명)\n",
      "검색할 영화 이름: 어게인\n",
      "검색 결과 1번째 항목 확인\n",
      "검색 결과 2번째 항목 확인\n",
      "검색 결과 3번째 항목 확인\n",
      "검색 결과 4번째 항목 확인\n",
      "검색 결과 5번째 항목 확인\n",
      "검색 결과 6번째 항목 확인\n",
      "내부 에러 발생: Message: \n",
      "\n",
      "검색 결과 7번째 항목 확인\n",
      "내부 에러 발생: Message: \n",
      "\n",
      "검색 결과 8번째 항목 확인\n",
      "내부 에러 발생: Message: \n",
      "\n",
      "검색 결과 9번째 항목 확인\n",
      "내부 에러 발생: Message: \n",
      "\n"
     ]
    },
    {
     "name": "stderr",
     "output_type": "stream",
     "text": [
      "Processing Movies:  96%|██████████████████████████████████████████████████████▋  | 1041/1086 [2:12:09<24:31, 32.69s/it]"
     ]
    },
    {
     "name": "stdout",
     "output_type": "stream",
     "text": [
      "검색할 영화 이름: 더 데빌\n",
      "검색 결과 1번째 항목 확인\n"
     ]
    },
    {
     "name": "stderr",
     "output_type": "stream",
     "text": [
      "Processing Movies:  96%|██████████████████████████████████████████████████████▋  | 1042/1086 [2:12:12<17:31, 23.91s/it]"
     ]
    },
    {
     "name": "stdout",
     "output_type": "stream",
     "text": [
      "영화 '더 데빌'의 평점: 평균 별점\n",
      "(72명)\n",
      "검색할 영화 이름: 노트르담 드 파리\n",
      "검색 결과 1번째 항목 확인\n"
     ]
    },
    {
     "name": "stderr",
     "output_type": "stream",
     "text": [
      "Processing Movies:  96%|██████████████████████████████████████████████████████▋  | 1043/1086 [2:12:15<12:41, 17.70s/it]"
     ]
    },
    {
     "name": "stdout",
     "output_type": "stream",
     "text": [
      "영화 '노트르담 드 파리'의 평점: 평균 별점\n",
      "(70명)\n",
      "검색할 영화 이름: 뮤지컬 남극 탐험가는 나를 좋아해\n",
      "검색 결과 1번째 항목 확인\n"
     ]
    },
    {
     "name": "stderr",
     "output_type": "stream",
     "text": [
      "Processing Movies:  96%|██████████████████████████████████████████████████████▊  | 1044/1086 [2:12:19<09:21, 13.36s/it]"
     ]
    },
    {
     "name": "stdout",
     "output_type": "stream",
     "text": [
      "영화 '뮤지컬 남극 탐험가는 나를 좋아해'의 평점: 평균 별점\n",
      "(87명)\n",
      "검색할 영화 이름: 갓 헬프 더 걸\n",
      "검색 결과 1번째 항목 확인\n"
     ]
    },
    {
     "name": "stderr",
     "output_type": "stream",
     "text": [
      "Processing Movies:  96%|██████████████████████████████████████████████████████▊  | 1045/1086 [2:12:22<07:03, 10.32s/it]"
     ]
    },
    {
     "name": "stdout",
     "output_type": "stream",
     "text": [
      "영화 '갓 헬프 더 걸'의 평점: 평균 별점\n",
      "(9,082명)\n",
      "검색할 영화 이름: 할리데이\n",
      "검색 결과 1번째 항목 확인\n"
     ]
    },
    {
     "name": "stderr",
     "output_type": "stream",
     "text": [
      "Processing Movies:  96%|██████████████████████████████████████████████████████▉  | 1046/1086 [2:12:25<05:27,  8.19s/it]"
     ]
    },
    {
     "name": "stdout",
     "output_type": "stream",
     "text": [
      "영화 '할리데이'의 평점: 평균 별점\n",
      "(1,231명)\n",
      "검색할 영화 이름: 빌리 엘리어트 뮤지컬 라이브\n",
      "검색 결과 1번째 항목 확인\n"
     ]
    },
    {
     "name": "stderr",
     "output_type": "stream",
     "text": [
      "Processing Movies:  96%|██████████████████████████████████████████████████████▉  | 1047/1086 [2:12:28<04:21,  6.71s/it]"
     ]
    },
    {
     "name": "stdout",
     "output_type": "stream",
     "text": [
      "영화 '빌리 엘리어트 뮤지컬 라이브'의 평점: 평균 별점\n",
      "(2.2만명)\n",
      "검색할 영화 이름: 숲속으로\n",
      "검색 결과 1번째 항목 확인\n"
     ]
    },
    {
     "name": "stderr",
     "output_type": "stream",
     "text": [
      "Processing Movies:  97%|███████████████████████████████████████████████████████  | 1048/1086 [2:12:32<03:35,  5.67s/it]"
     ]
    },
    {
     "name": "stdout",
     "output_type": "stream",
     "text": [
      "영화 '숲속으로'의 평점: 평균 별점\n",
      "(2.3만명)\n",
      "검색할 영화 이름: 1789, 바스티유의 연인들\n",
      "검색 결과 1번째 항목 확인\n"
     ]
    },
    {
     "name": "stderr",
     "output_type": "stream",
     "text": [
      "Processing Movies:  97%|███████████████████████████████████████████████████████  | 1049/1086 [2:12:39<03:48,  6.18s/it]"
     ]
    },
    {
     "name": "stdout",
     "output_type": "stream",
     "text": [
      "검색할 영화 이름: 선샤인 온 리스\n",
      "검색 결과 1번째 항목 확인\n"
     ]
    },
    {
     "name": "stderr",
     "output_type": "stream",
     "text": [
      "Processing Movies:  97%|███████████████████████████████████████████████████████  | 1050/1086 [2:12:42<03:10,  5.29s/it]"
     ]
    },
    {
     "name": "stdout",
     "output_type": "stream",
     "text": [
      "영화 '선샤인 온 리스'의 평점: 평균 별점\n",
      "(2,169명)\n",
      "검색할 영화 이름: 메탈리카 스루 더 네버\n",
      "검색 결과 1번째 항목 확인\n"
     ]
    },
    {
     "name": "stderr",
     "output_type": "stream",
     "text": [
      "Processing Movies:  97%|███████████████████████████████████████████████████████▏ | 1051/1086 [2:12:45<02:43,  4.68s/it]"
     ]
    },
    {
     "name": "stdout",
     "output_type": "stream",
     "text": [
      "영화 '메탈리카 스루 더 네버'의 평점: 평균 별점\n",
      "(5,089명)\n",
      "검색할 영화 이름: 지저스 크라이스트 슈퍼스타\n",
      "검색 결과 1번째 항목 확인\n"
     ]
    },
    {
     "name": "stderr",
     "output_type": "stream",
     "text": [
      "Processing Movies:  97%|███████████████████████████████████████████████████████▏ | 1052/1086 [2:12:49<02:24,  4.25s/it]"
     ]
    },
    {
     "name": "stdout",
     "output_type": "stream",
     "text": [
      "영화 '지저스 크라이스트 슈퍼스타'의 평점: 평균 별점\n",
      "(1,443명)\n",
      "검색할 영화 이름: 락 오브 에이지\n",
      "검색 결과 1번째 항목 확인\n"
     ]
    },
    {
     "name": "stderr",
     "output_type": "stream",
     "text": [
      "Processing Movies:  97%|███████████████████████████████████████████████████████▎ | 1053/1086 [2:12:52<02:10,  3.95s/it]"
     ]
    },
    {
     "name": "stdout",
     "output_type": "stream",
     "text": [
      "영화 '락 오브 에이지'의 평점: 평균 별점\n",
      "(9,855명)\n",
      "검색할 영화 이름: 오페라의 유령 2 : 러브 네버 다이\n"
     ]
    },
    {
     "name": "stderr",
     "output_type": "stream",
     "text": [
      "Processing Movies:  97%|███████████████████████████████████████████████████████▎ | 1054/1086 [2:12:56<02:10,  4.08s/it]"
     ]
    },
    {
     "name": "stdout",
     "output_type": "stream",
     "text": [
      "검색할 영화 이름: 사랑은 마법처럼\n",
      "검색 결과 1번째 항목 확인\n",
      "검색 결과 2번째 항목 확인\n"
     ]
    },
    {
     "name": "stderr",
     "output_type": "stream",
     "text": [
      "Processing Movies:  97%|███████████████████████████████████████████████████████▎ | 1055/1086 [2:13:03<02:34,  4.99s/it]"
     ]
    },
    {
     "name": "stdout",
     "output_type": "stream",
     "text": [
      "영화 '사랑은 마법처럼'의 평점: 평균 별점\n",
      "(822명)\n",
      "검색할 영화 이름: 비러브드\n",
      "검색 결과 1번째 항목 확인\n"
     ]
    },
    {
     "name": "stderr",
     "output_type": "stream",
     "text": [
      "Processing Movies:  97%|███████████████████████████████████████████████████████▍ | 1056/1086 [2:13:07<02:13,  4.46s/it]"
     ]
    },
    {
     "name": "stdout",
     "output_type": "stream",
     "text": [
      "영화 '비러브드'의 평점: 평균 별점\n",
      "(2,405명)\n",
      "검색할 영화 이름: 지킬 앤 하이드\n",
      "검색 결과 1번째 항목 확인\n"
     ]
    },
    {
     "name": "stderr",
     "output_type": "stream",
     "text": [
      "Processing Movies:  97%|███████████████████████████████████████████████████████▍ | 1057/1086 [2:13:11<02:09,  4.46s/it]"
     ]
    },
    {
     "name": "stdout",
     "output_type": "stream",
     "text": [
      "영화 '지킬 앤 하이드'의 평점: 평균 별점\n",
      "(2,482명)\n",
      "검색할 영화 이름: 오페라-장미의 기사\n"
     ]
    },
    {
     "name": "stderr",
     "output_type": "stream",
     "text": [
      "Processing Movies:  97%|███████████████████████████████████████████████████████▌ | 1058/1086 [2:13:16<02:05,  4.48s/it]"
     ]
    },
    {
     "name": "stdout",
     "output_type": "stream",
     "text": [
      "검색할 영화 이름: 오페라-호프만의 이야기\n"
     ]
    },
    {
     "name": "stderr",
     "output_type": "stream",
     "text": [
      "Processing Movies:  98%|███████████████████████████████████████████████████████▌ | 1059/1086 [2:13:20<01:59,  4.41s/it]"
     ]
    },
    {
     "name": "stdout",
     "output_type": "stream",
     "text": [
      "검색할 영화 이름: 페임\n",
      "검색 결과 1번째 항목 확인\n"
     ]
    },
    {
     "name": "stderr",
     "output_type": "stream",
     "text": [
      "Processing Movies:  98%|███████████████████████████████████████████████████████▋ | 1060/1086 [2:13:23<01:45,  4.05s/it]"
     ]
    },
    {
     "name": "stdout",
     "output_type": "stream",
     "text": [
      "영화 '페임'의 평점: 평균 별점\n",
      "(5.6만명)\n",
      "검색할 영화 이름: 부다페스트 로큰롤\n",
      "검색 결과 1번째 항목 확인\n"
     ]
    },
    {
     "name": "stderr",
     "output_type": "stream",
     "text": [
      "Processing Movies:  98%|███████████████████████████████████████████████████████▋ | 1061/1086 [2:13:26<01:35,  3.81s/it]"
     ]
    },
    {
     "name": "stdout",
     "output_type": "stream",
     "text": [
      "영화 '부다페스트 로큰롤'의 평점: 평균 별점\n",
      "(251명)\n",
      "검색할 영화 이름: 오페라-카르멘(메트로폴리탄)\n",
      "검색 결과 1번째 항목 확인\n",
      "내부 에러 발생: Message: \n",
      "Stacktrace:\n",
      "\tGetHandleVerifier [0x005CB8E3+45827]\n",
      "\t(No symbol) [0x0055DCC4]\n",
      "\t(No symbol) [0x0045150F]\n",
      "\t(No symbol) [0x004920BC]\n",
      "\t(No symbol) [0x0049216B]\n",
      "\t(No symbol) [0x004CE0F2]\n",
      "\t(No symbol) [0x004B2E44]\n",
      "\t(No symbol) [0x004CC034]\n",
      "\t(No symbol) [0x004B2B96]\n",
      "\t(No symbol) [0x00486998]\n",
      "\t(No symbol) [0x0048751D]\n",
      "\tGetHandleVerifier [0x00884513+2899763]\n",
      "\tGetHandleVerifier [0x008D793D+3240797]\n",
      "\tGetHandleVerifier [0x006513B4+593364]\n",
      "\tGetHandleVerifier [0x006582DC+621820]\n",
      "\t(No symbol) [0x005670A4]\n",
      "\t(No symbol) [0x005637A8]\n",
      "\t(No symbol) [0x00563947]\n",
      "\t(No symbol) [0x005559FE]\n",
      "\tBaseThreadInitThunk [0x753D7BA9+25]\n",
      "\tRtlInitializeExceptionChain [0x7775BE3B+107]\n",
      "\tRtlClearBits [0x7775BDBF+191]\n",
      "\n",
      "검색 결과 2번째 항목 확인\n",
      "내부 에러 발생: Message: \n",
      "Stacktrace:\n",
      "\tGetHandleVerifier [0x005CB8E3+45827]\n",
      "\t(No symbol) [0x0055DCC4]\n",
      "\t(No symbol) [0x0045150F]\n",
      "\t(No symbol) [0x004920BC]\n",
      "\t(No symbol) [0x0049216B]\n",
      "\t(No symbol) [0x004CE0F2]\n",
      "\t(No symbol) [0x004B2E44]\n",
      "\t(No symbol) [0x004CC034]\n",
      "\t(No symbol) [0x004B2B96]\n",
      "\t(No symbol) [0x00486998]\n",
      "\t(No symbol) [0x0048751D]\n",
      "\tGetHandleVerifier [0x00884513+2899763]\n",
      "\tGetHandleVerifier [0x008D793D+3240797]\n",
      "\tGetHandleVerifier [0x006513B4+593364]\n",
      "\tGetHandleVerifier [0x006582DC+621820]\n",
      "\t(No symbol) [0x005670A4]\n",
      "\t(No symbol) [0x005637A8]\n",
      "\t(No symbol) [0x00563947]\n",
      "\t(No symbol) [0x005559FE]\n",
      "\tBaseThreadInitThunk [0x753D7BA9+25]\n",
      "\tRtlInitializeExceptionChain [0x7775BE3B+107]\n",
      "\tRtlClearBits [0x7775BDBF+191]\n",
      "\n"
     ]
    },
    {
     "name": "stderr",
     "output_type": "stream",
     "text": [
      "Processing Movies:  98%|███████████████████████████████████████████████████████▋ | 1062/1086 [2:14:02<05:21, 13.40s/it]"
     ]
    },
    {
     "name": "stdout",
     "output_type": "stream",
     "text": [
      "검색할 영화 이름: 스위니 토드 : 어느 잔혹한 이발사 이야기\n",
      "검색 결과 1번째 항목 확인\n"
     ]
    },
    {
     "name": "stderr",
     "output_type": "stream",
     "text": [
      "Processing Movies:  98%|███████████████████████████████████████████████████████▊ | 1063/1086 [2:14:05<03:58, 10.36s/it]"
     ]
    },
    {
     "name": "stdout",
     "output_type": "stream",
     "text": [
      "영화 '스위니 토드 : 어느 잔혹한 이발사 이야기'의 평점: 평균 별점\n",
      "(13.3만명)\n",
      "검색할 영화 이름: 바흐 이전의 침묵\n",
      "검색 결과 1번째 항목 확인\n"
     ]
    },
    {
     "name": "stderr",
     "output_type": "stream",
     "text": [
      "Processing Movies:  98%|███████████████████████████████████████████████████████▊ | 1064/1086 [2:14:09<03:01,  8.23s/it]"
     ]
    },
    {
     "name": "stdout",
     "output_type": "stream",
     "text": [
      "영화 '바흐 이전의 침묵'의 평점: 평균 별점\n",
      "(393명)\n",
      "검색할 영화 이름: 네이키드 보이즈 싱잉\n",
      "검색 결과 1번째 항목 확인\n"
     ]
    },
    {
     "name": "stderr",
     "output_type": "stream",
     "text": [
      "Processing Movies:  98%|███████████████████████████████████████████████████████▉ | 1065/1086 [2:14:12<02:21,  6.74s/it]"
     ]
    },
    {
     "name": "stdout",
     "output_type": "stream",
     "text": [
      "영화 '네이키드 보이즈 싱잉'의 평점: 평균 별점\n",
      "(30명)\n",
      "검색할 영화 이름: 삼거리극장\n",
      "검색 결과 1번째 항목 확인\n"
     ]
    },
    {
     "name": "stderr",
     "output_type": "stream",
     "text": [
      "Processing Movies:  98%|███████████████████████████████████████████████████████▉ | 1066/1086 [2:14:15<01:53,  5.69s/it]"
     ]
    },
    {
     "name": "stdout",
     "output_type": "stream",
     "text": [
      "영화 '삼거리극장'의 평점: 평균 별점\n",
      "(1.5만명)\n",
      "검색할 영화 이름: 렌트\n",
      "검색 결과 1번째 항목 확인\n"
     ]
    },
    {
     "name": "stderr",
     "output_type": "stream",
     "text": [
      "Processing Movies:  98%|████████████████████████████████████████████████████████ | 1067/1086 [2:14:18<01:34,  4.96s/it]"
     ]
    },
    {
     "name": "stdout",
     "output_type": "stream",
     "text": [
      "영화 '렌트'의 평점: 평균 별점\n",
      "(3.0만명)\n",
      "검색할 영화 이름: 퍼햅스 러브\n",
      "검색 결과 1번째 항목 확인\n"
     ]
    },
    {
     "name": "stderr",
     "output_type": "stream",
     "text": [
      "Processing Movies:  98%|████████████████████████████████████████████████████████ | 1068/1086 [2:14:22<01:20,  4.44s/it]"
     ]
    },
    {
     "name": "stdout",
     "output_type": "stream",
     "text": [
      "영화 '퍼햅스 러브'의 평점: 평균 별점\n",
      "(2,735명)\n",
      "검색할 영화 이름: 흔들리는 구름\n",
      "검색 결과 1번째 항목 확인\n"
     ]
    },
    {
     "name": "stderr",
     "output_type": "stream",
     "text": [
      "Processing Movies:  98%|████████████████████████████████████████████████████████ | 1069/1086 [2:14:25<01:09,  4.09s/it]"
     ]
    },
    {
     "name": "stdout",
     "output_type": "stream",
     "text": [
      "영화 '흔들리는 구름'의 평점: 평균 별점\n",
      "(7,296명)\n",
      "검색할 영화 이름: 오페라의 유령\n",
      "검색 결과 1번째 항목 확인\n"
     ]
    },
    {
     "name": "stderr",
     "output_type": "stream",
     "text": [
      "Processing Movies:  99%|████████████████████████████████████████████████████████▏| 1070/1086 [2:14:29<01:06,  4.13s/it]"
     ]
    },
    {
     "name": "stdout",
     "output_type": "stream",
     "text": [
      "영화 '오페라의 유령'의 평점: 평균 별점\n",
      "(27.1만명)\n",
      "검색할 영화 이름: 헤드윅\n",
      "검색 결과 1번째 항목 확인\n"
     ]
    },
    {
     "name": "stderr",
     "output_type": "stream",
     "text": [
      "Processing Movies:  99%|████████████████████████████████████████████████████████▏| 1071/1086 [2:14:32<00:58,  3.87s/it]"
     ]
    },
    {
     "name": "stdout",
     "output_type": "stream",
     "text": [
      "영화 '헤드윅'의 평점: 평균 별점\n",
      "(14.5만명)\n",
      "검색할 영화 이름: 시카고\n",
      "검색 결과 1번째 항목 확인\n"
     ]
    },
    {
     "name": "stderr",
     "output_type": "stream",
     "text": [
      "Processing Movies:  99%|████████████████████████████████████████████████████████▎| 1072/1086 [2:14:36<00:51,  3.68s/it]"
     ]
    },
    {
     "name": "stdout",
     "output_type": "stream",
     "text": [
      "영화 '시카고'의 평점: 평균 별점\n",
      "(21.7만명)\n",
      "검색할 영화 이름: 토스카\n",
      "검색 결과 1번째 항목 확인\n",
      "검색 결과 2번째 항목 확인\n",
      "검색 결과 3번째 항목 확인\n"
     ]
    },
    {
     "name": "stderr",
     "output_type": "stream",
     "text": [
      "Processing Movies:  99%|████████████████████████████████████████████████████████▎| 1073/1086 [2:14:45<01:10,  5.41s/it]"
     ]
    },
    {
     "name": "stdout",
     "output_type": "stream",
     "text": [
      "영화 '토스카'의 평점: 평균 별점\n",
      "(10명)\n",
      "검색할 영화 이름: 피노키오의 모험\n",
      "검색 결과 1번째 항목 확인\n"
     ]
    },
    {
     "name": "stderr",
     "output_type": "stream",
     "text": [
      "Processing Movies:  99%|████████████████████████████████████████████████████████▎| 1074/1086 [2:14:48<00:57,  4.75s/it]"
     ]
    },
    {
     "name": "stdout",
     "output_type": "stream",
     "text": [
      "영화 '피노키오의 모험'의 평점: 평균 별점\n",
      "(97명)\n",
      "검색할 영화 이름: 춤추는 무뚜\n",
      "검색 결과 1번째 항목 확인\n"
     ]
    },
    {
     "name": "stderr",
     "output_type": "stream",
     "text": [
      "Processing Movies:  99%|████████████████████████████████████████████████████████▍| 1075/1086 [2:14:51<00:47,  4.28s/it]"
     ]
    },
    {
     "name": "stdout",
     "output_type": "stream",
     "text": [
      "영화 '춤추는 무뚜'의 평점: 평균 별점\n",
      "(379명)\n",
      "검색할 영화 이름: 카르멘 90\n"
     ]
    },
    {
     "name": "stderr",
     "output_type": "stream",
     "text": [
      "Processing Movies:  99%|████████████████████████████████████████████████████████▍| 1076/1086 [2:14:56<00:42,  4.26s/it]"
     ]
    },
    {
     "name": "stdout",
     "output_type": "stream",
     "text": [
      "검색할 영화 이름: 그리스\n",
      "검색 결과 1번째 항목 확인\n",
      "검색 결과 2번째 항목 확인\n",
      "검색 결과 3번째 항목 확인\n"
     ]
    },
    {
     "name": "stderr",
     "output_type": "stream",
     "text": [
      "Processing Movies:  99%|████████████████████████████████████████████████████████▌| 1077/1086 [2:15:05<00:52,  5.82s/it]"
     ]
    },
    {
     "name": "stdout",
     "output_type": "stream",
     "text": [
      "영화 '그리스'의 평점: 평균 별점\n",
      "(2.4만명)\n",
      "검색할 영화 이름: 그대 변치 마오\n",
      "검색 결과 1번째 항목 확인\n"
     ]
    },
    {
     "name": "stderr",
     "output_type": "stream",
     "text": [
      "Processing Movies:  99%|████████████████████████████████████████████████████████▌| 1078/1086 [2:15:08<00:40,  5.04s/it]"
     ]
    },
    {
     "name": "stdout",
     "output_type": "stream",
     "text": [
      "영화 '그대 변치 마오'의 평점: 평균 별점\n",
      "(4명)\n",
      "검색할 영화 이름: 천사의 메아리\n",
      "검색 결과 1번째 항목 확인\n"
     ]
    },
    {
     "name": "stderr",
     "output_type": "stream",
     "text": [
      "Processing Movies:  99%|████████████████████████████████████████████████████████▋| 1079/1086 [2:15:12<00:31,  4.49s/it]"
     ]
    },
    {
     "name": "stdout",
     "output_type": "stream",
     "text": [
      "영화 '천사의 메아리'의 평점: 평균 별점\n",
      "(1명)\n",
      "검색할 영화 이름: 포터부인의 사랑\n"
     ]
    },
    {
     "name": "stderr",
     "output_type": "stream",
     "text": [
      "Processing Movies:  99%|████████████████████████████████████████████████████████▋| 1080/1086 [2:15:16<00:26,  4.41s/it]"
     ]
    },
    {
     "name": "stdout",
     "output_type": "stream",
     "text": [
      "검색할 영화 이름: 지붕 위의 바이올린\n",
      "검색 결과 1번째 항목 확인\n"
     ]
    },
    {
     "name": "stderr",
     "output_type": "stream",
     "text": [
      "Processing Movies: 100%|████████████████████████████████████████████████████████▋| 1081/1086 [2:15:19<00:20,  4.06s/it]"
     ]
    },
    {
     "name": "stdout",
     "output_type": "stream",
     "text": [
      "영화 '지붕 위의 바이올린'의 평점: 평균 별점\n",
      "(1,419명)\n",
      "검색할 영화 이름: 송 오브 노르웨이\n",
      "검색 결과 1번째 항목 확인\n"
     ]
    },
    {
     "name": "stderr",
     "output_type": "stream",
     "text": [
      "Processing Movies: 100%|████████████████████████████████████████████████████████▊| 1082/1086 [2:15:22<00:15,  3.81s/it]"
     ]
    },
    {
     "name": "stdout",
     "output_type": "stream",
     "text": [
      "영화 '송 오브 노르웨이'의 평점: 평균 별점\n",
      "(17명)\n",
      "검색할 영화 이름: 화월춘야\n"
     ]
    },
    {
     "name": "stderr",
     "output_type": "stream",
     "text": [
      "Processing Movies: 100%|████████████████████████████████████████████████████████▊| 1083/1086 [2:15:26<00:11,  3.93s/it]"
     ]
    },
    {
     "name": "stdout",
     "output_type": "stream",
     "text": [
      "검색할 영화 이름: 비바 라스베가스\n",
      "검색 결과 1번째 항목 확인\n"
     ]
    },
    {
     "name": "stderr",
     "output_type": "stream",
     "text": [
      "Processing Movies: 100%|████████████████████████████████████████████████████████▉| 1084/1086 [2:15:30<00:07,  3.96s/it]"
     ]
    },
    {
     "name": "stdout",
     "output_type": "stream",
     "text": [
      "영화 '비바 라스베가스'의 평점: 평균 별점\n",
      "(95명)\n",
      "검색할 영화 이름: 웨스트 사이드 스토리\n",
      "검색 결과 1번째 항목 확인\n"
     ]
    },
    {
     "name": "stderr",
     "output_type": "stream",
     "text": [
      "Processing Movies: 100%|████████████████████████████████████████████████████████▉| 1085/1086 [2:15:34<00:03,  3.75s/it]"
     ]
    },
    {
     "name": "stdout",
     "output_type": "stream",
     "text": [
      "영화 '웨스트 사이드 스토리'의 평점: 평균 별점\n",
      "(1.1만명)\n",
      "검색할 영화 이름: 장미의 곡\n",
      "검색 결과 1번째 항목 확인\n"
     ]
    },
    {
     "name": "stderr",
     "output_type": "stream",
     "text": [
      "Processing Movies: 100%|█████████████████████████████████████████████████████████| 1086/1086 [2:15:37<00:00,  7.49s/it]"
     ]
    },
    {
     "name": "stdout",
     "output_type": "stream",
     "text": [
      "영화 '장미의 곡'의 평점: 평균 별점\n",
      "(1명)\n"
     ]
    },
    {
     "name": "stderr",
     "output_type": "stream",
     "text": [
      "\n",
      "C:\\Users\\User\\AppData\\Local\\Temp\\ipykernel_23312\\1884168374.py:105: SettingWithCopyWarning: \n",
      "A value is trying to be set on a copy of a slice from a DataFrame.\n",
      "Try using .loc[row_indexer,col_indexer] = value instead\n",
      "\n",
      "See the caveats in the documentation: https://pandas.pydata.org/pandas-docs/stable/user_guide/indexing.html#returning-a-view-versus-a-copy\n",
      "  subset_movie_df.loc[:, 'Watcha_Average'] = watch_aver  # watch_aver를 subset_movie_df에 추가\n"
     ]
    }
   ],
   "source": [
    "# 엑셀 파일 읽기\n",
    "movie_df = pd.read_excel('Movie_DateBase.xlsx')\n",
    "\n",
    "# 인덱스 범위 지정\n",
    "index_ranges = [(3500, 4585+1)]  # 예시: 인덱스 범위를 원하는대로 설정\n",
    "start_idx, end_idx = index_ranges[0]  # 사용하고자 하는 인덱스 범위\n",
    "\n",
    "# 웹 드라이버 실행\n",
    "driver = webdriver.Chrome(service=ChromeService(ChromeDriverManager().install()))\n",
    "\n",
    "# 와챠피디아 URL로 이동\n",
    "url = 'https://pedia.watcha.com/ko-KR'\n",
    "driver.get(url)\n",
    "time.sleep(1)\n",
    "# \n",
    "# 해당 범위의 영화 데이터프레임 선택\n",
    "subset_movie_df = movie_df[3500:4585+1]\n",
    "\n",
    "# 해당 범위의 영화 별점 검색 및 저장\n",
    "watch_aver = []  # 영화 별점을 저장할 리스트 초기화\n",
    "\n",
    "try:\n",
    "    for movie_name in tqdm(subset_movie_df['Name'], desc=\"Processing Movies\"):\n",
    "        print(f\"검색할 영화 이름: {movie_name}\")  # 디버깅을 위한 로그\n",
    "\n",
    "        # 와챠피디아 검색창 찾기\n",
    "        search_field = WebDriverWait(driver, 10).until(\n",
    "            EC.presence_of_element_located((By.XPATH, '//*[@id=\"desktop-search-field\"]'))\n",
    "        )\n",
    "        search_field.clear()  # 이전 입력값 지우기\n",
    "        search_field.send_keys(movie_name)  # 검색창에 영화 이름 입력\n",
    "        search_field.send_keys(Keys.ENTER)  # Enter 키로 검색 실행\n",
    "        time.sleep(2)  # 다음 작업을 위해 2초 대기\n",
    "\n",
    "        found_movie = False\n",
    "        a = len(driver.find_elements(By.XPATH, '//*[@id=\"root\"]/div/div[1]/section/section/div[3]/div[1]/section/section[2]/div/div[1]/div/ul/li/a'))\n",
    "\n",
    "        if a >= 10:\n",
    "            a = 10\n",
    "\n",
    "        for i in range(1, a + 1):\n",
    "            try:\n",
    "                print(f\"검색 결과 {i}번째 항목 확인\")  # 디버깅을 위한 로그\n",
    "\n",
    "                # 영화 링크가 존재하는지 확인 \n",
    "                movie_link = WebDriverWait(driver, 20).until(\n",
    "                    EC.element_to_be_clickable((By.XPATH, f'//*[@id=\"root\"]/div/div[1]/section/section/div[3]/div[1]/section/section[1]/div/div[1]/div/ul/li[{i}]/a'))\n",
    "                )\n",
    "                movie_link.click()\n",
    "                time.sleep(1)  # 화면 전환되어 다음작업을 수행할 여유시간을 1초간 부여\n",
    "\n",
    "                # 와챠피디아의 해당 영화 제목을 변수로 지정\n",
    "                movie_title_element = WebDriverWait(driver, 10).until(\n",
    "                    EC.presence_of_element_located((By.XPATH, '//*[@id=\"root\"]/div/div[1]/section/div/div[2]/div/div[1]/div/div[1]/div[4]/div/h1'))\n",
    "                )\n",
    "                movie_title = movie_title_element.text.replace(\" \", \"\").split(\"(\")[0]\n",
    "\n",
    "                # 와챠피디아의 평균별점 text를 변수로 저장 \n",
    "                aver_text = WebDriverWait(driver, 10).until(\n",
    "                    EC.presence_of_element_located((By.XPATH, '//*[@id=\"root\"]/div/div[1]/section/div/div[2]/div/div[1]/div/div[2]/section[1]/div[2]/section[1]/div[2]/div/div[2]'))\n",
    "                ).text\n",
    "\n",
    "                # 영화제목이 엑셀 데이터의 영화이름과 일치할 경우\n",
    "                if movie_title == movie_name.replace(\" \", \"\"):\n",
    "                    movie_aver_element = WebDriverWait(driver, 10).until(\n",
    "                        EC.presence_of_element_located((By.XPATH, '//*[@id=\"root\"]/div/div[1]/section/div/div[2]/div/div[1]/div/div[2]/section[1]/div[2]/section[1]/div[2]/div/div[2]'))\n",
    "                    )  # 와챠피디아 평균별점 xpath를 변수로 저장\n",
    "                    movie_aver = movie_aver_element.text  # 평균점수를 변수로 저장\n",
    "\n",
    "                    print(f\"영화 '{movie_name}'의 평점: {movie_aver}\")  # 확인용 \n",
    "                    watch_aver.append(movie_aver)  # watch_aver 변수 리스트에 별점 저장.\n",
    "                    found_movie = True  # 작업 완료 처리\n",
    "                    break  # 포문 수행 break\n",
    "\n",
    "                else:\n",
    "                    driver.back()\n",
    "                    time.sleep(2)  # 화면 전환되어 다음작업을 수행할 수 있도록 여유시간을 2초간 부여\n",
    "\n",
    "            except Exception as inner_e:\n",
    "                print(f\"내부 에러 발생: {inner_e}\")\n",
    "                continue\n",
    "\n",
    "        if not found_movie:\n",
    "            watch_aver.append(\"없음\")  # watch_aver에 '없음'으로 저장\n",
    "\n",
    "            back_to_home = WebDriverWait(driver, 10).until(\n",
    "                EC.element_to_be_clickable((By.XPATH, '//*[@id=\"root\"]/div/div[1]/header/nav/div/div/ul/li'))\n",
    "            )\n",
    "            back_to_home.click()  # 메인화면으로 이동              \n",
    "            time.sleep(2)  # 화면 전환되어 다음작업을 수행할 수 있도록 여유시간을 2초간 부여 \n",
    "\n",
    "except Exception as e:\n",
    "    # 예외가 발생할 경우 오류 메시지 출력\n",
    "    print(f\"에러 발생: {e}\")  # 예상 외의 문제 발생시, 식별할 수 있도록 '에러발생' 메세지 출력\n",
    "    watch_aver.append('없음')  # watch_score 변수 리스트에 '없음'으로 저장\n",
    "    back_to_home = WebDriverWait(driver, 10).until(\n",
    "        EC.element_to_be_clickable((By.XPATH, '//*[@id=\"root\"]/div/div[1]/header/nav/div/div/ul/li' ))  # 와챠피디아 메인화면으로 갈수 있는 xpath 주소\n",
    "    )\n",
    "    back_to_home.click()  # 메인화면으로 이동\n",
    "    time.sleep(2)  # 화면 전환되어 다음작업을 수행할 수 있도록 여유시간을 2초간 부여\n",
    "finally:\n",
    "    driver.quit()  # 드라이버 종료\n",
    "\n",
    "# 결과 저장\n",
    "subset_movie_df.loc[:, 'Watcha_Average'] = watch_aver  # watch_aver를 subset_movie_df에 추가\n",
    "subset_movie_df.to_excel(f\"movie_aver_{start_idx}_{end_idx}.xlsx\", index=False)  # 결과를 엑셀 파일로 저장"
   ]
  },
  {
   "cell_type": "code",
   "execution_count": null,
   "id": "f078dead-87e0-446d-988f-c8ea791e8f4e",
   "metadata": {},
   "outputs": [],
   "source": []
  },
  {
   "cell_type": "code",
   "execution_count": null,
   "id": "07fe7762-c6df-4d89-82d6-3681b213f3d3",
   "metadata": {},
   "outputs": [],
   "source": []
  },
  {
   "cell_type": "code",
   "execution_count": null,
   "id": "42465c30-9e70-42af-9127-ac4cb251a513",
   "metadata": {},
   "outputs": [],
   "source": []
  },
  {
   "cell_type": "code",
   "execution_count": null,
   "id": "dbf48d83-92f0-4a7c-9aa7-c84144d24e3f",
   "metadata": {},
   "outputs": [],
   "source": []
  },
  {
   "cell_type": "code",
   "execution_count": null,
   "id": "413d3a7e-4451-4d7a-946f-9b107df79838",
   "metadata": {},
   "outputs": [],
   "source": []
  },
  {
   "cell_type": "code",
   "execution_count": null,
   "id": "1797e114-e768-411a-9b2b-4e2b3177032e",
   "metadata": {},
   "outputs": [],
   "source": []
  },
  {
   "cell_type": "code",
   "execution_count": null,
   "id": "b1abd018-d8c0-4795-a3b7-7c47c49ac118",
   "metadata": {},
   "outputs": [],
   "source": []
  },
  {
   "cell_type": "code",
   "execution_count": null,
   "id": "8f533240-5a03-4717-9b18-3adb01bce312",
   "metadata": {},
   "outputs": [],
   "source": []
  },
  {
   "cell_type": "code",
   "execution_count": null,
   "id": "25cff647-4212-4870-9306-bf6f4ad7dcb2",
   "metadata": {},
   "outputs": [],
   "source": []
  },
  {
   "cell_type": "code",
   "execution_count": 4,
   "id": "bc5ba9bf",
   "metadata": {
    "scrolled": true
   },
   "outputs": [
    {
     "name": "stderr",
     "output_type": "stream",
     "text": [
      "Processing Movies:   0%|                                                                        | 0/10 [00:00<?, ?it/s]"
     ]
    },
    {
     "name": "stdout",
     "output_type": "stream",
     "text": [
      "검색할 영화 이름: 더 문\n",
      "검색 결과 1번째 항목 확인\n"
     ]
    },
    {
     "name": "stderr",
     "output_type": "stream",
     "text": [
      "Processing Movies:  10%|██████▍                                                         | 1/10 [00:03<00:31,  3.46s/it]"
     ]
    },
    {
     "name": "stdout",
     "output_type": "stream",
     "text": [
      "영화 '더 문'의 평점: 평균 별점\n",
      "(9.9만명)\n",
      "검색할 영화 이름: 타임코드 57\n",
      "검색 결과 1번째 항목 확인\n"
     ]
    },
    {
     "name": "stderr",
     "output_type": "stream",
     "text": [
      "Processing Movies:  20%|████████████▊                                                   | 2/10 [00:06<00:27,  3.38s/it]"
     ]
    },
    {
     "name": "stdout",
     "output_type": "stream",
     "text": [
      "영화 '타임코드 57'의 평점: 평균 별점\n",
      "(53명)\n",
      "검색할 영화 이름: 유랑지구2\n",
      "검색 결과 1번째 항목 확인\n"
     ]
    },
    {
     "name": "stderr",
     "output_type": "stream",
     "text": [
      "Processing Movies:  30%|███████████████████▏                                            | 3/10 [00:10<00:23,  3.33s/it]"
     ]
    },
    {
     "name": "stdout",
     "output_type": "stream",
     "text": [
      "영화 '유랑지구2'의 평점: 평균 별점\n",
      "(542명)\n",
      "검색할 영화 이름: 크리에이터\n",
      "검색 결과 1번째 항목 확인\n"
     ]
    },
    {
     "name": "stderr",
     "output_type": "stream",
     "text": [
      "Processing Movies:  40%|█████████████████████████▌                                      | 4/10 [00:13<00:19,  3.32s/it]"
     ]
    },
    {
     "name": "stdout",
     "output_type": "stream",
     "text": [
      "영화 '크리에이터'의 평점: 평균 별점\n",
      "(9,482명)\n",
      "검색할 영화 이름: 믿거나 말거나, 진짜야\n",
      "검색 결과 1번째 항목 확인\n"
     ]
    },
    {
     "name": "stderr",
     "output_type": "stream",
     "text": [
      "Processing Movies:  50%|████████████████████████████████                                | 5/10 [00:16<00:16,  3.31s/it]"
     ]
    },
    {
     "name": "stdout",
     "output_type": "stream",
     "text": [
      "영화 '믿거나 말거나, 진짜야'의 평점: 평균 별점\n",
      "(576명)\n",
      "검색할 영화 이름: 플래닛\n",
      "검색 결과 1번째 항목 확인\n",
      "검색 결과 2번째 항목 확인\n",
      "검색 결과 3번째 항목 확인\n"
     ]
    },
    {
     "name": "stderr",
     "output_type": "stream",
     "text": [
      "Processing Movies:  60%|██████████████████████████████████████▍                         | 6/10 [00:26<00:21,  5.45s/it]"
     ]
    },
    {
     "name": "stdout",
     "output_type": "stream",
     "text": [
      "영화 '플래닛'의 평점: 평균 별점\n",
      "(280명)\n",
      "검색할 영화 이름: 루비콘\n",
      "검색 결과 1번째 항목 확인\n"
     ]
    },
    {
     "name": "stderr",
     "output_type": "stream",
     "text": [
      "Processing Movies:  70%|████████████████████████████████████████████▊                   | 7/10 [00:29<00:14,  4.73s/it]"
     ]
    },
    {
     "name": "stdout",
     "output_type": "stream",
     "text": [
      "영화 '루비콘'의 평점: 평균 별점\n",
      "(31명)\n",
      "검색할 영화 이름: 아바타 리마스터링\n",
      "검색 결과 1번째 항목 확인\n"
     ]
    },
    {
     "name": "stderr",
     "output_type": "stream",
     "text": [
      "Processing Movies:  80%|███████████████████████████████████████████████████▏            | 8/10 [00:40<00:13,  6.88s/it]"
     ]
    },
    {
     "name": "stdout",
     "output_type": "stream",
     "text": [
      "검색할 영화 이름: 신 울트라맨\n",
      "검색 결과 1번째 항목 확인\n"
     ]
    },
    {
     "name": "stderr",
     "output_type": "stream",
     "text": [
      "Processing Movies:  90%|█████████████████████████████████████████████████████████▌      | 9/10 [00:44<00:05,  5.75s/it]"
     ]
    },
    {
     "name": "stdout",
     "output_type": "stream",
     "text": [
      "영화 '신 울트라맨'의 평점: 평균 별점\n",
      "(477명)\n",
      "검색할 영화 이름: 마인드 유니버스\n",
      "검색 결과 1번째 항목 확인\n"
     ]
    },
    {
     "name": "stderr",
     "output_type": "stream",
     "text": [
      "Processing Movies: 100%|███████████████████████████████████████████████████████████████| 10/10 [00:47<00:00,  4.75s/it]"
     ]
    },
    {
     "name": "stdout",
     "output_type": "stream",
     "text": [
      "영화 '마인드 유니버스'의 평점: 평균 별점\n",
      "(92명)\n"
     ]
    },
    {
     "name": "stderr",
     "output_type": "stream",
     "text": [
      "\n",
      "C:\\Users\\User\\AppData\\Local\\Temp\\ipykernel_23312\\1256011870.py:110: SettingWithCopyWarning: \n",
      "A value is trying to be set on a copy of a slice from a DataFrame.\n",
      "Try using .loc[row_indexer,col_indexer] = value instead\n",
      "\n",
      "See the caveats in the documentation: https://pandas.pydata.org/pandas-docs/stable/user_guide/indexing.html#returning-a-view-versus-a-copy\n",
      "  subset_movie_df['Watcha_Average'] = watch_aver  # watch_aver를 subset_movie_df에 추가\n"
     ]
    },
    {
     "ename": "NameError",
     "evalue": "name 'start_idx' is not defined",
     "output_type": "error",
     "traceback": [
      "\u001b[1;31m---------------------------------------------------------------------------\u001b[0m",
      "\u001b[1;31mNameError\u001b[0m                                 Traceback (most recent call last)",
      "Cell \u001b[1;32mIn[4], line 111\u001b[0m\n\u001b[0;32m    109\u001b[0m \u001b[38;5;66;03m# 결과 저장\u001b[39;00m\n\u001b[0;32m    110\u001b[0m subset_movie_df[\u001b[38;5;124m'\u001b[39m\u001b[38;5;124mWatcha_Average\u001b[39m\u001b[38;5;124m'\u001b[39m] \u001b[38;5;241m=\u001b[39m watch_aver  \u001b[38;5;66;03m# watch_aver를 subset_movie_df에 추가\u001b[39;00m\n\u001b[1;32m--> 111\u001b[0m subset_movie_df\u001b[38;5;241m.\u001b[39mto_excel(\u001b[38;5;124mf\u001b[39m\u001b[38;5;124m\"\u001b[39m\u001b[38;5;124mmovie_aver_\u001b[39m\u001b[38;5;132;01m{\u001b[39;00mstart_idx\u001b[38;5;132;01m}\u001b[39;00m\u001b[38;5;124m_\u001b[39m\u001b[38;5;132;01m{\u001b[39;00mend_idx\u001b[38;5;132;01m}\u001b[39;00m\u001b[38;5;124m.xlsx\u001b[39m\u001b[38;5;124m\"\u001b[39m, index\u001b[38;5;241m=\u001b[39m\u001b[38;5;28;01mFalse\u001b[39;00m)\n",
      "\u001b[1;31mNameError\u001b[0m: name 'start_idx' is not defined"
     ]
    }
   ],
   "source": [
    "# # 진석님 \n",
    "# # 엑셀 파일 읽기\n",
    "# movie_df = pd.read_excel('Movie_DateBase.xlsx') \n",
    "\n",
    "# # 인덱스 범위 지정\n",
    "# index_ranges = [(0, 10)]  # 예시: 인덱스 범위를 원하는대로 설정\n",
    "\n",
    "# # 웹 드라이버 실행\n",
    "# driver = webdriver.Chrome(service=ChromeService(ChromeDriverManager().install()))\n",
    "\n",
    "# # 와챠피디아 URL로 이동\n",
    "# url = 'https://pedia.watcha.com/ko-KR'\n",
    "# driver.get(url)\n",
    "# time.sleep(1)\n",
    "\n",
    "\n",
    "\n",
    "# subset_movie_df = movie_df[0:10]  # 해당 범위의 영화 데이터프레임 선택\n",
    "\n",
    "# # 해당 범위의 영화 별점 검색 및 저장\n",
    "# watch_aver = []  # 영화 별점을 저장할 리스트 초기화\n",
    "\n",
    "# try:\n",
    "#     for movie_name in tqdm(subset_movie_df['Name'], desc=\"Processing Movies\"):\n",
    "#         print(f\"검색할 영화 이름: {movie_name}\")  # 디버깅을 위한 로그\n",
    "\n",
    "#         # 와챠피디아 검색창 찾기\n",
    "#         search_field = WebDriverWait(driver, 10).until(\n",
    "#             EC.presence_of_element_located((By.XPATH, '//*[@id=\"desktop-search-field\"]'))\n",
    "#         )\n",
    "#         search_field.clear()  # 이전 입력값 지우기\n",
    "#         search_field.send_keys(movie_name)  # 검색창에 영화 이름 입력\n",
    "#         search_field.send_keys(Keys.ENTER)  # Enter 키로 검색 실행\n",
    "#         time.sleep(2)  # 다음 작업을 위해 2초 대기\n",
    "\n",
    "#         found_movie = False\n",
    "#         a = len(driver.find_elements(By.XPATH, '//*[@id=\"root\"]/div/div[1]/section/section/div[3]/div[1]/section/section[2]/div/div[1]/div/ul/li/a'))\n",
    "        \n",
    "#         if a >= 10 :\n",
    "#             a = 10\n",
    "            \n",
    "#         for i in range(1, a+1):\n",
    "#             try:\n",
    "#                 print(f\"검색 결과 {i}번째 항목 확인\")  # 디버깅을 위한 로그\n",
    "\n",
    "#                 # 영화 링크가 존재하는지 확인 \n",
    "#                 movie_link = WebDriverWait(driver, 20).until(\n",
    "#                     EC.element_to_be_clickable((By.XPATH, f'//*[@id=\"root\"]/div/div[1]/section/section/div[3]/div[1]/section/section[1]/div/div[1]/div/ul/li[{i}]/a'))\n",
    "#                 )\n",
    "#                 movie_link.click()\n",
    "#                 time.sleep(1)  # 화면 전환되어 다음작업을 수행할 여유시간을 1초간 부여\n",
    "\n",
    "#                 # 와챠피디아의 해당 영화 제목을 변수로 지정\n",
    "#                 movie_title_element = WebDriverWait(driver, 10).until(\n",
    "#                     EC.presence_of_element_located((By.XPATH, '//*[@id=\"root\"]/div/div[1]/section/div/div[2]/div/div[1]/div/div[1]/div[4]/div/h1'))\n",
    "#                 )\n",
    "#                 movie_title = movie_title_element.text.replace(\" \", \"\").split(\"(\")[0]  \n",
    "#                 # 영화제목의 띄어쓰기를 없애고, '('가 있다면 그 앞쪽text만 변수로 다시 지정\n",
    "#                 #time.sleep(1)\n",
    "\n",
    "#                 # 와챠피디아의 평균별점 text를 변수로 저장 \n",
    "#                 aver_text = WebDriverWait(driver, 10).until(\n",
    "#                     EC.presence_of_element_located((By.XPATH, '//*[@id=\"root\"]/div/div[1]/section/div/div[2]/div/div[1]/div/div[2]/section[1]/div[2]/section[1]/div[2]/div/div[2]'))\n",
    "#                 ).text\n",
    "#                 #time.sleep(2)\n",
    "\n",
    "#                 # 영화제목이 엑셀 데이터의 영화이름과 일치할 경우\n",
    "#                 if movie_title == movie_name.replace(\" \", \"\"):\n",
    "#                     movie_aver_element = WebDriverWait(driver, 10).until(\n",
    "#                         EC.presence_of_element_located((By.XPATH, '//*[@id=\"root\"]/div/div[1]/section/div/div[2]/div/div[1]/div/div[2]/section[1]/div[2]/section[1]/div[2]/div/div[2]'))\n",
    "#                     )  # 와챠피디아 평균별점 xpath를 변수로 저장\n",
    "#                     movie_aver = movie_aver_element.text  # 평균점수를 변수로 저장\n",
    "#                     #time.sleep(1)\n",
    "\n",
    "#                     print(f\"영화 '{movie_name}'의 평점: {movie_aver}\")  # 확인용 \n",
    "#                     watch_aver.append(movie_aver)  # watch_aver 변수 리스트에 별점 저장.\n",
    "#                     found_movie = True  # 작업 완료 처리\n",
    "#                     break  # 포문 수행 break\n",
    "\n",
    "#                 else:\n",
    "#                     driver.back()\n",
    "#                     time.sleep(2)  # 화면 전환되어 다음작업을 수행할 수 있도록 여유시간을 2초간 부여\n",
    "\n",
    "#             except Exception as inner_e:\n",
    "#                 print(f\"내부 에러 발생\")\n",
    "#                 continue\n",
    "\n",
    "#         if not found_movie:\n",
    "#             watch_aver.append(\"없음\")  # watch_aver에 '없음'으로 저장\n",
    "\n",
    "#             back_to_home = WebDriverWait(driver, 10).until(\n",
    "#                 EC.element_to_be_clickable((By.XPATH, '//*[@id=\"root\"]/div/div[1]/header/nav/div/div/ul/li'))\n",
    "#             )\n",
    "#             back_to_home.click()  # 메인화면으로 이동              \n",
    "#             time.sleep(2)  # 화면 전환되어 다음작업을 수행할 수 있도록 여유시간을 2초간 부여 \n",
    "\n",
    "# except Exception as e:\n",
    "#     # 예외가 발생할 경우 오류 메시지 출력\n",
    "#     print(f\"에러 발생: {e}\")  # 예상 외의 문제 발생시, 식별할 수 있도록 '에러발생' 메세지 출력\n",
    "#     watch_aver.append('없음')  # watch_score 변수 리스트에 '없음'으로 저장\n",
    "#     back_to_home = WebDriverWait(driver, 10).until(\n",
    "#         EC.element_to_be_clickable((By.XPATH, '//*[@id=\"root\"]/div/div[1]/header/nav/div/div/ul/li' ))  # 와챠피디아 메인화면으로 갈수 있는 xpath 주소\n",
    "#     )\n",
    "#     back_to_home.click()  # 메인화면으로 이동\n",
    "#     time.sleep(2)  # 화면 전환되어 다음작업을 수행할 수 있도록 여유시간을 2초간 부여\n",
    "# finally:\n",
    "#     driver.quit()  # 드라이버 종료\n",
    "\n",
    "# # 결과 저장\n",
    "# subset_movie_df['Watcha_Average'] = watch_aver  # watch_aver를 subset_movie_df에 추가\n",
    "# subset_movie_df.to_excel(f\"movie_aver_{start_idx}_{end_idx}.xlsx\", index=False)  # 결과를 엑셀 파일로 저장"
   ]
  },
  {
   "cell_type": "code",
   "execution_count": null,
   "id": "dee3142b-e3d8-4594-bcbc-d948190d6143",
   "metadata": {},
   "outputs": [],
   "source": []
  }
 ],
 "metadata": {
  "kernelspec": {
   "display_name": "Python 3 (ipykernel)",
   "language": "python",
   "name": "python3"
  },
  "language_info": {
   "codemirror_mode": {
    "name": "ipython",
    "version": 3
   },
   "file_extension": ".py",
   "mimetype": "text/x-python",
   "name": "python",
   "nbconvert_exporter": "python",
   "pygments_lexer": "ipython3",
   "version": "3.11.9"
  }
 },
 "nbformat": 4,
 "nbformat_minor": 5
}
