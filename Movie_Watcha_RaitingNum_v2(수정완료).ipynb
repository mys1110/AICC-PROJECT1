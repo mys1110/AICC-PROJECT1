{
 "cells": [
  {
   "cell_type": "code",
   "execution_count": 2,
   "id": "1bc0191b",
   "metadata": {},
   "outputs": [],
   "source": [
    "# 라이브러리 \n",
    "from selenium import webdriver\n",
    "from selenium.webdriver.common.by import By\n",
    "from selenium.webdriver.common.keys import Keys\n",
    "from selenium.webdriver.support.ui import WebDriverWait\n",
    "from selenium.webdriver.support import expected_conditions as EC\n",
    "\n",
    "\n",
    "from selenium.webdriver.chrome.service import Service as ChromeService\n",
    "from webdriver_manager.chrome import ChromeDriverManager\n",
    "\n",
    "\n",
    "from tqdm.notebook import tqdm\n",
    "from tqdm import tqdm\n",
    "import time\n",
    "import pandas as pd "
   ]
  },
  {
   "cell_type": "code",
   "execution_count": 3,
   "id": "bc5ba9bf",
   "metadata": {},
   "outputs": [
    {
     "name": "stderr",
     "output_type": "stream",
     "text": [
      "\r",
      "Processing Movies:   0%|                                                                       | 0/999 [00:00<?, ?it/s]"
     ]
    },
    {
     "name": "stdout",
     "output_type": "stream",
     "text": [
      "검색할 영화 이름: 꿈꾸는 나비\n",
      "검색 결과 1번째 항목 확인\n"
     ]
    },
    {
     "name": "stderr",
     "output_type": "stream",
     "text": [
      "\r",
      "Processing Movies:   0%|                                                               | 1/999 [00:03<58:34,  3.52s/it]"
     ]
    },
    {
     "name": "stdout",
     "output_type": "stream",
     "text": [
      "영화 '꿈꾸는 나비'의 평점: 평균 별점\n",
      "(25명)\n",
      "검색할 영화 이름: 클로버필드 10번지\n",
      "검색 결과 1번째 항목 확인\n"
     ]
    },
    {
     "name": "stderr",
     "output_type": "stream",
     "text": [
      "\r",
      "Processing Movies:   0%|▏                                                              | 2/999 [00:06<57:50,  3.48s/it]"
     ]
    },
    {
     "name": "stdout",
     "output_type": "stream",
     "text": [
      "영화 '클로버필드 10번지'의 평점: 평균 별점\n",
      "(8.6만명)\n",
      "검색할 영화 이름: 곡성\n",
      "검색 결과 1번째 항목 확인\n"
     ]
    },
    {
     "name": "stderr",
     "output_type": "stream",
     "text": [
      "\r",
      "Processing Movies:   0%|▏                                                              | 3/999 [00:10<58:12,  3.51s/it]"
     ]
    },
    {
     "name": "stdout",
     "output_type": "stream",
     "text": [
      "영화 '곡성'의 평점: 평균 별점\n",
      "(45.6만명)\n",
      "검색할 영화 이름: 나인스 라이프\n",
      "검색 결과 1번째 항목 확인\n"
     ]
    },
    {
     "name": "stderr",
     "output_type": "stream",
     "text": [
      "\r",
      "Processing Movies:   0%|▎                                                              | 4/999 [00:13<57:52,  3.49s/it]"
     ]
    },
    {
     "name": "stdout",
     "output_type": "stream",
     "text": [
      "영화 '나인스 라이프'의 평점: 평균 별점\n",
      "(2명)\n",
      "검색할 영화 이름: 그렌델\n",
      "검색 결과 1번째 항목 확인\n"
     ]
    },
    {
     "name": "stderr",
     "output_type": "stream",
     "text": [
      "\r",
      "Processing Movies:   1%|▎                                                              | 5/999 [00:17<57:33,  3.47s/it]"
     ]
    },
    {
     "name": "stdout",
     "output_type": "stream",
     "text": [
      "영화 '그렌델'의 평점: 평균 별점\n",
      "(4명)\n",
      "검색할 영화 이름: 브림스톤\n",
      "검색 결과 1번째 항목 확인\n"
     ]
    },
    {
     "name": "stderr",
     "output_type": "stream",
     "text": [
      "\r",
      "Processing Movies:   1%|▍                                                              | 6/999 [00:20<57:27,  3.47s/it]"
     ]
    },
    {
     "name": "stdout",
     "output_type": "stream",
     "text": [
      "영화 '브림스톤'의 평점: 평균 별점\n",
      "(1,040명)\n",
      "검색할 영화 이름: 미스 페레그린과 이상한 아이들의 집\n",
      "검색 결과 1번째 항목 확인\n"
     ]
    },
    {
     "name": "stderr",
     "output_type": "stream",
     "text": [
      "\r",
      "Processing Movies:   1%|▍                                                              | 7/999 [00:24<57:08,  3.46s/it]"
     ]
    },
    {
     "name": "stdout",
     "output_type": "stream",
     "text": [
      "영화 '미스 페레그린과 이상한 아이들의 집'의 평점: 평균 별점\n",
      "(19.2만명)\n",
      "검색할 영화 이름: 피닉스 라이트 사건\n",
      "검색 결과 1번째 항목 확인\n"
     ]
    },
    {
     "name": "stderr",
     "output_type": "stream",
     "text": [
      "\r",
      "Processing Movies:   1%|▌                                                              | 8/999 [00:27<56:48,  3.44s/it]"
     ]
    },
    {
     "name": "stdout",
     "output_type": "stream",
     "text": [
      "영화 '피닉스 라이트 사건'의 평점: 평균 별점\n",
      "(245명)\n",
      "검색할 영화 이름: 스트레인저랜드\n",
      "검색 결과 1번째 항목 확인\n"
     ]
    },
    {
     "name": "stderr",
     "output_type": "stream",
     "text": [
      "\r",
      "Processing Movies:   1%|▌                                                              | 9/999 [00:31<56:27,  3.42s/it]"
     ]
    },
    {
     "name": "stdout",
     "output_type": "stream",
     "text": [
      "영화 '스트레인저랜드'의 평점: 평균 별점\n",
      "(1,388명)\n",
      "검색할 영화 이름: 시크릿 인 데어 아이즈\n",
      "검색 결과 1번째 항목 확인\n"
     ]
    },
    {
     "name": "stderr",
     "output_type": "stream",
     "text": [
      "\r",
      "Processing Movies:   1%|▌                                                             | 10/999 [00:34<56:15,  3.41s/it]"
     ]
    },
    {
     "name": "stdout",
     "output_type": "stream",
     "text": [
      "영화 '시크릿 인 데어 아이즈'의 평점: 평균 별점\n",
      "(5,574명)\n",
      "검색할 영화 이름: 백트랙\n",
      "검색 결과 1번째 항목 확인\n"
     ]
    },
    {
     "name": "stderr",
     "output_type": "stream",
     "text": [
      "\r",
      "Processing Movies:   1%|▋                                                             | 11/999 [00:37<55:47,  3.39s/it]"
     ]
    },
    {
     "name": "stdout",
     "output_type": "stream",
     "text": [
      "영화 '백트랙'의 평점: 평균 별점\n",
      "(2,852명)\n",
      "검색할 영화 이름: 파라노말 액티비티: 더 고스트 디멘션\n",
      "검색 결과 1번째 항목 확인\n"
     ]
    },
    {
     "name": "stderr",
     "output_type": "stream",
     "text": [
      "\r",
      "Processing Movies:   1%|▋                                                             | 12/999 [00:41<56:35,  3.44s/it]"
     ]
    },
    {
     "name": "stdout",
     "output_type": "stream",
     "text": [
      "영화 '파라노말 액티비티: 더 고스트 디멘션'의 평점: 평균 별점\n",
      "(2,535명)\n",
      "검색할 영화 이름: 얼라이브\n",
      "검색 결과 1번째 항목 확인\n"
     ]
    },
    {
     "name": "stderr",
     "output_type": "stream",
     "text": [
      "\r",
      "Processing Movies:   1%|▊                                                             | 13/999 [00:44<56:10,  3.42s/it]"
     ]
    },
    {
     "name": "stdout",
     "output_type": "stream",
     "text": [
      "영화 '얼라이브'의 평점: 평균 별점\n",
      "(2.0만명)\n",
      "검색할 영화 이름: 무수단\n",
      "검색 결과 1번째 항목 확인\n"
     ]
    },
    {
     "name": "stderr",
     "output_type": "stream",
     "text": [
      "\r",
      "Processing Movies:   1%|▊                                                             | 14/999 [00:48<56:03,  3.42s/it]"
     ]
    },
    {
     "name": "stdout",
     "output_type": "stream",
     "text": [
      "영화 '무수단'의 평점: 평균 별점\n",
      "(1,955명)\n",
      "검색할 영화 이름: 검은 사제들\n",
      "검색 결과 1번째 항목 확인\n"
     ]
    },
    {
     "name": "stderr",
     "output_type": "stream",
     "text": [
      "\r",
      "Processing Movies:   2%|▉                                                             | 15/999 [00:51<55:46,  3.40s/it]"
     ]
    },
    {
     "name": "stdout",
     "output_type": "stream",
     "text": [
      "영화 '검은 사제들'의 평점: 평균 별점\n",
      "(121.9만명)\n",
      "검색할 영화 이름: 솔로몬의 위증 전편: 사건\n",
      "검색 결과 1번째 항목 확인\n"
     ]
    },
    {
     "name": "stderr",
     "output_type": "stream",
     "text": [
      "\r",
      "Processing Movies:   2%|▉                                                             | 16/999 [00:54<55:43,  3.40s/it]"
     ]
    },
    {
     "name": "stdout",
     "output_type": "stream",
     "text": [
      "영화 '솔로몬의 위증 전편: 사건'의 평점: 평균 별점\n",
      "(5,350명)\n",
      "검색할 영화 이름: 고백\n",
      "검색 결과 1번째 항목 확인\n"
     ]
    },
    {
     "name": "stderr",
     "output_type": "stream",
     "text": [
      "\r",
      "Processing Movies:   2%|█                                                             | 17/999 [00:58<56:00,  3.42s/it]"
     ]
    },
    {
     "name": "stdout",
     "output_type": "stream",
     "text": [
      "영화 '고백'의 평점: 평균 별점\n",
      "(11.3만명)\n",
      "검색할 영화 이름: 솔로몬의 위증 후편: 재판\n",
      "검색 결과 1번째 항목 확인\n"
     ]
    },
    {
     "name": "stderr",
     "output_type": "stream",
     "text": [
      "\r",
      "Processing Movies:   2%|█                                                             | 18/999 [01:01<55:42,  3.41s/it]"
     ]
    },
    {
     "name": "stdout",
     "output_type": "stream",
     "text": [
      "영화 '솔로몬의 위증 후편: 재판'의 평점: 평균 별점\n",
      "(4,521명)\n",
      "검색할 영화 이름: 비밀\n",
      "검색 결과 1번째 항목 확인\n",
      "검색 결과 2번째 항목 확인\n",
      "검색 결과 3번째 항목 확인\n",
      "검색 결과 4번째 항목 확인\n",
      "검색 결과 5번째 항목 확인\n"
     ]
    },
    {
     "name": "stderr",
     "output_type": "stream",
     "text": [
      "\r",
      "Processing Movies:   2%|█▏                                                          | 19/999 [01:18<1:58:53,  7.28s/it]"
     ]
    },
    {
     "name": "stdout",
     "output_type": "stream",
     "text": [
      "영화 '비밀'의 평점: 평균 별점\n",
      "(5.5만명)\n",
      "검색할 영화 이름: 더 기프트\n",
      "검색 결과 1번째 항목 확인\n"
     ]
    },
    {
     "name": "stderr",
     "output_type": "stream",
     "text": [
      "\r",
      "Processing Movies:   2%|█▏                                                          | 20/999 [01:21<1:39:49,  6.12s/it]"
     ]
    },
    {
     "name": "stdout",
     "output_type": "stream",
     "text": [
      "영화 '더 기프트'의 평점: 평균 별점\n",
      "(1.7만명)\n",
      "검색할 영화 이름: 날, 보러와요\n",
      "검색 결과 1번째 항목 확인\n"
     ]
    },
    {
     "name": "stderr",
     "output_type": "stream",
     "text": [
      "\r",
      "Processing Movies:   2%|█▎                                                          | 21/999 [01:24<1:26:13,  5.29s/it]"
     ]
    },
    {
     "name": "stdout",
     "output_type": "stream",
     "text": [
      "영화 '날, 보러와요'의 평점: 평균 별점\n",
      "(9.0만명)\n",
      "검색할 영화 이름: 미씽: 사라진 여자\n",
      "검색 결과 1번째 항목 확인\n"
     ]
    },
    {
     "name": "stderr",
     "output_type": "stream",
     "text": [
      "\r",
      "Processing Movies:   2%|█▎                                                          | 22/999 [01:28<1:16:50,  4.72s/it]"
     ]
    },
    {
     "name": "stdout",
     "output_type": "stream",
     "text": [
      "영화 '미씽: 사라진 여자'의 평점: 평균 별점\n",
      "(29.9만명)\n",
      "검색할 영화 이름: 내 아내의 여자\n",
      "검색 결과 1번째 항목 확인\n"
     ]
    },
    {
     "name": "stderr",
     "output_type": "stream",
     "text": [
      "\r",
      "Processing Movies:   2%|█▍                                                          | 23/999 [01:31<1:10:18,  4.32s/it]"
     ]
    },
    {
     "name": "stdout",
     "output_type": "stream",
     "text": [
      "영화 '내 아내의 여자'의 평점: 평균 별점\n",
      "(242명)\n",
      "검색할 영화 이름: 낯선 집\n",
      "검색 결과 1번째 항목 확인\n"
     ]
    },
    {
     "name": "stderr",
     "output_type": "stream",
     "text": [
      "\r",
      "Processing Movies:   2%|█▍                                                          | 24/999 [01:34<1:05:33,  4.03s/it]"
     ]
    },
    {
     "name": "stdout",
     "output_type": "stream",
     "text": [
      "영화 '낯선 집'의 평점: 평균 별점\n",
      "(489명)\n",
      "검색할 영화 이름: 희생부활자\n",
      "검색 결과 1번째 항목 확인\n"
     ]
    },
    {
     "name": "stderr",
     "output_type": "stream",
     "text": [
      "\r",
      "Processing Movies:   3%|█▌                                                          | 25/999 [01:38<1:02:29,  3.85s/it]"
     ]
    },
    {
     "name": "stdout",
     "output_type": "stream",
     "text": [
      "영화 '희생부활자'의 평점: 평균 별점\n",
      "(7,947명)\n",
      "검색할 영화 이름: 나는 증인이다\n",
      "검색 결과 1번째 항목 확인\n"
     ]
    },
    {
     "name": "stderr",
     "output_type": "stream",
     "text": [
      "\r",
      "Processing Movies:   3%|█▌                                                            | 26/999 [01:41<59:44,  3.68s/it]"
     ]
    },
    {
     "name": "stdout",
     "output_type": "stream",
     "text": [
      "영화 '나는 증인이다'의 평점: 평균 별점\n",
      "(898명)\n",
      "검색할 영화 이름: 폴링\n",
      "검색 결과 1번째 항목 확인\n",
      "검색 결과 2번째 항목 확인\n",
      "검색 결과 3번째 항목 확인\n",
      "검색 결과 4번째 항목 확인\n"
     ]
    },
    {
     "name": "stderr",
     "output_type": "stream",
     "text": [
      "\r",
      "Processing Movies:   3%|█▌                                                          | 27/999 [01:54<1:44:53,  6.47s/it]"
     ]
    },
    {
     "name": "stdout",
     "output_type": "stream",
     "text": [
      "영화 '폴링'의 평점: 평균 별점\n",
      "(1,116명)\n",
      "검색할 영화 이름: 경성학교: 사라진 소녀들\n",
      "검색 결과 1번째 항목 확인\n"
     ]
    },
    {
     "name": "stderr",
     "output_type": "stream",
     "text": [
      "\r",
      "Processing Movies:   3%|█▋                                                          | 28/999 [01:58<1:29:56,  5.56s/it]"
     ]
    },
    {
     "name": "stdout",
     "output_type": "stream",
     "text": [
      "영화 '경성학교: 사라진 소녀들'의 평점: 평균 별점\n",
      "(14.7만명)\n",
      "검색할 영화 이름: 맵 투 더 스타\n",
      "검색 결과 1번째 항목 확인\n"
     ]
    },
    {
     "name": "stderr",
     "output_type": "stream",
     "text": [
      "\r",
      "Processing Movies:   3%|█▋                                                          | 29/999 [02:01<1:19:17,  4.90s/it]"
     ]
    },
    {
     "name": "stdout",
     "output_type": "stream",
     "text": [
      "영화 '맵 투 더 스타'의 평점: 평균 별점\n",
      "(4,708명)\n",
      "검색할 영화 이름: 타임 랩스\n",
      "검색 결과 1번째 항목 확인\n"
     ]
    },
    {
     "name": "stderr",
     "output_type": "stream",
     "text": [
      "\r",
      "Processing Movies:   3%|█▊                                                          | 30/999 [02:04<1:11:36,  4.43s/it]"
     ]
    },
    {
     "name": "stdout",
     "output_type": "stream",
     "text": [
      "영화 '타임 랩스'의 평점: 평균 별점\n",
      "(5,056명)\n",
      "검색할 영화 이름: 피해자들\n",
      "검색 결과 1번째 항목 확인\n",
      "검색 결과 2번째 항목 확인\n",
      "검색 결과 3번째 항목 확인\n"
     ]
    },
    {
     "name": "stderr",
     "output_type": "stream",
     "text": [
      "\r",
      "Processing Movies:   3%|█▊                                                          | 31/999 [02:14<1:36:54,  6.01s/it]"
     ]
    },
    {
     "name": "stdout",
     "output_type": "stream",
     "text": [
      "영화 '피해자들'의 평점: 평균 별점\n",
      "(690명)\n",
      "검색할 영화 이름: 히든 아이덴티티\n",
      "검색 결과 1번째 항목 확인\n"
     ]
    },
    {
     "name": "stderr",
     "output_type": "stream",
     "text": [
      "\r",
      "Processing Movies:   3%|█▉                                                          | 32/999 [02:17<1:24:14,  5.23s/it]"
     ]
    },
    {
     "name": "stdout",
     "output_type": "stream",
     "text": [
      "영화 '히든 아이덴티티'의 평점: 평균 별점\n",
      "(4,475명)\n",
      "검색할 영화 이름: 내가 잠들기 전에\n",
      "검색 결과 1번째 항목 확인\n"
     ]
    },
    {
     "name": "stderr",
     "output_type": "stream",
     "text": [
      "\r",
      "Processing Movies:   3%|█▉                                                          | 33/999 [02:21<1:15:02,  4.66s/it]"
     ]
    },
    {
     "name": "stdout",
     "output_type": "stream",
     "text": [
      "영화 '내가 잠들기 전에'의 평점: 평균 별점\n",
      "(7.8만명)\n",
      "검색할 영화 이름: 버진 스노우\n",
      "검색 결과 1번째 항목 확인\n"
     ]
    },
    {
     "name": "stderr",
     "output_type": "stream",
     "text": [
      "\r",
      "Processing Movies:   3%|██                                                          | 34/999 [02:24<1:09:06,  4.30s/it]"
     ]
    },
    {
     "name": "stdout",
     "output_type": "stream",
     "text": [
      "영화 '버진 스노우'의 평점: 평균 별점\n",
      "(3,881명)\n",
      "검색할 영화 이름: 심판자\n",
      "검색 결과 1번째 항목 확인\n",
      "검색 결과 2번째 항목 확인\n",
      "검색 결과 3번째 항목 확인\n"
     ]
    },
    {
     "name": "stderr",
     "output_type": "stream",
     "text": [
      "\r",
      "Processing Movies:   4%|██                                                          | 35/999 [02:34<1:36:44,  6.02s/it]"
     ]
    },
    {
     "name": "stdout",
     "output_type": "stream",
     "text": [
      "영화 '심판자'의 평점: 평균 별점\n",
      "(415명)\n",
      "검색할 영화 이름: 소녀괴담\n",
      "검색 결과 1번째 항목 확인\n"
     ]
    },
    {
     "name": "stderr",
     "output_type": "stream",
     "text": [
      "\r",
      "Processing Movies:   4%|██▏                                                         | 36/999 [02:38<1:23:50,  5.22s/it]"
     ]
    },
    {
     "name": "stdout",
     "output_type": "stream",
     "text": [
      "영화 '소녀괴담'의 평점: 평균 별점\n",
      "(2.0만명)\n",
      "검색할 영화 이름: 플라이트 7500\n",
      "검색 결과 1번째 항목 확인\n"
     ]
    },
    {
     "name": "stderr",
     "output_type": "stream",
     "text": [
      "\r",
      "Processing Movies:   4%|██▏                                                         | 37/999 [02:41<1:15:04,  4.68s/it]"
     ]
    },
    {
     "name": "stdout",
     "output_type": "stream",
     "text": [
      "영화 '플라이트 7500'의 평점: 평균 별점\n",
      "(1,029명)\n",
      "검색할 영화 이름: 야누스: 욕망의 두 얼굴\n",
      "검색 결과 1번째 항목 확인\n"
     ]
    },
    {
     "name": "stderr",
     "output_type": "stream",
     "text": [
      "\r",
      "Processing Movies:   4%|██▎                                                         | 38/999 [02:45<1:09:19,  4.33s/it]"
     ]
    },
    {
     "name": "stdout",
     "output_type": "stream",
     "text": [
      "영화 '야누스: 욕망의 두 얼굴'의 평점: 평균 별점\n",
      "(636명)\n",
      "검색할 영화 이름: 위자\n",
      "검색 결과 1번째 항목 확인\n"
     ]
    },
    {
     "name": "stderr",
     "output_type": "stream",
     "text": [
      "\r",
      "Processing Movies:   4%|██▎                                                         | 39/999 [02:48<1:04:41,  4.04s/it]"
     ]
    },
    {
     "name": "stdout",
     "output_type": "stream",
     "text": [
      "영화 '위자'의 평점: 평균 별점\n",
      "(4,859명)\n",
      "검색할 영화 이름: 학교괴담 : 저주의 언령\n",
      "검색 결과 1번째 항목 확인\n"
     ]
    },
    {
     "name": "stderr",
     "output_type": "stream",
     "text": [
      "\r",
      "Processing Movies:   4%|██▍                                                         | 40/999 [02:56<1:22:43,  5.18s/it]"
     ]
    },
    {
     "name": "stdout",
     "output_type": "stream",
     "text": [
      "검색할 영화 이름: 내일까지 5분전\n",
      "검색 결과 1번째 항목 확인\n"
     ]
    },
    {
     "name": "stderr",
     "output_type": "stream",
     "text": [
      "\r",
      "Processing Movies:   4%|██▍                                                         | 41/999 [02:59<1:14:46,  4.68s/it]"
     ]
    },
    {
     "name": "stdout",
     "output_type": "stream",
     "text": [
      "영화 '내일까지 5분전'의 평점: 평균 별점\n",
      "(836명)\n",
      "검색할 영화 이름: 그랜드 부다페스트 호텔\n",
      "검색 결과 1번째 항목 확인\n"
     ]
    },
    {
     "name": "stderr",
     "output_type": "stream",
     "text": [
      "\r",
      "Processing Movies:   4%|██▌                                                         | 42/999 [03:03<1:08:11,  4.27s/it]"
     ]
    },
    {
     "name": "stdout",
     "output_type": "stream",
     "text": [
      "영화 '그랜드 부다페스트 호텔'의 평점: 평균 별점\n",
      "(52.7만명)\n",
      "검색할 영화 이름: 아일랜드 - 시간을 훔치는 섬\n",
      "검색 결과 1번째 항목 확인\n"
     ]
    },
    {
     "name": "stderr",
     "output_type": "stream",
     "text": [
      "\r",
      "Processing Movies:   4%|██▌                                                         | 43/999 [03:10<1:24:35,  5.31s/it]"
     ]
    },
    {
     "name": "stdout",
     "output_type": "stream",
     "text": [
      "검색할 영화 이름: 백설공주 살인사건\n",
      "검색 결과 1번째 항목 확인\n"
     ]
    },
    {
     "name": "stderr",
     "output_type": "stream",
     "text": [
      "\r",
      "Processing Movies:   4%|██▋                                                         | 44/999 [03:14<1:15:50,  4.76s/it]"
     ]
    },
    {
     "name": "stdout",
     "output_type": "stream",
     "text": [
      "영화 '백설공주 살인사건'의 평점: 평균 별점\n",
      "(2.2만명)\n",
      "검색할 영화 이름: 파일 : 4022일의 사육\n",
      "검색 결과 1번째 항목 확인\n"
     ]
    },
    {
     "name": "stderr",
     "output_type": "stream",
     "text": [
      "Processing Movies:   4%|██▋                                                         | 44/999 [03:17<1:11:30,  4.49s/it]\n"
     ]
    },
    {
     "ename": "KeyboardInterrupt",
     "evalue": "",
     "output_type": "error",
     "traceback": [
      "\u001b[1;31m---------------------------------------------------------------------------\u001b[0m",
      "\u001b[1;31mKeyboardInterrupt\u001b[0m                         Traceback (most recent call last)",
      "Input \u001b[1;32mIn [3]\u001b[0m, in \u001b[0;36m<cell line: 23>\u001b[1;34m()\u001b[0m\n\u001b[0;32m     47\u001b[0m movie_link \u001b[38;5;241m=\u001b[39m WebDriverWait(driver, \u001b[38;5;241m20\u001b[39m)\u001b[38;5;241m.\u001b[39muntil(\n\u001b[0;32m     48\u001b[0m     EC\u001b[38;5;241m.\u001b[39melement_to_be_clickable((By\u001b[38;5;241m.\u001b[39mXPATH, \u001b[38;5;124mf\u001b[39m\u001b[38;5;124m'\u001b[39m\u001b[38;5;124m//*[@id=\u001b[39m\u001b[38;5;124m\"\u001b[39m\u001b[38;5;124mroot\u001b[39m\u001b[38;5;124m\"\u001b[39m\u001b[38;5;124m]/div/div[1]/section/section/div[3]/div[1]/section/section[1]/div/div[1]/div/ul/li[\u001b[39m\u001b[38;5;132;01m{\u001b[39;00mi\u001b[38;5;132;01m}\u001b[39;00m\u001b[38;5;124m]/a\u001b[39m\u001b[38;5;124m'\u001b[39m))\n\u001b[0;32m     49\u001b[0m )\n\u001b[0;32m     50\u001b[0m movie_link\u001b[38;5;241m.\u001b[39mclick()\n\u001b[1;32m---> 51\u001b[0m \u001b[43mtime\u001b[49m\u001b[38;5;241;43m.\u001b[39;49m\u001b[43msleep\u001b[49m\u001b[43m(\u001b[49m\u001b[38;5;241;43m1\u001b[39;49m\u001b[43m)\u001b[49m  \u001b[38;5;66;03m# 화면 전환되어 다음작업을 수행할 여유시간을 1초간 부여\u001b[39;00m\n\u001b[0;32m     53\u001b[0m \u001b[38;5;66;03m# 와챠피디아의 해당 영화 제목을 변수로 지정\u001b[39;00m\n\u001b[0;32m     54\u001b[0m movie_title_element \u001b[38;5;241m=\u001b[39m WebDriverWait(driver, \u001b[38;5;241m10\u001b[39m)\u001b[38;5;241m.\u001b[39muntil(\n\u001b[0;32m     55\u001b[0m     EC\u001b[38;5;241m.\u001b[39mpresence_of_element_located((By\u001b[38;5;241m.\u001b[39mXPATH, \u001b[38;5;124m'\u001b[39m\u001b[38;5;124m//*[@id=\u001b[39m\u001b[38;5;124m\"\u001b[39m\u001b[38;5;124mroot\u001b[39m\u001b[38;5;124m\"\u001b[39m\u001b[38;5;124m]/div/div[1]/section/div/div[2]/div/div[1]/div/div[1]/div[4]/div/h1\u001b[39m\u001b[38;5;124m'\u001b[39m))\n\u001b[0;32m     56\u001b[0m )\n",
      "\u001b[1;31mKeyboardInterrupt\u001b[0m: "
     ]
    }
   ],
   "source": [
    "# 진석님 \n",
    "# 엑셀 파일 읽기\n",
    "movie_df = pd.read_excel('Movie_DateBase.xlsx') \n",
    "\n",
    "# 인덱스 범위 지정\n",
    "index_ranges = [(500, 2000+1)]  # 예시: 인덱스 범위를 원하는대로 설정\n",
    "\n",
    "# 웹 드라이버 실행\n",
    "driver = webdriver.Chrome(service=ChromeService(ChromeDriverManager().install()))\n",
    "\n",
    "# 와챠피디아 URL로 이동\n",
    "url = 'https://pedia.watcha.com/ko-KR'\n",
    "driver.get(url)\n",
    "time.sleep(1)\n",
    "\n",
    "\n",
    "\n",
    "subset_movie_df = movie_df[500:2000+1]  # 해당 범위의 영화 데이터프레임 선택\n",
    "\n",
    "# 해당 범위의 영화 별점 검색 및 저장\n",
    "watch_aver = []  # 영화 별점을 저장할 리스트 초기화\n",
    "\n",
    "try:\n",
    "    for movie_name in tqdm(subset_movie_df['Name'], desc=\"Processing Movies\"):\n",
    "        print(f\"검색할 영화 이름: {movie_name}\")  # 디버깅을 위한 로그\n",
    "\n",
    "        # 와챠피디아 검색창 찾기\n",
    "        search_field = WebDriverWait(driver, 10).until(\n",
    "            EC.presence_of_element_located((By.XPATH, '//*[@id=\"desktop-search-field\"]'))\n",
    "        )\n",
    "        search_field.clear()  # 이전 입력값 지우기\n",
    "        search_field.send_keys(movie_name)  # 검색창에 영화 이름 입력\n",
    "        search_field.send_keys(Keys.ENTER)  # Enter 키로 검색 실행\n",
    "        time.sleep(2)  # 다음 작업을 위해 2초 대기\n",
    "\n",
    "        found_movie = False\n",
    "        a = len(driver.find_elements(By.XPATH, '//*[@id=\"root\"]/div/div[1]/section/section/div[3]/div[1]/section/section[2]/div/div[1]/div/ul/li/a'))\n",
    "        \n",
    "        if a >= 10 :\n",
    "            a = 10\n",
    "            \n",
    "        for i in range(1, a+1):\n",
    "            try:\n",
    "                print(f\"검색 결과 {i}번째 항목 확인\")  # 디버깅을 위한 로그\n",
    "\n",
    "                # 영화 링크가 존재하는지 확인 \n",
    "                movie_link = WebDriverWait(driver, 20).until(\n",
    "                    EC.element_to_be_clickable((By.XPATH, f'//*[@id=\"root\"]/div/div[1]/section/section/div[3]/div[1]/section/section[1]/div/div[1]/div/ul/li[{i}]/a'))\n",
    "                )\n",
    "                movie_link.click()\n",
    "                time.sleep(1)  # 화면 전환되어 다음작업을 수행할 여유시간을 1초간 부여\n",
    "\n",
    "                # 와챠피디아의 해당 영화 제목을 변수로 지정\n",
    "                movie_title_element = WebDriverWait(driver, 10).until(\n",
    "                    EC.presence_of_element_located((By.XPATH, '//*[@id=\"root\"]/div/div[1]/section/div/div[2]/div/div[1]/div/div[1]/div[4]/div/h1'))\n",
    "                )\n",
    "                movie_title = movie_title_element.text.replace(\" \", \"\").split(\"(\")[0]  \n",
    "                # 영화제목의 띄어쓰기를 없애고, '('가 있다면 그 앞쪽text만 변수로 다시 지정\n",
    "                #time.sleep(1)\n",
    "\n",
    "                # 와챠피디아의 평균별점 text를 변수로 저장 \n",
    "                aver_text = WebDriverWait(driver, 10).until(\n",
    "                    EC.presence_of_element_located((By.XPATH, '//*[@id=\"root\"]/div/div[1]/section/div/div[2]/div/div[1]/div/div[2]/section[1]/div[2]/section[1]/div[2]/div/div[2]'))\n",
    "                ).text\n",
    "                #time.sleep(2)\n",
    "\n",
    "                # 영화제목이 엑셀 데이터의 영화이름과 일치할 경우\n",
    "                if movie_title == movie_name.replace(\" \", \"\"):\n",
    "                    movie_aver_element = WebDriverWait(driver, 10).until(\n",
    "                        EC.presence_of_element_located((By.XPATH, '//*[@id=\"root\"]/div/div[1]/section/div/div[2]/div/div[1]/div/div[2]/section[1]/div[2]/section[1]/div[2]/div/div[2]'))\n",
    "                    )  # 와챠피디아 평균별점 xpath를 변수로 저장\n",
    "                    movie_aver = movie_aver_element.text  # 평균점수를 변수로 저장\n",
    "                    #time.sleep(1)\n",
    "\n",
    "                    print(f\"영화 '{movie_name}'의 평점: {movie_aver}\")  # 확인용 \n",
    "                    watch_aver.append(movie_aver)  # watch_aver 변수 리스트에 별점 저장.\n",
    "                    found_movie = True  # 작업 완료 처리\n",
    "                    break  # 포문 수행 break\n",
    "\n",
    "                else:\n",
    "                    driver.back()\n",
    "                    time.sleep(2)  # 화면 전환되어 다음작업을 수행할 수 있도록 여유시간을 2초간 부여\n",
    "\n",
    "            except Exception as inner_e:\n",
    "                print(f\"내부 에러 발생\")\n",
    "                continue\n",
    "\n",
    "        if not found_movie:\n",
    "            watch_aver.append(\"없음\")  # watch_aver에 '없음'으로 저장\n",
    "\n",
    "            back_to_home = WebDriverWait(driver, 10).until(\n",
    "                EC.element_to_be_clickable((By.XPATH, '//*[@id=\"root\"]/div/div[1]/header/nav/div/div/ul/li'))\n",
    "            )\n",
    "            back_to_home.click()  # 메인화면으로 이동              \n",
    "            time.sleep(2)  # 화면 전환되어 다음작업을 수행할 수 있도록 여유시간을 2초간 부여 \n",
    "\n",
    "except Exception as e:\n",
    "    # 예외가 발생할 경우 오류 메시지 출력\n",
    "    print(f\"에러 발생: {e}\")  # 예상 외의 문제 발생시, 식별할 수 있도록 '에러발생' 메세지 출력\n",
    "    watch_aver.append('없음')  # watch_score 변수 리스트에 '없음'으로 저장\n",
    "    back_to_home = WebDriverWait(driver, 10).until(\n",
    "        EC.element_to_be_clickable((By.XPATH, '//*[@id=\"root\"]/div/div[1]/header/nav/div/div/ul/li' ))  # 와챠피디아 메인화면으로 갈수 있는 xpath 주소\n",
    "    )\n",
    "    back_to_home.click()  # 메인화면으로 이동\n",
    "    time.sleep(2)  # 화면 전환되어 다음작업을 수행할 수 있도록 여유시간을 2초간 부여\n",
    "finally:\n",
    "    driver.quit()  # 드라이버 종료\n",
    "\n",
    "# 결과 저장\n",
    "subset_movie_df['Watcha_Average'] = watch_aver  # watch_aver를 subset_movie_df에 추가\n",
    "subset_movie_df.to_excel(f\"movie_aver_{start_idx}_{end_idx}.xlsx\", index=False)  # 결과를 엑셀 파일로 저장"
   ]
  },
  {
   "cell_type": "code",
   "execution_count": null,
   "id": "69e209a8",
   "metadata": {},
   "outputs": [],
   "source": []
  }
 ],
 "metadata": {
  "kernelspec": {
   "display_name": "Python 3 (ipykernel)",
   "language": "python",
   "name": "python3"
  },
  "language_info": {
   "codemirror_mode": {
    "name": "ipython",
    "version": 3
   },
   "file_extension": ".py",
   "mimetype": "text/x-python",
   "name": "python",
   "nbconvert_exporter": "python",
   "pygments_lexer": "ipython3",
   "version": "3.9.12"
  }
 },
 "nbformat": 4,
 "nbformat_minor": 5
}
